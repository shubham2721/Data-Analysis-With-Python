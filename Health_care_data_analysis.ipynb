{
  "nbformat": 4,
  "nbformat_minor": 0,
  "metadata": {
    "colab": {
      "provenance": [],
      "collapsed_sections": [],
      "authorship_tag": "ABX9TyPGM0G79z1Rtm0FuOnGAxIo",
      "include_colab_link": true
    },
    "kernelspec": {
      "name": "python3",
      "display_name": "Python 3"
    },
    "language_info": {
      "name": "python"
    }
  },
  "cells": [
    {
      "cell_type": "markdown",
      "metadata": {
        "id": "view-in-github",
        "colab_type": "text"
      },
      "source": [
        "<a href=\"https://colab.research.google.com/github/shubham2721/Data-Analysis-With-Python/blob/main/Health_care_data_analysis.ipynb\" target=\"_parent\"><img src=\"https://colab.research.google.com/assets/colab-badge.svg\" alt=\"Open In Colab\"/></a>"
      ]
    },
    {
      "cell_type": "markdown",
      "metadata": {
        "id": "N2PUs9aMWpwG"
      },
      "source": [
        "Import essential Libraries"
      ]
    },
    {
      "cell_type": "code",
      "metadata": {
        "id": "lGjeNS9PWvEl"
      },
      "source": [
        "import numpy as np\n",
        "import pandas as pd\n",
        "import matplotlib.pyplot as plt\n",
        "import seaborn as sns\n",
        "import datetime\n",
        "import warnings\n",
        "%matplotlib inline\n",
        "warnings.filterwarnings('ignore')"
      ],
      "execution_count": null,
      "outputs": []
    },
    {
      "cell_type": "code",
      "metadata": {
        "id": "9O_mF9QCXNq4"
      },
      "source": [
        "health_df = pd.read_csv('/content/health.csv')"
      ],
      "execution_count": null,
      "outputs": []
    },
    {
      "cell_type": "code",
      "metadata": {
        "colab": {
          "base_uri": "https://localhost:8080/"
        },
        "id": "ivc-lzbbdxeo",
        "outputId": "b8b72539-7e87-44e4-ef2f-acb7bc8ffcb9"
      },
      "source": [
        "health_df.shape"
      ],
      "execution_count": null,
      "outputs": [
        {
          "output_type": "execute_result",
          "data": {
            "text/plain": [
              "(479688, 24)"
            ]
          },
          "metadata": {},
          "execution_count": 3
        }
      ]
    },
    {
      "cell_type": "code",
      "metadata": {
        "colab": {
          "base_uri": "https://localhost:8080/"
        },
        "id": "EsDgv3ZsdztX",
        "outputId": "0e362eeb-934e-4355-c54c-2d3f194b6150"
      },
      "source": [
        "health_df.columns"
      ],
      "execution_count": null,
      "outputs": [
        {
          "output_type": "execute_result",
          "data": {
            "text/plain": [
              "Index(['   ', 'AGE', 'SEX', 'CASTE_NAME', 'CATEGORY_CODE', 'CATEGORY_NAME',\n",
              "       'SURGERY_CODE', 'SURGERY', 'VILLAGE', 'MANDAL_NAME', 'DISTRICT_NAME',\n",
              "       'PREAUTH_DATE', 'PREAUTH_AMT', 'CLAIM_DATE', 'CLAIM_AMOUNT',\n",
              "       'HOSP_NAME', 'HOSP_TYPE', 'HOSP_LOCATION', 'HOSP_DISTRICT',\n",
              "       'SURGERY_DATE', 'DISCHARGE_DATE', 'Mortality Y / N', 'MORTALITY_DATE',\n",
              "       'SRC_REGISTRATION'],\n",
              "      dtype='object')"
            ]
          },
          "metadata": {},
          "execution_count": 4
        }
      ]
    },
    {
      "cell_type": "code",
      "metadata": {
        "id": "4aA73YVAea08",
        "colab": {
          "base_uri": "https://localhost:8080/",
          "height": 999
        },
        "outputId": "634e088f-9683-4ac9-f690-67a0a06e33c3"
      },
      "source": [
        "health_df"
      ],
      "execution_count": null,
      "outputs": [
        {
          "output_type": "execute_result",
          "data": {
            "text/html": [
              "<div>\n",
              "<style scoped>\n",
              "    .dataframe tbody tr th:only-of-type {\n",
              "        vertical-align: middle;\n",
              "    }\n",
              "\n",
              "    .dataframe tbody tr th {\n",
              "        vertical-align: top;\n",
              "    }\n",
              "\n",
              "    .dataframe thead th {\n",
              "        text-align: right;\n",
              "    }\n",
              "</style>\n",
              "<table border=\"1\" class=\"dataframe\">\n",
              "  <thead>\n",
              "    <tr style=\"text-align: right;\">\n",
              "      <th></th>\n",
              "      <th></th>\n",
              "      <th>AGE</th>\n",
              "      <th>SEX</th>\n",
              "      <th>CASTE_NAME</th>\n",
              "      <th>CATEGORY_CODE</th>\n",
              "      <th>CATEGORY_NAME</th>\n",
              "      <th>SURGERY_CODE</th>\n",
              "      <th>SURGERY</th>\n",
              "      <th>VILLAGE</th>\n",
              "      <th>MANDAL_NAME</th>\n",
              "      <th>DISTRICT_NAME</th>\n",
              "      <th>PREAUTH_DATE</th>\n",
              "      <th>PREAUTH_AMT</th>\n",
              "      <th>CLAIM_DATE</th>\n",
              "      <th>CLAIM_AMOUNT</th>\n",
              "      <th>HOSP_NAME</th>\n",
              "      <th>HOSP_TYPE</th>\n",
              "      <th>HOSP_LOCATION</th>\n",
              "      <th>HOSP_DISTRICT</th>\n",
              "      <th>SURGERY_DATE</th>\n",
              "      <th>DISCHARGE_DATE</th>\n",
              "      <th>Mortality Y / N</th>\n",
              "      <th>MORTALITY_DATE</th>\n",
              "      <th>SRC_REGISTRATION</th>\n",
              "    </tr>\n",
              "  </thead>\n",
              "  <tbody>\n",
              "    <tr>\n",
              "      <th>0</th>\n",
              "      <td>1</td>\n",
              "      <td>56</td>\n",
              "      <td>Female</td>\n",
              "      <td>BC</td>\n",
              "      <td>M6</td>\n",
              "      <td>NEPHROLOGY</td>\n",
              "      <td>M6.5</td>\n",
              "      <td>Maintenance Hemodialysis For Crf</td>\n",
              "      <td>Lolugu</td>\n",
              "      <td>Ponduru</td>\n",
              "      <td>Srikakulam</td>\n",
              "      <td>03/08/2013 20:38:48</td>\n",
              "      <td>12500</td>\n",
              "      <td>22/03/2017 20:25:18</td>\n",
              "      <td>11000</td>\n",
              "      <td>Rims Govt. General Hospital, Srikakulam</td>\n",
              "      <td>G</td>\n",
              "      <td>SRIKAKULAM</td>\n",
              "      <td>Srikakulam</td>\n",
              "      <td>06/08/2013 00:00:00</td>\n",
              "      <td>07/09/2013 00:00:00</td>\n",
              "      <td>NO</td>\n",
              "      <td>NaN</td>\n",
              "      <td>D</td>\n",
              "    </tr>\n",
              "    <tr>\n",
              "      <th>1</th>\n",
              "      <td>2</td>\n",
              "      <td>37</td>\n",
              "      <td>Male</td>\n",
              "      <td>BC</td>\n",
              "      <td>M6</td>\n",
              "      <td>NEPHROLOGY</td>\n",
              "      <td>M6.5</td>\n",
              "      <td>Maintenance Hemodialysis For Crf</td>\n",
              "      <td>Borivanka</td>\n",
              "      <td>Kaviti</td>\n",
              "      <td>Srikakulam</td>\n",
              "      <td>06/08/2013 07:26:15</td>\n",
              "      <td>12500</td>\n",
              "      <td>22/03/2017 20:25:18</td>\n",
              "      <td>11000</td>\n",
              "      <td>Rims Govt. General Hospital, Srikakulam</td>\n",
              "      <td>G</td>\n",
              "      <td>SRIKAKULAM</td>\n",
              "      <td>Srikakulam</td>\n",
              "      <td>08/08/2013 00:00:00</td>\n",
              "      <td>09/09/2013 00:00:00</td>\n",
              "      <td>NO</td>\n",
              "      <td>NaN</td>\n",
              "      <td>D</td>\n",
              "    </tr>\n",
              "    <tr>\n",
              "      <th>2</th>\n",
              "      <td>3</td>\n",
              "      <td>50</td>\n",
              "      <td>Male</td>\n",
              "      <td>BC</td>\n",
              "      <td>M6</td>\n",
              "      <td>NEPHROLOGY</td>\n",
              "      <td>M6.5</td>\n",
              "      <td>Maintenance Hemodialysis For Crf</td>\n",
              "      <td>Kapasakuddi</td>\n",
              "      <td>Kaviti</td>\n",
              "      <td>Srikakulam</td>\n",
              "      <td>09/08/2013 18:30:50</td>\n",
              "      <td>12500</td>\n",
              "      <td>22/03/2017 20:25:18</td>\n",
              "      <td>11500</td>\n",
              "      <td>Rims Govt. General Hospital, Srikakulam</td>\n",
              "      <td>G</td>\n",
              "      <td>SRIKAKULAM</td>\n",
              "      <td>Srikakulam</td>\n",
              "      <td>15/08/2013 00:00:00</td>\n",
              "      <td>18/10/2013 00:00:00</td>\n",
              "      <td>NO</td>\n",
              "      <td>NaN</td>\n",
              "      <td>D</td>\n",
              "    </tr>\n",
              "    <tr>\n",
              "      <th>3</th>\n",
              "      <td>4</td>\n",
              "      <td>45</td>\n",
              "      <td>Male</td>\n",
              "      <td>BC</td>\n",
              "      <td>M6</td>\n",
              "      <td>NEPHROLOGY</td>\n",
              "      <td>M6.5</td>\n",
              "      <td>Maintenance Hemodialysis For Crf</td>\n",
              "      <td>Telikipenta</td>\n",
              "      <td>Sarubujjili</td>\n",
              "      <td>Srikakulam</td>\n",
              "      <td>24/08/2013 19:37:41</td>\n",
              "      <td>12500</td>\n",
              "      <td>22/03/2017 20:25:18</td>\n",
              "      <td>11000</td>\n",
              "      <td>Rims Govt. General Hospital, Srikakulam</td>\n",
              "      <td>G</td>\n",
              "      <td>SRIKAKULAM</td>\n",
              "      <td>Srikakulam</td>\n",
              "      <td>24/08/2013 00:00:00</td>\n",
              "      <td>27/09/2013 00:00:00</td>\n",
              "      <td>NO</td>\n",
              "      <td>NaN</td>\n",
              "      <td>D</td>\n",
              "    </tr>\n",
              "    <tr>\n",
              "      <th>4</th>\n",
              "      <td>5</td>\n",
              "      <td>54</td>\n",
              "      <td>Male</td>\n",
              "      <td>BC</td>\n",
              "      <td>M6</td>\n",
              "      <td>NEPHROLOGY</td>\n",
              "      <td>M6.5</td>\n",
              "      <td>Maintenance Hemodialysis For Crf</td>\n",
              "      <td>Thandemvalasa</td>\n",
              "      <td>Srikakulam</td>\n",
              "      <td>Srikakulam</td>\n",
              "      <td>28/08/2013 17:03:07</td>\n",
              "      <td>12500</td>\n",
              "      <td>22/03/2017 20:25:19</td>\n",
              "      <td>11000</td>\n",
              "      <td>Rims Govt. General Hospital, Srikakulam</td>\n",
              "      <td>G</td>\n",
              "      <td>SRIKAKULAM</td>\n",
              "      <td>Srikakulam</td>\n",
              "      <td>31/08/2013 00:00:00</td>\n",
              "      <td>02/10/2013 00:00:00</td>\n",
              "      <td>NO</td>\n",
              "      <td>NaN</td>\n",
              "      <td>D</td>\n",
              "    </tr>\n",
              "    <tr>\n",
              "      <th>...</th>\n",
              "      <td>...</td>\n",
              "      <td>...</td>\n",
              "      <td>...</td>\n",
              "      <td>...</td>\n",
              "      <td>...</td>\n",
              "      <td>...</td>\n",
              "      <td>...</td>\n",
              "      <td>...</td>\n",
              "      <td>...</td>\n",
              "      <td>...</td>\n",
              "      <td>...</td>\n",
              "      <td>...</td>\n",
              "      <td>...</td>\n",
              "      <td>...</td>\n",
              "      <td>...</td>\n",
              "      <td>...</td>\n",
              "      <td>...</td>\n",
              "      <td>...</td>\n",
              "      <td>...</td>\n",
              "      <td>...</td>\n",
              "      <td>...</td>\n",
              "      <td>...</td>\n",
              "      <td>...</td>\n",
              "      <td>...</td>\n",
              "    </tr>\n",
              "    <tr>\n",
              "      <th>479683</th>\n",
              "      <td>479684</td>\n",
              "      <td>22</td>\n",
              "      <td>Female</td>\n",
              "      <td>BC</td>\n",
              "      <td>S4</td>\n",
              "      <td>GYNAECOLOGY AND OBSTETRICS  SURGERY</td>\n",
              "      <td>S4.2.2</td>\n",
              "      <td>Laparoscopic Cystectomy</td>\n",
              "      <td>Kalayakagollu</td>\n",
              "      <td>Butchireddipalem</td>\n",
              "      <td>Nellore</td>\n",
              "      <td>18/11/2017 22:36:49</td>\n",
              "      <td>24910</td>\n",
              "      <td>30/12/2017 21:34:34</td>\n",
              "      <td>24910</td>\n",
              "      <td>Krishna Institute of Medical Sciences Bollinen...</td>\n",
              "      <td>C</td>\n",
              "      <td>NELLORE</td>\n",
              "      <td>Nellore</td>\n",
              "      <td>15/11/2017 00:00:00</td>\n",
              "      <td>19/11/2017 00:00:00</td>\n",
              "      <td>NO</td>\n",
              "      <td>NaN</td>\n",
              "      <td>D</td>\n",
              "    </tr>\n",
              "    <tr>\n",
              "      <th>479684</th>\n",
              "      <td>479685</td>\n",
              "      <td>60</td>\n",
              "      <td>Male</td>\n",
              "      <td>BC</td>\n",
              "      <td>S12</td>\n",
              "      <td>MEDICAL ONCOLOGY</td>\n",
              "      <td>S12.16.2.2</td>\n",
              "      <td>Chemotherapy for Non Hodgkin Lymphoma with  R ...</td>\n",
              "      <td>Rajupalem</td>\n",
              "      <td>Kothapatnam</td>\n",
              "      <td>Prakasam</td>\n",
              "      <td>17/11/2017 17:02:09</td>\n",
              "      <td>45910</td>\n",
              "      <td>30/12/2017 21:37:20</td>\n",
              "      <td>45910</td>\n",
              "      <td>Manipal Health Enterprises PVT LTD</td>\n",
              "      <td>C</td>\n",
              "      <td>GUNTUR</td>\n",
              "      <td>Guntur</td>\n",
              "      <td>17/11/2017 00:00:00</td>\n",
              "      <td>18/11/2017 00:00:00</td>\n",
              "      <td>NO</td>\n",
              "      <td>NaN</td>\n",
              "      <td>D</td>\n",
              "    </tr>\n",
              "    <tr>\n",
              "      <th>479685</th>\n",
              "      <td>479686</td>\n",
              "      <td>38</td>\n",
              "      <td>Male</td>\n",
              "      <td>OC</td>\n",
              "      <td>S15</td>\n",
              "      <td>POLY TRAUMA</td>\n",
              "      <td>S15.1.1</td>\n",
              "      <td>Surgical Correction Of Longbone Fracture</td>\n",
              "      <td>Yeturu</td>\n",
              "      <td>Chejerla</td>\n",
              "      <td>Nellore</td>\n",
              "      <td>18/11/2017 06:36:11</td>\n",
              "      <td>30000</td>\n",
              "      <td>30/12/2017 21:37:19</td>\n",
              "      <td>30000</td>\n",
              "      <td>Krishna Institute of Medical Sciences Bollinen...</td>\n",
              "      <td>C</td>\n",
              "      <td>NELLORE</td>\n",
              "      <td>Nellore</td>\n",
              "      <td>16/11/2017 00:00:00</td>\n",
              "      <td>18/11/2017 00:00:00</td>\n",
              "      <td>NO</td>\n",
              "      <td>NaN</td>\n",
              "      <td>D</td>\n",
              "    </tr>\n",
              "    <tr>\n",
              "      <th>479686</th>\n",
              "      <td>479687</td>\n",
              "      <td>59</td>\n",
              "      <td>Male</td>\n",
              "      <td>OC</td>\n",
              "      <td>S3</td>\n",
              "      <td>OPHTHALMOLOGY  SURGERY</td>\n",
              "      <td>S3.3.1</td>\n",
              "      <td>Vitrectomy</td>\n",
              "      <td>Ganapavaram</td>\n",
              "      <td>Ganapavaram</td>\n",
              "      <td>West Godavari</td>\n",
              "      <td>18/11/2017 09:17:02</td>\n",
              "      <td>23020</td>\n",
              "      <td>30/12/2017 21:37:23</td>\n",
              "      <td>23020</td>\n",
              "      <td>Sankar Eye Hospital</td>\n",
              "      <td>C</td>\n",
              "      <td>GUNTUR</td>\n",
              "      <td>Guntur</td>\n",
              "      <td>16/11/2017 00:00:00</td>\n",
              "      <td>18/11/2017 00:00:00</td>\n",
              "      <td>NO</td>\n",
              "      <td>NaN</td>\n",
              "      <td>D</td>\n",
              "    </tr>\n",
              "    <tr>\n",
              "      <th>479687</th>\n",
              "      <td>479688</td>\n",
              "      <td>63</td>\n",
              "      <td>Male</td>\n",
              "      <td>OC</td>\n",
              "      <td>S3</td>\n",
              "      <td>OPHTHALMOLOGY  SURGERY</td>\n",
              "      <td>S3.3.1</td>\n",
              "      <td>Vitrectomy</td>\n",
              "      <td>Savarigudem</td>\n",
              "      <td>Gannavaram</td>\n",
              "      <td>Krishna</td>\n",
              "      <td>18/11/2017 09:53:58</td>\n",
              "      <td>23020</td>\n",
              "      <td>30/12/2017 21:37:21</td>\n",
              "      <td>23020</td>\n",
              "      <td>Sankar Eye Hospital</td>\n",
              "      <td>C</td>\n",
              "      <td>GUNTUR</td>\n",
              "      <td>Guntur</td>\n",
              "      <td>16/11/2017 00:00:00</td>\n",
              "      <td>18/11/2017 00:00:00</td>\n",
              "      <td>NO</td>\n",
              "      <td>NaN</td>\n",
              "      <td>D</td>\n",
              "    </tr>\n",
              "  </tbody>\n",
              "</table>\n",
              "<p>479688 rows × 24 columns</p>\n",
              "</div>"
            ],
            "text/plain": [
              "                AGE     SEX  ... Mortality Y / N MORTALITY_DATE SRC_REGISTRATION\n",
              "0            1   56  Female  ...              NO            NaN                D\n",
              "1            2   37    Male  ...              NO            NaN                D\n",
              "2            3   50    Male  ...              NO            NaN                D\n",
              "3            4   45    Male  ...              NO            NaN                D\n",
              "4            5   54    Male  ...              NO            NaN                D\n",
              "...        ...  ...     ...  ...             ...            ...              ...\n",
              "479683  479684   22  Female  ...              NO            NaN                D\n",
              "479684  479685   60    Male  ...              NO            NaN                D\n",
              "479685  479686   38    Male  ...              NO            NaN                D\n",
              "479686  479687   59    Male  ...              NO            NaN                D\n",
              "479687  479688   63    Male  ...              NO            NaN                D\n",
              "\n",
              "[479688 rows x 24 columns]"
            ]
          },
          "metadata": {},
          "execution_count": 5
        }
      ]
    },
    {
      "cell_type": "code",
      "metadata": {
        "id": "V7Y2Pesvx5xn"
      },
      "source": [
        "data = {\n",
        "    'A':['A', 'A', 'B', 'C', 'C'], \n",
        "    'B':['B1:', 'B2', 'B3', 'B4', 'B5'], \n",
        "    'C':['A1', 'A1', 'C3', 'C1', 'C2'], \n",
        "    'D':['D1', 'D2', 'D3:', 'D4', 'D5'], \n",
        "    'E':['E1', 'E2', 'E3', 'E4', 'E5'] }\n",
        "  \n",
        "# Convert the dictionary into DataFrame \n",
        "df_2 = pd.DataFrame(data)"
      ],
      "execution_count": null,
      "outputs": []
    },
    {
      "cell_type": "code",
      "metadata": {
        "colab": {
          "base_uri": "https://localhost:8080/",
          "height": 206
        },
        "id": "SoA07iaj1v5W",
        "outputId": "3fdc4310-35c7-45de-92e8-f8a8c737c724"
      },
      "source": [
        "df_2"
      ],
      "execution_count": null,
      "outputs": [
        {
          "output_type": "execute_result",
          "data": {
            "text/html": [
              "<div>\n",
              "<style scoped>\n",
              "    .dataframe tbody tr th:only-of-type {\n",
              "        vertical-align: middle;\n",
              "    }\n",
              "\n",
              "    .dataframe tbody tr th {\n",
              "        vertical-align: top;\n",
              "    }\n",
              "\n",
              "    .dataframe thead th {\n",
              "        text-align: right;\n",
              "    }\n",
              "</style>\n",
              "<table border=\"1\" class=\"dataframe\">\n",
              "  <thead>\n",
              "    <tr style=\"text-align: right;\">\n",
              "      <th></th>\n",
              "      <th>A</th>\n",
              "      <th>B</th>\n",
              "      <th>C</th>\n",
              "      <th>D</th>\n",
              "      <th>E</th>\n",
              "    </tr>\n",
              "  </thead>\n",
              "  <tbody>\n",
              "    <tr>\n",
              "      <th>0</th>\n",
              "      <td>A</td>\n",
              "      <td>B1:</td>\n",
              "      <td>A1</td>\n",
              "      <td>D1</td>\n",
              "      <td>E1</td>\n",
              "    </tr>\n",
              "    <tr>\n",
              "      <th>1</th>\n",
              "      <td>A</td>\n",
              "      <td>B2</td>\n",
              "      <td>A1</td>\n",
              "      <td>D2</td>\n",
              "      <td>E2</td>\n",
              "    </tr>\n",
              "    <tr>\n",
              "      <th>2</th>\n",
              "      <td>B</td>\n",
              "      <td>B3</td>\n",
              "      <td>C3</td>\n",
              "      <td>D3:</td>\n",
              "      <td>E3</td>\n",
              "    </tr>\n",
              "    <tr>\n",
              "      <th>3</th>\n",
              "      <td>C</td>\n",
              "      <td>B4</td>\n",
              "      <td>C1</td>\n",
              "      <td>D4</td>\n",
              "      <td>E4</td>\n",
              "    </tr>\n",
              "    <tr>\n",
              "      <th>4</th>\n",
              "      <td>C</td>\n",
              "      <td>B5</td>\n",
              "      <td>C2</td>\n",
              "      <td>D5</td>\n",
              "      <td>E5</td>\n",
              "    </tr>\n",
              "  </tbody>\n",
              "</table>\n",
              "</div>"
            ],
            "text/plain": [
              "   A    B   C    D   E\n",
              "0  A  B1:  A1   D1  E1\n",
              "1  A   B2  A1   D2  E2\n",
              "2  B   B3  C3  D3:  E3\n",
              "3  C   B4  C1   D4  E4\n",
              "4  C   B5  C2   D5  E5"
            ]
          },
          "metadata": {},
          "execution_count": 7
        }
      ]
    },
    {
      "cell_type": "code",
      "metadata": {
        "colab": {
          "base_uri": "https://localhost:8080/"
        },
        "id": "Pj0AL2G42f_I",
        "outputId": "c3bef6d5-b86e-460d-9f11-0991590ffde8"
      },
      "source": [
        "df_2['A'].unique()"
      ],
      "execution_count": null,
      "outputs": [
        {
          "output_type": "execute_result",
          "data": {
            "text/plain": [
              "array(['A', 'B', 'C'], dtype=object)"
            ]
          },
          "metadata": {},
          "execution_count": 8
        }
      ]
    },
    {
      "cell_type": "code",
      "metadata": {
        "colab": {
          "base_uri": "https://localhost:8080/"
        },
        "id": "SbU4eI-e144I",
        "outputId": "32625169-3edb-4742-d37d-303c5f27bdde"
      },
      "source": [
        "for i in df_2['A'].unique():\n",
        "    print(\"District: {}\\n Disease and Count: {}\\n '============'\\n\".format(i,df_2[df_2['A']==i]['C'].value_counts()))\n"
      ],
      "execution_count": null,
      "outputs": [
        {
          "output_type": "stream",
          "name": "stdout",
          "text": [
            "District: A\n",
            " Disease and Count: A1    2\n",
            "Name: C, dtype: int64\n",
            " '============'\n",
            "\n",
            "District: B\n",
            " Disease and Count: C3    1\n",
            "Name: C, dtype: int64\n",
            " '============'\n",
            "\n",
            "District: C\n",
            " Disease and Count: C2    1\n",
            "C1    1\n",
            "Name: C, dtype: int64\n",
            " '============'\n",
            "\n"
          ]
        }
      ]
    },
    {
      "cell_type": "markdown",
      "metadata": {
        "id": "n24ul993Jaz-"
      },
      "source": [
        "## **Most common surgery and count per District**"
      ]
    },
    {
      "cell_type": "code",
      "metadata": {
        "colab": {
          "base_uri": "https://localhost:8080/"
        },
        "id": "fydKOAybJgf1",
        "outputId": "7042fd97-c1c1-4796-bcac-90966ed2fdf9"
      },
      "source": [
        "lst = []\n",
        "lst2 = [] \n",
        "for i in health_df['DISTRICT_NAME'].unique():\n",
        "  print(\"District Name: {} \\nDisease name and count: {}\\n ===================\". format(i,health_df[health_df['DISTRICT_NAME'] == i]['SURGERY'].value_counts().head(1)))\n",
        "  lst.append(i)\n",
        "  lst2.append(str(health_df[health_df['DISTRICT_NAME'] == i]['SURGERY'].value_counts().head(1)))"
      ],
      "execution_count": null,
      "outputs": [
        {
          "output_type": "stream",
          "name": "stdout",
          "text": [
            "District Name: Srikakulam \n",
            "Disease name and count: Maintenance Hemodialysis For Crf    3970\n",
            "Name: SURGERY, dtype: int64\n",
            " ===================\n",
            "District Name: Kurnool \n",
            "Disease name and count: Surgical Correction Of Longbone Fracture    2943\n",
            "Name: SURGERY, dtype: int64\n",
            " ===================\n",
            "District Name: Vizianagaram \n",
            "Disease name and count: Surgical Correction Of Longbone Fracture    2754\n",
            "Name: SURGERY, dtype: int64\n",
            " ===================\n",
            "District Name: Guntur \n",
            "Disease name and count: Surgical Correction Of Longbone Fracture    5259\n",
            "Name: SURGERY, dtype: int64\n",
            " ===================\n",
            "District Name: Vishakhapatnam \n",
            "Disease name and count: Maintenance Hemodialysis For Crf    5270\n",
            "Name: SURGERY, dtype: int64\n",
            " ===================\n",
            "District Name: West Godavari \n",
            "Disease name and count: Maintenance Hemodialysis For Crf    5478\n",
            "Name: SURGERY, dtype: int64\n",
            " ===================\n",
            "District Name: Krishna \n",
            "Disease name and count: Maintenance Hemodialysis For Crf    6026\n",
            "Name: SURGERY, dtype: int64\n",
            " ===================\n",
            "District Name: East Godavari \n",
            "Disease name and count: Surgical Correction Of Longbone Fracture    6998\n",
            "Name: SURGERY, dtype: int64\n",
            " ===================\n",
            "District Name: Prakasam \n",
            "Disease name and count: Maintenance Hemodialysis For Crf    6215\n",
            "Name: SURGERY, dtype: int64\n",
            " ===================\n",
            "District Name: Nellore \n",
            "Disease name and count: Maintenance Hemodialysis For Crf    10824\n",
            "Name: SURGERY, dtype: int64\n",
            " ===================\n",
            "District Name: YSR Kadapa \n",
            "Disease name and count: Surgical Correction Of Longbone Fracture    4532\n",
            "Name: SURGERY, dtype: int64\n",
            " ===================\n",
            "District Name: Chittoor \n",
            "Disease name and count: Maintenance Hemodialysis For Crf    5221\n",
            "Name: SURGERY, dtype: int64\n",
            " ===================\n",
            "District Name: Anantapur \n",
            "Disease name and count: Surgical Correction Of Longbone Fracture    5265\n",
            "Name: SURGERY, dtype: int64\n",
            " ===================\n"
          ]
        }
      ]
    },
    {
      "cell_type": "code",
      "metadata": {
        "id": "ds8Xufqnp_8J"
      },
      "source": [
        "# converting the above into a dataframe for plotting graphs\n",
        "Dis_common_sur = pd.DataFrame(lst)\n",
        "dis_sur = pd.DataFrame(lst2)"
      ],
      "execution_count": null,
      "outputs": []
    },
    {
      "cell_type": "code",
      "metadata": {
        "id": "qX-9fswHqWmE"
      },
      "source": [
        "# as this data frame contains unusual strings\n",
        "dis_sur = dis_sur[0].str.split('\\n', 1 , expand =True)"
      ],
      "execution_count": null,
      "outputs": []
    },
    {
      "cell_type": "code",
      "metadata": {
        "id": "Z9WsWftaqmNR"
      },
      "source": [
        "# this /d means split when digits encounter and + to include that too\n",
        "dis_sur = dis_sur[0].str.split('(\\d+)',1 , expand =True)"
      ],
      "execution_count": null,
      "outputs": []
    },
    {
      "cell_type": "code",
      "metadata": {
        "id": "UXXDCg0OXGOL"
      },
      "source": [
        "# for renaming the columns\n",
        "dis_sur.columns = ['Diseases', 'Counts', 2]"
      ],
      "execution_count": null,
      "outputs": []
    },
    {
      "cell_type": "code",
      "metadata": {
        "id": "Ehk3uo0ad95E"
      },
      "source": [
        "dis_sur.drop(columns=2, inplace = True)"
      ],
      "execution_count": null,
      "outputs": []
    },
    {
      "cell_type": "code",
      "metadata": {
        "id": "SBigMgd6eNr6"
      },
      "source": [
        "# now we will add two dataframe together\n",
        "Dis_common_sur1 = pd.concat([Dis_common_sur, dis_sur],axis = 1) # by default axis is 0 rows + rows"
      ],
      "execution_count": null,
      "outputs": []
    },
    {
      "cell_type": "code",
      "metadata": {
        "colab": {
          "base_uri": "https://localhost:8080/",
          "height": 457
        },
        "id": "wRX9bJuTeoA9",
        "outputId": "bbadd4ec-97a1-41c0-b5f0-74dc54fcb678"
      },
      "source": [
        "Dis_common_sur1"
      ],
      "execution_count": null,
      "outputs": [
        {
          "output_type": "execute_result",
          "data": {
            "text/html": [
              "<div>\n",
              "<style scoped>\n",
              "    .dataframe tbody tr th:only-of-type {\n",
              "        vertical-align: middle;\n",
              "    }\n",
              "\n",
              "    .dataframe tbody tr th {\n",
              "        vertical-align: top;\n",
              "    }\n",
              "\n",
              "    .dataframe thead th {\n",
              "        text-align: right;\n",
              "    }\n",
              "</style>\n",
              "<table border=\"1\" class=\"dataframe\">\n",
              "  <thead>\n",
              "    <tr style=\"text-align: right;\">\n",
              "      <th></th>\n",
              "      <th>0</th>\n",
              "      <th>Diseases</th>\n",
              "      <th>Counts</th>\n",
              "    </tr>\n",
              "  </thead>\n",
              "  <tbody>\n",
              "    <tr>\n",
              "      <th>0</th>\n",
              "      <td>Srikakulam</td>\n",
              "      <td>Maintenance Hemodialysis For Crf</td>\n",
              "      <td>3970</td>\n",
              "    </tr>\n",
              "    <tr>\n",
              "      <th>1</th>\n",
              "      <td>Kurnool</td>\n",
              "      <td>Surgical Correction Of Longbone Fracture</td>\n",
              "      <td>2943</td>\n",
              "    </tr>\n",
              "    <tr>\n",
              "      <th>2</th>\n",
              "      <td>Vizianagaram</td>\n",
              "      <td>Surgical Correction Of Longbone Fracture</td>\n",
              "      <td>2754</td>\n",
              "    </tr>\n",
              "    <tr>\n",
              "      <th>3</th>\n",
              "      <td>Guntur</td>\n",
              "      <td>Surgical Correction Of Longbone Fracture</td>\n",
              "      <td>5259</td>\n",
              "    </tr>\n",
              "    <tr>\n",
              "      <th>4</th>\n",
              "      <td>Vishakhapatnam</td>\n",
              "      <td>Maintenance Hemodialysis For Crf</td>\n",
              "      <td>5270</td>\n",
              "    </tr>\n",
              "    <tr>\n",
              "      <th>5</th>\n",
              "      <td>West Godavari</td>\n",
              "      <td>Maintenance Hemodialysis For Crf</td>\n",
              "      <td>5478</td>\n",
              "    </tr>\n",
              "    <tr>\n",
              "      <th>6</th>\n",
              "      <td>Krishna</td>\n",
              "      <td>Maintenance Hemodialysis For Crf</td>\n",
              "      <td>6026</td>\n",
              "    </tr>\n",
              "    <tr>\n",
              "      <th>7</th>\n",
              "      <td>East Godavari</td>\n",
              "      <td>Surgical Correction Of Longbone Fracture</td>\n",
              "      <td>6998</td>\n",
              "    </tr>\n",
              "    <tr>\n",
              "      <th>8</th>\n",
              "      <td>Prakasam</td>\n",
              "      <td>Maintenance Hemodialysis For Crf</td>\n",
              "      <td>6215</td>\n",
              "    </tr>\n",
              "    <tr>\n",
              "      <th>9</th>\n",
              "      <td>Nellore</td>\n",
              "      <td>Maintenance Hemodialysis For Crf</td>\n",
              "      <td>10824</td>\n",
              "    </tr>\n",
              "    <tr>\n",
              "      <th>10</th>\n",
              "      <td>YSR Kadapa</td>\n",
              "      <td>Surgical Correction Of Longbone Fracture</td>\n",
              "      <td>4532</td>\n",
              "    </tr>\n",
              "    <tr>\n",
              "      <th>11</th>\n",
              "      <td>Chittoor</td>\n",
              "      <td>Maintenance Hemodialysis For Crf</td>\n",
              "      <td>5221</td>\n",
              "    </tr>\n",
              "    <tr>\n",
              "      <th>12</th>\n",
              "      <td>Anantapur</td>\n",
              "      <td>Surgical Correction Of Longbone Fracture</td>\n",
              "      <td>5265</td>\n",
              "    </tr>\n",
              "  </tbody>\n",
              "</table>\n",
              "</div>"
            ],
            "text/plain": [
              "                 0                                      Diseases Counts\n",
              "0       Srikakulam          Maintenance Hemodialysis For Crf       3970\n",
              "1          Kurnool  Surgical Correction Of Longbone Fracture       2943\n",
              "2     Vizianagaram  Surgical Correction Of Longbone Fracture       2754\n",
              "3           Guntur  Surgical Correction Of Longbone Fracture       5259\n",
              "4   Vishakhapatnam          Maintenance Hemodialysis For Crf       5270\n",
              "5    West Godavari          Maintenance Hemodialysis For Crf       5478\n",
              "6          Krishna          Maintenance Hemodialysis For Crf       6026\n",
              "7    East Godavari  Surgical Correction Of Longbone Fracture       6998\n",
              "8         Prakasam          Maintenance Hemodialysis For Crf       6215\n",
              "9          Nellore          Maintenance Hemodialysis For Crf      10824\n",
              "10      YSR Kadapa  Surgical Correction Of Longbone Fracture       4532\n",
              "11        Chittoor          Maintenance Hemodialysis For Crf       5221\n",
              "12       Anantapur  Surgical Correction Of Longbone Fracture       5265"
            ]
          },
          "metadata": {},
          "execution_count": 17
        }
      ]
    },
    {
      "cell_type": "code",
      "metadata": {
        "id": "oFGxMnS6e112"
      },
      "source": [
        "Dis_common_sur1.columns = ['district', 'diseases', 'counts'] "
      ],
      "execution_count": null,
      "outputs": []
    },
    {
      "cell_type": "code",
      "metadata": {
        "id": "ocerSeclf5sD"
      },
      "source": [
        "Dis_common_sur1['counts'] = pd.to_numeric(Dis_common_sur1['counts'])"
      ],
      "execution_count": null,
      "outputs": []
    },
    {
      "cell_type": "code",
      "metadata": {
        "colab": {
          "base_uri": "https://localhost:8080/",
          "height": 625
        },
        "id": "OpQf-sfef780",
        "outputId": "27919385-5f58-440c-c8cd-9e11496cc8a5"
      },
      "source": [
        "plt.figure(figsize = (18,10))\n",
        "graph = sns.barplot(x = Dis_common_sur1['district'],y = Dis_common_sur1['counts'], hue = Dis_common_sur1['diseases'])\n",
        "graph.set(xlabel = 'Ditricts', ylabel = 'Count Of Diseases', title = 'Most Common Diseases on District')\n",
        "graph.set_xticklabels(Dis_common_sur1['district'], color ='blue') #xtickes is for xaxis parameters\n",
        "graph.set_xlabel('District', color = 'purple', size = 14);# xlabel = title of x-axis"
      ],
      "execution_count": null,
      "outputs": [
        {
          "output_type": "display_data",
          "data": {
            "image/png": "[encoded data removed]",
            "text/plain": [
              "<Figure size 1296x720 with 1 Axes>"
            ]
          },
          "metadata": {
            "needs_background": "light"
          }
        }
      ]
    },
    {
      "cell_type": "code",
      "metadata": {
        "id": "en1eobslkG5x"
      },
      "source": [],
      "execution_count": null,
      "outputs": []
    }
  ]
}