{
  "nbformat": 4,
  "nbformat_minor": 0,
  "metadata": {
    "colab": {
      "provenance": [],
      "collapsed_sections": [],
      "authorship_tag": "ABX9TyN0OMuzGzlEtGaxLZrqFh+H",
      "include_colab_link": true
    },
    "kernelspec": {
      "display_name": "Python 3",
      "name": "python3"
    },
    "language_info": {
      "name": "python"
    }
  },
  "cells": [
    {
      "cell_type": "markdown",
      "metadata": {
        "id": "view-in-github",
        "colab_type": "text"
      },
      "source": [
        "<a href=\"https://colab.research.google.com/github/shubham2721/Data-Analysis-With-Python/blob/main/GDP_and_POPULATION(Star_Schema_Creation).ipynb\" target=\"_parent\"><img src=\"https://colab.research.google.com/assets/colab-badge.svg\" alt=\"Open In Colab\"/></a>"
      ]
    },
    {
      "cell_type": "code",
      "metadata": {
        "id": "IhlHQe5TaFi8"
      },
      "source": [
        "import pandas as pd\n",
        "import numpy as np\n",
        "import opendatasets as od\n",
        "import urllib.request as ur\n",
        "import requests"
      ],
      "execution_count": null,
      "outputs": []
    },
    {
      "cell_type": "code",
      "metadata": {
        "id": "kmakP-nEdmMQ"
      },
      "source": [
        "url = 'https://www.imf.org/en/Publications/WEO/weo-database/2021/April/weo-report?c=512,914,612,614,311,213,911,314,193,122,912,313,419,513,316,913,124,339,638,514,218,963,616,223,516,918,748,618,624,522,622,156,626,628,228,924,233,632,636,634,238,662,960,423,935,128,611,321,243,248,469,253,642,643,939,734,644,819,172,132,646,648,915,134,652,174,328,258,656,654,336,263,268,532,944,176,534,536,429,433,178,436,136,343,158,439,916,664,826,542,967,443,917,544,941,446,666,668,672,946,137,546,674,676,548,556,678,181,867,682,684,273,868,921,948,943,686,688,518,728,836,558,138,196,278,692,694,962,142,449,564,565,283,853,288,293,566,964,182,359,453,968,922,714,862,135,716,456,722,942,718,724,576,936,961,813,726,199,733,184,524,361,362,364,732,366,144,146,463,528,923,738,578,537,742,866,369,744,186,925,869,746,926,466,112,111,298,927,846,299,582,487,474,754,698,&s=NGDPD,&sy=2014&ey=2021&ssm=0&scsm=1&scc=0&ssd=1&ssc=0&sic=0&sort=country&ds=.&br=1'\n",
        "html = requests.get(url).content\n",
        "df_list = pd.read_html(html)\n",
        "df = df_list[-1]"
      ],
      "execution_count": null,
      "outputs": []
    },
    {
      "cell_type": "code",
      "metadata": {
        "id": "AvjfhsTzfYoa"
      },
      "source": [
        "# you can also convert the 3d array into 2d and then convert into Dataframes\n",
        "# n = np.array(df_list)\n",
        "# x = n.reshape(195,13)\n",
        "# df1 = pd.DataFrame(x)"
      ],
      "execution_count": null,
      "outputs": []
    },
    {
      "cell_type": "markdown",
      "source": [
        "## GDP Analysis"
      ],
      "metadata": {
        "id": "X_hXHmFvUTW7"
      }
    },
    {
      "cell_type": "code",
      "metadata": {
        "colab": {
          "base_uri": "https://localhost:8080/",
          "height": 310
        },
        "id": "DBEWZxdExAc4",
        "outputId": "02b36abf-b7d1-4626-e334-9ce4a3663619"
      },
      "source": [
        "df.head(5)"
      ],
      "execution_count": null,
      "outputs": [
        {
          "output_type": "execute_result",
          "data": {
            "text/html": [
              "<div>\n",
              "<style scoped>\n",
              "    .dataframe tbody tr th:only-of-type {\n",
              "        vertical-align: middle;\n",
              "    }\n",
              "\n",
              "    .dataframe tbody tr th {\n",
              "        vertical-align: top;\n",
              "    }\n",
              "\n",
              "    .dataframe thead th {\n",
              "        text-align: right;\n",
              "    }\n",
              "</style>\n",
              "<table border=\"1\" class=\"dataframe\">\n",
              "  <thead>\n",
              "    <tr style=\"text-align: right;\">\n",
              "      <th></th>\n",
              "      <th>Country</th>\n",
              "      <th>Subject Descriptor</th>\n",
              "      <th>Units</th>\n",
              "      <th>Scale</th>\n",
              "      <th>Country/Series-specific Notes</th>\n",
              "      <th>2014</th>\n",
              "      <th>2015</th>\n",
              "      <th>2016</th>\n",
              "      <th>2017</th>\n",
              "      <th>2018</th>\n",
              "      <th>2019</th>\n",
              "      <th>2020</th>\n",
              "      <th>2021</th>\n",
              "    </tr>\n",
              "  </thead>\n",
              "  <tbody>\n",
              "    <tr>\n",
              "      <th>0</th>\n",
              "      <td>Afghanistan</td>\n",
              "      <td>Gross domestic product, current prices</td>\n",
              "      <td>U.S. dollars</td>\n",
              "      <td>Billions</td>\n",
              "      <td>NaN</td>\n",
              "      <td>20.635</td>\n",
              "      <td>20.220</td>\n",
              "      <td>17.994</td>\n",
              "      <td>18.910</td>\n",
              "      <td>18.401</td>\n",
              "      <td>18.876</td>\n",
              "      <td>19.132</td>\n",
              "      <td>19.938</td>\n",
              "    </tr>\n",
              "    <tr>\n",
              "      <th>1</th>\n",
              "      <td>Albania</td>\n",
              "      <td>Gross domestic product, current prices</td>\n",
              "      <td>U.S. dollars</td>\n",
              "      <td>Billions</td>\n",
              "      <td>NaN</td>\n",
              "      <td>13.246</td>\n",
              "      <td>11.389</td>\n",
              "      <td>11.862</td>\n",
              "      <td>13.053</td>\n",
              "      <td>15.147</td>\n",
              "      <td>15.276</td>\n",
              "      <td>15.147</td>\n",
              "      <td>17.138</td>\n",
              "    </tr>\n",
              "    <tr>\n",
              "      <th>2</th>\n",
              "      <td>Algeria</td>\n",
              "      <td>Gross domestic product, current prices</td>\n",
              "      <td>U.S. dollars</td>\n",
              "      <td>Billions</td>\n",
              "      <td>NaN</td>\n",
              "      <td>213.810</td>\n",
              "      <td>165.979</td>\n",
              "      <td>160.034</td>\n",
              "      <td>170.207</td>\n",
              "      <td>175.367</td>\n",
              "      <td>171.070</td>\n",
              "      <td>144.294</td>\n",
              "      <td>151.459</td>\n",
              "    </tr>\n",
              "    <tr>\n",
              "      <th>3</th>\n",
              "      <td>Angola</td>\n",
              "      <td>Gross domestic product, current prices</td>\n",
              "      <td>U.S. dollars</td>\n",
              "      <td>Billions</td>\n",
              "      <td>NaN</td>\n",
              "      <td>145.712</td>\n",
              "      <td>116.194</td>\n",
              "      <td>101.124</td>\n",
              "      <td>122.124</td>\n",
              "      <td>105.902</td>\n",
              "      <td>89.603</td>\n",
              "      <td>62.440</td>\n",
              "      <td>66.493</td>\n",
              "    </tr>\n",
              "    <tr>\n",
              "      <th>4</th>\n",
              "      <td>Antigua and Barbuda</td>\n",
              "      <td>Gross domestic product, current prices</td>\n",
              "      <td>U.S. dollars</td>\n",
              "      <td>Billions</td>\n",
              "      <td>NaN</td>\n",
              "      <td>1.250</td>\n",
              "      <td>1.337</td>\n",
              "      <td>1.437</td>\n",
              "      <td>1.468</td>\n",
              "      <td>1.605</td>\n",
              "      <td>1.662</td>\n",
              "      <td>1.390</td>\n",
              "      <td>1.376</td>\n",
              "    </tr>\n",
              "  </tbody>\n",
              "</table>\n",
              "</div>"
            ],
            "text/plain": [
              "               Country  ...     2021\n",
              "0          Afghanistan  ...   19.938\n",
              "1              Albania  ...   17.138\n",
              "2              Algeria  ...  151.459\n",
              "3               Angola  ...   66.493\n",
              "4  Antigua and Barbuda  ...    1.376\n",
              "\n",
              "[5 rows x 13 columns]"
            ]
          },
          "metadata": {},
          "execution_count": 5
        }
      ]
    },
    {
      "cell_type": "markdown",
      "metadata": {
        "id": "uKEZuhBGxIl4"
      },
      "source": [
        "Now Droping the columns which contains NAN "
      ]
    },
    {
      "cell_type": "code",
      "metadata": {
        "id": "pKaFH5f4xBj9"
      },
      "source": [
        "df = df.drop(columns=['Country/Series-specific Notes'])"
      ],
      "execution_count": null,
      "outputs": []
    },
    {
      "cell_type": "code",
      "metadata": {
        "colab": {
          "base_uri": "https://localhost:8080/",
          "height": 423
        },
        "id": "SYvARC0vxkvN",
        "outputId": "d2e25f8e-4eaa-47dd-83fc-c2c3c41248e0"
      },
      "source": [
        "df"
      ],
      "execution_count": null,
      "outputs": [
        {
          "output_type": "execute_result",
          "data": {
            "text/html": [
              "<div>\n",
              "<style scoped>\n",
              "    .dataframe tbody tr th:only-of-type {\n",
              "        vertical-align: middle;\n",
              "    }\n",
              "\n",
              "    .dataframe tbody tr th {\n",
              "        vertical-align: top;\n",
              "    }\n",
              "\n",
              "    .dataframe thead th {\n",
              "        text-align: right;\n",
              "    }\n",
              "</style>\n",
              "<table border=\"1\" class=\"dataframe\">\n",
              "  <thead>\n",
              "    <tr style=\"text-align: right;\">\n",
              "      <th></th>\n",
              "      <th>Country</th>\n",
              "      <th>Subject Descriptor</th>\n",
              "      <th>Units</th>\n",
              "      <th>Scale</th>\n",
              "      <th>2014</th>\n",
              "      <th>2015</th>\n",
              "      <th>2016</th>\n",
              "      <th>2017</th>\n",
              "      <th>2018</th>\n",
              "      <th>2019</th>\n",
              "      <th>2020</th>\n",
              "      <th>2021</th>\n",
              "    </tr>\n",
              "  </thead>\n",
              "  <tbody>\n",
              "    <tr>\n",
              "      <th>0</th>\n",
              "      <td>Afghanistan</td>\n",
              "      <td>Gross domestic product, current prices</td>\n",
              "      <td>U.S. dollars</td>\n",
              "      <td>Billions</td>\n",
              "      <td>20.635</td>\n",
              "      <td>20.220</td>\n",
              "      <td>17.994</td>\n",
              "      <td>18.910</td>\n",
              "      <td>18.401</td>\n",
              "      <td>18.876</td>\n",
              "      <td>19.132</td>\n",
              "      <td>19.938</td>\n",
              "    </tr>\n",
              "    <tr>\n",
              "      <th>1</th>\n",
              "      <td>Albania</td>\n",
              "      <td>Gross domestic product, current prices</td>\n",
              "      <td>U.S. dollars</td>\n",
              "      <td>Billions</td>\n",
              "      <td>13.246</td>\n",
              "      <td>11.389</td>\n",
              "      <td>11.862</td>\n",
              "      <td>13.053</td>\n",
              "      <td>15.147</td>\n",
              "      <td>15.276</td>\n",
              "      <td>15.147</td>\n",
              "      <td>17.138</td>\n",
              "    </tr>\n",
              "    <tr>\n",
              "      <th>2</th>\n",
              "      <td>Algeria</td>\n",
              "      <td>Gross domestic product, current prices</td>\n",
              "      <td>U.S. dollars</td>\n",
              "      <td>Billions</td>\n",
              "      <td>213.810</td>\n",
              "      <td>165.979</td>\n",
              "      <td>160.034</td>\n",
              "      <td>170.207</td>\n",
              "      <td>175.367</td>\n",
              "      <td>171.070</td>\n",
              "      <td>144.294</td>\n",
              "      <td>151.459</td>\n",
              "    </tr>\n",
              "    <tr>\n",
              "      <th>3</th>\n",
              "      <td>Angola</td>\n",
              "      <td>Gross domestic product, current prices</td>\n",
              "      <td>U.S. dollars</td>\n",
              "      <td>Billions</td>\n",
              "      <td>145.712</td>\n",
              "      <td>116.194</td>\n",
              "      <td>101.124</td>\n",
              "      <td>122.124</td>\n",
              "      <td>105.902</td>\n",
              "      <td>89.603</td>\n",
              "      <td>62.440</td>\n",
              "      <td>66.493</td>\n",
              "    </tr>\n",
              "    <tr>\n",
              "      <th>4</th>\n",
              "      <td>Antigua and Barbuda</td>\n",
              "      <td>Gross domestic product, current prices</td>\n",
              "      <td>U.S. dollars</td>\n",
              "      <td>Billions</td>\n",
              "      <td>1.250</td>\n",
              "      <td>1.337</td>\n",
              "      <td>1.437</td>\n",
              "      <td>1.468</td>\n",
              "      <td>1.605</td>\n",
              "      <td>1.662</td>\n",
              "      <td>1.390</td>\n",
              "      <td>1.376</td>\n",
              "    </tr>\n",
              "    <tr>\n",
              "      <th>...</th>\n",
              "      <td>...</td>\n",
              "      <td>...</td>\n",
              "      <td>...</td>\n",
              "      <td>...</td>\n",
              "      <td>...</td>\n",
              "      <td>...</td>\n",
              "      <td>...</td>\n",
              "      <td>...</td>\n",
              "      <td>...</td>\n",
              "      <td>...</td>\n",
              "      <td>...</td>\n",
              "      <td>...</td>\n",
              "    </tr>\n",
              "    <tr>\n",
              "      <th>190</th>\n",
              "      <td>Vietnam</td>\n",
              "      <td>Gross domestic product, current prices</td>\n",
              "      <td>U.S. dollars</td>\n",
              "      <td>Billions</td>\n",
              "      <td>232.893</td>\n",
              "      <td>236.840</td>\n",
              "      <td>252.149</td>\n",
              "      <td>277.074</td>\n",
              "      <td>304.016</td>\n",
              "      <td>329.537</td>\n",
              "      <td>340.821</td>\n",
              "      <td>354.868</td>\n",
              "    </tr>\n",
              "    <tr>\n",
              "      <th>191</th>\n",
              "      <td>West Bank and Gaza</td>\n",
              "      <td>Gross domestic product, current prices</td>\n",
              "      <td>U.S. dollars</td>\n",
              "      <td>Billions</td>\n",
              "      <td>13.990</td>\n",
              "      <td>13.972</td>\n",
              "      <td>15.405</td>\n",
              "      <td>16.128</td>\n",
              "      <td>16.277</td>\n",
              "      <td>17.134</td>\n",
              "      <td>15.519</td>\n",
              "      <td>16.481</td>\n",
              "    </tr>\n",
              "    <tr>\n",
              "      <th>192</th>\n",
              "      <td>Yemen</td>\n",
              "      <td>Gross domestic product, current prices</td>\n",
              "      <td>U.S. dollars</td>\n",
              "      <td>Billions</td>\n",
              "      <td>43.229</td>\n",
              "      <td>42.445</td>\n",
              "      <td>30.934</td>\n",
              "      <td>26.736</td>\n",
              "      <td>23.486</td>\n",
              "      <td>22.568</td>\n",
              "      <td>20.140</td>\n",
              "      <td>25.095</td>\n",
              "    </tr>\n",
              "    <tr>\n",
              "      <th>193</th>\n",
              "      <td>Zambia</td>\n",
              "      <td>Gross domestic product, current prices</td>\n",
              "      <td>U.S. dollars</td>\n",
              "      <td>Billions</td>\n",
              "      <td>27.145</td>\n",
              "      <td>21.245</td>\n",
              "      <td>20.965</td>\n",
              "      <td>25.874</td>\n",
              "      <td>26.312</td>\n",
              "      <td>23.309</td>\n",
              "      <td>18.529</td>\n",
              "      <td>18.955</td>\n",
              "    </tr>\n",
              "    <tr>\n",
              "      <th>194</th>\n",
              "      <td>Zimbabwe</td>\n",
              "      <td>Gross domestic product, current prices</td>\n",
              "      <td>U.S. dollars</td>\n",
              "      <td>Billions</td>\n",
              "      <td>19.496</td>\n",
              "      <td>19.963</td>\n",
              "      <td>20.054</td>\n",
              "      <td>21.890</td>\n",
              "      <td>21.093</td>\n",
              "      <td>19.273</td>\n",
              "      <td>21.038</td>\n",
              "      <td>26.085</td>\n",
              "    </tr>\n",
              "  </tbody>\n",
              "</table>\n",
              "<p>195 rows × 12 columns</p>\n",
              "</div>"
            ],
            "text/plain": [
              "                 Country  ...     2021\n",
              "0            Afghanistan  ...   19.938\n",
              "1                Albania  ...   17.138\n",
              "2                Algeria  ...  151.459\n",
              "3                 Angola  ...   66.493\n",
              "4    Antigua and Barbuda  ...    1.376\n",
              "..                   ...  ...      ...\n",
              "190              Vietnam  ...  354.868\n",
              "191   West Bank and Gaza  ...   16.481\n",
              "192                Yemen  ...   25.095\n",
              "193               Zambia  ...   18.955\n",
              "194             Zimbabwe  ...   26.085\n",
              "\n",
              "[195 rows x 12 columns]"
            ]
          },
          "metadata": {},
          "execution_count": 7
        }
      ]
    },
    {
      "cell_type": "markdown",
      "metadata": {
        "id": "bk6TzA5uyB0Q"
      },
      "source": [
        "UNPIVOTING ROWS OF YEARS AND ITS GDP"
      ]
    },
    {
      "cell_type": "code",
      "metadata": {
        "colab": {
          "base_uri": "https://localhost:8080/",
          "height": 206
        },
        "id": "8kJ9O0yGxll6",
        "outputId": "575b3730-3db4-4db4-aafc-c81e01e48b5f"
      },
      "source": [
        "df = df.melt(id_vars=['Country','Subject Descriptor','Units', 'Scale' ], var_name='year', value_name='GDP')\n",
        "df.head(5)"
      ],
      "execution_count": null,
      "outputs": [
        {
          "output_type": "execute_result",
          "data": {
            "text/html": [
              "<div>\n",
              "<style scoped>\n",
              "    .dataframe tbody tr th:only-of-type {\n",
              "        vertical-align: middle;\n",
              "    }\n",
              "\n",
              "    .dataframe tbody tr th {\n",
              "        vertical-align: top;\n",
              "    }\n",
              "\n",
              "    .dataframe thead th {\n",
              "        text-align: right;\n",
              "    }\n",
              "</style>\n",
              "<table border=\"1\" class=\"dataframe\">\n",
              "  <thead>\n",
              "    <tr style=\"text-align: right;\">\n",
              "      <th></th>\n",
              "      <th>Country</th>\n",
              "      <th>Subject Descriptor</th>\n",
              "      <th>Units</th>\n",
              "      <th>Scale</th>\n",
              "      <th>year</th>\n",
              "      <th>GDP</th>\n",
              "    </tr>\n",
              "  </thead>\n",
              "  <tbody>\n",
              "    <tr>\n",
              "      <th>0</th>\n",
              "      <td>Afghanistan</td>\n",
              "      <td>Gross domestic product, current prices</td>\n",
              "      <td>U.S. dollars</td>\n",
              "      <td>Billions</td>\n",
              "      <td>2014</td>\n",
              "      <td>20.635</td>\n",
              "    </tr>\n",
              "    <tr>\n",
              "      <th>1</th>\n",
              "      <td>Albania</td>\n",
              "      <td>Gross domestic product, current prices</td>\n",
              "      <td>U.S. dollars</td>\n",
              "      <td>Billions</td>\n",
              "      <td>2014</td>\n",
              "      <td>13.246</td>\n",
              "    </tr>\n",
              "    <tr>\n",
              "      <th>2</th>\n",
              "      <td>Algeria</td>\n",
              "      <td>Gross domestic product, current prices</td>\n",
              "      <td>U.S. dollars</td>\n",
              "      <td>Billions</td>\n",
              "      <td>2014</td>\n",
              "      <td>213.810</td>\n",
              "    </tr>\n",
              "    <tr>\n",
              "      <th>3</th>\n",
              "      <td>Angola</td>\n",
              "      <td>Gross domestic product, current prices</td>\n",
              "      <td>U.S. dollars</td>\n",
              "      <td>Billions</td>\n",
              "      <td>2014</td>\n",
              "      <td>145.712</td>\n",
              "    </tr>\n",
              "    <tr>\n",
              "      <th>4</th>\n",
              "      <td>Antigua and Barbuda</td>\n",
              "      <td>Gross domestic product, current prices</td>\n",
              "      <td>U.S. dollars</td>\n",
              "      <td>Billions</td>\n",
              "      <td>2014</td>\n",
              "      <td>1.250</td>\n",
              "    </tr>\n",
              "  </tbody>\n",
              "</table>\n",
              "</div>"
            ],
            "text/plain": [
              "               Country                      Subject Descriptor  ...  year      GDP\n",
              "0          Afghanistan  Gross domestic product, current prices  ...  2014   20.635\n",
              "1              Albania  Gross domestic product, current prices  ...  2014   13.246\n",
              "2              Algeria  Gross domestic product, current prices  ...  2014  213.810\n",
              "3               Angola  Gross domestic product, current prices  ...  2014  145.712\n",
              "4  Antigua and Barbuda  Gross domestic product, current prices  ...  2014    1.250\n",
              "\n",
              "[5 rows x 6 columns]"
            ]
          },
          "metadata": {},
          "execution_count": 8
        }
      ]
    },
    {
      "cell_type": "markdown",
      "metadata": {
        "id": "RVUUVA6v1CRX"
      },
      "source": [
        "Now converting object data type to float and int"
      ]
    },
    {
      "cell_type": "code",
      "metadata": {
        "id": "Yf1B9PMozeFA"
      },
      "source": [
        "df['year'] = df['year'].astype('int')"
      ],
      "execution_count": null,
      "outputs": []
    },
    {
      "cell_type": "code",
      "metadata": {
        "colab": {
          "base_uri": "https://localhost:8080/"
        },
        "id": "xVdQuushz-Hl",
        "outputId": "551a2996-fd8d-4f2d-85ab-0a0942882bbc"
      },
      "source": [
        "df.dtypes"
      ],
      "execution_count": null,
      "outputs": [
        {
          "output_type": "execute_result",
          "data": {
            "text/plain": [
              "Country                object\n",
              "Subject Descriptor     object\n",
              "Units                  object\n",
              "Scale                  object\n",
              "year                    int64\n",
              "GDP                   float64\n",
              "dtype: object"
            ]
          },
          "metadata": {},
          "execution_count": 10
        }
      ]
    },
    {
      "cell_type": "code",
      "metadata": {
        "id": "892F0qCS1oZ3"
      },
      "source": [
        "df = df.dropna(subset=['GDP'])"
      ],
      "execution_count": null,
      "outputs": []
    },
    {
      "cell_type": "markdown",
      "metadata": {
        "id": "Tr76iapg8CCz"
      },
      "source": [
        "## Year Wise GDP Rate"
      ]
    },
    {
      "cell_type": "code",
      "metadata": {
        "id": "s6NtWjqQ1yzS"
      },
      "source": [
        "import plotly.express as px"
      ],
      "execution_count": null,
      "outputs": []
    },
    {
      "cell_type": "code",
      "metadata": {
        "colab": {
          "base_uri": "https://localhost:8080/",
          "height": 542
        },
        "id": "etgtiyS12fSi",
        "outputId": "f2e34119-602f-4734-fba6-080da4ed85d8"
      },
      "source": [
        "fig = px.bar(x = df['year'], y =df['GDP'], color =df['Country'], barmode = 'stack', template= 'plotly_dark')\n",
        "fig.show()"
      ],
      "execution_count": null,
      "outputs": [
        {
          "output_type": "display_data",
          "data": {
            "text/html": [
              "<html>\n",
              "<head><meta charset=\"utf-8\" /></head>\n",
              "<body>\n",
              "    <div>\n",
              "            <script src=\"https://cdnjs.cloudflare.com/ajax/libs/mathjax/2.7.5/MathJax.js?config=TeX-AMS-MML_SVG\"></script><script type=\"text/javascript\">if (window.MathJax) {MathJax.Hub.Config({SVG: {font: \"STIX-Web\"}});}</script>\n",
              "                <script type=\"text/javascript\">window.PlotlyConfig = {MathJaxConfig: 'local'};</script>\n",
              "        <script src=\"https://cdn.plot.ly/plotly-latest.min.js\"></script>    \n",
              "            <div id=\"76172294-70b5-4e2a-9469-54d06a824472\" class=\"plotly-graph-div\" style=\"height:525px; width:100%;\"></div>\n",
              "            <script type=\"text/javascript\">\n",
              "                \n",
              "                    window.PLOTLYENV=window.PLOTLYENV || {};\n",
              "                    \n",
              "                if (document.getElementById(\"76172294-70b5-4e2a-9469-54d06a824472\")) {\n",
              "                    Plotly.newPlot(\n",
              "                        '76172294-70b5-4e2a-9469-54d06a824472',\n",
              "                        [{\"alignmentgroup\": \"True\", \"hoverlabel\": {\"namelength\": 0}, \"hovertemplate\": \"color=Afghanistan<br>x=%{x}<br>y=%{y}\", \"legendgroup\": \"color=Afghanistan\", \"marker\": {\"color\": \"#636efa\"}, \"name\": \"color=Afghanistan\", \"offsetgroup\": \"color=Afghanistan\", \"orientation\": \"v\", \"showlegend\": true, \"textposition\": \"auto\", \"type\": \"bar\", \"x\": [2014, 2015, 2016, 2017, 2018, 2019, 2020, 2021], \"xaxis\": \"x\", \"y\": [20.635, 20.22, 17.994, 18.91, 18.401, 18.875999999999998, 19.132, 19.938], \"yaxis\": \"y\"}, {\"alignmentgroup\": \"True\", \"hoverlabel\": {\"namelength\": 0}, \"hovertemplate\": \"color=Albania<br>x=%{x}<br>y=%{y}\", \"legendgroup\": \"color=Albania\", \"marker\": {\"color\": \"#EF553B\"}, \"name\": \"color=Albania\", \"offsetgroup\": \"color=Albania\", \"orientation\": \"v\", \"showlegend\": true, \"textposition\": \"auto\", \"type\": \"bar\", \"x\": [2014, 2015, 2016, 2017, 2018, 2019, 2020, 2021], \"xaxis\": \"x\", \"y\": [13.245999999999999, 11.389000000000001, 11.862, 13.052999999999999, 15.147, 15.276, 15.147, 17.137999999999998], \"yaxis\": \"y\"}, {\"alignmentgroup\": \"True\", \"hoverlabel\": {\"namelength\": 0}, \"hovertemplate\": \"color=Algeria<br>x=%{x}<br>y=%{y}\", \"legendgroup\": \"color=Algeria\", \"marker\": {\"color\": \"#00cc96\"}, \"name\": \"color=Algeria\", \"offsetgroup\": \"color=Algeria\", \"orientation\": \"v\", \"showlegend\": true, \"textposition\": \"auto\", \"type\": \"bar\", \"x\": [2014, 2015, 2016, 2017, 2018, 2019, 2020, 2021], \"xaxis\": \"x\", \"y\": [213.81, 165.979, 160.034, 170.207, 175.36700000000002, 171.07, 144.29399999999998, 151.459], \"yaxis\": \"y\"}, {\"alignmentgroup\": \"True\", \"hoverlabel\": {\"namelength\": 0}, \"hovertemplate\": \"color=Angola<br>x=%{x}<br>y=%{y}\", \"legendgroup\": \"color=Angola\", \"marker\": {\"color\": \"#ab63fa\"}, \"name\": \"color=Angola\", \"offsetgroup\": \"color=Angola\", \"orientation\": \"v\", \"showlegend\": true, \"textposition\": \"auto\", \"type\": \"bar\", \"x\": [2014, 2015, 2016, 2017, 2018, 2019, 2020, 2021], \"xaxis\": \"x\", \"y\": [145.71200000000002, 116.194, 101.124, 122.124, 105.902, 89.603, 62.44, 66.493], \"yaxis\": \"y\"}, {\"alignmentgroup\": \"True\", \"hoverlabel\": {\"namelength\": 0}, \"hovertemplate\": \"color=Antigua and Barbuda<br>x=%{x}<br>y=%{y}\", \"legendgroup\": \"color=Antigua and Barbuda\", \"marker\": {\"color\": \"#FFA15A\"}, \"name\": \"color=Antigua and Barbuda\", \"offsetgroup\": \"color=Antigua and Barbuda\", \"orientation\": \"v\", \"showlegend\": true, \"textposition\": \"auto\", \"type\": \"bar\", \"x\": [2014, 2015, 2016, 2017, 2018, 2019, 2020, 2021], \"xaxis\": \"x\", \"y\": [1.25, 1.337, 1.4369999999999998, 1.4680000000000002, 1.605, 1.662, 1.39, 1.376], \"yaxis\": \"y\"}, {\"alignmentgroup\": \"True\", \"hoverlabel\": {\"namelength\": 0}, \"hovertemplate\": \"color=Argentina<br>x=%{x}<br>y=%{y}\", \"legendgroup\": \"color=Argentina\", \"marker\": {\"color\": \"#19d3f3\"}, \"name\": \"color=Argentina\", \"offsetgroup\": \"color=Argentina\", \"orientation\": \"v\", \"showlegend\": true, \"textposition\": \"auto\", \"type\": \"bar\", \"x\": [2014, 2015, 2016, 2017, 2018, 2019, 2020, 2021], \"xaxis\": \"x\", \"y\": [563.614, 642.464, 556.774, 643.861, 517.244, 444.458, 388.279, 418.15], \"yaxis\": \"y\"}, {\"alignmentgroup\": \"True\", \"hoverlabel\": {\"namelength\": 0}, \"hovertemplate\": \"color=Armenia<br>x=%{x}<br>y=%{y}\", \"legendgroup\": \"color=Armenia\", \"marker\": {\"color\": \"#FF6692\"}, \"name\": \"color=Armenia\", \"offsetgroup\": \"color=Armenia\", \"orientation\": \"v\", \"showlegend\": true, \"textposition\": \"auto\", \"type\": \"bar\", \"x\": [2014, 2015, 2016, 2017, 2018, 2019, 2020, 2021], \"xaxis\": \"x\", \"y\": [11.61, 10.552999999999999, 10.546, 11.527000000000001, 12.458, 13.673, 12.339, 12.251], \"yaxis\": \"y\"}, {\"alignmentgroup\": \"True\", \"hoverlabel\": {\"namelength\": 0}, \"hovertemplate\": \"color=Aruba<br>x=%{x}<br>y=%{y}\", \"legendgroup\": \"color=Aruba\", \"marker\": {\"color\": \"#B6E880\"}, \"name\": \"color=Aruba\", \"offsetgroup\": \"color=Aruba\", \"orientation\": \"v\", \"showlegend\": true, \"textposition\": \"auto\", \"type\": \"bar\", \"x\": [2014, 2015, 2016, 2017, 2018, 2019, 2020, 2021], \"xaxis\": \"x\", \"y\": [2.7910000000000004, 2.963, 2.984, 3.092, 3.202, 3.342, 2.458, 2.582], \"yaxis\": \"y\"}, {\"alignmentgroup\": \"True\", \"hoverlabel\": {\"namelength\": 0}, \"hovertemplate\": \"color=Australia<br>x=%{x}<br>y=%{y}\", \"legendgroup\": \"color=Australia\", \"marker\": {\"color\": \"#FF97FF\"}, \"name\": \"color=Australia\", \"offsetgroup\": \"color=Australia\", \"orientation\": \"v\", \"showlegend\": true, \"textposition\": \"auto\", \"type\": \"bar\", \"x\": [2014, 2015, 2016, 2017, 2018, 2019, 2020, 2021], \"xaxis\": \"x\", \"y\": [1457.388, 1234.823, 1266.268, 1385.194, 1421.3029999999999, 1391.536, 1359.326, 1617.543], \"yaxis\": \"y\"}, {\"alignmentgroup\": \"True\", \"hoverlabel\": {\"namelength\": 0}, \"hovertemplate\": \"color=Austria<br>x=%{x}<br>y=%{y}\", \"legendgroup\": \"color=Austria\", \"marker\": {\"color\": \"#FECB52\"}, \"name\": \"color=Austria\", \"offsetgroup\": \"color=Austria\", \"orientation\": \"v\", \"showlegend\": true, \"textposition\": \"auto\", \"type\": \"bar\", \"x\": [2014, 2015, 2016, 2017, 2018, 2019, 2020, 2021], \"xaxis\": \"x\", \"y\": [442.699, 382.01, 395.728, 417.091, 455.301, 445.125, 428.62199999999996, 481.796], \"yaxis\": \"y\"}, {\"alignmentgroup\": \"True\", \"hoverlabel\": {\"namelength\": 0}, \"hovertemplate\": \"color=Azerbaijan<br>x=%{x}<br>y=%{y}\", \"legendgroup\": \"color=Azerbaijan\", \"marker\": {\"color\": \"#636efa\"}, \"name\": \"color=Azerbaijan\", \"offsetgroup\": \"color=Azerbaijan\", \"orientation\": \"v\", \"showlegend\": true, \"textposition\": \"auto\", \"type\": \"bar\", \"x\": [2014, 2015, 2016, 2017, 2018, 2019, 2020, 2021], \"xaxis\": \"x\", \"y\": [75.24, 50.843999999999994, 37.83, 41.375, 47.113, 48.048, 42.607, 49.913999999999994], \"yaxis\": \"y\"}, {\"alignmentgroup\": \"True\", \"hoverlabel\": {\"namelength\": 0}, \"hovertemplate\": \"color=The Bahamas<br>x=%{x}<br>y=%{y}\", \"legendgroup\": \"color=The Bahamas\", \"marker\": {\"color\": \"#EF553B\"}, \"name\": \"color=The Bahamas\", \"offsetgroup\": \"color=The Bahamas\", \"orientation\": \"v\", \"showlegend\": true, \"textposition\": \"auto\", \"type\": \"bar\", \"x\": [2014, 2015, 2016, 2017, 2018, 2019, 2020, 2021], \"xaxis\": \"x\", \"y\": [11.112, 11.710999999999999, 11.929, 12.491, 13.022, 13.579, 11.25, 11.706], \"yaxis\": \"y\"}, {\"alignmentgroup\": \"True\", \"hoverlabel\": {\"namelength\": 0}, \"hovertemplate\": \"color=Bahrain<br>x=%{x}<br>y=%{y}\", \"legendgroup\": \"color=Bahrain\", \"marker\": {\"color\": \"#00cc96\"}, \"name\": \"color=Bahrain\", \"offsetgroup\": \"color=Bahrain\", \"orientation\": \"v\", \"showlegend\": true, \"textposition\": \"auto\", \"type\": \"bar\", \"x\": [2014, 2015, 2016, 2017, 2018, 2019, 2020, 2021], \"xaxis\": \"x\", \"y\": [33.388000000000005, 31.051, 32.235, 35.474000000000004, 37.654, 38.474000000000004, 33.904, 37.503], \"yaxis\": \"y\"}, {\"alignmentgroup\": \"True\", \"hoverlabel\": {\"namelength\": 0}, \"hovertemplate\": \"color=Bangladesh<br>x=%{x}<br>y=%{y}\", \"legendgroup\": \"color=Bangladesh\", \"marker\": {\"color\": \"#ab63fa\"}, \"name\": \"color=Bangladesh\", \"offsetgroup\": \"color=Bangladesh\", \"orientation\": \"v\", \"showlegend\": true, \"textposition\": \"auto\", \"type\": \"bar\", \"x\": [2014, 2015, 2016, 2017, 2018, 2019, 2020, 2021], \"xaxis\": \"x\", \"y\": [172.887, 195.14700000000002, 221.398, 249.695, 273.3, 302.39599999999996, 329.12, 352.908], \"yaxis\": \"y\"}, {\"alignmentgroup\": \"True\", \"hoverlabel\": {\"namelength\": 0}, \"hovertemplate\": \"color=Barbados<br>x=%{x}<br>y=%{y}\", \"legendgroup\": \"color=Barbados\", \"marker\": {\"color\": \"#FFA15A\"}, \"name\": \"color=Barbados\", \"offsetgroup\": \"color=Barbados\", \"orientation\": \"v\", \"showlegend\": true, \"textposition\": \"auto\", \"type\": \"bar\", \"x\": [2014, 2015, 2016, 2017, 2018, 2019, 2020, 2021], \"xaxis\": \"x\", \"y\": [4.696000000000001, 4.715, 4.83, 4.978, 5.087, 5.209, 4.365, 4.628], \"yaxis\": \"y\"}, {\"alignmentgroup\": \"True\", \"hoverlabel\": {\"namelength\": 0}, \"hovertemplate\": \"color=Belarus<br>x=%{x}<br>y=%{y}\", \"legendgroup\": \"color=Belarus\", \"marker\": {\"color\": \"#19d3f3\"}, \"name\": \"color=Belarus\", \"offsetgroup\": \"color=Belarus\", \"orientation\": \"v\", \"showlegend\": true, \"textposition\": \"auto\", \"type\": \"bar\", \"x\": [2014, 2015, 2016, 2017, 2018, 2019, 2020, 2021], \"xaxis\": \"x\", \"y\": [78.736, 56.32899999999999, 47.703, 54.723, 60.011, 64.414, 60.201, 60.725], \"yaxis\": \"y\"}, {\"alignmentgroup\": \"True\", \"hoverlabel\": {\"namelength\": 0}, \"hovertemplate\": \"color=Belgium<br>x=%{x}<br>y=%{y}\", \"legendgroup\": \"color=Belgium\", \"marker\": {\"color\": \"#FF6692\"}, \"name\": \"color=Belgium\", \"offsetgroup\": \"color=Belgium\", \"orientation\": \"v\", \"showlegend\": true, \"textposition\": \"auto\", \"type\": \"bar\", \"x\": [2014, 2015, 2016, 2017, 2018, 2019, 2020, 2021], \"xaxis\": \"x\", \"y\": [535.529, 462.38300000000004, 475.931, 502.52099999999996, 543.98, 533.1569999999999, 513.087, 578.996], \"yaxis\": \"y\"}, {\"alignmentgroup\": \"True\", \"hoverlabel\": {\"namelength\": 0}, \"hovertemplate\": \"color=Belize<br>x=%{x}<br>y=%{y}\", \"legendgroup\": \"color=Belize\", \"marker\": {\"color\": \"#B6E880\"}, \"name\": \"color=Belize\", \"offsetgroup\": \"color=Belize\", \"orientation\": \"v\", \"showlegend\": true, \"textposition\": \"auto\", \"type\": \"bar\", \"x\": [2014, 2015, 2016, 2017, 2018, 2019, 2020, 2021], \"xaxis\": \"x\", \"y\": [1.6669999999999998, 1.724, 1.7730000000000001, 1.8330000000000002, 1.882, 1.92, 1.651, 1.7], \"yaxis\": \"y\"}, {\"alignmentgroup\": \"True\", \"hoverlabel\": {\"namelength\": 0}, \"hovertemplate\": \"color=Benin<br>x=%{x}<br>y=%{y}\", \"legendgroup\": \"color=Benin\", \"marker\": {\"color\": \"#FF97FF\"}, \"name\": \"color=Benin\", \"offsetgroup\": \"color=Benin\", \"orientation\": \"v\", \"showlegend\": true, \"textposition\": \"auto\", \"type\": \"bar\", \"x\": [2014, 2015, 2016, 2017, 2018, 2019, 2020, 2021], \"xaxis\": \"x\", \"y\": [13.288, 11.389000000000001, 11.818, 12.697000000000001, 14.257, 14.392000000000001, 15.193, 17.327], \"yaxis\": \"y\"}, {\"alignmentgroup\": \"True\", \"hoverlabel\": {\"namelength\": 0}, \"hovertemplate\": \"color=Bhutan<br>x=%{x}<br>y=%{y}\", \"legendgroup\": \"color=Bhutan\", \"marker\": {\"color\": \"#FECB52\"}, \"name\": \"color=Bhutan\", \"offsetgroup\": \"color=Bhutan\", \"orientation\": \"v\", \"showlegend\": true, \"textposition\": \"auto\", \"type\": \"bar\", \"x\": [2014, 2015, 2016, 2017, 2018, 2019, 2020, 2021], \"xaxis\": \"x\", \"y\": [1.784, 1.922, 2.025, 2.365, 2.411, 2.488, 2.503, 2.48], \"yaxis\": \"y\"}, {\"alignmentgroup\": \"True\", \"hoverlabel\": {\"namelength\": 0}, \"hovertemplate\": \"color=Bolivia<br>x=%{x}<br>y=%{y}\", \"legendgroup\": \"color=Bolivia\", \"marker\": {\"color\": \"#636efa\"}, \"name\": \"color=Bolivia\", \"offsetgroup\": \"color=Bolivia\", \"orientation\": \"v\", \"showlegend\": true, \"textposition\": \"auto\", \"type\": \"bar\", \"x\": [2014, 2015, 2016, 2017, 2018, 2019, 2020, 2021], \"xaxis\": \"x\", \"y\": [33.236999999999995, 33.241, 34.189, 37.782, 40.580999999999996, 41.193000000000005, 39.381, 43.11], \"yaxis\": \"y\"}, {\"alignmentgroup\": \"True\", \"hoverlabel\": {\"namelength\": 0}, \"hovertemplate\": \"color=Bosnia and Herzegovina<br>x=%{x}<br>y=%{y}\", \"legendgroup\": \"color=Bosnia and Herzegovina\", \"marker\": {\"color\": \"#EF553B\"}, \"name\": \"color=Bosnia and Herzegovina\", \"offsetgroup\": \"color=Bosnia and Herzegovina\", \"orientation\": \"v\", \"showlegend\": true, \"textposition\": \"auto\", \"type\": \"bar\", \"x\": [2014, 2015, 2016, 2017, 2018, 2019, 2020, 2021], \"xaxis\": \"x\", \"y\": [18.522000000000002, 16.21, 16.91, 18.081, 20.184, 20.203, 19.389, 21.953000000000003], \"yaxis\": \"y\"}, {\"alignmentgroup\": \"True\", \"hoverlabel\": {\"namelength\": 0}, \"hovertemplate\": \"color=Botswana<br>x=%{x}<br>y=%{y}\", \"legendgroup\": \"color=Botswana\", \"marker\": {\"color\": \"#00cc96\"}, \"name\": \"color=Botswana\", \"offsetgroup\": \"color=Botswana\", \"orientation\": \"v\", \"showlegend\": true, \"textposition\": \"auto\", \"type\": \"bar\", \"x\": [2014, 2015, 2016, 2017, 2018, 2019, 2020, 2021], \"xaxis\": \"x\", \"y\": [16.259, 14.445, 15.658, 17.383, 18.664, 18.339000000000002, 15.91, 18.726], \"yaxis\": \"y\"}, {\"alignmentgroup\": \"True\", \"hoverlabel\": {\"namelength\": 0}, \"hovertemplate\": \"color=Brazil<br>x=%{x}<br>y=%{y}\", \"legendgroup\": \"color=Brazil\", \"marker\": {\"color\": \"#ab63fa\"}, \"name\": \"color=Brazil\", \"offsetgroup\": \"color=Brazil\", \"orientation\": \"v\", \"showlegend\": true, \"textposition\": \"auto\", \"type\": \"bar\", \"x\": [2014, 2015, 2016, 2017, 2018, 2019, 2020, 2021], \"xaxis\": \"x\", \"y\": [2456.055, 1800.046, 1796.622, 2063.518, 1916.934, 1877.114, 1434.0839999999998, 1491.7720000000002], \"yaxis\": \"y\"}, {\"alignmentgroup\": \"True\", \"hoverlabel\": {\"namelength\": 0}, \"hovertemplate\": \"color=Brunei Darussalam<br>x=%{x}<br>y=%{y}\", \"legendgroup\": \"color=Brunei Darussalam\", \"marker\": {\"color\": \"#FFA15A\"}, \"name\": \"color=Brunei Darussalam\", \"offsetgroup\": \"color=Brunei Darussalam\", \"orientation\": \"v\", \"showlegend\": true, \"textposition\": \"auto\", \"type\": \"bar\", \"x\": [2014, 2015, 2016, 2017, 2018, 2019, 2020, 2021], \"xaxis\": \"x\", \"y\": [17.098, 12.931, 11.399000000000001, 12.128, 13.568, 13.47, 12.015999999999998, 15.277999999999999], \"yaxis\": \"y\"}, {\"alignmentgroup\": \"True\", \"hoverlabel\": {\"namelength\": 0}, \"hovertemplate\": \"color=Bulgaria<br>x=%{x}<br>y=%{y}\", \"legendgroup\": \"color=Bulgaria\", \"marker\": {\"color\": \"#19d3f3\"}, \"name\": \"color=Bulgaria\", \"offsetgroup\": \"color=Bulgaria\", \"orientation\": \"v\", \"showlegend\": true, \"textposition\": \"auto\", \"type\": \"bar\", \"x\": [2014, 2015, 2016, 2017, 2018, 2019, 2020, 2021], \"xaxis\": \"x\", \"y\": [56.902, 50.647, 53.802, 59.093, 66.294, 68.563, 68.561, 77.782], \"yaxis\": \"y\"}, {\"alignmentgroup\": \"True\", \"hoverlabel\": {\"namelength\": 0}, \"hovertemplate\": \"color=Burkina Faso<br>x=%{x}<br>y=%{y}\", \"legendgroup\": \"color=Burkina Faso\", \"marker\": {\"color\": \"#FF6692\"}, \"name\": \"color=Burkina Faso\", \"offsetgroup\": \"color=Burkina Faso\", \"orientation\": \"v\", \"showlegend\": true, \"textposition\": \"auto\", \"type\": \"bar\", \"x\": [2014, 2015, 2016, 2017, 2018, 2019, 2020, 2021], \"xaxis\": \"x\", \"y\": [13.947000000000001, 11.833, 12.819, 14.165, 16.207, 15.745999999999999, 16.541, 18.852999999999998], \"yaxis\": \"y\"}, {\"alignmentgroup\": \"True\", \"hoverlabel\": {\"namelength\": 0}, \"hovertemplate\": \"color=Burundi<br>x=%{x}<br>y=%{y}\", \"legendgroup\": \"color=Burundi\", \"marker\": {\"color\": \"#B6E880\"}, \"name\": \"color=Burundi\", \"offsetgroup\": \"color=Burundi\", \"orientation\": \"v\", \"showlegend\": true, \"textposition\": \"auto\", \"type\": \"bar\", \"x\": [2014, 2015, 2016, 2017, 2018, 2019, 2020, 2021], \"xaxis\": \"x\", \"y\": [2.7060000000000004, 3.1039999999999996, 2.96, 3.1719999999999997, 3.037, 2.968, 3.011, 3.2439999999999998], \"yaxis\": \"y\"}, {\"alignmentgroup\": \"True\", \"hoverlabel\": {\"namelength\": 0}, \"hovertemplate\": \"color=Cabo Verde<br>x=%{x}<br>y=%{y}\", \"legendgroup\": \"color=Cabo Verde\", \"marker\": {\"color\": \"#FF97FF\"}, \"name\": \"color=Cabo Verde\", \"offsetgroup\": \"color=Cabo Verde\", \"orientation\": \"v\", \"showlegend\": true, \"textposition\": \"auto\", \"type\": \"bar\", \"x\": [2014, 2015, 2016, 2017, 2018, 2019, 2020, 2021], \"xaxis\": \"x\", \"y\": [1.86, 1.597, 1.663, 1.77, 1.9669999999999999, 1.982, 1.7530000000000001, 2.003], \"yaxis\": \"y\"}, {\"alignmentgroup\": \"True\", \"hoverlabel\": {\"namelength\": 0}, \"hovertemplate\": \"color=Cambodia<br>x=%{x}<br>y=%{y}\", \"legendgroup\": \"color=Cambodia\", \"marker\": {\"color\": \"#FECB52\"}, \"name\": \"color=Cambodia\", \"offsetgroup\": \"color=Cambodia\", \"orientation\": \"v\", \"showlegend\": true, \"textposition\": \"auto\", \"type\": \"bar\", \"x\": [2014, 2015, 2016, 2017, 2018, 2019, 2020, 2021], \"xaxis\": \"x\", \"y\": [16.702, 18.083, 20.043, 22.189, 24.444000000000003, 26.728, 25.953000000000003, 27.239], \"yaxis\": \"y\"}, {\"alignmentgroup\": \"True\", \"hoverlabel\": {\"namelength\": 0}, \"hovertemplate\": \"color=Cameroon<br>x=%{x}<br>y=%{y}\", \"legendgroup\": \"color=Cameroon\", \"marker\": {\"color\": \"#636efa\"}, \"name\": \"color=Cameroon\", \"offsetgroup\": \"color=Cameroon\", \"orientation\": \"v\", \"showlegend\": true, \"textposition\": \"auto\", \"type\": \"bar\", \"x\": [2014, 2015, 2016, 2017, 2018, 2019, 2020, 2021], \"xaxis\": \"x\", \"y\": [34.999, 30.932, 32.635, 34.997, 38.711999999999996, 38.863, 39.02, 44.893], \"yaxis\": \"y\"}, {\"alignmentgroup\": \"True\", \"hoverlabel\": {\"namelength\": 0}, \"hovertemplate\": \"color=Canada<br>x=%{x}<br>y=%{y}\", \"legendgroup\": \"color=Canada\", \"marker\": {\"color\": \"#EF553B\"}, \"name\": \"color=Canada\", \"offsetgroup\": \"color=Canada\", \"orientation\": \"v\", \"showlegend\": true, \"textposition\": \"auto\", \"type\": \"bar\", \"x\": [2014, 2015, 2016, 2017, 2018, 2019, 2020, 2021], \"xaxis\": \"x\", \"y\": [1805.751, 1556.5079999999998, 1527.996, 1649.266, 1721.8220000000001, 1741.576, 1643.408, 1883.487], \"yaxis\": \"y\"}, {\"alignmentgroup\": \"True\", \"hoverlabel\": {\"namelength\": 0}, \"hovertemplate\": \"color=Central African Republic<br>x=%{x}<br>y=%{y}\", \"legendgroup\": \"color=Central African Republic\", \"marker\": {\"color\": \"#00cc96\"}, \"name\": \"color=Central African Republic\", \"offsetgroup\": \"color=Central African Republic\", \"orientation\": \"v\", \"showlegend\": true, \"textposition\": \"auto\", \"type\": \"bar\", \"x\": [2014, 2015, 2016, 2017, 2018, 2019, 2020, 2021], \"xaxis\": \"x\", \"y\": [1.896, 1.696, 1.825, 2.072, 2.28, 2.2769999999999997, 2.366, 2.718], \"yaxis\": \"y\"}, {\"alignmentgroup\": \"True\", \"hoverlabel\": {\"namelength\": 0}, \"hovertemplate\": \"color=Chad<br>x=%{x}<br>y=%{y}\", \"legendgroup\": \"color=Chad\", \"marker\": {\"color\": \"#ab63fa\"}, \"name\": \"color=Chad\", \"offsetgroup\": \"color=Chad\", \"orientation\": \"v\", \"showlegend\": true, \"textposition\": \"auto\", \"type\": \"bar\", \"x\": [2014, 2015, 2016, 2017, 2018, 2019, 2020, 2021], \"xaxis\": \"x\", \"y\": [14.003, 10.952, 10.202, 10.079, 11.036, 10.934000000000001, 10.742, 12.530999999999999], \"yaxis\": \"y\"}, {\"alignmentgroup\": \"True\", \"hoverlabel\": {\"namelength\": 0}, \"hovertemplate\": \"color=Chile<br>x=%{x}<br>y=%{y}\", \"legendgroup\": \"color=Chile\", \"marker\": {\"color\": \"#FFA15A\"}, \"name\": \"color=Chile\", \"offsetgroup\": \"color=Chile\", \"orientation\": \"v\", \"showlegend\": true, \"textposition\": \"auto\", \"type\": \"bar\", \"x\": [2014, 2015, 2016, 2017, 2018, 2019, 2020, 2021], \"xaxis\": \"x\", \"y\": [260.472, 243.888, 250.326, 276.9, 297.436, 279.27, 252.75599999999997, 307.938], \"yaxis\": \"y\"}, {\"alignmentgroup\": \"True\", \"hoverlabel\": {\"namelength\": 0}, \"hovertemplate\": \"color=China<br>x=%{x}<br>y=%{y}\", \"legendgroup\": \"color=China\", \"marker\": {\"color\": \"#19d3f3\"}, \"name\": \"color=China\", \"offsetgroup\": \"color=China\", \"orientation\": \"v\", \"showlegend\": true, \"textposition\": \"auto\", \"type\": \"bar\", \"x\": [2014, 2015, 2016, 2017, 2018, 2019, 2020, 2021], \"xaxis\": \"x\", \"y\": [10524.211000000001, 11113.528, 11227.075, 12265.317, 13841.901000000002, 14340.6, 14722.837, 16642.318], \"yaxis\": \"y\"}, {\"alignmentgroup\": \"True\", \"hoverlabel\": {\"namelength\": 0}, \"hovertemplate\": \"color=Colombia<br>x=%{x}<br>y=%{y}\", \"legendgroup\": \"color=Colombia\", \"marker\": {\"color\": \"#FF6692\"}, \"name\": \"color=Colombia\", \"offsetgroup\": \"color=Colombia\", \"orientation\": \"v\", \"showlegend\": true, \"textposition\": \"auto\", \"type\": \"bar\", \"x\": [2014, 2015, 2016, 2017, 2018, 2019, 2020, 2021], \"xaxis\": \"x\", \"y\": [381.24, 293.492, 282.72, 311.889, 334.124, 323.375, 271.46299999999997, 295.61], \"yaxis\": \"y\"}, {\"alignmentgroup\": \"True\", \"hoverlabel\": {\"namelength\": 0}, \"hovertemplate\": \"color=Comoros<br>x=%{x}<br>y=%{y}\", \"legendgroup\": \"color=Comoros\", \"marker\": {\"color\": \"#B6E880\"}, \"name\": \"color=Comoros\", \"offsetgroup\": \"color=Comoros\", \"orientation\": \"v\", \"showlegend\": true, \"textposition\": \"auto\", \"type\": \"bar\", \"x\": [2014, 2015, 2016, 2017, 2018, 2019, 2020, 2021], \"xaxis\": \"x\", \"y\": [1.15, 0.966, 1.013, 1.077, 1.179, 1.19, 1.222, 1.3090000000000002], \"yaxis\": \"y\"}, {\"alignmentgroup\": \"True\", \"hoverlabel\": {\"namelength\": 0}, \"hovertemplate\": \"color=Democratic Republic of the Congo<br>x=%{x}<br>y=%{y}\", \"legendgroup\": \"color=Democratic Republic of the Congo\", \"marker\": {\"color\": \"#FF97FF\"}, \"name\": \"color=Democratic Republic of the Congo\", \"offsetgroup\": \"color=Democratic Republic of the Congo\", \"orientation\": \"v\", \"showlegend\": true, \"textposition\": \"auto\", \"type\": \"bar\", \"x\": [2014, 2015, 2016, 2017, 2018, 2019, 2020, 2021], \"xaxis\": \"x\", \"y\": [35.911, 37.915, 36.64, 37.615, 47.099, 50.418, 49.077, 55.088], \"yaxis\": \"y\"}, {\"alignmentgroup\": \"True\", \"hoverlabel\": {\"namelength\": 0}, \"hovertemplate\": \"color=Republic of Congo<br>x=%{x}<br>y=%{y}\", \"legendgroup\": \"color=Republic of Congo\", \"marker\": {\"color\": \"#FECB52\"}, \"name\": \"color=Republic of Congo\", \"offsetgroup\": \"color=Republic of Congo\", \"orientation\": \"v\", \"showlegend\": true, \"textposition\": \"auto\", \"type\": \"bar\", \"x\": [2014, 2015, 2016, 2017, 2018, 2019, 2020, 2021], \"xaxis\": \"x\", \"y\": [17.918, 11.890999999999998, 10.158999999999999, 11.11, 13.402000000000001, 12.542, 10.232000000000001, 12.022], \"yaxis\": \"y\"}, {\"alignmentgroup\": \"True\", \"hoverlabel\": {\"namelength\": 0}, \"hovertemplate\": \"color=Costa Rica<br>x=%{x}<br>y=%{y}\", \"legendgroup\": \"color=Costa Rica\", \"marker\": {\"color\": \"#636efa\"}, \"name\": \"color=Costa Rica\", \"offsetgroup\": \"color=Costa Rica\", \"orientation\": \"v\", \"showlegend\": true, \"textposition\": \"auto\", \"type\": \"bar\", \"x\": [2014, 2015, 2016, 2017, 2018, 2019, 2020, 2021], \"xaxis\": \"x\", \"y\": [52.016999999999996, 56.442, 58.847, 60.516999999999996, 62.338, 63.946000000000005, 61.45, 61.178000000000004], \"yaxis\": \"y\"}, {\"alignmentgroup\": \"True\", \"hoverlabel\": {\"namelength\": 0}, \"hovertemplate\": \"color=C\\u00f4te d'Ivoire<br>x=%{x}<br>y=%{y}\", \"legendgroup\": \"color=C\\u00f4te d'Ivoire\", \"marker\": {\"color\": \"#EF553B\"}, \"name\": \"color=C\\u00f4te d'Ivoire\", \"offsetgroup\": \"color=C\\u00f4te d'Ivoire\", \"orientation\": \"v\", \"showlegend\": true, \"textposition\": \"auto\", \"type\": \"bar\", \"x\": [2014, 2015, 2016, 2017, 2018, 2019, 2020, 2021], \"xaxis\": \"x\", \"y\": [48.882, 45.815, 47.964, 51.588, 58.011, 58.538999999999994, 61.402, 70.991], \"yaxis\": \"y\"}, {\"alignmentgroup\": \"True\", \"hoverlabel\": {\"namelength\": 0}, \"hovertemplate\": \"color=Croatia<br>x=%{x}<br>y=%{y}\", \"legendgroup\": \"color=Croatia\", \"marker\": {\"color\": \"#00cc96\"}, \"name\": \"color=Croatia\", \"offsetgroup\": \"color=Croatia\", \"orientation\": \"v\", \"showlegend\": true, \"textposition\": \"auto\", \"type\": \"bar\", \"x\": [2014, 2015, 2016, 2017, 2018, 2019, 2020, 2021], \"xaxis\": \"x\", \"y\": [57.64, 49.526, 51.601000000000006, 55.482, 61.375, 60.75899999999999, 56.925, 65.217], \"yaxis\": \"y\"}, {\"alignmentgroup\": \"True\", \"hoverlabel\": {\"namelength\": 0}, \"hovertemplate\": \"color=Cyprus<br>x=%{x}<br>y=%{y}\", \"legendgroup\": \"color=Cyprus\", \"marker\": {\"color\": \"#ab63fa\"}, \"name\": \"color=Cyprus\", \"offsetgroup\": \"color=Cyprus\", \"orientation\": \"v\", \"showlegend\": true, \"textposition\": \"auto\", \"type\": \"bar\", \"x\": [2014, 2015, 2016, 2017, 2018, 2019, 2020, 2021], \"xaxis\": \"x\", \"y\": [23.162, 19.844, 20.947, 22.721, 25.322, 24.953000000000003, 23.967, 26.479], \"yaxis\": \"y\"}, {\"alignmentgroup\": \"True\", \"hoverlabel\": {\"namelength\": 0}, \"hovertemplate\": \"color=Czech Republic<br>x=%{x}<br>y=%{y}\", \"legendgroup\": \"color=Czech Republic\", \"marker\": {\"color\": \"#FFA15A\"}, \"name\": \"color=Czech Republic\", \"offsetgroup\": \"color=Czech Republic\", \"orientation\": \"v\", \"showlegend\": true, \"textposition\": \"auto\", \"type\": \"bar\", \"x\": [2014, 2015, 2016, 2017, 2018, 2019, 2020, 2021], \"xaxis\": \"x\", \"y\": [209.359, 188.033, 196.27200000000002, 218.62900000000002, 248.95, 250.68599999999998, 241.455, 276.10900000000004], \"yaxis\": \"y\"}, {\"alignmentgroup\": \"True\", \"hoverlabel\": {\"namelength\": 0}, \"hovertemplate\": \"color=Denmark<br>x=%{x}<br>y=%{y}\", \"legendgroup\": \"color=Denmark\", \"marker\": {\"color\": \"#19d3f3\"}, \"name\": \"color=Denmark\", \"offsetgroup\": \"color=Denmark\", \"orientation\": \"v\", \"showlegend\": true, \"textposition\": \"auto\", \"type\": \"bar\", \"x\": [2014, 2015, 2016, 2017, 2018, 2019, 2020, 2021], \"xaxis\": \"x\", \"y\": [352.994, 302.673, 313.116, 332.121, 356.88, 350.10400000000004, 352.24300000000005, 392.57], \"yaxis\": \"y\"}, {\"alignmentgroup\": \"True\", \"hoverlabel\": {\"namelength\": 0}, \"hovertemplate\": \"color=Djibouti<br>x=%{x}<br>y=%{y}\", \"legendgroup\": \"color=Djibouti\", \"marker\": {\"color\": \"#FF6692\"}, \"name\": \"color=Djibouti\", \"offsetgroup\": \"color=Djibouti\", \"orientation\": \"v\", \"showlegend\": true, \"textposition\": \"auto\", \"type\": \"bar\", \"x\": [2014, 2015, 2016, 2017, 2018, 2019, 2020, 2021], \"xaxis\": \"x\", \"y\": [2.2159999999999997, 2.445, 2.6189999999999998, 2.767, 3.013, 3.346, 3.408, 3.6630000000000003], \"yaxis\": \"y\"}, {\"alignmentgroup\": \"True\", \"hoverlabel\": {\"namelength\": 0}, \"hovertemplate\": \"color=Dominica<br>x=%{x}<br>y=%{y}\", \"legendgroup\": \"color=Dominica\", \"marker\": {\"color\": \"#B6E880\"}, \"name\": \"color=Dominica\", \"offsetgroup\": \"color=Dominica\", \"orientation\": \"v\", \"showlegend\": true, \"textposition\": \"auto\", \"type\": \"bar\", \"x\": [2014, 2015, 2016, 2017, 2018, 2019, 2020, 2021], \"xaxis\": \"x\", \"y\": [0.524, 0.541, 0.575, 0.522, 0.53, 0.579, 0.517, 0.523], \"yaxis\": \"y\"}, {\"alignmentgroup\": \"True\", \"hoverlabel\": {\"namelength\": 0}, \"hovertemplate\": \"color=Dominican Republic<br>x=%{x}<br>y=%{y}\", \"legendgroup\": \"color=Dominican Republic\", \"marker\": {\"color\": \"#FF97FF\"}, \"name\": \"color=Dominican Republic\", \"offsetgroup\": \"color=Dominican Republic\", \"orientation\": \"v\", \"showlegend\": true, \"textposition\": \"auto\", \"type\": \"bar\", \"x\": [2014, 2015, 2016, 2017, 2018, 2019, 2020, 2021], \"xaxis\": \"x\", \"y\": [67.264, 71.25399999999999, 75.777, 80.082, 85.63, 89.03200000000001, 78.73100000000001, 83.917], \"yaxis\": \"y\"}, {\"alignmentgroup\": \"True\", \"hoverlabel\": {\"namelength\": 0}, \"hovertemplate\": \"color=Ecuador<br>x=%{x}<br>y=%{y}\", \"legendgroup\": \"color=Ecuador\", \"marker\": {\"color\": \"#FECB52\"}, \"name\": \"color=Ecuador\", \"offsetgroup\": \"color=Ecuador\", \"orientation\": \"v\", \"showlegend\": true, \"textposition\": \"auto\", \"type\": \"bar\", \"x\": [2014, 2015, 2016, 2017, 2018, 2019, 2020, 2021], \"xaxis\": \"x\", \"y\": [101.726, 99.29, 99.93799999999999, 104.296, 107.56200000000001, 108.10799999999999, 96.665, 100.595], \"yaxis\": \"y\"}, {\"alignmentgroup\": \"True\", \"hoverlabel\": {\"namelength\": 0}, \"hovertemplate\": \"color=Egypt<br>x=%{x}<br>y=%{y}\", \"legendgroup\": \"color=Egypt\", \"marker\": {\"color\": \"#636efa\"}, \"name\": \"color=Egypt\", \"offsetgroup\": \"color=Egypt\", \"orientation\": \"v\", \"showlegend\": true, \"textposition\": \"auto\", \"type\": \"bar\", \"x\": [2014, 2015, 2016, 2017, 2018, 2019, 2020, 2021], \"xaxis\": \"x\", \"y\": [305.567, 332.075, 332.48400000000004, 236.528, 250.253, 302.335, 361.847, 394.284], \"yaxis\": \"y\"}, {\"alignmentgroup\": \"True\", \"hoverlabel\": {\"namelength\": 0}, \"hovertemplate\": \"color=El Salvador<br>x=%{x}<br>y=%{y}\", \"legendgroup\": \"color=El Salvador\", \"marker\": {\"color\": \"#EF553B\"}, \"name\": \"color=El Salvador\", \"offsetgroup\": \"color=El Salvador\", \"orientation\": \"v\", \"showlegend\": true, \"textposition\": \"auto\", \"type\": \"bar\", \"x\": [2014, 2015, 2016, 2017, 2018, 2019, 2020, 2021], \"xaxis\": \"x\", \"y\": [22.593000000000004, 23.438000000000002, 24.191, 24.979, 26.116999999999997, 27.023000000000003, 24.609, 26.276999999999997], \"yaxis\": \"y\"}, {\"alignmentgroup\": \"True\", \"hoverlabel\": {\"namelength\": 0}, \"hovertemplate\": \"color=Equatorial Guinea<br>x=%{x}<br>y=%{y}\", \"legendgroup\": \"color=Equatorial Guinea\", \"marker\": {\"color\": \"#00cc96\"}, \"name\": \"color=Equatorial Guinea\", \"offsetgroup\": \"color=Equatorial Guinea\", \"orientation\": \"v\", \"showlegend\": true, \"textposition\": \"auto\", \"type\": \"bar\", \"x\": [2014, 2015, 2016, 2017, 2018, 2019, 2020, 2021], \"xaxis\": \"x\", \"y\": [21.765, 13.185, 11.241, 12.200999999999999, 13.277999999999999, 11.025, 9.524, 11.725999999999999], \"yaxis\": \"y\"}, {\"alignmentgroup\": \"True\", \"hoverlabel\": {\"namelength\": 0}, \"hovertemplate\": \"color=Eritrea<br>x=%{x}<br>y=%{y}\", \"legendgroup\": \"color=Eritrea\", \"marker\": {\"color\": \"#ab63fa\"}, \"name\": \"color=Eritrea\", \"offsetgroup\": \"color=Eritrea\", \"orientation\": \"v\", \"showlegend\": true, \"textposition\": \"auto\", \"type\": \"bar\", \"x\": [2014, 2015, 2016, 2017, 2018, 2019, 2020, 2021], \"xaxis\": \"x\", \"y\": [2.6039999999999996, 2.016, 2.213, 1.9040000000000001, 2.006, 1.982, 2.086, 2.25], \"yaxis\": \"y\"}, {\"alignmentgroup\": \"True\", \"hoverlabel\": {\"namelength\": 0}, \"hovertemplate\": \"color=Estonia<br>x=%{x}<br>y=%{y}\", \"legendgroup\": \"color=Estonia\", \"marker\": {\"color\": \"#FFA15A\"}, \"name\": \"color=Estonia\", \"offsetgroup\": \"color=Estonia\", \"orientation\": \"v\", \"showlegend\": true, \"textposition\": \"auto\", \"type\": \"bar\", \"x\": [2014, 2015, 2016, 2017, 2018, 2019, 2020, 2021], \"xaxis\": \"x\", \"y\": [26.816, 23.06, 24.269000000000002, 26.941999999999997, 30.645, 31.475, 31.005, 35.187], \"yaxis\": \"y\"}, {\"alignmentgroup\": \"True\", \"hoverlabel\": {\"namelength\": 0}, \"hovertemplate\": \"color=Eswatini<br>x=%{x}<br>y=%{y}\", \"legendgroup\": \"color=Eswatini\", \"marker\": {\"color\": \"#19d3f3\"}, \"name\": \"color=Eswatini\", \"offsetgroup\": \"color=Eswatini\", \"orientation\": \"v\", \"showlegend\": true, \"textposition\": \"auto\", \"type\": \"bar\", \"x\": [2014, 2015, 2016, 2017, 2018, 2019, 2020, 2021], \"xaxis\": \"x\", \"y\": [4.426, 4.061, 3.815, 4.407, 4.666, 4.471, 3.949, 4.226], \"yaxis\": \"y\"}, {\"alignmentgroup\": \"True\", \"hoverlabel\": {\"namelength\": 0}, \"hovertemplate\": \"color=Ethiopia<br>x=%{x}<br>y=%{y}\", \"legendgroup\": \"color=Ethiopia\", \"marker\": {\"color\": \"#FF6692\"}, \"name\": \"color=Ethiopia\", \"offsetgroup\": \"color=Ethiopia\", \"orientation\": \"v\", \"showlegend\": true, \"textposition\": \"auto\", \"type\": \"bar\", \"x\": [2014, 2015, 2016, 2017, 2018, 2019, 2020, 2021], \"xaxis\": \"x\", \"y\": [54.165, 63.081, 72.12, 76.84100000000001, 80.207, 92.60799999999999, 96.611, 93.96600000000001], \"yaxis\": \"y\"}, {\"alignmentgroup\": \"True\", \"hoverlabel\": {\"namelength\": 0}, \"hovertemplate\": \"color=Fiji<br>x=%{x}<br>y=%{y}\", \"legendgroup\": \"color=Fiji\", \"marker\": {\"color\": \"#B6E880\"}, \"name\": \"color=Fiji\", \"offsetgroup\": \"color=Fiji\", \"orientation\": \"v\", \"showlegend\": true, \"textposition\": \"auto\", \"type\": \"bar\", \"x\": [2014, 2015, 2016, 2017, 2018, 2019, 2020, 2021], \"xaxis\": \"x\", \"y\": [4.857, 4.6819999999999995, 4.93, 5.353, 5.581, 5.497000000000001, 4.316, 4.586], \"yaxis\": \"y\"}, {\"alignmentgroup\": \"True\", \"hoverlabel\": {\"namelength\": 0}, \"hovertemplate\": \"color=Finland<br>x=%{x}<br>y=%{y}\", \"legendgroup\": \"color=Finland\", \"marker\": {\"color\": \"#FF97FF\"}, \"name\": \"color=Finland\", \"offsetgroup\": \"color=Finland\", \"orientation\": \"v\", \"showlegend\": true, \"textposition\": \"auto\", \"type\": \"bar\", \"x\": [2014, 2015, 2016, 2017, 2018, 2019, 2020, 2021], \"xaxis\": \"x\", \"y\": [274.934, 234.558, 240.705, 255.558, 276.112, 268.996, 270.637, 300.48400000000004], \"yaxis\": \"y\"}, {\"alignmentgroup\": \"True\", \"hoverlabel\": {\"namelength\": 0}, \"hovertemplate\": \"color=France<br>x=%{x}<br>y=%{y}\", \"legendgroup\": \"color=France\", \"marker\": {\"color\": \"#FECB52\"}, \"name\": \"color=France\", \"offsetgroup\": \"color=France\", \"orientation\": \"v\", \"showlegend\": true, \"textposition\": \"auto\", \"type\": \"bar\", \"x\": [2014, 2015, 2016, 2017, 2018, 2019, 2020, 2021], \"xaxis\": \"x\", \"y\": [2856.7009999999996, 2439.436, 2472.282, 2594.235, 2791.163, 2717.204, 2598.907, 2938.2709999999997], \"yaxis\": \"y\"}, {\"alignmentgroup\": \"True\", \"hoverlabel\": {\"namelength\": 0}, \"hovertemplate\": \"color=Gabon<br>x=%{x}<br>y=%{y}\", \"legendgroup\": \"color=Gabon\", \"marker\": {\"color\": \"#636efa\"}, \"name\": \"color=Gabon\", \"offsetgroup\": \"color=Gabon\", \"orientation\": \"v\", \"showlegend\": true, \"textposition\": \"auto\", \"type\": \"bar\", \"x\": [2014, 2015, 2016, 2017, 2018, 2019, 2020, 2021], \"xaxis\": \"x\", \"y\": [18.209, 14.385, 14.02, 14.924000000000001, 16.875, 16.875, 15.642000000000001, 18.362000000000002], \"yaxis\": \"y\"}, {\"alignmentgroup\": \"True\", \"hoverlabel\": {\"namelength\": 0}, \"hovertemplate\": \"color=The Gambia<br>x=%{x}<br>y=%{y}\", \"legendgroup\": \"color=The Gambia\", \"marker\": {\"color\": \"#EF553B\"}, \"name\": \"color=The Gambia\", \"offsetgroup\": \"color=The Gambia\", \"orientation\": \"v\", \"showlegend\": true, \"textposition\": \"auto\", \"type\": \"bar\", \"x\": [2014, 2015, 2016, 2017, 2018, 2019, 2020, 2021], \"xaxis\": \"x\", \"y\": [1.229, 1.355, 1.47, 1.4980000000000002, 1.662, 1.818, 1.913, 2.0780000000000003], \"yaxis\": \"y\"}, {\"alignmentgroup\": \"True\", \"hoverlabel\": {\"namelength\": 0}, \"hovertemplate\": \"color=Georgia<br>x=%{x}<br>y=%{y}\", \"legendgroup\": \"color=Georgia\", \"marker\": {\"color\": \"#00cc96\"}, \"name\": \"color=Georgia\", \"offsetgroup\": \"color=Georgia\", \"orientation\": \"v\", \"showlegend\": true, \"textposition\": \"auto\", \"type\": \"bar\", \"x\": [2014, 2015, 2016, 2017, 2018, 2019, 2020, 2021], \"xaxis\": \"x\", \"y\": [17.627, 14.953, 15.140999999999998, 16.242, 17.599, 17.477, 15.732999999999999, 16.163], \"yaxis\": \"y\"}, {\"alignmentgroup\": \"True\", \"hoverlabel\": {\"namelength\": 0}, \"hovertemplate\": \"color=Germany<br>x=%{x}<br>y=%{y}\", \"legendgroup\": \"color=Germany\", \"marker\": {\"color\": \"#ab63fa\"}, \"name\": \"color=Germany\", \"offsetgroup\": \"color=Germany\", \"orientation\": \"v\", \"showlegend\": true, \"textposition\": \"auto\", \"type\": \"bar\", \"x\": [2014, 2015, 2016, 2017, 2018, 2019, 2020, 2021], \"xaxis\": \"x\", \"y\": [3890.095, 3357.926, 3468.8959999999997, 3681.303, 3965.565, 3861.55, 3803.014, 4319.286], \"yaxis\": \"y\"}, {\"alignmentgroup\": \"True\", \"hoverlabel\": {\"namelength\": 0}, \"hovertemplate\": \"color=Ghana<br>x=%{x}<br>y=%{y}\", \"legendgroup\": \"color=Ghana\", \"marker\": {\"color\": \"#FFA15A\"}, \"name\": \"color=Ghana\", \"offsetgroup\": \"color=Ghana\", \"orientation\": \"v\", \"showlegend\": true, \"textposition\": \"auto\", \"type\": \"bar\", \"x\": [2014, 2015, 2016, 2017, 2018, 2019, 2020, 2021], \"xaxis\": \"x\", \"y\": [53.173, 48.595, 54.989, 58.978, 65.518, 66.998, 68.418, 74.26], \"yaxis\": \"y\"}, {\"alignmentgroup\": \"True\", \"hoverlabel\": {\"namelength\": 0}, \"hovertemplate\": \"color=Greece<br>x=%{x}<br>y=%{y}\", \"legendgroup\": \"color=Greece\", \"marker\": {\"color\": \"#19d3f3\"}, \"name\": \"color=Greece\", \"offsetgroup\": \"color=Greece\", \"orientation\": \"v\", \"showlegend\": true, \"textposition\": \"auto\", \"type\": \"bar\", \"x\": [2014, 2015, 2016, 2017, 2018, 2019, 2020, 2021], \"xaxis\": \"x\", \"y\": [235.669, 195.416, 192.81, 200.055, 212.34599999999998, 205.34900000000002, 189.25900000000001, 209.857], \"yaxis\": \"y\"}, {\"alignmentgroup\": \"True\", \"hoverlabel\": {\"namelength\": 0}, \"hovertemplate\": \"color=Grenada<br>x=%{x}<br>y=%{y}\", \"legendgroup\": \"color=Grenada\", \"marker\": {\"color\": \"#FF6692\"}, \"name\": \"color=Grenada\", \"offsetgroup\": \"color=Grenada\", \"orientation\": \"v\", \"showlegend\": true, \"textposition\": \"auto\", \"type\": \"bar\", \"x\": [2014, 2015, 2016, 2017, 2018, 2019, 2020, 2021], \"xaxis\": \"x\", \"y\": [0.9109999999999999, 0.997, 1.062, 1.126, 1.169, 1.205, 1.037, 1.041], \"yaxis\": \"y\"}, {\"alignmentgroup\": \"True\", \"hoverlabel\": {\"namelength\": 0}, \"hovertemplate\": \"color=Guatemala<br>x=%{x}<br>y=%{y}\", \"legendgroup\": \"color=Guatemala\", \"marker\": {\"color\": \"#B6E880\"}, \"name\": \"color=Guatemala\", \"offsetgroup\": \"color=Guatemala\", \"orientation\": \"v\", \"showlegend\": true, \"textposition\": \"auto\", \"type\": \"bar\", \"x\": [2014, 2015, 2016, 2017, 2018, 2019, 2020, 2021], \"xaxis\": \"x\", \"y\": [57.835, 62.18, 66.03399999999999, 71.583, 73.12100000000001, 76.694, 77.07300000000001, 81.402], \"yaxis\": \"y\"}, {\"alignmentgroup\": \"True\", \"hoverlabel\": {\"namelength\": 0}, \"hovertemplate\": \"color=Guinea<br>x=%{x}<br>y=%{y}\", \"legendgroup\": \"color=Guinea\", \"marker\": {\"color\": \"#FF97FF\"}, \"name\": \"color=Guinea\", \"offsetgroup\": \"color=Guinea\", \"orientation\": \"v\", \"showlegend\": true, \"textposition\": \"auto\", \"type\": \"bar\", \"x\": [2014, 2015, 2016, 2017, 2018, 2019, 2020, 2021], \"xaxis\": \"x\", \"y\": [8.79, 8.79, 8.604, 10.337, 12.181, 13.797, 15.455, 16.339000000000002], \"yaxis\": \"y\"}, {\"alignmentgroup\": \"True\", \"hoverlabel\": {\"namelength\": 0}, \"hovertemplate\": \"color=Guinea-Bissau<br>x=%{x}<br>y=%{y}\", \"legendgroup\": \"color=Guinea-Bissau\", \"marker\": {\"color\": \"#FECB52\"}, \"name\": \"color=Guinea-Bissau\", \"offsetgroup\": \"color=Guinea-Bissau\", \"orientation\": \"v\", \"showlegend\": true, \"textposition\": \"auto\", \"type\": \"bar\", \"x\": [2014, 2015, 2016, 2017, 2018, 2019, 2020, 2021], \"xaxis\": \"x\", \"y\": [1.136, 1.153, 1.245, 1.469, 1.506, 1.44, 1.4340000000000002, 1.6469999999999998], \"yaxis\": \"y\"}, {\"alignmentgroup\": \"True\", \"hoverlabel\": {\"namelength\": 0}, \"hovertemplate\": \"color=Guyana<br>x=%{x}<br>y=%{y}\", \"legendgroup\": \"color=Guyana\", \"marker\": {\"color\": \"#636efa\"}, \"name\": \"color=Guyana\", \"offsetgroup\": \"color=Guyana\", \"orientation\": \"v\", \"showlegend\": true, \"textposition\": \"auto\", \"type\": \"bar\", \"x\": [2014, 2015, 2016, 2017, 2018, 2019, 2020, 2021], \"xaxis\": \"x\", \"y\": [4.128, 4.28, 4.4830000000000005, 4.748, 4.788, 5.1739999999999995, 5.766, 7.255], \"yaxis\": \"y\"}, {\"alignmentgroup\": \"True\", \"hoverlabel\": {\"namelength\": 0}, \"hovertemplate\": \"color=Haiti<br>x=%{x}<br>y=%{y}\", \"legendgroup\": \"color=Haiti\", \"marker\": {\"color\": \"#EF553B\"}, \"name\": \"color=Haiti\", \"offsetgroup\": \"color=Haiti\", \"orientation\": \"v\", \"showlegend\": true, \"textposition\": \"auto\", \"type\": \"bar\", \"x\": [2014, 2015, 2016, 2017, 2018, 2019, 2020, 2021], \"xaxis\": \"x\", \"y\": [14.789000000000001, 14.856, 13.732000000000001, 14.214, 15.965, 14.334000000000001, 14.286, 22.430999999999997], \"yaxis\": \"y\"}, {\"alignmentgroup\": \"True\", \"hoverlabel\": {\"namelength\": 0}, \"hovertemplate\": \"color=Honduras<br>x=%{x}<br>y=%{y}\", \"legendgroup\": \"color=Honduras\", \"marker\": {\"color\": \"#00cc96\"}, \"name\": \"color=Honduras\", \"offsetgroup\": \"color=Honduras\", \"orientation\": \"v\", \"showlegend\": true, \"textposition\": \"auto\", \"type\": \"bar\", \"x\": [2014, 2015, 2016, 2017, 2018, 2019, 2020, 2021], \"xaxis\": \"x\", \"y\": [19.755, 20.978, 21.714000000000002, 23.136999999999997, 23.857, 24.921, 23.691, 26.160999999999998], \"yaxis\": \"y\"}, {\"alignmentgroup\": \"True\", \"hoverlabel\": {\"namelength\": 0}, \"hovertemplate\": \"color=Hong Kong SAR<br>x=%{x}<br>y=%{y}\", \"legendgroup\": \"color=Hong Kong SAR\", \"marker\": {\"color\": \"#ab63fa\"}, \"name\": \"color=Hong Kong SAR\", \"offsetgroup\": \"color=Hong Kong SAR\", \"orientation\": \"v\", \"showlegend\": true, \"textposition\": \"auto\", \"type\": \"bar\", \"x\": [2014, 2015, 2016, 2017, 2018, 2019, 2020, 2021], \"xaxis\": \"x\", \"y\": [291.46, 309.38599999999997, 320.84, 341.24199999999996, 361.69199999999995, 365.708, 349.445, 368.63300000000004], \"yaxis\": \"y\"}, {\"alignmentgroup\": \"True\", \"hoverlabel\": {\"namelength\": 0}, \"hovertemplate\": \"color=Hungary<br>x=%{x}<br>y=%{y}\", \"legendgroup\": \"color=Hungary\", \"marker\": {\"color\": \"#FFA15A\"}, \"name\": \"color=Hungary\", \"offsetgroup\": \"color=Hungary\", \"orientation\": \"v\", \"showlegend\": true, \"textposition\": \"auto\", \"type\": \"bar\", \"x\": [2014, 2015, 2016, 2017, 2018, 2019, 2020, 2021], \"xaxis\": \"x\", \"y\": [140.765, 125.074, 128.471, 142.96200000000002, 160.41899999999998, 163.459, 154.562, 176.543], \"yaxis\": \"y\"}, {\"alignmentgroup\": \"True\", \"hoverlabel\": {\"namelength\": 0}, \"hovertemplate\": \"color=Iceland<br>x=%{x}<br>y=%{y}\", \"legendgroup\": \"color=Iceland\", \"marker\": {\"color\": \"#19d3f3\"}, \"name\": \"color=Iceland\", \"offsetgroup\": \"color=Iceland\", \"orientation\": \"v\", \"showlegend\": true, \"textposition\": \"auto\", \"type\": \"bar\", \"x\": [2014, 2015, 2016, 2017, 2018, 2019, 2020, 2021], \"xaxis\": \"x\", \"y\": [17.868, 17.517, 20.793000000000003, 24.728, 26.224, 24.837, 21.715, 24.155], \"yaxis\": \"y\"}, {\"alignmentgroup\": \"True\", \"hoverlabel\": {\"namelength\": 0}, \"hovertemplate\": \"color=India<br>x=%{x}<br>y=%{y}\", \"legendgroup\": \"color=India\", \"marker\": {\"color\": \"#FF6692\"}, \"name\": \"color=India\", \"offsetgroup\": \"color=India\", \"orientation\": \"v\", \"showlegend\": true, \"textposition\": \"auto\", \"type\": \"bar\", \"x\": [2014, 2015, 2016, 2017, 2018, 2019, 2020, 2021], \"xaxis\": \"x\", \"y\": [2039.1270000000002, 2103.5879999999997, 2294.118, 2651.474, 2701.112, 2870.5040000000004, 2708.77, 3049.704], \"yaxis\": \"y\"}, {\"alignmentgroup\": \"True\", \"hoverlabel\": {\"namelength\": 0}, \"hovertemplate\": \"color=Indonesia<br>x=%{x}<br>y=%{y}\", \"legendgroup\": \"color=Indonesia\", \"marker\": {\"color\": \"#B6E880\"}, \"name\": \"color=Indonesia\", \"offsetgroup\": \"color=Indonesia\", \"orientation\": \"v\", \"showlegend\": true, \"textposition\": \"auto\", \"type\": \"bar\", \"x\": [2014, 2015, 2016, 2017, 2018, 2019, 2020, 2021], \"xaxis\": \"x\", \"y\": [891.051, 860.7410000000001, 932.066, 1015.488, 1042.711, 1120.042, 1059.638, 1158.7830000000001], \"yaxis\": \"y\"}, {\"alignmentgroup\": \"True\", \"hoverlabel\": {\"namelength\": 0}, \"hovertemplate\": \"color=Islamic Republic of Iran<br>x=%{x}<br>y=%{y}\", \"legendgroup\": \"color=Islamic Republic of Iran\", \"marker\": {\"color\": \"#FF97FF\"}, \"name\": \"color=Islamic Republic of Iran\", \"offsetgroup\": \"color=Islamic Republic of Iran\", \"orientation\": \"v\", \"showlegend\": true, \"textposition\": \"auto\", \"type\": \"bar\", \"x\": [2014, 2015, 2016, 2017, 2018, 2019, 2020, 2021], \"xaxis\": \"x\", \"y\": [433.088, 385.023, 418.064, 445.528, 456.59, 581.252, 635.724, 682.8589999999999], \"yaxis\": \"y\"}, {\"alignmentgroup\": \"True\", \"hoverlabel\": {\"namelength\": 0}, \"hovertemplate\": \"color=Iraq<br>x=%{x}<br>y=%{y}\", \"legendgroup\": \"color=Iraq\", \"marker\": {\"color\": \"#FECB52\"}, \"name\": \"color=Iraq\", \"offsetgroup\": \"color=Iraq\", \"orientation\": \"v\", \"showlegend\": true, \"textposition\": \"auto\", \"type\": \"bar\", \"x\": [2014, 2015, 2016, 2017, 2018, 2019, 2020, 2021], \"xaxis\": \"x\", \"y\": [234.65099999999998, 177.63400000000001, 167.71599999999998, 192.343, 216.946, 222.43400000000003, 172.11900000000003, 190.733], \"yaxis\": \"y\"}, {\"alignmentgroup\": \"True\", \"hoverlabel\": {\"namelength\": 0}, \"hovertemplate\": \"color=Ireland<br>x=%{x}<br>y=%{y}\", \"legendgroup\": \"color=Ireland\", \"marker\": {\"color\": \"#636efa\"}, \"name\": \"color=Ireland\", \"offsetgroup\": \"color=Ireland\", \"orientation\": \"v\", \"showlegend\": true, \"textposition\": \"auto\", \"type\": \"bar\", \"x\": [2014, 2015, 2016, 2017, 2018, 2019, 2020, 2021], \"xaxis\": \"x\", \"y\": [258.889, 292.03700000000003, 299.145, 337.545, 386.689, 398.379, 418.716, 476.663], \"yaxis\": \"y\"}, {\"alignmentgroup\": \"True\", \"hoverlabel\": {\"namelength\": 0}, \"hovertemplate\": \"color=Israel<br>x=%{x}<br>y=%{y}\", \"legendgroup\": \"color=Israel\", \"marker\": {\"color\": \"#EF553B\"}, \"name\": \"color=Israel\", \"offsetgroup\": \"color=Israel\", \"orientation\": \"v\", \"showlegend\": true, \"textposition\": \"auto\", \"type\": \"bar\", \"x\": [2014, 2015, 2016, 2017, 2018, 2019, 2020, 2021], \"xaxis\": \"x\", \"y\": [310.048, 300.123, 318.617, 352.668, 370.45599999999996, 394.652, 402.639, 446.708], \"yaxis\": \"y\"}, {\"alignmentgroup\": \"True\", \"hoverlabel\": {\"namelength\": 0}, \"hovertemplate\": \"color=Italy<br>x=%{x}<br>y=%{y}\", \"legendgroup\": \"color=Italy\", \"marker\": {\"color\": \"#00cc96\"}, \"name\": \"color=Italy\", \"offsetgroup\": \"color=Italy\", \"orientation\": \"v\", \"showlegend\": true, \"textposition\": \"auto\", \"type\": \"bar\", \"x\": [2014, 2015, 2016, 2017, 2018, 2019, 2020, 2021], \"xaxis\": \"x\", \"y\": [2162.567, 1836.8239999999998, 1876.5539999999999, 1961.105, 2093.089, 2005.135, 1884.935, 2106.2870000000003], \"yaxis\": \"y\"}, {\"alignmentgroup\": \"True\", \"hoverlabel\": {\"namelength\": 0}, \"hovertemplate\": \"color=Jamaica<br>x=%{x}<br>y=%{y}\", \"legendgroup\": \"color=Jamaica\", \"marker\": {\"color\": \"#ab63fa\"}, \"name\": \"color=Jamaica\", \"offsetgroup\": \"color=Jamaica\", \"orientation\": \"v\", \"showlegend\": true, \"textposition\": \"auto\", \"type\": \"bar\", \"x\": [2014, 2015, 2016, 2017, 2018, 2019, 2020, 2021], \"xaxis\": \"x\", \"y\": [13.865, 14.154000000000002, 14.107999999999999, 14.755, 15.648, 15.808, 13.948, 14.6], \"yaxis\": \"y\"}, {\"alignmentgroup\": \"True\", \"hoverlabel\": {\"namelength\": 0}, \"hovertemplate\": \"color=Japan<br>x=%{x}<br>y=%{y}\", \"legendgroup\": \"color=Japan\", \"marker\": {\"color\": \"#FFA15A\"}, \"name\": \"color=Japan\", \"offsetgroup\": \"color=Japan\", \"orientation\": \"v\", \"showlegend\": true, \"textposition\": \"auto\", \"type\": \"bar\", \"x\": [2014, 2015, 2016, 2017, 2018, 2019, 2020, 2021], \"xaxis\": \"x\", \"y\": [4896.995, 4444.931, 5003.678, 4930.837, 5036.892, 5148.781, 5048.688, 5378.1359999999995], \"yaxis\": \"y\"}, {\"alignmentgroup\": \"True\", \"hoverlabel\": {\"namelength\": 0}, \"hovertemplate\": \"color=Jordan<br>x=%{x}<br>y=%{y}\", \"legendgroup\": \"color=Jordan\", \"marker\": {\"color\": \"#19d3f3\"}, \"name\": \"color=Jordan\", \"offsetgroup\": \"color=Jordan\", \"orientation\": \"v\", \"showlegend\": true, \"textposition\": \"auto\", \"type\": \"bar\", \"x\": [2014, 2015, 2016, 2017, 2018, 2019, 2020, 2021], \"xaxis\": \"x\", \"y\": [36.9, 38.641999999999996, 39.949, 41.467, 42.993, 44.566, 43.481, 44.979], \"yaxis\": \"y\"}, {\"alignmentgroup\": \"True\", \"hoverlabel\": {\"namelength\": 0}, \"hovertemplate\": \"color=Kazakhstan<br>x=%{x}<br>y=%{y}\", \"legendgroup\": \"color=Kazakhstan\", \"marker\": {\"color\": \"#FF6692\"}, \"name\": \"color=Kazakhstan\", \"offsetgroup\": \"color=Kazakhstan\", \"orientation\": \"v\", \"showlegend\": true, \"textposition\": \"auto\", \"type\": \"bar\", \"x\": [2014, 2015, 2016, 2017, 2018, 2019, 2020, 2021], \"xaxis\": \"x\", \"y\": [221.416, 184.388, 137.289, 166.80599999999998, 179.34, 181.667, 164.792, 187.83599999999998], \"yaxis\": \"y\"}, {\"alignmentgroup\": \"True\", \"hoverlabel\": {\"namelength\": 0}, \"hovertemplate\": \"color=Kenya<br>x=%{x}<br>y=%{y}\", \"legendgroup\": \"color=Kenya\", \"marker\": {\"color\": \"#B6E880\"}, \"name\": \"color=Kenya\", \"offsetgroup\": \"color=Kenya\", \"orientation\": \"v\", \"showlegend\": true, \"textposition\": \"auto\", \"type\": \"bar\", \"x\": [2014, 2015, 2016, 2017, 2018, 2019, 2020, 2021], \"xaxis\": \"x\", \"y\": [61.54600000000001, 64.235, 69.19, 78.896, 87.801, 95.41, 99.287, 106.041], \"yaxis\": \"y\"}, {\"alignmentgroup\": \"True\", \"hoverlabel\": {\"namelength\": 0}, \"hovertemplate\": \"color=Kiribati<br>x=%{x}<br>y=%{y}\", \"legendgroup\": \"color=Kiribati\", \"marker\": {\"color\": \"#FF97FF\"}, \"name\": \"color=Kiribati\", \"offsetgroup\": \"color=Kiribati\", \"orientation\": \"v\", \"showlegend\": true, \"textposition\": \"auto\", \"type\": \"bar\", \"x\": [2014, 2015, 2016, 2017, 2018, 2019, 2020, 2021], \"xaxis\": \"x\", \"y\": [0.18, 0.171, 0.17800000000000002, 0.187, 0.2, 0.198, 0.2, 0.231], \"yaxis\": \"y\"}, {\"alignmentgroup\": \"True\", \"hoverlabel\": {\"namelength\": 0}, \"hovertemplate\": \"color=Korea<br>x=%{x}<br>y=%{y}\", \"legendgroup\": \"color=Korea\", \"marker\": {\"color\": \"#FECB52\"}, \"name\": \"color=Korea\", \"offsetgroup\": \"color=Korea\", \"orientation\": \"v\", \"showlegend\": true, \"textposition\": \"auto\", \"type\": \"bar\", \"x\": [2014, 2015, 2016, 2017, 2018, 2019, 2020, 2021], \"xaxis\": \"x\", \"y\": [1484.489, 1466.039, 1499.362, 1623.0739999999998, 1725.3729999999998, 1646.739, 1630.871, 1806.707], \"yaxis\": \"y\"}, {\"alignmentgroup\": \"True\", \"hoverlabel\": {\"namelength\": 0}, \"hovertemplate\": \"color=Kosovo<br>x=%{x}<br>y=%{y}\", \"legendgroup\": \"color=Kosovo\", \"marker\": {\"color\": \"#636efa\"}, \"name\": \"color=Kosovo\", \"offsetgroup\": \"color=Kosovo\", \"orientation\": \"v\", \"showlegend\": true, \"textposition\": \"auto\", \"type\": \"bar\", \"x\": [2014, 2015, 2016, 2017, 2018, 2019, 2020, 2021], \"xaxis\": \"x\", \"y\": [7.398, 6.444, 6.7170000000000005, 7.242999999999999, 7.947, 7.952999999999999, 7.789, 8.81], \"yaxis\": \"y\"}, {\"alignmentgroup\": \"True\", \"hoverlabel\": {\"namelength\": 0}, \"hovertemplate\": \"color=Kuwait<br>x=%{x}<br>y=%{y}\", \"legendgroup\": \"color=Kuwait\", \"marker\": {\"color\": \"#EF553B\"}, \"name\": \"color=Kuwait\", \"offsetgroup\": \"color=Kuwait\", \"orientation\": \"v\", \"showlegend\": true, \"textposition\": \"auto\", \"type\": \"bar\", \"x\": [2014, 2015, 2016, 2017, 2018, 2019, 2020, 2021], \"xaxis\": \"x\", \"y\": [162.695, 114.60600000000001, 109.381, 120.68700000000001, 140.665, 134.624, 107.936, 126.93], \"yaxis\": \"y\"}, {\"alignmentgroup\": \"True\", \"hoverlabel\": {\"namelength\": 0}, \"hovertemplate\": \"color=Kyrgyz Republic<br>x=%{x}<br>y=%{y}\", \"legendgroup\": \"color=Kyrgyz Republic\", \"marker\": {\"color\": \"#00cc96\"}, \"name\": \"color=Kyrgyz Republic\", \"offsetgroup\": \"color=Kyrgyz Republic\", \"orientation\": \"v\", \"showlegend\": true, \"textposition\": \"auto\", \"type\": \"bar\", \"x\": [2014, 2015, 2016, 2017, 2018, 2019, 2020, 2021], \"xaxis\": \"x\", \"y\": [7.4670000000000005, 6.678, 6.813, 7.702999999999999, 8.271, 8.455, 7.471, 7.47], \"yaxis\": \"y\"}, {\"alignmentgroup\": \"True\", \"hoverlabel\": {\"namelength\": 0}, \"hovertemplate\": \"color=Lao P.D.R.<br>x=%{x}<br>y=%{y}\", \"legendgroup\": \"color=Lao P.D.R.\", \"marker\": {\"color\": \"#ab63fa\"}, \"name\": \"color=Lao P.D.R.\", \"offsetgroup\": \"color=Lao P.D.R.\", \"orientation\": \"v\", \"showlegend\": true, \"textposition\": \"auto\", \"type\": \"bar\", \"x\": [2014, 2015, 2016, 2017, 2018, 2019, 2020, 2021], \"xaxis\": \"x\", \"y\": [13.265999999999998, 14.363, 15.905, 17.055999999999997, 18.133, 18.807000000000002, 19.078, 20.44], \"yaxis\": \"y\"}, {\"alignmentgroup\": \"True\", \"hoverlabel\": {\"namelength\": 0}, \"hovertemplate\": \"color=Latvia<br>x=%{x}<br>y=%{y}\", \"legendgroup\": \"color=Latvia\", \"marker\": {\"color\": \"#FFA15A\"}, \"name\": \"color=Latvia\", \"offsetgroup\": \"color=Latvia\", \"orientation\": \"v\", \"showlegend\": true, \"textposition\": \"auto\", \"type\": \"bar\", \"x\": [2014, 2015, 2016, 2017, 2018, 2019, 2020, 2021], \"xaxis\": \"x\", \"y\": [31.379, 27.253, 28.064, 30.448, 34.431999999999995, 34.059, 33.478, 37.72], \"yaxis\": \"y\"}, {\"alignmentgroup\": \"True\", \"hoverlabel\": {\"namelength\": 0}, \"hovertemplate\": \"color=Lebanon<br>x=%{x}<br>y=%{y}\", \"legendgroup\": \"color=Lebanon\", \"marker\": {\"color\": \"#19d3f3\"}, \"name\": \"color=Lebanon\", \"offsetgroup\": \"color=Lebanon\", \"orientation\": \"v\", \"showlegend\": true, \"textposition\": \"auto\", \"type\": \"bar\", \"x\": [2014, 2015, 2016, 2017, 2018, 2019, 2020], \"xaxis\": \"x\", \"y\": [48.13399999999999, 49.93899999999999, 51.205, 53.141000000000005, 54.961000000000006, 52.571999999999996, 19.125999999999998], \"yaxis\": \"y\"}, {\"alignmentgroup\": \"True\", \"hoverlabel\": {\"namelength\": 0}, \"hovertemplate\": \"color=Lesotho<br>x=%{x}<br>y=%{y}\", \"legendgroup\": \"color=Lesotho\", \"marker\": {\"color\": \"#FF6692\"}, \"name\": \"color=Lesotho\", \"offsetgroup\": \"color=Lesotho\", \"orientation\": \"v\", \"showlegend\": true, \"textposition\": \"auto\", \"type\": \"bar\", \"x\": [2014, 2015, 2016, 2017, 2018, 2019, 2020, 2021], \"xaxis\": \"x\", \"y\": [2.477, 2.207, 2.219, 2.356, 2.32, 2.289, 2.068, 2.458], \"yaxis\": \"y\"}, {\"alignmentgroup\": \"True\", \"hoverlabel\": {\"namelength\": 0}, \"hovertemplate\": \"color=Liberia<br>x=%{x}<br>y=%{y}\", \"legendgroup\": \"color=Liberia\", \"marker\": {\"color\": \"#B6E880\"}, \"name\": \"color=Liberia\", \"offsetgroup\": \"color=Liberia\", \"orientation\": \"v\", \"showlegend\": true, \"textposition\": \"auto\", \"type\": \"bar\", \"x\": [2014, 2015, 2016, 2017, 2018, 2019, 2020, 2021], \"xaxis\": \"x\", \"y\": [3.09, 3.088, 3.258, 3.335, 3.264, 3.0639999999999996, 3.033, 3.37], \"yaxis\": \"y\"}, {\"alignmentgroup\": \"True\", \"hoverlabel\": {\"namelength\": 0}, \"hovertemplate\": \"color=Libya<br>x=%{x}<br>y=%{y}\", \"legendgroup\": \"color=Libya\", \"marker\": {\"color\": \"#FF97FF\"}, \"name\": \"color=Libya\", \"offsetgroup\": \"color=Libya\", \"orientation\": \"v\", \"showlegend\": true, \"textposition\": \"auto\", \"type\": \"bar\", \"x\": [2014, 2015, 2016, 2017, 2018, 2019, 2020, 2021], \"xaxis\": \"x\", \"y\": [24.261999999999997, 17.215999999999998, 18.563, 30.211, 41.431999999999995, 39.832, 21.796999999999997, 24.267], \"yaxis\": \"y\"}, {\"alignmentgroup\": \"True\", \"hoverlabel\": {\"namelength\": 0}, \"hovertemplate\": \"color=Lithuania<br>x=%{x}<br>y=%{y}\", \"legendgroup\": \"color=Lithuania\", \"marker\": {\"color\": \"#FECB52\"}, \"name\": \"color=Lithuania\", \"offsetgroup\": \"color=Lithuania\", \"orientation\": \"v\", \"showlegend\": true, \"textposition\": \"auto\", \"type\": \"bar\", \"x\": [2014, 2015, 2016, 2017, 2018, 2019, 2020, 2021], \"xaxis\": \"x\", \"y\": [48.611000000000004, 41.44, 43.035, 47.742, 53.747, 54.633, 55.688, 62.198], \"yaxis\": \"y\"}, {\"alignmentgroup\": \"True\", \"hoverlabel\": {\"namelength\": 0}, \"hovertemplate\": \"color=Luxembourg<br>x=%{x}<br>y=%{y}\", \"legendgroup\": \"color=Luxembourg\", \"marker\": {\"color\": \"#636efa\"}, \"name\": \"color=Luxembourg\", \"offsetgroup\": \"color=Luxembourg\", \"orientation\": \"v\", \"showlegend\": true, \"textposition\": \"auto\", \"type\": \"bar\", \"x\": [2014, 2015, 2016, 2017, 2018, 2019, 2020, 2021], \"xaxis\": \"x\", \"y\": [66.209, 57.773999999999994, 60.716, 64.15899999999999, 70.952, 71.113, 73.205, 84.07700000000001], \"yaxis\": \"y\"}, {\"alignmentgroup\": \"True\", \"hoverlabel\": {\"namelength\": 0}, \"hovertemplate\": \"color=Macao SAR<br>x=%{x}<br>y=%{y}\", \"legendgroup\": \"color=Macao SAR\", \"marker\": {\"color\": \"#EF553B\"}, \"name\": \"color=Macao SAR\", \"offsetgroup\": \"color=Macao SAR\", \"orientation\": \"v\", \"showlegend\": true, \"textposition\": \"auto\", \"type\": \"bar\", \"x\": [2014, 2015, 2016, 2017, 2018, 2019, 2020, 2021], \"xaxis\": \"x\", \"y\": [54.903, 45.06, 45.085, 50.457, 55.303000000000004, 55.153999999999996, 24.333000000000002, 39.449], \"yaxis\": \"y\"}, {\"alignmentgroup\": \"True\", \"hoverlabel\": {\"namelength\": 0}, \"hovertemplate\": \"color=Madagascar<br>x=%{x}<br>y=%{y}\", \"legendgroup\": \"color=Madagascar\", \"marker\": {\"color\": \"#00cc96\"}, \"name\": \"color=Madagascar\", \"offsetgroup\": \"color=Madagascar\", \"orientation\": \"v\", \"showlegend\": true, \"textposition\": \"auto\", \"type\": \"bar\", \"x\": [2014, 2015, 2016, 2017, 2018, 2019, 2020, 2021], \"xaxis\": \"x\", \"y\": [12.523, 11.323, 11.849, 13.175999999999998, 13.974, 14.519, 13.837, 14.745999999999999], \"yaxis\": \"y\"}, {\"alignmentgroup\": \"True\", \"hoverlabel\": {\"namelength\": 0}, \"hovertemplate\": \"color=Malawi<br>x=%{x}<br>y=%{y}\", \"legendgroup\": \"color=Malawi\", \"marker\": {\"color\": \"#ab63fa\"}, \"name\": \"color=Malawi\", \"offsetgroup\": \"color=Malawi\", \"orientation\": \"v\", \"showlegend\": true, \"textposition\": \"auto\", \"type\": \"bar\", \"x\": [2014, 2015, 2016, 2017, 2018, 2019, 2020, 2021], \"xaxis\": \"x\", \"y\": [6.055, 6.402, 5.492000000000001, 6.23, 6.9110000000000005, 7.662999999999999, 8.488, 9.267999999999999], \"yaxis\": \"y\"}, {\"alignmentgroup\": \"True\", \"hoverlabel\": {\"namelength\": 0}, \"hovertemplate\": \"color=Malaysia<br>x=%{x}<br>y=%{y}\", \"legendgroup\": \"color=Malaysia\", \"marker\": {\"color\": \"#FFA15A\"}, \"name\": \"color=Malaysia\", \"offsetgroup\": \"color=Malaysia\", \"orientation\": \"v\", \"showlegend\": true, \"textposition\": \"auto\", \"type\": \"bar\", \"x\": [2014, 2015, 2016, 2017, 2018, 2019, 2020, 2021], \"xaxis\": \"x\", \"y\": [342.86800000000005, 301.355, 301.255, 319.10900000000004, 358.713, 364.684, 338.276, 387.093], \"yaxis\": \"y\"}, {\"alignmentgroup\": \"True\", \"hoverlabel\": {\"namelength\": 0}, \"hovertemplate\": \"color=Maldives<br>x=%{x}<br>y=%{y}\", \"legendgroup\": \"color=Maldives\", \"marker\": {\"color\": \"#19d3f3\"}, \"name\": \"color=Maldives\", \"offsetgroup\": \"color=Maldives\", \"orientation\": \"v\", \"showlegend\": true, \"textposition\": \"auto\", \"type\": \"bar\", \"x\": [2014, 2015, 2016, 2017, 2018, 2019, 2020, 2021], \"xaxis\": \"x\", \"y\": [3.69, 4.098, 4.367, 4.747, 5.292999999999999, 5.632000000000001, 3.755, 4.5360000000000005], \"yaxis\": \"y\"}, {\"alignmentgroup\": \"True\", \"hoverlabel\": {\"namelength\": 0}, \"hovertemplate\": \"color=Mali<br>x=%{x}<br>y=%{y}\", \"legendgroup\": \"color=Mali\", \"marker\": {\"color\": \"#FF6692\"}, \"name\": \"color=Mali\", \"offsetgroup\": \"color=Mali\", \"orientation\": \"v\", \"showlegend\": true, \"textposition\": \"auto\", \"type\": \"bar\", \"x\": [2014, 2015, 2016, 2017, 2018, 2019, 2020, 2021], \"xaxis\": \"x\", \"y\": [14.369000000000002, 13.106, 14.022, 15.36, 17.079, 17.308, 17.639, 19.912], \"yaxis\": \"y\"}, {\"alignmentgroup\": \"True\", \"hoverlabel\": {\"namelength\": 0}, \"hovertemplate\": \"color=Malta<br>x=%{x}<br>y=%{y}\", \"legendgroup\": \"color=Malta\", \"marker\": {\"color\": \"#B6E880\"}, \"name\": \"color=Malta\", \"offsetgroup\": \"color=Malta\", \"orientation\": \"v\", \"showlegend\": true, \"textposition\": \"auto\", \"type\": \"bar\", \"x\": [2014, 2015, 2016, 2017, 2018, 2019, 2020, 2021], \"xaxis\": \"x\", \"y\": [11.629000000000001, 11.093, 11.698, 13.217, 14.872, 15.218, 14.559000000000001, 16.476], \"yaxis\": \"y\"}, {\"alignmentgroup\": \"True\", \"hoverlabel\": {\"namelength\": 0}, \"hovertemplate\": \"color=Marshall Islands<br>x=%{x}<br>y=%{y}\", \"legendgroup\": \"color=Marshall Islands\", \"marker\": {\"color\": \"#FF97FF\"}, \"name\": \"color=Marshall Islands\", \"offsetgroup\": \"color=Marshall Islands\", \"orientation\": \"v\", \"showlegend\": true, \"textposition\": \"auto\", \"type\": \"bar\", \"x\": [2014, 2015, 2016, 2017, 2018, 2019, 2020, 2021], \"xaxis\": \"x\", \"y\": [0.182, 0.184, 0.201, 0.212, 0.222, 0.239, 0.23399999999999999, 0.23399999999999999], \"yaxis\": \"y\"}, {\"alignmentgroup\": \"True\", \"hoverlabel\": {\"namelength\": 0}, \"hovertemplate\": \"color=Mauritania<br>x=%{x}<br>y=%{y}\", \"legendgroup\": \"color=Mauritania\", \"marker\": {\"color\": \"#FECB52\"}, \"name\": \"color=Mauritania\", \"offsetgroup\": \"color=Mauritania\", \"orientation\": \"v\", \"showlegend\": true, \"textposition\": \"auto\", \"type\": \"bar\", \"x\": [2014, 2015, 2016, 2017, 2018, 2019, 2020, 2021], \"xaxis\": \"x\", \"y\": [6.615, 6.182, 6.414, 6.784, 7.047999999999999, 7.93, 8.176, 9.238999999999999], \"yaxis\": \"y\"}, {\"alignmentgroup\": \"True\", \"hoverlabel\": {\"namelength\": 0}, \"hovertemplate\": \"color=Mauritius<br>x=%{x}<br>y=%{y}\", \"legendgroup\": \"color=Mauritius\", \"marker\": {\"color\": \"#636efa\"}, \"name\": \"color=Mauritius\", \"offsetgroup\": \"color=Mauritius\", \"orientation\": \"v\", \"showlegend\": true, \"textposition\": \"auto\", \"type\": \"bar\", \"x\": [2014, 2015, 2016, 2017, 2018, 2019, 2020, 2021], \"xaxis\": \"x\", \"y\": [12.802999999999999, 11.692, 12.232000000000001, 13.259, 14.182, 14.048, 11.395999999999999, 12.212], \"yaxis\": \"y\"}, {\"alignmentgroup\": \"True\", \"hoverlabel\": {\"namelength\": 0}, \"hovertemplate\": \"color=Mexico<br>x=%{x}<br>y=%{y}\", \"legendgroup\": \"color=Mexico\", \"marker\": {\"color\": \"#EF553B\"}, \"name\": \"color=Mexico\", \"offsetgroup\": \"color=Mexico\", \"orientation\": \"v\", \"showlegend\": true, \"textposition\": \"auto\", \"type\": \"bar\", \"x\": [2014, 2015, 2016, 2017, 2018, 2019, 2020, 2021], \"xaxis\": \"x\", \"y\": [1315.356, 1171.87, 1078.493, 1158.912, 1222.346, 1268.868, 1076.163, 1192.48], \"yaxis\": \"y\"}, {\"alignmentgroup\": \"True\", \"hoverlabel\": {\"namelength\": 0}, \"hovertemplate\": \"color=Micronesia<br>x=%{x}<br>y=%{y}\", \"legendgroup\": \"color=Micronesia\", \"marker\": {\"color\": \"#00cc96\"}, \"name\": \"color=Micronesia\", \"offsetgroup\": \"color=Micronesia\", \"orientation\": \"v\", \"showlegend\": true, \"textposition\": \"auto\", \"type\": \"bar\", \"x\": [2014, 2015, 2016, 2017, 2018, 2019, 2020, 2021], \"xaxis\": \"x\", \"y\": [0.319, 0.316, 0.332, 0.36700000000000005, 0.402, 0.413, 0.408, 0.401], \"yaxis\": \"y\"}, {\"alignmentgroup\": \"True\", \"hoverlabel\": {\"namelength\": 0}, \"hovertemplate\": \"color=Moldova<br>x=%{x}<br>y=%{y}\", \"legendgroup\": \"color=Moldova\", \"marker\": {\"color\": \"#ab63fa\"}, \"name\": \"color=Moldova\", \"offsetgroup\": \"color=Moldova\", \"orientation\": \"v\", \"showlegend\": true, \"textposition\": \"auto\", \"type\": \"bar\", \"x\": [2014, 2015, 2016, 2017, 2018, 2019, 2020, 2021], \"xaxis\": \"x\", \"y\": [9.51, 7.726, 8.072000000000001, 9.67, 11.309000000000001, 11.956, 11.5, 11.998], \"yaxis\": \"y\"}, {\"alignmentgroup\": \"True\", \"hoverlabel\": {\"namelength\": 0}, \"hovertemplate\": \"color=Mongolia<br>x=%{x}<br>y=%{y}\", \"legendgroup\": \"color=Mongolia\", \"marker\": {\"color\": \"#FFA15A\"}, \"name\": \"color=Mongolia\", \"offsetgroup\": \"color=Mongolia\", \"orientation\": \"v\", \"showlegend\": true, \"textposition\": \"auto\", \"type\": \"bar\", \"x\": [2014, 2015, 2016, 2017, 2018, 2019, 2020, 2021], \"xaxis\": \"x\", \"y\": [12.227, 11.75, 11.159, 11.425999999999998, 13.138, 13.997, 13.137, 14.232999999999999], \"yaxis\": \"y\"}, {\"alignmentgroup\": \"True\", \"hoverlabel\": {\"namelength\": 0}, \"hovertemplate\": \"color=Montenegro<br>x=%{x}<br>y=%{y}\", \"legendgroup\": \"color=Montenegro\", \"marker\": {\"color\": \"#19d3f3\"}, \"name\": \"color=Montenegro\", \"offsetgroup\": \"color=Montenegro\", \"orientation\": \"v\", \"showlegend\": true, \"textposition\": \"auto\", \"type\": \"bar\", \"x\": [2014, 2015, 2016, 2017, 2018, 2019, 2020, 2021], \"xaxis\": \"x\", \"y\": [4.595, 4.055, 4.376, 4.855, 5.5089999999999995, 5.542999999999999, 4.79, 5.651], \"yaxis\": \"y\"}, {\"alignmentgroup\": \"True\", \"hoverlabel\": {\"namelength\": 0}, \"hovertemplate\": \"color=Morocco<br>x=%{x}<br>y=%{y}\", \"legendgroup\": \"color=Morocco\", \"marker\": {\"color\": \"#FF6692\"}, \"name\": \"color=Morocco\", \"offsetgroup\": \"color=Morocco\", \"orientation\": \"v\", \"showlegend\": true, \"textposition\": \"auto\", \"type\": \"bar\", \"x\": [2014, 2015, 2016, 2017, 2018, 2019, 2020, 2021], \"xaxis\": \"x\", \"y\": [110.081, 101.179, 103.31200000000001, 109.68299999999999, 118.096, 119.70100000000001, 113.54799999999999, 124.00299999999999], \"yaxis\": \"y\"}, {\"alignmentgroup\": \"True\", \"hoverlabel\": {\"namelength\": 0}, \"hovertemplate\": \"color=Mozambique<br>x=%{x}<br>y=%{y}\", \"legendgroup\": \"color=Mozambique\", \"marker\": {\"color\": \"#B6E880\"}, \"name\": \"color=Mozambique\", \"offsetgroup\": \"color=Mozambique\", \"orientation\": \"v\", \"showlegend\": true, \"textposition\": \"auto\", \"type\": \"bar\", \"x\": [2014, 2015, 2016, 2017, 2018, 2019, 2020, 2021], \"xaxis\": \"x\", \"y\": [17.623, 15.950999999999999, 11.937000000000001, 13.15, 14.71, 15.195, 14.385, 13.957], \"yaxis\": \"y\"}, {\"alignmentgroup\": \"True\", \"hoverlabel\": {\"namelength\": 0}, \"hovertemplate\": \"color=Myanmar<br>x=%{x}<br>y=%{y}\", \"legendgroup\": \"color=Myanmar\", \"marker\": {\"color\": \"#FF97FF\"}, \"name\": \"color=Myanmar\", \"offsetgroup\": \"color=Myanmar\", \"orientation\": \"v\", \"showlegend\": true, \"textposition\": \"auto\", \"type\": \"bar\", \"x\": [2014, 2015, 2016, 2017, 2018, 2019, 2020, 2021], \"xaxis\": \"x\", \"y\": [63.153, 62.655, 60.09, 61.266999999999996, 66.699, 68.80199999999999, 81.257, 76.195], \"yaxis\": \"y\"}, {\"alignmentgroup\": \"True\", \"hoverlabel\": {\"namelength\": 0}, \"hovertemplate\": \"color=Namibia<br>x=%{x}<br>y=%{y}\", \"legendgroup\": \"color=Namibia\", \"marker\": {\"color\": \"#FECB52\"}, \"name\": \"color=Namibia\", \"offsetgroup\": \"color=Namibia\", \"orientation\": \"v\", \"showlegend\": true, \"textposition\": \"auto\", \"type\": \"bar\", \"x\": [2014, 2015, 2016, 2017, 2018, 2019, 2020, 2021], \"xaxis\": \"x\", \"y\": [12.434000000000001, 11.45, 10.719000000000001, 12.883, 13.672, 12.540999999999999, 10.564, 11.380999999999998], \"yaxis\": \"y\"}, {\"alignmentgroup\": \"True\", \"hoverlabel\": {\"namelength\": 0}, \"hovertemplate\": \"color=Nauru<br>x=%{x}<br>y=%{y}\", \"legendgroup\": \"color=Nauru\", \"marker\": {\"color\": \"#636efa\"}, \"name\": \"color=Nauru\", \"offsetgroup\": \"color=Nauru\", \"orientation\": \"v\", \"showlegend\": true, \"textposition\": \"auto\", \"type\": \"bar\", \"x\": [2014, 2015, 2016, 2017, 2018, 2019, 2020, 2021], \"xaxis\": \"x\", \"y\": [0.105, 0.087, 0.1, 0.11, 0.124, 0.11900000000000001, 0.114, 0.133], \"yaxis\": \"y\"}, {\"alignmentgroup\": \"True\", \"hoverlabel\": {\"namelength\": 0}, \"hovertemplate\": \"color=Nepal<br>x=%{x}<br>y=%{y}\", \"legendgroup\": \"color=Nepal\", \"marker\": {\"color\": \"#EF553B\"}, \"name\": \"color=Nepal\", \"offsetgroup\": \"color=Nepal\", \"orientation\": \"v\", \"showlegend\": true, \"textposition\": \"auto\", \"type\": \"bar\", \"x\": [2014, 2015, 2016, 2017, 2018, 2019, 2020, 2021], \"xaxis\": \"x\", \"y\": [22.721999999999998, 24.361, 24.524, 28.971999999999998, 33.111999999999995, 34.187, 34.465, 36.084], \"yaxis\": \"y\"}, {\"alignmentgroup\": \"True\", \"hoverlabel\": {\"namelength\": 0}, \"hovertemplate\": \"color=Netherlands<br>x=%{x}<br>y=%{y}\", \"legendgroup\": \"color=Netherlands\", \"marker\": {\"color\": \"#00cc96\"}, \"name\": \"color=Netherlands\", \"offsetgroup\": \"color=Netherlands\", \"orientation\": \"v\", \"showlegend\": true, \"textposition\": \"auto\", \"type\": \"bar\", \"x\": [2014, 2015, 2016, 2017, 2018, 2019, 2020, 2021], \"xaxis\": \"x\", \"y\": [892.398, 765.65, 783.8439999999999, 833.575, 914.4580000000001, 907.1510000000001, 909.503, 1012.5980000000001], \"yaxis\": \"y\"}, {\"alignmentgroup\": \"True\", \"hoverlabel\": {\"namelength\": 0}, \"hovertemplate\": \"color=New Zealand<br>x=%{x}<br>y=%{y}\", \"legendgroup\": \"color=New Zealand\", \"marker\": {\"color\": \"#ab63fa\"}, \"name\": \"color=New Zealand\", \"offsetgroup\": \"color=New Zealand\", \"orientation\": \"v\", \"showlegend\": true, \"textposition\": \"auto\", \"type\": \"bar\", \"x\": [2014, 2015, 2016, 2017, 2018, 2019, 2020, 2021], \"xaxis\": \"x\", \"y\": [200.139, 176.19299999999998, 185.96200000000002, 203.817, 209.827, 210.22400000000002, 209.329, 243.332], \"yaxis\": \"y\"}, {\"alignmentgroup\": \"True\", \"hoverlabel\": {\"namelength\": 0}, \"hovertemplate\": \"color=Nicaragua<br>x=%{x}<br>y=%{y}\", \"legendgroup\": \"color=Nicaragua\", \"marker\": {\"color\": \"#FFA15A\"}, \"name\": \"color=Nicaragua\", \"offsetgroup\": \"color=Nicaragua\", \"orientation\": \"v\", \"showlegend\": true, \"textposition\": \"auto\", \"type\": \"bar\", \"x\": [2014, 2015, 2016, 2017, 2018, 2019, 2020, 2021], \"xaxis\": \"x\", \"y\": [11.88, 12.757, 13.286, 13.786, 13.064, 12.535, 12.145999999999999, 12.283], \"yaxis\": \"y\"}, {\"alignmentgroup\": \"True\", \"hoverlabel\": {\"namelength\": 0}, \"hovertemplate\": \"color=Niger<br>x=%{x}<br>y=%{y}\", \"legendgroup\": \"color=Niger\", \"marker\": {\"color\": \"#19d3f3\"}, \"name\": \"color=Niger\", \"offsetgroup\": \"color=Niger\", \"orientation\": \"v\", \"showlegend\": true, \"textposition\": \"auto\", \"type\": \"bar\", \"x\": [2014, 2015, 2016, 2017, 2018, 2019, 2020, 2021], \"xaxis\": \"x\", \"y\": [10.83, 9.684, 10.35, 11.185, 12.85, 12.912, 13.698, 15.899000000000001], \"yaxis\": \"y\"}, {\"alignmentgroup\": \"True\", \"hoverlabel\": {\"namelength\": 0}, \"hovertemplate\": \"color=Nigeria<br>x=%{x}<br>y=%{y}\", \"legendgroup\": \"color=Nigeria\", \"marker\": {\"color\": \"#FF6692\"}, \"name\": \"color=Nigeria\", \"offsetgroup\": \"color=Nigeria\", \"orientation\": \"v\", \"showlegend\": true, \"textposition\": \"auto\", \"type\": \"bar\", \"x\": [2014, 2015, 2016, 2017, 2018, 2019, 2020, 2021], \"xaxis\": \"x\", \"y\": [568.499, 492.43699999999995, 404.649, 375.745, 421.73699999999997, 448.12, 429.423, 514.049], \"yaxis\": \"y\"}, {\"alignmentgroup\": \"True\", \"hoverlabel\": {\"namelength\": 0}, \"hovertemplate\": \"color=North Macedonia<br>x=%{x}<br>y=%{y}\", \"legendgroup\": \"color=North Macedonia\", \"marker\": {\"color\": \"#B6E880\"}, \"name\": \"color=North Macedonia\", \"offsetgroup\": \"color=North Macedonia\", \"orientation\": \"v\", \"showlegend\": true, \"textposition\": \"auto\", \"type\": \"bar\", \"x\": [2014, 2015, 2016, 2017, 2018, 2019, 2020, 2021], \"xaxis\": \"x\", \"y\": [11.378, 10.067, 10.686, 11.335999999999999, 12.694, 12.55, 12.288, 13.821], \"yaxis\": \"y\"}, {\"alignmentgroup\": \"True\", \"hoverlabel\": {\"namelength\": 0}, \"hovertemplate\": \"color=Norway<br>x=%{x}<br>y=%{y}\", \"legendgroup\": \"color=Norway\", \"marker\": {\"color\": \"#FF97FF\"}, \"name\": \"color=Norway\", \"offsetgroup\": \"color=Norway\", \"orientation\": \"v\", \"showlegend\": true, \"textposition\": \"auto\", \"type\": \"bar\", \"x\": [2014, 2015, 2016, 2017, 2018, 2019, 2020, 2021], \"xaxis\": \"x\", \"y\": [498.41, 385.80199999999996, 368.827, 398.394, 437.0, 405.51, 362.009, 444.519], \"yaxis\": \"y\"}, {\"alignmentgroup\": \"True\", \"hoverlabel\": {\"namelength\": 0}, \"hovertemplate\": \"color=Oman<br>x=%{x}<br>y=%{y}\", \"legendgroup\": \"color=Oman\", \"marker\": {\"color\": \"#FECB52\"}, \"name\": \"color=Oman\", \"offsetgroup\": \"color=Oman\", \"orientation\": \"v\", \"showlegend\": true, \"textposition\": \"auto\", \"type\": \"bar\", \"x\": [2014, 2015, 2016, 2017, 2018, 2019, 2020, 2021], \"xaxis\": \"x\", \"y\": [81.077, 68.919, 65.48100000000001, 70.598, 79.789, 76.331, 63.192, 74.115], \"yaxis\": \"y\"}, {\"alignmentgroup\": \"True\", \"hoverlabel\": {\"namelength\": 0}, \"hovertemplate\": \"color=Pakistan<br>x=%{x}<br>y=%{y}\", \"legendgroup\": \"color=Pakistan\", \"marker\": {\"color\": \"#636efa\"}, \"name\": \"color=Pakistan\", \"offsetgroup\": \"color=Pakistan\", \"orientation\": \"v\", \"showlegend\": true, \"textposition\": \"auto\", \"type\": \"bar\", \"x\": [2014, 2015, 2016, 2017, 2018, 2019, 2020], \"xaxis\": \"x\", \"y\": [243.94, 270.17, 278.02299999999997, 304.603, 313.073, 276.11400000000003, 262.79900000000004], \"yaxis\": \"y\"}, {\"alignmentgroup\": \"True\", \"hoverlabel\": {\"namelength\": 0}, \"hovertemplate\": \"color=Palau<br>x=%{x}<br>y=%{y}\", \"legendgroup\": \"color=Palau\", \"marker\": {\"color\": \"#EF553B\"}, \"name\": \"color=Palau\", \"offsetgroup\": \"color=Palau\", \"orientation\": \"v\", \"showlegend\": true, \"textposition\": \"auto\", \"type\": \"bar\", \"x\": [2014, 2015, 2016, 2017, 2018, 2019, 2020, 2021], \"xaxis\": \"x\", \"y\": [0.244, 0.27899999999999997, 0.297, 0.28800000000000003, 0.285, 0.28, 0.254, 0.22899999999999998], \"yaxis\": \"y\"}, {\"alignmentgroup\": \"True\", \"hoverlabel\": {\"namelength\": 0}, \"hovertemplate\": \"color=Panama<br>x=%{x}<br>y=%{y}\", \"legendgroup\": \"color=Panama\", \"marker\": {\"color\": \"#00cc96\"}, \"name\": \"color=Panama\", \"offsetgroup\": \"color=Panama\", \"orientation\": \"v\", \"showlegend\": true, \"textposition\": \"auto\", \"type\": \"bar\", \"x\": [2014, 2015, 2016, 2017, 2018, 2019, 2020, 2021], \"xaxis\": \"x\", \"y\": [49.92100000000001, 54.092, 57.908, 62.203, 64.928, 66.788, 52.938, 59.376999999999995], \"yaxis\": \"y\"}, {\"alignmentgroup\": \"True\", \"hoverlabel\": {\"namelength\": 0}, \"hovertemplate\": \"color=Papua New Guinea<br>x=%{x}<br>y=%{y}\", \"legendgroup\": \"color=Papua New Guinea\", \"marker\": {\"color\": \"#ab63fa\"}, \"name\": \"color=Papua New Guinea\", \"offsetgroup\": \"color=Papua New Guinea\", \"orientation\": \"v\", \"showlegend\": true, \"textposition\": \"auto\", \"type\": \"bar\", \"x\": [2014, 2015, 2016, 2017, 2018, 2019, 2020, 2021], \"xaxis\": \"x\", \"y\": [23.211, 21.723000000000003, 20.759, 22.743000000000002, 24.11, 24.829, 23.575, 24.535999999999998], \"yaxis\": \"y\"}, {\"alignmentgroup\": \"True\", \"hoverlabel\": {\"namelength\": 0}, \"hovertemplate\": \"color=Paraguay<br>x=%{x}<br>y=%{y}\", \"legendgroup\": \"color=Paraguay\", \"marker\": {\"color\": \"#FFA15A\"}, \"name\": \"color=Paraguay\", \"offsetgroup\": \"color=Paraguay\", \"orientation\": \"v\", \"showlegend\": true, \"textposition\": \"auto\", \"type\": \"bar\", \"x\": [2014, 2015, 2016, 2017, 2018, 2019, 2020, 2021], \"xaxis\": \"x\", \"y\": [40.277, 36.164, 36.054, 39.009, 40.385, 38.145, 35.875, 37.836], \"yaxis\": \"y\"}, {\"alignmentgroup\": \"True\", \"hoverlabel\": {\"namelength\": 0}, \"hovertemplate\": \"color=Peru<br>x=%{x}<br>y=%{y}\", \"legendgroup\": \"color=Peru\", \"marker\": {\"color\": \"#19d3f3\"}, \"name\": \"color=Peru\", \"offsetgroup\": \"color=Peru\", \"orientation\": \"v\", \"showlegend\": true, \"textposition\": \"auto\", \"type\": \"bar\", \"x\": [2014, 2015, 2016, 2017, 2018, 2019, 2020, 2021], \"xaxis\": \"x\", \"y\": [202.308, 191.31599999999997, 194.95, 214.06099999999998, 225.141, 230.74599999999998, 203.77200000000002, 225.918], \"yaxis\": \"y\"}, {\"alignmentgroup\": \"True\", \"hoverlabel\": {\"namelength\": 0}, \"hovertemplate\": \"color=Philippines<br>x=%{x}<br>y=%{y}\", \"legendgroup\": \"color=Philippines\", \"marker\": {\"color\": \"#FF6692\"}, \"name\": \"color=Philippines\", \"offsetgroup\": \"color=Philippines\", \"orientation\": \"v\", \"showlegend\": true, \"textposition\": \"auto\", \"type\": \"bar\", \"x\": [2014, 2015, 2016, 2017, 2018, 2019, 2020, 2021], \"xaxis\": \"x\", \"y\": [297.48400000000004, 306.44599999999997, 318.627, 328.481, 346.842, 376.795, 362.24300000000005, 402.63800000000003], \"yaxis\": \"y\"}, {\"alignmentgroup\": \"True\", \"hoverlabel\": {\"namelength\": 0}, \"hovertemplate\": \"color=Poland<br>x=%{x}<br>y=%{y}\", \"legendgroup\": \"color=Poland\", \"marker\": {\"color\": \"#B6E880\"}, \"name\": \"color=Poland\", \"offsetgroup\": \"color=Poland\", \"orientation\": \"v\", \"showlegend\": true, \"textposition\": \"auto\", \"type\": \"bar\", \"x\": [2014, 2015, 2016, 2017, 2018, 2019, 2020, 2021], \"xaxis\": \"x\", \"y\": [542.602, 477.48800000000006, 472.256, 526.643, 587.433, 595.7719999999999, 594.18, 642.121], \"yaxis\": \"y\"}, {\"alignmentgroup\": \"True\", \"hoverlabel\": {\"namelength\": 0}, \"hovertemplate\": \"color=Portugal<br>x=%{x}<br>y=%{y}\", \"legendgroup\": \"color=Portugal\", \"marker\": {\"color\": \"#FF97FF\"}, \"name\": \"color=Portugal\", \"offsetgroup\": \"color=Portugal\", \"orientation\": \"v\", \"showlegend\": true, \"textposition\": \"auto\", \"type\": \"bar\", \"x\": [2014, 2015, 2016, 2017, 2018, 2019, 2020, 2021], \"xaxis\": \"x\", \"y\": [229.96099999999998, 199.41400000000002, 206.36900000000003, 221.28, 242.423, 239.537, 231.34799999999998, 257.39099999999996], \"yaxis\": \"y\"}, {\"alignmentgroup\": \"True\", \"hoverlabel\": {\"namelength\": 0}, \"hovertemplate\": \"color=Puerto Rico<br>x=%{x}<br>y=%{y}\", \"legendgroup\": \"color=Puerto Rico\", \"marker\": {\"color\": \"#FECB52\"}, \"name\": \"color=Puerto Rico\", \"offsetgroup\": \"color=Puerto Rico\", \"orientation\": \"v\", \"showlegend\": true, \"textposition\": \"auto\", \"type\": \"bar\", \"x\": [2014, 2015, 2016, 2017, 2018, 2019, 2020, 2021], \"xaxis\": \"x\", \"y\": [102.446, 103.376, 104.337, 103.446, 100.98899999999999, 104.98899999999999, 95.851, 100.684], \"yaxis\": \"y\"}, {\"alignmentgroup\": \"True\", \"hoverlabel\": {\"namelength\": 0}, \"hovertemplate\": \"color=Qatar<br>x=%{x}<br>y=%{y}\", \"legendgroup\": \"color=Qatar\", \"marker\": {\"color\": \"#636efa\"}, \"name\": \"color=Qatar\", \"offsetgroup\": \"color=Qatar\", \"orientation\": \"v\", \"showlegend\": true, \"textposition\": \"auto\", \"type\": \"bar\", \"x\": [2014, 2015, 2016, 2017, 2018, 2019, 2020, 2021], \"xaxis\": \"x\", \"y\": [206.225, 161.74, 151.732, 161.099, 183.335, 175.838, 146.09, 166.03099999999998], \"yaxis\": \"y\"}, {\"alignmentgroup\": \"True\", \"hoverlabel\": {\"namelength\": 0}, \"hovertemplate\": \"color=Romania<br>x=%{x}<br>y=%{y}\", \"legendgroup\": \"color=Romania\", \"marker\": {\"color\": \"#EF553B\"}, \"name\": \"color=Romania\", \"offsetgroup\": \"color=Romania\", \"orientation\": \"v\", \"showlegend\": true, \"textposition\": \"auto\", \"type\": \"bar\", \"x\": [2014, 2015, 2016, 2017, 2018, 2019, 2020, 2021], \"xaxis\": \"x\", \"y\": [199.96099999999998, 177.731, 188.13, 211.696, 241.456, 249.695, 247.21400000000003, 289.13], \"yaxis\": \"y\"}, {\"alignmentgroup\": \"True\", \"hoverlabel\": {\"namelength\": 0}, \"hovertemplate\": \"color=Russia<br>x=%{x}<br>y=%{y}\", \"legendgroup\": \"color=Russia\", \"marker\": {\"color\": \"#00cc96\"}, \"name\": \"color=Russia\", \"offsetgroup\": \"color=Russia\", \"orientation\": \"v\", \"showlegend\": true, \"textposition\": \"auto\", \"type\": \"bar\", \"x\": [2014, 2015, 2016, 2017, 2018, 2019, 2020, 2021], \"xaxis\": \"x\", \"y\": [2048.8360000000002, 1356.704, 1280.6480000000001, 1575.14, 1653.006, 1689.3020000000001, 1473.5829999999999, 1710.734], \"yaxis\": \"y\"}, {\"alignmentgroup\": \"True\", \"hoverlabel\": {\"namelength\": 0}, \"hovertemplate\": \"color=Rwanda<br>x=%{x}<br>y=%{y}\", \"legendgroup\": \"color=Rwanda\", \"marker\": {\"color\": \"#ab63fa\"}, \"name\": \"color=Rwanda\", \"offsetgroup\": \"color=Rwanda\", \"orientation\": \"v\", \"showlegend\": true, \"textposition\": \"auto\", \"type\": \"bar\", \"x\": [2014, 2015, 2016, 2017, 2018, 2019, 2020, 2021], \"xaxis\": \"x\", \"y\": [8.272, 8.585, 8.734, 9.253, 9.629, 10.123, 10.372, 10.633], \"yaxis\": \"y\"}, {\"alignmentgroup\": \"True\", \"hoverlabel\": {\"namelength\": 0}, \"hovertemplate\": \"color=Samoa<br>x=%{x}<br>y=%{y}\", \"legendgroup\": \"color=Samoa\", \"marker\": {\"color\": \"#FFA15A\"}, \"name\": \"color=Samoa\", \"offsetgroup\": \"color=Samoa\", \"orientation\": \"v\", \"showlegend\": true, \"textposition\": \"auto\", \"type\": \"bar\", \"x\": [2014, 2015, 2016, 2017, 2018, 2019, 2020, 2021], \"xaxis\": \"x\", \"y\": [0.757, 0.7879999999999999, 0.799, 0.8320000000000001, 0.8370000000000001, 0.852, 0.804, 0.752], \"yaxis\": \"y\"}, {\"alignmentgroup\": \"True\", \"hoverlabel\": {\"namelength\": 0}, \"hovertemplate\": \"color=San Marino<br>x=%{x}<br>y=%{y}\", \"legendgroup\": \"color=San Marino\", \"marker\": {\"color\": \"#19d3f3\"}, \"name\": \"color=San Marino\", \"offsetgroup\": \"color=San Marino\", \"orientation\": \"v\", \"showlegend\": true, \"textposition\": \"auto\", \"type\": \"bar\", \"x\": [2014, 2015, 2016, 2017, 2018, 2019, 2020, 2021], \"xaxis\": \"x\", \"y\": [1.6740000000000002, 1.42, 1.4680000000000002, 1.528, 1.656, 1.6159999999999999, 1.505, 1.6880000000000002], \"yaxis\": \"y\"}, {\"alignmentgroup\": \"True\", \"hoverlabel\": {\"namelength\": 0}, \"hovertemplate\": \"color=S\\u00e3o Tom\\u00e9 and Pr\\u00edncipe<br>x=%{x}<br>y=%{y}\", \"legendgroup\": \"color=S\\u00e3o Tom\\u00e9 and Pr\\u00edncipe\", \"marker\": {\"color\": \"#FF6692\"}, \"name\": \"color=S\\u00e3o Tom\\u00e9 and Pr\\u00edncipe\", \"offsetgroup\": \"color=S\\u00e3o Tom\\u00e9 and Pr\\u00edncipe\", \"orientation\": \"v\", \"showlegend\": true, \"textposition\": \"auto\", \"type\": \"bar\", \"x\": [2014, 2015, 2016, 2017, 2018, 2019, 2020, 2021], \"xaxis\": \"x\", \"y\": [0.349, 0.318, 0.348, 0.376, 0.41600000000000004, 0.42200000000000004, 0.418, 0.485], \"yaxis\": \"y\"}, {\"alignmentgroup\": \"True\", \"hoverlabel\": {\"namelength\": 0}, \"hovertemplate\": \"color=Saudi Arabia<br>x=%{x}<br>y=%{y}\", \"legendgroup\": \"color=Saudi Arabia\", \"marker\": {\"color\": \"#B6E880\"}, \"name\": \"color=Saudi Arabia\", \"offsetgroup\": \"color=Saudi Arabia\", \"orientation\": \"v\", \"showlegend\": true, \"textposition\": \"auto\", \"type\": \"bar\", \"x\": [2014, 2015, 2016, 2017, 2018, 2019, 2020, 2021], \"xaxis\": \"x\", \"y\": [756.35, 654.27, 644.936, 688.586, 786.5219999999999, 792.967, 701.467, 804.921], \"yaxis\": \"y\"}, {\"alignmentgroup\": \"True\", \"hoverlabel\": {\"namelength\": 0}, \"hovertemplate\": \"color=Senegal<br>x=%{x}<br>y=%{y}\", \"legendgroup\": \"color=Senegal\", \"marker\": {\"color\": \"#FF97FF\"}, \"name\": \"color=Senegal\", \"offsetgroup\": \"color=Senegal\", \"orientation\": \"v\", \"showlegend\": true, \"textposition\": \"auto\", \"type\": \"bar\", \"x\": [2014, 2015, 2016, 2017, 2018, 2019, 2020, 2021], \"xaxis\": \"x\", \"y\": [19.802, 17.777, 19.035, 20.989, 23.127, 23.307, 24.448, 27.927], \"yaxis\": \"y\"}, {\"alignmentgroup\": \"True\", \"hoverlabel\": {\"namelength\": 0}, \"hovertemplate\": \"color=Serbia<br>x=%{x}<br>y=%{y}\", \"legendgroup\": \"color=Serbia\", \"marker\": {\"color\": \"#FECB52\"}, \"name\": \"color=Serbia\", \"offsetgroup\": \"color=Serbia\", \"orientation\": \"v\", \"showlegend\": true, \"textposition\": \"auto\", \"type\": \"bar\", \"x\": [2014, 2015, 2016, 2017, 2018, 2019, 2020, 2021], \"xaxis\": \"x\", \"y\": [47.095, 39.656, 40.693000000000005, 44.178999999999995, 50.641000000000005, 51.475, 52.96, 60.435], \"yaxis\": \"y\"}, {\"alignmentgroup\": \"True\", \"hoverlabel\": {\"namelength\": 0}, \"hovertemplate\": \"color=Seychelles<br>x=%{x}<br>y=%{y}\", \"legendgroup\": \"color=Seychelles\", \"marker\": {\"color\": \"#636efa\"}, \"name\": \"color=Seychelles\", \"offsetgroup\": \"color=Seychelles\", \"orientation\": \"v\", \"showlegend\": true, \"textposition\": \"auto\", \"type\": \"bar\", \"x\": [2014, 2015, 2016, 2017, 2018, 2019, 2020, 2021], \"xaxis\": \"x\", \"y\": [1.3430000000000002, 1.3769999999999998, 1.426, 1.528, 1.5419999999999998, 1.58, 1.131, 0.948], \"yaxis\": \"y\"}, {\"alignmentgroup\": \"True\", \"hoverlabel\": {\"namelength\": 0}, \"hovertemplate\": \"color=Sierra Leone<br>x=%{x}<br>y=%{y}\", \"legendgroup\": \"color=Sierra Leone\", \"marker\": {\"color\": \"#EF553B\"}, \"name\": \"color=Sierra Leone\", \"offsetgroup\": \"color=Sierra Leone\", \"orientation\": \"v\", \"showlegend\": true, \"textposition\": \"auto\", \"type\": \"bar\", \"x\": [2014, 2015, 2016, 2017, 2018, 2019, 2020, 2021], \"xaxis\": \"x\", \"y\": [5.007, 4.252, 3.855, 3.713, 4.085, 4.119, 4.204, 4.42], \"yaxis\": \"y\"}, {\"alignmentgroup\": \"True\", \"hoverlabel\": {\"namelength\": 0}, \"hovertemplate\": \"color=Singapore<br>x=%{x}<br>y=%{y}\", \"legendgroup\": \"color=Singapore\", \"marker\": {\"color\": \"#00cc96\"}, \"name\": \"color=Singapore\", \"offsetgroup\": \"color=Singapore\", \"orientation\": \"v\", \"showlegend\": true, \"textposition\": \"auto\", \"type\": \"bar\", \"x\": [2014, 2015, 2016, 2017, 2018, 2019, 2020, 2021], \"xaxis\": \"x\", \"y\": [314.86400000000003, 307.999, 318.753, 343.332, 375.963, 374.39, 339.981, 374.394], \"yaxis\": \"y\"}, {\"alignmentgroup\": \"True\", \"hoverlabel\": {\"namelength\": 0}, \"hovertemplate\": \"color=Slovak Republic<br>x=%{x}<br>y=%{y}\", \"legendgroup\": \"color=Slovak Republic\", \"marker\": {\"color\": \"#ab63fa\"}, \"name\": \"color=Slovak Republic\", \"offsetgroup\": \"color=Slovak Republic\", \"orientation\": \"v\", \"showlegend\": true, \"textposition\": \"auto\", \"type\": \"bar\", \"x\": [2014, 2015, 2016, 2017, 2018, 2019, 2020, 2021], \"xaxis\": \"x\", \"y\": [101.351, 88.512, 89.691, 95.461, 105.75, 105.09100000000001, 104.088, 117.664], \"yaxis\": \"y\"}, {\"alignmentgroup\": \"True\", \"hoverlabel\": {\"namelength\": 0}, \"hovertemplate\": \"color=Slovenia<br>x=%{x}<br>y=%{y}\", \"legendgroup\": \"color=Slovenia\", \"marker\": {\"color\": \"#FFA15A\"}, \"name\": \"color=Slovenia\", \"offsetgroup\": \"color=Slovenia\", \"orientation\": \"v\", \"showlegend\": true, \"textposition\": \"auto\", \"type\": \"bar\", \"x\": [2014, 2015, 2016, 2017, 2018, 2019, 2020, 2021], \"xaxis\": \"x\", \"y\": [50.01, 43.111999999999995, 44.754, 48.568999999999996, 54.18600000000001, 54.18, 52.838, 59.132], \"yaxis\": \"y\"}, {\"alignmentgroup\": \"True\", \"hoverlabel\": {\"namelength\": 0}, \"hovertemplate\": \"color=Solomon Islands<br>x=%{x}<br>y=%{y}\", \"legendgroup\": \"color=Solomon Islands\", \"marker\": {\"color\": \"#19d3f3\"}, \"name\": \"color=Solomon Islands\", \"offsetgroup\": \"color=Solomon Islands\", \"orientation\": \"v\", \"showlegend\": true, \"textposition\": \"auto\", \"type\": \"bar\", \"x\": [2014, 2015, 2016, 2017, 2018, 2019, 2020, 2021], \"xaxis\": \"x\", \"y\": [1.338, 1.311, 1.381, 1.4580000000000002, 1.5659999999999998, 1.579, 1.567, 1.6440000000000001], \"yaxis\": \"y\"}, {\"alignmentgroup\": \"True\", \"hoverlabel\": {\"namelength\": 0}, \"hovertemplate\": \"color=Somalia<br>x=%{x}<br>y=%{y}\", \"legendgroup\": \"color=Somalia\", \"marker\": {\"color\": \"#FF6692\"}, \"name\": \"color=Somalia\", \"offsetgroup\": \"color=Somalia\", \"orientation\": \"v\", \"showlegend\": true, \"textposition\": \"auto\", \"type\": \"bar\", \"x\": [2014, 2015, 2016, 2017, 2018, 2019, 2020, 2021], \"xaxis\": \"x\", \"y\": [3.964, 4.0489999999999995, 4.198, 4.5089999999999995, 4.721, 4.944, 4.92, 5.367000000000001], \"yaxis\": \"y\"}, {\"alignmentgroup\": \"True\", \"hoverlabel\": {\"namelength\": 0}, \"hovertemplate\": \"color=South Africa<br>x=%{x}<br>y=%{y}\", \"legendgroup\": \"color=South Africa\", \"marker\": {\"color\": \"#B6E880\"}, \"name\": \"color=South Africa\", \"offsetgroup\": \"color=South Africa\", \"orientation\": \"v\", \"showlegend\": true, \"textposition\": \"auto\", \"type\": \"bar\", \"x\": [2014, 2015, 2016, 2017, 2018, 2019, 2020, 2021], \"xaxis\": \"x\", \"y\": [350.901, 317.578, 296.27299999999997, 349.43300000000005, 368.135, 351.35400000000004, 302.11400000000003, 329.529], \"yaxis\": \"y\"}, {\"alignmentgroup\": \"True\", \"hoverlabel\": {\"namelength\": 0}, \"hovertemplate\": \"color=South Sudan<br>x=%{x}<br>y=%{y}\", \"legendgroup\": \"color=South Sudan\", \"marker\": {\"color\": \"#FF97FF\"}, \"name\": \"color=South Sudan\", \"offsetgroup\": \"color=South Sudan\", \"orientation\": \"v\", \"showlegend\": true, \"textposition\": \"auto\", \"type\": \"bar\", \"x\": [2014, 2015, 2016, 2017, 2018, 2019, 2020, 2021], \"xaxis\": \"x\", \"y\": [15.383, 14.800999999999998, 3.5010000000000003, 3.495, 4.659, 4.143, 4.074, 4.461], \"yaxis\": \"y\"}, {\"alignmentgroup\": \"True\", \"hoverlabel\": {\"namelength\": 0}, \"hovertemplate\": \"color=Spain<br>x=%{x}<br>y=%{y}\", \"legendgroup\": \"color=Spain\", \"marker\": {\"color\": \"#FECB52\"}, \"name\": \"color=Spain\", \"offsetgroup\": \"color=Spain\", \"orientation\": \"v\", \"showlegend\": true, \"textposition\": \"auto\", \"type\": \"bar\", \"x\": [2014, 2015, 2016, 2017, 2018, 2019, 2020, 2021], \"xaxis\": \"x\", \"y\": [1371.576, 1195.721, 1232.573, 1312.076, 1422.799, 1393.644, 1278.208, 1461.5520000000001], \"yaxis\": \"y\"}, {\"alignmentgroup\": \"True\", \"hoverlabel\": {\"namelength\": 0}, \"hovertemplate\": \"color=Sri Lanka<br>x=%{x}<br>y=%{y}\", \"legendgroup\": \"color=Sri Lanka\", \"marker\": {\"color\": \"#636efa\"}, \"name\": \"color=Sri Lanka\", \"offsetgroup\": \"color=Sri Lanka\", \"orientation\": \"v\", \"showlegend\": true, \"textposition\": \"auto\", \"type\": \"bar\", \"x\": [2014, 2015, 2016, 2017, 2018, 2019, 2020, 2021], \"xaxis\": \"x\", \"y\": [79.312, 80.557, 82.39, 87.42200000000001, 87.92200000000001, 83.978, 80.7, 84.53200000000001], \"yaxis\": \"y\"}, {\"alignmentgroup\": \"True\", \"hoverlabel\": {\"namelength\": 0}, \"hovertemplate\": \"color=St. Kitts and Nevis<br>x=%{x}<br>y=%{y}\", \"legendgroup\": \"color=St. Kitts and Nevis\", \"marker\": {\"color\": \"#EF553B\"}, \"name\": \"color=St. Kitts and Nevis\", \"offsetgroup\": \"color=St. Kitts and Nevis\", \"orientation\": \"v\", \"showlegend\": true, \"textposition\": \"auto\", \"type\": \"bar\", \"x\": [2014, 2015, 2016, 2017, 2018, 2019, 2020, 2021], \"xaxis\": \"x\", \"y\": [0.917, 0.9229999999999999, 0.971, 0.997, 1.011, 1.065, 0.852, 0.831], \"yaxis\": \"y\"}, {\"alignmentgroup\": \"True\", \"hoverlabel\": {\"namelength\": 0}, \"hovertemplate\": \"color=St. Lucia<br>x=%{x}<br>y=%{y}\", \"legendgroup\": \"color=St. Lucia\", \"marker\": {\"color\": \"#00cc96\"}, \"name\": \"color=St. Lucia\", \"offsetgroup\": \"color=St. Lucia\", \"orientation\": \"v\", \"showlegend\": true, \"textposition\": \"auto\", \"type\": \"bar\", \"x\": [2014, 2015, 2016, 2017, 2018, 2019, 2020, 2021], \"xaxis\": \"x\", \"y\": [1.755, 1.808, 1.865, 1.999, 2.066, 2.122, 1.692, 1.787], \"yaxis\": \"y\"}, {\"alignmentgroup\": \"True\", \"hoverlabel\": {\"namelength\": 0}, \"hovertemplate\": \"color=St. Vincent and the Grenadines<br>x=%{x}<br>y=%{y}\", \"legendgroup\": \"color=St. Vincent and the Grenadines\", \"marker\": {\"color\": \"#ab63fa\"}, \"name\": \"color=St. Vincent and the Grenadines\", \"offsetgroup\": \"color=St. Vincent and the Grenadines\", \"orientation\": \"v\", \"showlegend\": true, \"textposition\": \"auto\", \"type\": \"bar\", \"x\": [2014, 2015, 2016, 2017, 2018, 2019, 2020, 2021], \"xaxis\": \"x\", \"y\": [0.728, 0.755, 0.774, 0.792, 0.8109999999999999, 0.825, 0.787, 0.7979999999999999], \"yaxis\": \"y\"}, {\"alignmentgroup\": \"True\", \"hoverlabel\": {\"namelength\": 0}, \"hovertemplate\": \"color=Sudan<br>x=%{x}<br>y=%{y}\", \"legendgroup\": \"color=Sudan\", \"marker\": {\"color\": \"#FFA15A\"}, \"name\": \"color=Sudan\", \"offsetgroup\": \"color=Sudan\", \"orientation\": \"v\", \"showlegend\": true, \"textposition\": \"auto\", \"type\": \"bar\", \"x\": [2014, 2015, 2016, 2017, 2018, 2019, 2020, 2021], \"xaxis\": \"x\", \"y\": [60.726000000000006, 64.536, 64.883, 47.836999999999996, 35.891, 33.564, 34.37, 35.827], \"yaxis\": \"y\"}, {\"alignmentgroup\": \"True\", \"hoverlabel\": {\"namelength\": 0}, \"hovertemplate\": \"color=Suriname<br>x=%{x}<br>y=%{y}\", \"legendgroup\": \"color=Suriname\", \"marker\": {\"color\": \"#19d3f3\"}, \"name\": \"color=Suriname\", \"offsetgroup\": \"color=Suriname\", \"orientation\": \"v\", \"showlegend\": true, \"textposition\": \"auto\", \"type\": \"bar\", \"x\": [2014, 2015, 2016, 2017, 2018, 2019, 2020, 2021], \"xaxis\": \"x\", \"y\": [5.2410000000000005, 4.787, 3.1289999999999996, 3.216, 3.465, 3.697, 2.41, 2.465], \"yaxis\": \"y\"}, {\"alignmentgroup\": \"True\", \"hoverlabel\": {\"namelength\": 0}, \"hovertemplate\": \"color=Sweden<br>x=%{x}<br>y=%{y}\", \"legendgroup\": \"color=Sweden\", \"marker\": {\"color\": \"#FF6692\"}, \"name\": \"color=Sweden\", \"offsetgroup\": \"color=Sweden\", \"orientation\": \"v\", \"showlegend\": true, \"textposition\": \"auto\", \"type\": \"bar\", \"x\": [2014, 2015, 2016, 2017, 2018, 2019, 2020, 2021], \"xaxis\": \"x\", \"y\": [581.964, 505.10400000000004, 515.655, 541.019, 555.455, 531.283, 537.61, 625.948], \"yaxis\": \"y\"}, {\"alignmentgroup\": \"True\", \"hoverlabel\": {\"namelength\": 0}, \"hovertemplate\": \"color=Switzerland<br>x=%{x}<br>y=%{y}\", \"legendgroup\": \"color=Switzerland\", \"marker\": {\"color\": \"#B6E880\"}, \"name\": \"color=Switzerland\", \"offsetgroup\": \"color=Switzerland\", \"orientation\": \"v\", \"showlegend\": true, \"textposition\": \"auto\", \"type\": \"bar\", \"x\": [2014, 2015, 2016, 2017, 2018, 2019, 2020, 2021], \"xaxis\": \"x\", \"y\": [734.73, 702.2139999999999, 695.457, 704.7719999999999, 736.433, 732.187, 747.427, 824.7339999999999], \"yaxis\": \"y\"}, {\"alignmentgroup\": \"True\", \"hoverlabel\": {\"namelength\": 0}, \"hovertemplate\": \"color=Taiwan Province of China<br>x=%{x}<br>y=%{y}\", \"legendgroup\": \"color=Taiwan Province of China\", \"marker\": {\"color\": \"#FF97FF\"}, \"name\": \"color=Taiwan Province of China\", \"offsetgroup\": \"color=Taiwan Province of China\", \"orientation\": \"v\", \"showlegend\": true, \"textposition\": \"auto\", \"type\": \"bar\", \"x\": [2014, 2015, 2016, 2017, 2018, 2019, 2020, 2021], \"xaxis\": \"x\", \"y\": [535.328, 534.515, 543.081, 590.7330000000001, 609.198, 612.168, 668.51, 759.1039999999999], \"yaxis\": \"y\"}, {\"alignmentgroup\": \"True\", \"hoverlabel\": {\"namelength\": 0}, \"hovertemplate\": \"color=Tajikistan<br>x=%{x}<br>y=%{y}\", \"legendgroup\": \"color=Tajikistan\", \"marker\": {\"color\": \"#FECB52\"}, \"name\": \"color=Tajikistan\", \"offsetgroup\": \"color=Tajikistan\", \"orientation\": \"v\", \"showlegend\": true, \"textposition\": \"auto\", \"type\": \"bar\", \"x\": [2014, 2015, 2016, 2017, 2018, 2019, 2020, 2021], \"xaxis\": \"x\", \"y\": [9.242, 7.857, 6.952999999999999, 7.144, 7.52, 8.117, 7.997000000000001, 7.825], \"yaxis\": \"y\"}, {\"alignmentgroup\": \"True\", \"hoverlabel\": {\"namelength\": 0}, \"hovertemplate\": \"color=Tanzania<br>x=%{x}<br>y=%{y}\", \"legendgroup\": \"color=Tanzania\", \"marker\": {\"color\": \"#636efa\"}, \"name\": \"color=Tanzania\", \"offsetgroup\": \"color=Tanzania\", \"orientation\": \"v\", \"showlegend\": true, \"textposition\": \"auto\", \"type\": \"bar\", \"x\": [2014, 2015, 2016, 2017, 2018, 2019, 2020, 2021], \"xaxis\": \"x\", \"y\": [50.001999999999995, 47.38399999999999, 49.773999999999994, 53.227, 56.699, 60.81, 63.244, 65.919], \"yaxis\": \"y\"}, {\"alignmentgroup\": \"True\", \"hoverlabel\": {\"namelength\": 0}, \"hovertemplate\": \"color=Thailand<br>x=%{x}<br>y=%{y}\", \"legendgroup\": \"color=Thailand\", \"marker\": {\"color\": \"#EF553B\"}, \"name\": \"color=Thailand\", \"offsetgroup\": \"color=Thailand\", \"orientation\": \"v\", \"showlegend\": true, \"textposition\": \"auto\", \"type\": \"bar\", \"x\": [2014, 2015, 2016, 2017, 2018, 2019, 2020, 2021], \"xaxis\": \"x\", \"y\": [407.37300000000005, 401.142, 413.49699999999996, 456.523, 506.403, 544.1519999999999, 501.88800000000003, 538.735], \"yaxis\": \"y\"}, {\"alignmentgroup\": \"True\", \"hoverlabel\": {\"namelength\": 0}, \"hovertemplate\": \"color=Timor-Leste<br>x=%{x}<br>y=%{y}\", \"legendgroup\": \"color=Timor-Leste\", \"marker\": {\"color\": \"#00cc96\"}, \"name\": \"color=Timor-Leste\", \"offsetgroup\": \"color=Timor-Leste\", \"orientation\": \"v\", \"showlegend\": true, \"textposition\": \"auto\", \"type\": \"bar\", \"x\": [2014, 2015, 2016, 2017, 2018, 2019, 2020, 2021], \"xaxis\": \"x\", \"y\": [1.4469999999999998, 1.594, 1.651, 1.599, 1.56, 2.0180000000000002, 1.791, 1.726], \"yaxis\": \"y\"}, {\"alignmentgroup\": \"True\", \"hoverlabel\": {\"namelength\": 0}, \"hovertemplate\": \"color=Togo<br>x=%{x}<br>y=%{y}\", \"legendgroup\": \"color=Togo\", \"marker\": {\"color\": \"#ab63fa\"}, \"name\": \"color=Togo\", \"offsetgroup\": \"color=Togo\", \"orientation\": \"v\", \"showlegend\": true, \"textposition\": \"auto\", \"type\": \"bar\", \"x\": [2014, 2015, 2016, 2017, 2018, 2019, 2020, 2021], \"xaxis\": \"x\", \"y\": [6.1739999999999995, 5.641, 6.03, 6.393, 7.117000000000001, 7.221, 7.495, 8.627], \"yaxis\": \"y\"}, {\"alignmentgroup\": \"True\", \"hoverlabel\": {\"namelength\": 0}, \"hovertemplate\": \"color=Tonga<br>x=%{x}<br>y=%{y}\", \"legendgroup\": \"color=Tonga\", \"marker\": {\"color\": \"#FFA15A\"}, \"name\": \"color=Tonga\", \"offsetgroup\": \"color=Tonga\", \"orientation\": \"v\", \"showlegend\": true, \"textposition\": \"auto\", \"type\": \"bar\", \"x\": [2014, 2015, 2016, 2017, 2018, 2019, 2020, 2021], \"xaxis\": \"x\", \"y\": [0.44, 0.43700000000000006, 0.42100000000000004, 0.46, 0.486, 0.517, 0.514, 0.508], \"yaxis\": \"y\"}, {\"alignmentgroup\": \"True\", \"hoverlabel\": {\"namelength\": 0}, \"hovertemplate\": \"color=Trinidad and Tobago<br>x=%{x}<br>y=%{y}\", \"legendgroup\": \"color=Trinidad and Tobago\", \"marker\": {\"color\": \"#19d3f3\"}, \"name\": \"color=Trinidad and Tobago\", \"offsetgroup\": \"color=Trinidad and Tobago\", \"orientation\": \"v\", \"showlegend\": true, \"textposition\": \"auto\", \"type\": \"bar\", \"x\": [2014, 2015, 2016, 2017, 2018, 2019, 2020, 2021], \"xaxis\": \"x\", \"y\": [27.616, 24.96, 22.394000000000002, 22.385, 23.68, 23.208000000000002, 21.53, 22.160999999999998], \"yaxis\": \"y\"}, {\"alignmentgroup\": \"True\", \"hoverlabel\": {\"namelength\": 0}, \"hovertemplate\": \"color=Tunisia<br>x=%{x}<br>y=%{y}\", \"legendgroup\": \"color=Tunisia\", \"marker\": {\"color\": \"#FF6692\"}, \"name\": \"color=Tunisia\", \"offsetgroup\": \"color=Tunisia\", \"orientation\": \"v\", \"showlegend\": true, \"textposition\": \"auto\", \"type\": \"bar\", \"x\": [2014, 2015, 2016, 2017, 2018, 2019, 2020, 2021], \"xaxis\": \"x\", \"y\": [47.63399999999999, 43.172, 41.801, 39.626999999999995, 40.139, 39.169000000000004, 39.553000000000004, 44.265], \"yaxis\": \"y\"}, {\"alignmentgroup\": \"True\", \"hoverlabel\": {\"namelength\": 0}, \"hovertemplate\": \"color=Turkey<br>x=%{x}<br>y=%{y}\", \"legendgroup\": \"color=Turkey\", \"marker\": {\"color\": \"#B6E880\"}, \"name\": \"color=Turkey\", \"offsetgroup\": \"color=Turkey\", \"orientation\": \"v\", \"showlegend\": true, \"textposition\": \"auto\", \"type\": \"bar\", \"x\": [2014, 2015, 2016, 2017, 2018, 2019, 2020, 2021], \"xaxis\": \"x\", \"y\": [938.512, 864.071, 869.28, 858.932, 779.5989999999999, 760.94, 719.5369999999999, 794.53], \"yaxis\": \"y\"}, {\"alignmentgroup\": \"True\", \"hoverlabel\": {\"namelength\": 0}, \"hovertemplate\": \"color=Turkmenistan<br>x=%{x}<br>y=%{y}\", \"legendgroup\": \"color=Turkmenistan\", \"marker\": {\"color\": \"#FF97FF\"}, \"name\": \"color=Turkmenistan\", \"offsetgroup\": \"color=Turkmenistan\", \"orientation\": \"v\", \"showlegend\": true, \"textposition\": \"auto\", \"type\": \"bar\", \"x\": [2014, 2015, 2016, 2017, 2018, 2019, 2020, 2021], \"xaxis\": \"x\", \"y\": [43.523999999999994, 35.8, 36.169000000000004, 37.926, 40.765, 45.231, 47.354, 54.218], \"yaxis\": \"y\"}, {\"alignmentgroup\": \"True\", \"hoverlabel\": {\"namelength\": 0}, \"hovertemplate\": \"color=Tuvalu<br>x=%{x}<br>y=%{y}\", \"legendgroup\": \"color=Tuvalu\", \"marker\": {\"color\": \"#FECB52\"}, \"name\": \"color=Tuvalu\", \"offsetgroup\": \"color=Tuvalu\", \"orientation\": \"v\", \"showlegend\": true, \"textposition\": \"auto\", \"type\": \"bar\", \"x\": [2014, 2015, 2016, 2017, 2018, 2019, 2020, 2021], \"xaxis\": \"x\", \"y\": [0.037000000000000005, 0.035, 0.04, 0.043, 0.046, 0.047, 0.048, 0.057], \"yaxis\": \"y\"}, {\"alignmentgroup\": \"True\", \"hoverlabel\": {\"namelength\": 0}, \"hovertemplate\": \"color=Uganda<br>x=%{x}<br>y=%{y}\", \"legendgroup\": \"color=Uganda\", \"marker\": {\"color\": \"#636efa\"}, \"name\": \"color=Uganda\", \"offsetgroup\": \"color=Uganda\", \"orientation\": \"v\", \"showlegend\": true, \"textposition\": \"auto\", \"type\": \"bar\", \"x\": [2014, 2015, 2016, 2017, 2018, 2019, 2020, 2021], \"xaxis\": \"x\", \"y\": [33.122, 27.445, 29.557, 31.384, 34.095, 37.788000000000004, 37.613, 41.271], \"yaxis\": \"y\"}, {\"alignmentgroup\": \"True\", \"hoverlabel\": {\"namelength\": 0}, \"hovertemplate\": \"color=Ukraine<br>x=%{x}<br>y=%{y}\", \"legendgroup\": \"color=Ukraine\", \"marker\": {\"color\": \"#EF553B\"}, \"name\": \"color=Ukraine\", \"offsetgroup\": \"color=Ukraine\", \"orientation\": \"v\", \"showlegend\": true, \"textposition\": \"auto\", \"type\": \"bar\", \"x\": [2014, 2015, 2016, 2017, 2018, 2019, 2020, 2021], \"xaxis\": \"x\", \"y\": [130.571, 90.48899999999999, 93.31299999999999, 112.125, 130.92700000000002, 153.895, 151.543, 164.593], \"yaxis\": \"y\"}, {\"alignmentgroup\": \"True\", \"hoverlabel\": {\"namelength\": 0}, \"hovertemplate\": \"color=United Arab Emirates<br>x=%{x}<br>y=%{y}\", \"legendgroup\": \"color=United Arab Emirates\", \"marker\": {\"color\": \"#00cc96\"}, \"name\": \"color=United Arab Emirates\", \"offsetgroup\": \"color=United Arab Emirates\", \"orientation\": \"v\", \"showlegend\": true, \"textposition\": \"auto\", \"type\": \"bar\", \"x\": [2014, 2015, 2016, 2017, 2018, 2019, 2020, 2021], \"xaxis\": \"x\", \"y\": [403.13699999999994, 358.135, 357.045, 385.605, 422.215, 421.142, 354.279, 401.51300000000003], \"yaxis\": \"y\"}, {\"alignmentgroup\": \"True\", \"hoverlabel\": {\"namelength\": 0}, \"hovertemplate\": \"color=United Kingdom<br>x=%{x}<br>y=%{y}\", \"legendgroup\": \"color=United Kingdom\", \"marker\": {\"color\": \"#ab63fa\"}, \"name\": \"color=United Kingdom\", \"offsetgroup\": \"color=United Kingdom\", \"orientation\": \"v\", \"showlegend\": true, \"textposition\": \"auto\", \"type\": \"bar\", \"x\": [2014, 2015, 2016, 2017, 2018, 2019, 2020, 2021], \"xaxis\": \"x\", \"y\": [3067.117, 2933.433, 2703.242, 2664.705, 2860.982, 2833.301, 2710.97, 3124.65], \"yaxis\": \"y\"}, {\"alignmentgroup\": \"True\", \"hoverlabel\": {\"namelength\": 0}, \"hovertemplate\": \"color=United States<br>x=%{x}<br>y=%{y}\", \"legendgroup\": \"color=United States\", \"marker\": {\"color\": \"#FFA15A\"}, \"name\": \"color=United States\", \"offsetgroup\": \"color=United States\", \"orientation\": \"v\", \"showlegend\": true, \"textposition\": \"auto\", \"type\": \"bar\", \"x\": [2014, 2015, 2016, 2017, 2018, 2019, 2020, 2021], \"xaxis\": \"x\", \"y\": [17527.275, 18238.3, 18745.1, 19542.975, 20611.875, 21433.225, 20932.75, 22675.271], \"yaxis\": \"y\"}, {\"alignmentgroup\": \"True\", \"hoverlabel\": {\"namelength\": 0}, \"hovertemplate\": \"color=Uruguay<br>x=%{x}<br>y=%{y}\", \"legendgroup\": \"color=Uruguay\", \"marker\": {\"color\": \"#19d3f3\"}, \"name\": \"color=Uruguay\", \"offsetgroup\": \"color=Uruguay\", \"orientation\": \"v\", \"showlegend\": true, \"textposition\": \"auto\", \"type\": \"bar\", \"x\": [2014, 2015, 2016, 2017, 2018, 2019, 2020, 2021], \"xaxis\": \"x\", \"y\": [62.178000000000004, 57.873999999999995, 57.236999999999995, 64.234, 64.765, 62.211999999999996, 55.711000000000006, 55.458999999999996], \"yaxis\": \"y\"}, {\"alignmentgroup\": \"True\", \"hoverlabel\": {\"namelength\": 0}, \"hovertemplate\": \"color=Uzbekistan<br>x=%{x}<br>y=%{y}\", \"legendgroup\": \"color=Uzbekistan\", \"marker\": {\"color\": \"#FF6692\"}, \"name\": \"color=Uzbekistan\", \"offsetgroup\": \"color=Uzbekistan\", \"orientation\": \"v\", \"showlegend\": true, \"textposition\": \"auto\", \"type\": \"bar\", \"x\": [2014, 2015, 2016, 2017, 2018, 2019, 2020, 2021], \"xaxis\": \"x\", \"y\": [76.661, 81.34, 81.32300000000001, 58.147, 50.378, 57.726000000000006, 57.706, 61.203], \"yaxis\": \"y\"}, {\"alignmentgroup\": \"True\", \"hoverlabel\": {\"namelength\": 0}, \"hovertemplate\": \"color=Vanuatu<br>x=%{x}<br>y=%{y}\", \"legendgroup\": \"color=Vanuatu\", \"marker\": {\"color\": \"#B6E880\"}, \"name\": \"color=Vanuatu\", \"offsetgroup\": \"color=Vanuatu\", \"orientation\": \"v\", \"showlegend\": true, \"textposition\": \"auto\", \"type\": \"bar\", \"x\": [2014, 2015, 2016, 2017, 2018, 2019, 2020, 2021], \"xaxis\": \"x\", \"y\": [0.774, 0.7440000000000001, 0.775, 0.88, 0.9279999999999999, 0.924, 0.8640000000000001, 0.912], \"yaxis\": \"y\"}, {\"alignmentgroup\": \"True\", \"hoverlabel\": {\"namelength\": 0}, \"hovertemplate\": \"color=Venezuela<br>x=%{x}<br>y=%{y}\", \"legendgroup\": \"color=Venezuela\", \"marker\": {\"color\": \"#FF97FF\"}, \"name\": \"color=Venezuela\", \"offsetgroup\": \"color=Venezuela\", \"orientation\": \"v\", \"showlegend\": true, \"textposition\": \"auto\", \"type\": \"bar\", \"x\": [2014, 2015, 2016, 2017, 2018, 2019, 2020, 2021], \"xaxis\": \"x\", \"y\": [203.822, 323.595, 279.249, 143.841, 98.4, 63.96, 47.255, 42.53], \"yaxis\": \"y\"}, {\"alignmentgroup\": \"True\", \"hoverlabel\": {\"namelength\": 0}, \"hovertemplate\": \"color=Vietnam<br>x=%{x}<br>y=%{y}\", \"legendgroup\": \"color=Vietnam\", \"marker\": {\"color\": \"#FECB52\"}, \"name\": \"color=Vietnam\", \"offsetgroup\": \"color=Vietnam\", \"orientation\": \"v\", \"showlegend\": true, \"textposition\": \"auto\", \"type\": \"bar\", \"x\": [2014, 2015, 2016, 2017, 2018, 2019, 2020, 2021], \"xaxis\": \"x\", \"y\": [232.893, 236.84, 252.149, 277.074, 304.01599999999996, 329.537, 340.82099999999997, 354.86800000000005], \"yaxis\": \"y\"}, {\"alignmentgroup\": \"True\", \"hoverlabel\": {\"namelength\": 0}, \"hovertemplate\": \"color=West Bank and Gaza<br>x=%{x}<br>y=%{y}\", \"legendgroup\": \"color=West Bank and Gaza\", \"marker\": {\"color\": \"#636efa\"}, \"name\": \"color=West Bank and Gaza\", \"offsetgroup\": \"color=West Bank and Gaza\", \"orientation\": \"v\", \"showlegend\": true, \"textposition\": \"auto\", \"type\": \"bar\", \"x\": [2014, 2015, 2016, 2017, 2018, 2019, 2020, 2021], \"xaxis\": \"x\", \"y\": [13.99, 13.972000000000001, 15.405, 16.128, 16.277, 17.134, 15.519, 16.480999999999998], \"yaxis\": \"y\"}, {\"alignmentgroup\": \"True\", \"hoverlabel\": {\"namelength\": 0}, \"hovertemplate\": \"color=Yemen<br>x=%{x}<br>y=%{y}\", \"legendgroup\": \"color=Yemen\", \"marker\": {\"color\": \"#EF553B\"}, \"name\": \"color=Yemen\", \"offsetgroup\": \"color=Yemen\", \"orientation\": \"v\", \"showlegend\": true, \"textposition\": \"auto\", \"type\": \"bar\", \"x\": [2014, 2015, 2016, 2017, 2018, 2019, 2020, 2021], \"xaxis\": \"x\", \"y\": [43.229, 42.445, 30.934, 26.736, 23.486, 22.568, 20.14, 25.095], \"yaxis\": \"y\"}, {\"alignmentgroup\": \"True\", \"hoverlabel\": {\"namelength\": 0}, \"hovertemplate\": \"color=Zambia<br>x=%{x}<br>y=%{y}\", \"legendgroup\": \"color=Zambia\", \"marker\": {\"color\": \"#00cc96\"}, \"name\": \"color=Zambia\", \"offsetgroup\": \"color=Zambia\", \"orientation\": \"v\", \"showlegend\": true, \"textposition\": \"auto\", \"type\": \"bar\", \"x\": [2014, 2015, 2016, 2017, 2018, 2019, 2020, 2021], \"xaxis\": \"x\", \"y\": [27.145, 21.245, 20.965, 25.874000000000002, 26.311999999999998, 23.309, 18.529, 18.955], \"yaxis\": \"y\"}, {\"alignmentgroup\": \"True\", \"hoverlabel\": {\"namelength\": 0}, \"hovertemplate\": \"color=Zimbabwe<br>x=%{x}<br>y=%{y}\", \"legendgroup\": \"color=Zimbabwe\", \"marker\": {\"color\": \"#ab63fa\"}, \"name\": \"color=Zimbabwe\", \"offsetgroup\": \"color=Zimbabwe\", \"orientation\": \"v\", \"showlegend\": true, \"textposition\": \"auto\", \"type\": \"bar\", \"x\": [2014, 2015, 2016, 2017, 2018, 2019, 2020, 2021], \"xaxis\": \"x\", \"y\": [19.496, 19.963, 20.054000000000002, 21.89, 21.093000000000004, 19.273, 21.038, 26.085], \"yaxis\": \"y\"}],\n",
              "                        {\"barmode\": \"stack\", \"legend\": {\"tracegroupgap\": 0}, \"margin\": {\"t\": 60}, \"template\": {\"data\": {\"bar\": [{\"error_x\": {\"color\": \"#f2f5fa\"}, \"error_y\": {\"color\": \"#f2f5fa\"}, \"marker\": {\"line\": {\"color\": \"rgb(17,17,17)\", \"width\": 0.5}}, \"type\": \"bar\"}], \"barpolar\": [{\"marker\": {\"line\": {\"color\": \"rgb(17,17,17)\", \"width\": 0.5}}, \"type\": \"barpolar\"}], \"carpet\": [{\"aaxis\": {\"endlinecolor\": \"#A2B1C6\", \"gridcolor\": \"#506784\", \"linecolor\": \"#506784\", \"minorgridcolor\": \"#506784\", \"startlinecolor\": \"#A2B1C6\"}, \"baxis\": {\"endlinecolor\": \"#A2B1C6\", \"gridcolor\": \"#506784\", \"linecolor\": \"#506784\", \"minorgridcolor\": \"#506784\", \"startlinecolor\": \"#A2B1C6\"}, \"type\": \"carpet\"}], \"choropleth\": [{\"colorbar\": {\"outlinewidth\": 0, \"ticks\": \"\"}, \"type\": \"choropleth\"}], \"contour\": [{\"colorbar\": {\"outlinewidth\": 0, \"ticks\": \"\"}, \"colorscale\": [[0.0, \"#0d0887\"], [0.1111111111111111, \"#46039f\"], [0.2222222222222222, \"#7201a8\"], [0.3333333333333333, \"#9c179e\"], [0.4444444444444444, \"#bd3786\"], [0.5555555555555556, \"#d8576b\"], [0.6666666666666666, \"#ed7953\"], [0.7777777777777778, \"#fb9f3a\"], [0.8888888888888888, \"#fdca26\"], [1.0, \"#f0f921\"]], \"type\": \"contour\"}], \"contourcarpet\": [{\"colorbar\": {\"outlinewidth\": 0, \"ticks\": \"\"}, \"type\": \"contourcarpet\"}], \"heatmap\": [{\"colorbar\": {\"outlinewidth\": 0, \"ticks\": \"\"}, \"colorscale\": [[0.0, \"#0d0887\"], [0.1111111111111111, \"#46039f\"], [0.2222222222222222, \"#7201a8\"], [0.3333333333333333, \"#9c179e\"], [0.4444444444444444, \"#bd3786\"], [0.5555555555555556, \"#d8576b\"], [0.6666666666666666, \"#ed7953\"], [0.7777777777777778, \"#fb9f3a\"], [0.8888888888888888, \"#fdca26\"], [1.0, \"#f0f921\"]], \"type\": \"heatmap\"}], \"heatmapgl\": [{\"colorbar\": {\"outlinewidth\": 0, \"ticks\": \"\"}, \"colorscale\": [[0.0, \"#0d0887\"], [0.1111111111111111, \"#46039f\"], [0.2222222222222222, \"#7201a8\"], [0.3333333333333333, \"#9c179e\"], [0.4444444444444444, \"#bd3786\"], [0.5555555555555556, \"#d8576b\"], [0.6666666666666666, \"#ed7953\"], [0.7777777777777778, \"#fb9f3a\"], [0.8888888888888888, \"#fdca26\"], [1.0, \"#f0f921\"]], \"type\": \"heatmapgl\"}], \"histogram\": [{\"marker\": {\"colorbar\": {\"outlinewidth\": 0, \"ticks\": \"\"}}, \"type\": \"histogram\"}], \"histogram2d\": [{\"colorbar\": {\"outlinewidth\": 0, \"ticks\": \"\"}, \"colorscale\": [[0.0, \"#0d0887\"], [0.1111111111111111, \"#46039f\"], [0.2222222222222222, \"#7201a8\"], [0.3333333333333333, \"#9c179e\"], [0.4444444444444444, \"#bd3786\"], [0.5555555555555556, \"#d8576b\"], [0.6666666666666666, \"#ed7953\"], [0.7777777777777778, \"#fb9f3a\"], [0.8888888888888888, \"#fdca26\"], [1.0, \"#f0f921\"]], \"type\": \"histogram2d\"}], \"histogram2dcontour\": [{\"colorbar\": {\"outlinewidth\": 0, \"ticks\": \"\"}, \"colorscale\": [[0.0, \"#0d0887\"], [0.1111111111111111, \"#46039f\"], [0.2222222222222222, \"#7201a8\"], [0.3333333333333333, \"#9c179e\"], [0.4444444444444444, \"#bd3786\"], [0.5555555555555556, \"#d8576b\"], [0.6666666666666666, \"#ed7953\"], [0.7777777777777778, \"#fb9f3a\"], [0.8888888888888888, \"#fdca26\"], [1.0, \"#f0f921\"]], \"type\": \"histogram2dcontour\"}], \"mesh3d\": [{\"colorbar\": {\"outlinewidth\": 0, \"ticks\": \"\"}, \"type\": \"mesh3d\"}], \"parcoords\": [{\"line\": {\"colorbar\": {\"outlinewidth\": 0, \"ticks\": \"\"}}, \"type\": \"parcoords\"}], \"pie\": [{\"automargin\": true, \"type\": \"pie\"}], \"scatter\": [{\"marker\": {\"line\": {\"color\": \"#283442\"}}, \"type\": \"scatter\"}], \"scatter3d\": [{\"line\": {\"colorbar\": {\"outlinewidth\": 0, \"ticks\": \"\"}}, \"marker\": {\"colorbar\": {\"outlinewidth\": 0, \"ticks\": \"\"}}, \"type\": \"scatter3d\"}], \"scattercarpet\": [{\"marker\": {\"colorbar\": {\"outlinewidth\": 0, \"ticks\": \"\"}}, \"type\": \"scattercarpet\"}], \"scattergeo\": [{\"marker\": {\"colorbar\": {\"outlinewidth\": 0, \"ticks\": \"\"}}, \"type\": \"scattergeo\"}], \"scattergl\": [{\"marker\": {\"line\": {\"color\": \"#283442\"}}, \"type\": \"scattergl\"}], \"scattermapbox\": [{\"marker\": {\"colorbar\": {\"outlinewidth\": 0, \"ticks\": \"\"}}, \"type\": \"scattermapbox\"}], \"scatterpolar\": [{\"marker\": {\"colorbar\": {\"outlinewidth\": 0, \"ticks\": \"\"}}, \"type\": \"scatterpolar\"}], \"scatterpolargl\": [{\"marker\": {\"colorbar\": {\"outlinewidth\": 0, \"ticks\": \"\"}}, \"type\": \"scatterpolargl\"}], \"scatterternary\": [{\"marker\": {\"colorbar\": {\"outlinewidth\": 0, \"ticks\": \"\"}}, \"type\": \"scatterternary\"}], \"surface\": [{\"colorbar\": {\"outlinewidth\": 0, \"ticks\": \"\"}, \"colorscale\": [[0.0, \"#0d0887\"], [0.1111111111111111, \"#46039f\"], [0.2222222222222222, \"#7201a8\"], [0.3333333333333333, \"#9c179e\"], [0.4444444444444444, \"#bd3786\"], [0.5555555555555556, \"#d8576b\"], [0.6666666666666666, \"#ed7953\"], [0.7777777777777778, \"#fb9f3a\"], [0.8888888888888888, \"#fdca26\"], [1.0, \"#f0f921\"]], \"type\": \"surface\"}], \"table\": [{\"cells\": {\"fill\": {\"color\": \"#506784\"}, \"line\": {\"color\": \"rgb(17,17,17)\"}}, \"header\": {\"fill\": {\"color\": \"#2a3f5f\"}, \"line\": {\"color\": \"rgb(17,17,17)\"}}, \"type\": \"table\"}]}, \"layout\": {\"annotationdefaults\": {\"arrowcolor\": \"#f2f5fa\", \"arrowhead\": 0, \"arrowwidth\": 1}, \"coloraxis\": {\"colorbar\": {\"outlinewidth\": 0, \"ticks\": \"\"}}, \"colorscale\": {\"diverging\": [[0, \"#8e0152\"], [0.1, \"#c51b7d\"], [0.2, \"#de77ae\"], [0.3, \"#f1b6da\"], [0.4, \"#fde0ef\"], [0.5, \"#f7f7f7\"], [0.6, \"#e6f5d0\"], [0.7, \"#b8e186\"], [0.8, \"#7fbc41\"], [0.9, \"#4d9221\"], [1, \"#276419\"]], \"sequential\": [[0.0, \"#0d0887\"], [0.1111111111111111, \"#46039f\"], [0.2222222222222222, \"#7201a8\"], [0.3333333333333333, \"#9c179e\"], [0.4444444444444444, \"#bd3786\"], [0.5555555555555556, \"#d8576b\"], [0.6666666666666666, \"#ed7953\"], [0.7777777777777778, \"#fb9f3a\"], [0.8888888888888888, \"#fdca26\"], [1.0, \"#f0f921\"]], \"sequentialminus\": [[0.0, \"#0d0887\"], [0.1111111111111111, \"#46039f\"], [0.2222222222222222, \"#7201a8\"], [0.3333333333333333, \"#9c179e\"], [0.4444444444444444, \"#bd3786\"], [0.5555555555555556, \"#d8576b\"], [0.6666666666666666, \"#ed7953\"], [0.7777777777777778, \"#fb9f3a\"], [0.8888888888888888, \"#fdca26\"], [1.0, \"#f0f921\"]]}, \"colorway\": [\"#636efa\", \"#EF553B\", \"#00cc96\", \"#ab63fa\", \"#FFA15A\", \"#19d3f3\", \"#FF6692\", \"#B6E880\", \"#FF97FF\", \"#FECB52\"], \"font\": {\"color\": \"#f2f5fa\"}, \"geo\": {\"bgcolor\": \"rgb(17,17,17)\", \"lakecolor\": \"rgb(17,17,17)\", \"landcolor\": \"rgb(17,17,17)\", \"showlakes\": true, \"showland\": true, \"subunitcolor\": \"#506784\"}, \"hoverlabel\": {\"align\": \"left\"}, \"hovermode\": \"closest\", \"mapbox\": {\"style\": \"dark\"}, \"paper_bgcolor\": \"rgb(17,17,17)\", \"plot_bgcolor\": \"rgb(17,17,17)\", \"polar\": {\"angularaxis\": {\"gridcolor\": \"#506784\", \"linecolor\": \"#506784\", \"ticks\": \"\"}, \"bgcolor\": \"rgb(17,17,17)\", \"radialaxis\": {\"gridcolor\": \"#506784\", \"linecolor\": \"#506784\", \"ticks\": \"\"}}, \"scene\": {\"xaxis\": {\"backgroundcolor\": \"rgb(17,17,17)\", \"gridcolor\": \"#506784\", \"gridwidth\": 2, \"linecolor\": \"#506784\", \"showbackground\": true, \"ticks\": \"\", \"zerolinecolor\": \"#C8D4E3\"}, \"yaxis\": {\"backgroundcolor\": \"rgb(17,17,17)\", \"gridcolor\": \"#506784\", \"gridwidth\": 2, \"linecolor\": \"#506784\", \"showbackground\": true, \"ticks\": \"\", \"zerolinecolor\": \"#C8D4E3\"}, \"zaxis\": {\"backgroundcolor\": \"rgb(17,17,17)\", \"gridcolor\": \"#506784\", \"gridwidth\": 2, \"linecolor\": \"#506784\", \"showbackground\": true, \"ticks\": \"\", \"zerolinecolor\": \"#C8D4E3\"}}, \"shapedefaults\": {\"line\": {\"color\": \"#f2f5fa\"}}, \"sliderdefaults\": {\"bgcolor\": \"#C8D4E3\", \"bordercolor\": \"rgb(17,17,17)\", \"borderwidth\": 1, \"tickwidth\": 0}, \"ternary\": {\"aaxis\": {\"gridcolor\": \"#506784\", \"linecolor\": \"#506784\", \"ticks\": \"\"}, \"baxis\": {\"gridcolor\": \"#506784\", \"linecolor\": \"#506784\", \"ticks\": \"\"}, \"bgcolor\": \"rgb(17,17,17)\", \"caxis\": {\"gridcolor\": \"#506784\", \"linecolor\": \"#506784\", \"ticks\": \"\"}}, \"title\": {\"x\": 0.05}, \"updatemenudefaults\": {\"bgcolor\": \"#506784\", \"borderwidth\": 0}, \"xaxis\": {\"automargin\": true, \"gridcolor\": \"#283442\", \"linecolor\": \"#506784\", \"ticks\": \"\", \"title\": {\"standoff\": 15}, \"zerolinecolor\": \"#283442\", \"zerolinewidth\": 2}, \"yaxis\": {\"automargin\": true, \"gridcolor\": \"#283442\", \"linecolor\": \"#506784\", \"ticks\": \"\", \"title\": {\"standoff\": 15}, \"zerolinecolor\": \"#283442\", \"zerolinewidth\": 2}}}, \"xaxis\": {\"anchor\": \"y\", \"domain\": [0.0, 1.0], \"title\": {\"text\": \"x\"}}, \"yaxis\": {\"anchor\": \"x\", \"domain\": [0.0, 1.0], \"title\": {\"text\": \"y\"}}},\n",
              "                        {\"responsive\": true}\n",
              "                    ).then(function(){\n",
              "                            \n",
              "var gd = document.getElementById('76172294-70b5-4e2a-9469-54d06a824472');\n",
              "var x = new MutationObserver(function (mutations, observer) {{\n",
              "        var display = window.getComputedStyle(gd).display;\n",
              "        if (!display || display === 'none') {{\n",
              "            console.log([gd, 'removed!']);\n",
              "            Plotly.purge(gd);\n",
              "            observer.disconnect();\n",
              "        }}\n",
              "}});\n",
              "\n",
              "// Listen for the removal of the full notebook cells\n",
              "var notebookContainer = gd.closest('#notebook-container');\n",
              "if (notebookContainer) {{\n",
              "    x.observe(notebookContainer, {childList: true});\n",
              "}}\n",
              "\n",
              "// Listen for the clearing of the current output cell\n",
              "var outputEl = gd.closest('.output');\n",
              "if (outputEl) {{\n",
              "    x.observe(outputEl, {childList: true});\n",
              "}}\n",
              "\n",
              "                        })\n",
              "                };\n",
              "                \n",
              "            </script>\n",
              "        </div>\n",
              "</body>\n",
              "</html>"
            ]
          },
          "metadata": {}
        }
      ]
    },
    {
      "cell_type": "markdown",
      "metadata": {
        "id": "LYUPXcr9OikS"
      },
      "source": [
        "GDP RATE IN GLOBAL REPRESENTATION"
      ]
    },
    {
      "cell_type": "code",
      "metadata": {
        "colab": {
          "base_uri": "https://localhost:8080/",
          "height": 542
        },
        "id": "crvfgIHwOred",
        "outputId": "93e4ea67-7783-491b-aab2-359bb77addb7"
      },
      "source": [
        "px.choropleth(df, locations = 'Country', locationmode = 'country names',  \n",
        "              color = 'GDP',\n",
        "              projection = 'equirectangular',\n",
        "              animation_frame = 'year')"
      ],
      "execution_count": null,
      "outputs": [
        {
          "output_type": "display_data",
          "data": {
            "text/html": [
              "<html>\n",
              "<head><meta charset=\"utf-8\" /></head>\n",
              "<body>\n",
              "    <div>\n",
              "            <script src=\"https://cdnjs.cloudflare.com/ajax/libs/mathjax/2.7.5/MathJax.js?config=TeX-AMS-MML_SVG\"></script><script type=\"text/javascript\">if (window.MathJax) {MathJax.Hub.Config({SVG: {font: \"STIX-Web\"}});}</script>\n",
              "                <script type=\"text/javascript\">window.PlotlyConfig = {MathJaxConfig: 'local'};</script>\n",
              "        <script src=\"https://cdn.plot.ly/plotly-latest.min.js\"></script>    \n",
              "            <div id=\"9716053c-b272-4a75-8765-eebaee842d4b\" class=\"plotly-graph-div\" style=\"height:525px; width:100%;\"></div>\n",
              "            <script type=\"text/javascript\">\n",
              "                \n",
              "                    window.PLOTLYENV=window.PLOTLYENV || {};\n",
              "                    \n",
              "                if (document.getElementById(\"9716053c-b272-4a75-8765-eebaee842d4b\")) {\n",
              "                    Plotly.newPlot(\n",
              "                        '9716053c-b272-4a75-8765-eebaee842d4b',\n",
              "                        [{\"coloraxis\": \"coloraxis\", \"geo\": \"geo\", \"hoverlabel\": {\"namelength\": 0}, \"hovertemplate\": \"year=2014<br>Country=%{location}<br>GDP=%{z}\", \"locationmode\": \"country names\", \"locations\": [\"Afghanistan\", \"Albania\", \"Algeria\", \"Angola\", \"Antigua and Barbuda\", \"Argentina\", \"Armenia\", \"Aruba\", \"Australia\", \"Austria\", \"Azerbaijan\", \"The Bahamas\", \"Bahrain\", \"Bangladesh\", \"Barbados\", \"Belarus\", \"Belgium\", \"Belize\", \"Benin\", \"Bhutan\", \"Bolivia\", \"Bosnia and Herzegovina\", \"Botswana\", \"Brazil\", \"Brunei Darussalam\", \"Bulgaria\", \"Burkina Faso\", \"Burundi\", \"Cabo Verde\", \"Cambodia\", \"Cameroon\", \"Canada\", \"Central African Republic\", \"Chad\", \"Chile\", \"China\", \"Colombia\", \"Comoros\", \"Democratic Republic of the Congo\", \"Republic of Congo\", \"Costa Rica\", \"C\\u00f4te d'Ivoire\", \"Croatia\", \"Cyprus\", \"Czech Republic\", \"Denmark\", \"Djibouti\", \"Dominica\", \"Dominican Republic\", \"Ecuador\", \"Egypt\", \"El Salvador\", \"Equatorial Guinea\", \"Eritrea\", \"Estonia\", \"Eswatini\", \"Ethiopia\", \"Fiji\", \"Finland\", \"France\", \"Gabon\", \"The Gambia\", \"Georgia\", \"Germany\", \"Ghana\", \"Greece\", \"Grenada\", \"Guatemala\", \"Guinea\", \"Guinea-Bissau\", \"Guyana\", \"Haiti\", \"Honduras\", \"Hong Kong SAR\", \"Hungary\", \"Iceland\", \"India\", \"Indonesia\", \"Islamic Republic of Iran\", \"Iraq\", \"Ireland\", \"Israel\", \"Italy\", \"Jamaica\", \"Japan\", \"Jordan\", \"Kazakhstan\", \"Kenya\", \"Kiribati\", \"Korea\", \"Kosovo\", \"Kuwait\", \"Kyrgyz Republic\", \"Lao P.D.R.\", \"Latvia\", \"Lebanon\", \"Lesotho\", \"Liberia\", \"Libya\", \"Lithuania\", \"Luxembourg\", \"Macao SAR\", \"Madagascar\", \"Malawi\", \"Malaysia\", \"Maldives\", \"Mali\", \"Malta\", \"Marshall Islands\", \"Mauritania\", \"Mauritius\", \"Mexico\", \"Micronesia\", \"Moldova\", \"Mongolia\", \"Montenegro\", \"Morocco\", \"Mozambique\", \"Myanmar\", \"Namibia\", \"Nauru\", \"Nepal\", \"Netherlands\", \"New Zealand\", \"Nicaragua\", \"Niger\", \"Nigeria\", \"North Macedonia\", \"Norway\", \"Oman\", \"Pakistan\", \"Palau\", \"Panama\", \"Papua New Guinea\", \"Paraguay\", \"Peru\", \"Philippines\", \"Poland\", \"Portugal\", \"Puerto Rico\", \"Qatar\", \"Romania\", \"Russia\", \"Rwanda\", \"Samoa\", \"San Marino\", \"S\\u00e3o Tom\\u00e9 and Pr\\u00edncipe\", \"Saudi Arabia\", \"Senegal\", \"Serbia\", \"Seychelles\", \"Sierra Leone\", \"Singapore\", \"Slovak Republic\", \"Slovenia\", \"Solomon Islands\", \"Somalia\", \"South Africa\", \"South Sudan\", \"Spain\", \"Sri Lanka\", \"St. Kitts and Nevis\", \"St. Lucia\", \"St. Vincent and the Grenadines\", \"Sudan\", \"Suriname\", \"Sweden\", \"Switzerland\", \"Taiwan Province of China\", \"Tajikistan\", \"Tanzania\", \"Thailand\", \"Timor-Leste\", \"Togo\", \"Tonga\", \"Trinidad and Tobago\", \"Tunisia\", \"Turkey\", \"Turkmenistan\", \"Tuvalu\", \"Uganda\", \"Ukraine\", \"United Arab Emirates\", \"United Kingdom\", \"United States\", \"Uruguay\", \"Uzbekistan\", \"Vanuatu\", \"Venezuela\", \"Vietnam\", \"West Bank and Gaza\", \"Yemen\", \"Zambia\", \"Zimbabwe\"], \"name\": \"\", \"type\": \"choropleth\", \"z\": [20.635, 13.245999999999999, 213.81, 145.71200000000002, 1.25, 563.614, 11.61, 2.7910000000000004, 1457.388, 442.699, 75.24, 11.112, 33.388000000000005, 172.887, 4.696000000000001, 78.736, 535.529, 1.6669999999999998, 13.288, 1.784, 33.236999999999995, 18.522000000000002, 16.259, 2456.055, 17.098, 56.902, 13.947000000000001, 2.7060000000000004, 1.86, 16.702, 34.999, 1805.751, 1.896, 14.003, 260.472, 10524.211000000001, 381.24, 1.15, 35.911, 17.918, 52.016999999999996, 48.882, 57.64, 23.162, 209.359, 352.994, 2.2159999999999997, 0.524, 67.264, 101.726, 305.567, 22.593000000000004, 21.765, 2.6039999999999996, 26.816, 4.426, 54.165, 4.857, 274.934, 2856.7009999999996, 18.209, 1.229, 17.627, 3890.095, 53.173, 235.669, 0.9109999999999999, 57.835, 8.79, 1.136, 4.128, 14.789000000000001, 19.755, 291.46, 140.765, 17.868, 2039.1270000000002, 891.051, 433.088, 234.65099999999998, 258.889, 310.048, 2162.567, 13.865, 4896.995, 36.9, 221.416, 61.54600000000001, 0.18, 1484.489, 7.398, 162.695, 7.4670000000000005, 13.265999999999998, 31.379, 48.13399999999999, 2.477, 3.09, 24.261999999999997, 48.611000000000004, 66.209, 54.903, 12.523, 6.055, 342.86800000000005, 3.69, 14.369000000000002, 11.629000000000001, 0.182, 6.615, 12.802999999999999, 1315.356, 0.319, 9.51, 12.227, 4.595, 110.081, 17.623, 63.153, 12.434000000000001, 0.105, 22.721999999999998, 892.398, 200.139, 11.88, 10.83, 568.499, 11.378, 498.41, 81.077, 243.94, 0.244, 49.92100000000001, 23.211, 40.277, 202.308, 297.48400000000004, 542.602, 229.96099999999998, 102.446, 206.225, 199.96099999999998, 2048.8360000000002, 8.272, 0.757, 1.6740000000000002, 0.349, 756.35, 19.802, 47.095, 1.3430000000000002, 5.007, 314.86400000000003, 101.351, 50.01, 1.338, 3.964, 350.901, 15.383, 1371.576, 79.312, 0.917, 1.755, 0.728, 60.726000000000006, 5.2410000000000005, 581.964, 734.73, 535.328, 9.242, 50.001999999999995, 407.37300000000005, 1.4469999999999998, 6.1739999999999995, 0.44, 27.616, 47.63399999999999, 938.512, 43.523999999999994, 0.037000000000000005, 33.122, 130.571, 403.13699999999994, 3067.117, 17527.275, 62.178000000000004, 76.661, 0.774, 203.822, 232.893, 13.99, 43.229, 27.145, 19.496]}],\n",
              "                        {\"coloraxis\": {\"colorbar\": {\"title\": {\"text\": \"GDP\"}}, \"colorscale\": [[0.0, \"#0d0887\"], [0.1111111111111111, \"#46039f\"], [0.2222222222222222, \"#7201a8\"], [0.3333333333333333, \"#9c179e\"], [0.4444444444444444, \"#bd3786\"], [0.5555555555555556, \"#d8576b\"], [0.6666666666666666, \"#ed7953\"], [0.7777777777777778, \"#fb9f3a\"], [0.8888888888888888, \"#fdca26\"], [1.0, \"#f0f921\"]]}, \"geo\": {\"center\": {}, \"domain\": {\"x\": [0.0, 1.0], \"y\": [0.0, 1.0]}, \"projection\": {\"type\": \"equirectangular\"}}, \"legend\": {\"tracegroupgap\": 0}, \"margin\": {\"t\": 60}, \"sliders\": [{\"active\": 0, \"currentvalue\": {\"prefix\": \"year=\"}, \"len\": 0.9, \"pad\": {\"b\": 10, \"t\": 60}, \"steps\": [{\"args\": [[\"2014\"], {\"frame\": {\"duration\": 0, \"redraw\": true}, \"fromcurrent\": true, \"mode\": \"immediate\", \"transition\": {\"duration\": 0, \"easing\": \"linear\"}}], \"label\": \"2014\", \"method\": \"animate\"}, {\"args\": [[\"2015\"], {\"frame\": {\"duration\": 0, \"redraw\": true}, \"fromcurrent\": true, \"mode\": \"immediate\", \"transition\": {\"duration\": 0, \"easing\": \"linear\"}}], \"label\": \"2015\", \"method\": \"animate\"}, {\"args\": [[\"2016\"], {\"frame\": {\"duration\": 0, \"redraw\": true}, \"fromcurrent\": true, \"mode\": \"immediate\", \"transition\": {\"duration\": 0, \"easing\": \"linear\"}}], \"label\": \"2016\", \"method\": \"animate\"}, {\"args\": [[\"2017\"], {\"frame\": {\"duration\": 0, \"redraw\": true}, \"fromcurrent\": true, \"mode\": \"immediate\", \"transition\": {\"duration\": 0, \"easing\": \"linear\"}}], \"label\": \"2017\", \"method\": \"animate\"}, {\"args\": [[\"2018\"], {\"frame\": {\"duration\": 0, \"redraw\": true}, \"fromcurrent\": true, \"mode\": \"immediate\", \"transition\": {\"duration\": 0, \"easing\": \"linear\"}}], \"label\": \"2018\", \"method\": \"animate\"}, {\"args\": [[\"2019\"], {\"frame\": {\"duration\": 0, \"redraw\": true}, \"fromcurrent\": true, \"mode\": \"immediate\", \"transition\": {\"duration\": 0, \"easing\": \"linear\"}}], \"label\": \"2019\", \"method\": \"animate\"}, {\"args\": [[\"2020\"], {\"frame\": {\"duration\": 0, \"redraw\": true}, \"fromcurrent\": true, \"mode\": \"immediate\", \"transition\": {\"duration\": 0, \"easing\": \"linear\"}}], \"label\": \"2020\", \"method\": \"animate\"}, {\"args\": [[\"2021\"], {\"frame\": {\"duration\": 0, \"redraw\": true}, \"fromcurrent\": true, \"mode\": \"immediate\", \"transition\": {\"duration\": 0, \"easing\": \"linear\"}}], \"label\": \"2021\", \"method\": \"animate\"}], \"x\": 0.1, \"xanchor\": \"left\", \"y\": 0, \"yanchor\": \"top\"}], \"template\": {\"data\": {\"bar\": [{\"error_x\": {\"color\": \"#2a3f5f\"}, \"error_y\": {\"color\": \"#2a3f5f\"}, \"marker\": {\"line\": {\"color\": \"#E5ECF6\", \"width\": 0.5}}, \"type\": \"bar\"}], \"barpolar\": [{\"marker\": {\"line\": {\"color\": \"#E5ECF6\", \"width\": 0.5}}, \"type\": \"barpolar\"}], \"carpet\": [{\"aaxis\": {\"endlinecolor\": \"#2a3f5f\", \"gridcolor\": \"white\", \"linecolor\": \"white\", \"minorgridcolor\": \"white\", \"startlinecolor\": \"#2a3f5f\"}, \"baxis\": {\"endlinecolor\": \"#2a3f5f\", \"gridcolor\": \"white\", \"linecolor\": \"white\", \"minorgridcolor\": \"white\", \"startlinecolor\": \"#2a3f5f\"}, \"type\": \"carpet\"}], \"choropleth\": [{\"colorbar\": {\"outlinewidth\": 0, \"ticks\": \"\"}, \"type\": \"choropleth\"}], \"contour\": [{\"colorbar\": {\"outlinewidth\": 0, \"ticks\": \"\"}, \"colorscale\": [[0.0, \"#0d0887\"], [0.1111111111111111, \"#46039f\"], [0.2222222222222222, \"#7201a8\"], [0.3333333333333333, \"#9c179e\"], [0.4444444444444444, \"#bd3786\"], [0.5555555555555556, \"#d8576b\"], [0.6666666666666666, \"#ed7953\"], [0.7777777777777778, \"#fb9f3a\"], [0.8888888888888888, \"#fdca26\"], [1.0, \"#f0f921\"]], \"type\": \"contour\"}], \"contourcarpet\": [{\"colorbar\": {\"outlinewidth\": 0, \"ticks\": \"\"}, \"type\": \"contourcarpet\"}], \"heatmap\": [{\"colorbar\": {\"outlinewidth\": 0, \"ticks\": \"\"}, \"colorscale\": [[0.0, \"#0d0887\"], [0.1111111111111111, \"#46039f\"], [0.2222222222222222, \"#7201a8\"], [0.3333333333333333, \"#9c179e\"], [0.4444444444444444, \"#bd3786\"], [0.5555555555555556, \"#d8576b\"], [0.6666666666666666, \"#ed7953\"], [0.7777777777777778, \"#fb9f3a\"], [0.8888888888888888, \"#fdca26\"], [1.0, \"#f0f921\"]], \"type\": \"heatmap\"}], \"heatmapgl\": [{\"colorbar\": {\"outlinewidth\": 0, \"ticks\": \"\"}, \"colorscale\": [[0.0, \"#0d0887\"], [0.1111111111111111, \"#46039f\"], [0.2222222222222222, \"#7201a8\"], [0.3333333333333333, \"#9c179e\"], [0.4444444444444444, \"#bd3786\"], [0.5555555555555556, \"#d8576b\"], [0.6666666666666666, \"#ed7953\"], [0.7777777777777778, \"#fb9f3a\"], [0.8888888888888888, \"#fdca26\"], [1.0, \"#f0f921\"]], \"type\": \"heatmapgl\"}], \"histogram\": [{\"marker\": {\"colorbar\": {\"outlinewidth\": 0, \"ticks\": \"\"}}, \"type\": \"histogram\"}], \"histogram2d\": [{\"colorbar\": {\"outlinewidth\": 0, \"ticks\": \"\"}, \"colorscale\": [[0.0, \"#0d0887\"], [0.1111111111111111, \"#46039f\"], [0.2222222222222222, \"#7201a8\"], [0.3333333333333333, \"#9c179e\"], [0.4444444444444444, \"#bd3786\"], [0.5555555555555556, \"#d8576b\"], [0.6666666666666666, \"#ed7953\"], [0.7777777777777778, \"#fb9f3a\"], [0.8888888888888888, \"#fdca26\"], [1.0, \"#f0f921\"]], \"type\": \"histogram2d\"}], \"histogram2dcontour\": [{\"colorbar\": {\"outlinewidth\": 0, \"ticks\": \"\"}, \"colorscale\": [[0.0, \"#0d0887\"], [0.1111111111111111, \"#46039f\"], [0.2222222222222222, \"#7201a8\"], [0.3333333333333333, \"#9c179e\"], [0.4444444444444444, \"#bd3786\"], [0.5555555555555556, \"#d8576b\"], [0.6666666666666666, \"#ed7953\"], [0.7777777777777778, \"#fb9f3a\"], [0.8888888888888888, \"#fdca26\"], [1.0, \"#f0f921\"]], \"type\": \"histogram2dcontour\"}], \"mesh3d\": [{\"colorbar\": {\"outlinewidth\": 0, \"ticks\": \"\"}, \"type\": \"mesh3d\"}], \"parcoords\": [{\"line\": {\"colorbar\": {\"outlinewidth\": 0, \"ticks\": \"\"}}, \"type\": \"parcoords\"}], \"pie\": [{\"automargin\": true, \"type\": \"pie\"}], \"scatter\": [{\"marker\": {\"colorbar\": {\"outlinewidth\": 0, \"ticks\": \"\"}}, \"type\": \"scatter\"}], \"scatter3d\": [{\"line\": {\"colorbar\": {\"outlinewidth\": 0, \"ticks\": \"\"}}, \"marker\": {\"colorbar\": {\"outlinewidth\": 0, \"ticks\": \"\"}}, \"type\": \"scatter3d\"}], \"scattercarpet\": [{\"marker\": {\"colorbar\": {\"outlinewidth\": 0, \"ticks\": \"\"}}, \"type\": \"scattercarpet\"}], \"scattergeo\": [{\"marker\": {\"colorbar\": {\"outlinewidth\": 0, \"ticks\": \"\"}}, \"type\": \"scattergeo\"}], \"scattergl\": [{\"marker\": {\"colorbar\": {\"outlinewidth\": 0, \"ticks\": \"\"}}, \"type\": \"scattergl\"}], \"scattermapbox\": [{\"marker\": {\"colorbar\": {\"outlinewidth\": 0, \"ticks\": \"\"}}, \"type\": \"scattermapbox\"}], \"scatterpolar\": [{\"marker\": {\"colorbar\": {\"outlinewidth\": 0, \"ticks\": \"\"}}, \"type\": \"scatterpolar\"}], \"scatterpolargl\": [{\"marker\": {\"colorbar\": {\"outlinewidth\": 0, \"ticks\": \"\"}}, \"type\": \"scatterpolargl\"}], \"scatterternary\": [{\"marker\": {\"colorbar\": {\"outlinewidth\": 0, \"ticks\": \"\"}}, \"type\": \"scatterternary\"}], \"surface\": [{\"colorbar\": {\"outlinewidth\": 0, \"ticks\": \"\"}, \"colorscale\": [[0.0, \"#0d0887\"], [0.1111111111111111, \"#46039f\"], [0.2222222222222222, \"#7201a8\"], [0.3333333333333333, \"#9c179e\"], [0.4444444444444444, \"#bd3786\"], [0.5555555555555556, \"#d8576b\"], [0.6666666666666666, \"#ed7953\"], [0.7777777777777778, \"#fb9f3a\"], [0.8888888888888888, \"#fdca26\"], [1.0, \"#f0f921\"]], \"type\": \"surface\"}], \"table\": [{\"cells\": {\"fill\": {\"color\": \"#EBF0F8\"}, \"line\": {\"color\": \"white\"}}, \"header\": {\"fill\": {\"color\": \"#C8D4E3\"}, \"line\": {\"color\": \"white\"}}, \"type\": \"table\"}]}, \"layout\": {\"annotationdefaults\": {\"arrowcolor\": \"#2a3f5f\", \"arrowhead\": 0, \"arrowwidth\": 1}, \"coloraxis\": {\"colorbar\": {\"outlinewidth\": 0, \"ticks\": \"\"}}, \"colorscale\": {\"diverging\": [[0, \"#8e0152\"], [0.1, \"#c51b7d\"], [0.2, \"#de77ae\"], [0.3, \"#f1b6da\"], [0.4, \"#fde0ef\"], [0.5, \"#f7f7f7\"], [0.6, \"#e6f5d0\"], [0.7, \"#b8e186\"], [0.8, \"#7fbc41\"], [0.9, \"#4d9221\"], [1, \"#276419\"]], \"sequential\": [[0.0, \"#0d0887\"], [0.1111111111111111, \"#46039f\"], [0.2222222222222222, \"#7201a8\"], [0.3333333333333333, \"#9c179e\"], [0.4444444444444444, \"#bd3786\"], [0.5555555555555556, \"#d8576b\"], [0.6666666666666666, \"#ed7953\"], [0.7777777777777778, \"#fb9f3a\"], [0.8888888888888888, \"#fdca26\"], [1.0, \"#f0f921\"]], \"sequentialminus\": [[0.0, \"#0d0887\"], [0.1111111111111111, \"#46039f\"], [0.2222222222222222, \"#7201a8\"], [0.3333333333333333, \"#9c179e\"], [0.4444444444444444, \"#bd3786\"], [0.5555555555555556, \"#d8576b\"], [0.6666666666666666, \"#ed7953\"], [0.7777777777777778, \"#fb9f3a\"], [0.8888888888888888, \"#fdca26\"], [1.0, \"#f0f921\"]]}, \"colorway\": [\"#636efa\", \"#EF553B\", \"#00cc96\", \"#ab63fa\", \"#FFA15A\", \"#19d3f3\", \"#FF6692\", \"#B6E880\", \"#FF97FF\", \"#FECB52\"], \"font\": {\"color\": \"#2a3f5f\"}, \"geo\": {\"bgcolor\": \"white\", \"lakecolor\": \"white\", \"landcolor\": \"#E5ECF6\", \"showlakes\": true, \"showland\": true, \"subunitcolor\": \"white\"}, \"hoverlabel\": {\"align\": \"left\"}, \"hovermode\": \"closest\", \"mapbox\": {\"style\": \"light\"}, \"paper_bgcolor\": \"white\", \"plot_bgcolor\": \"#E5ECF6\", \"polar\": {\"angularaxis\": {\"gridcolor\": \"white\", \"linecolor\": \"white\", \"ticks\": \"\"}, \"bgcolor\": \"#E5ECF6\", \"radialaxis\": {\"gridcolor\": \"white\", \"linecolor\": \"white\", \"ticks\": \"\"}}, \"scene\": {\"xaxis\": {\"backgroundcolor\": \"#E5ECF6\", \"gridcolor\": \"white\", \"gridwidth\": 2, \"linecolor\": \"white\", \"showbackground\": true, \"ticks\": \"\", \"zerolinecolor\": \"white\"}, \"yaxis\": {\"backgroundcolor\": \"#E5ECF6\", \"gridcolor\": \"white\", \"gridwidth\": 2, \"linecolor\": \"white\", \"showbackground\": true, \"ticks\": \"\", \"zerolinecolor\": \"white\"}, \"zaxis\": {\"backgroundcolor\": \"#E5ECF6\", \"gridcolor\": \"white\", \"gridwidth\": 2, \"linecolor\": \"white\", \"showbackground\": true, \"ticks\": \"\", \"zerolinecolor\": \"white\"}}, \"shapedefaults\": {\"line\": {\"color\": \"#2a3f5f\"}}, \"ternary\": {\"aaxis\": {\"gridcolor\": \"white\", \"linecolor\": \"white\", \"ticks\": \"\"}, \"baxis\": {\"gridcolor\": \"white\", \"linecolor\": \"white\", \"ticks\": \"\"}, \"bgcolor\": \"#E5ECF6\", \"caxis\": {\"gridcolor\": \"white\", \"linecolor\": \"white\", \"ticks\": \"\"}}, \"title\": {\"x\": 0.05}, \"xaxis\": {\"automargin\": true, \"gridcolor\": \"white\", \"linecolor\": \"white\", \"ticks\": \"\", \"title\": {\"standoff\": 15}, \"zerolinecolor\": \"white\", \"zerolinewidth\": 2}, \"yaxis\": {\"automargin\": true, \"gridcolor\": \"white\", \"linecolor\": \"white\", \"ticks\": \"\", \"title\": {\"standoff\": 15}, \"zerolinecolor\": \"white\", \"zerolinewidth\": 2}}}, \"updatemenus\": [{\"buttons\": [{\"args\": [null, {\"frame\": {\"duration\": 500, \"redraw\": true}, \"fromcurrent\": true, \"mode\": \"immediate\", \"transition\": {\"duration\": 500, \"easing\": \"linear\"}}], \"label\": \"&#9654;\", \"method\": \"animate\"}, {\"args\": [[null], {\"frame\": {\"duration\": 0, \"redraw\": true}, \"fromcurrent\": true, \"mode\": \"immediate\", \"transition\": {\"duration\": 0, \"easing\": \"linear\"}}], \"label\": \"&#9724;\", \"method\": \"animate\"}], \"direction\": \"left\", \"pad\": {\"r\": 10, \"t\": 70}, \"showactive\": false, \"type\": \"buttons\", \"x\": 0.1, \"xanchor\": \"right\", \"y\": 0, \"yanchor\": \"top\"}]},\n",
              "                        {\"responsive\": true}\n",
              "                    ).then(function(){\n",
              "                            Plotly.addFrames('9716053c-b272-4a75-8765-eebaee842d4b', [{\"data\": [{\"coloraxis\": \"coloraxis\", \"geo\": \"geo\", \"hoverlabel\": {\"namelength\": 0}, \"hovertemplate\": \"year=2014<br>Country=%{location}<br>GDP=%{z}\", \"locationmode\": \"country names\", \"locations\": [\"Afghanistan\", \"Albania\", \"Algeria\", \"Angola\", \"Antigua and Barbuda\", \"Argentina\", \"Armenia\", \"Aruba\", \"Australia\", \"Austria\", \"Azerbaijan\", \"The Bahamas\", \"Bahrain\", \"Bangladesh\", \"Barbados\", \"Belarus\", \"Belgium\", \"Belize\", \"Benin\", \"Bhutan\", \"Bolivia\", \"Bosnia and Herzegovina\", \"Botswana\", \"Brazil\", \"Brunei Darussalam\", \"Bulgaria\", \"Burkina Faso\", \"Burundi\", \"Cabo Verde\", \"Cambodia\", \"Cameroon\", \"Canada\", \"Central African Republic\", \"Chad\", \"Chile\", \"China\", \"Colombia\", \"Comoros\", \"Democratic Republic of the Congo\", \"Republic of Congo\", \"Costa Rica\", \"C\\u00f4te d'Ivoire\", \"Croatia\", \"Cyprus\", \"Czech Republic\", \"Denmark\", \"Djibouti\", \"Dominica\", \"Dominican Republic\", \"Ecuador\", \"Egypt\", \"El Salvador\", \"Equatorial Guinea\", \"Eritrea\", \"Estonia\", \"Eswatini\", \"Ethiopia\", \"Fiji\", \"Finland\", \"France\", \"Gabon\", \"The Gambia\", \"Georgia\", \"Germany\", \"Ghana\", \"Greece\", \"Grenada\", \"Guatemala\", \"Guinea\", \"Guinea-Bissau\", \"Guyana\", \"Haiti\", \"Honduras\", \"Hong Kong SAR\", \"Hungary\", \"Iceland\", \"India\", \"Indonesia\", \"Islamic Republic of Iran\", \"Iraq\", \"Ireland\", \"Israel\", \"Italy\", \"Jamaica\", \"Japan\", \"Jordan\", \"Kazakhstan\", \"Kenya\", \"Kiribati\", \"Korea\", \"Kosovo\", \"Kuwait\", \"Kyrgyz Republic\", \"Lao P.D.R.\", \"Latvia\", \"Lebanon\", \"Lesotho\", \"Liberia\", \"Libya\", \"Lithuania\", \"Luxembourg\", \"Macao SAR\", \"Madagascar\", \"Malawi\", \"Malaysia\", \"Maldives\", \"Mali\", \"Malta\", \"Marshall Islands\", \"Mauritania\", \"Mauritius\", \"Mexico\", \"Micronesia\", \"Moldova\", \"Mongolia\", \"Montenegro\", \"Morocco\", \"Mozambique\", \"Myanmar\", \"Namibia\", \"Nauru\", \"Nepal\", \"Netherlands\", \"New Zealand\", \"Nicaragua\", \"Niger\", \"Nigeria\", \"North Macedonia\", \"Norway\", \"Oman\", \"Pakistan\", \"Palau\", \"Panama\", \"Papua New Guinea\", \"Paraguay\", \"Peru\", \"Philippines\", \"Poland\", \"Portugal\", \"Puerto Rico\", \"Qatar\", \"Romania\", \"Russia\", \"Rwanda\", \"Samoa\", \"San Marino\", \"S\\u00e3o Tom\\u00e9 and Pr\\u00edncipe\", \"Saudi Arabia\", \"Senegal\", \"Serbia\", \"Seychelles\", \"Sierra Leone\", \"Singapore\", \"Slovak Republic\", \"Slovenia\", \"Solomon Islands\", \"Somalia\", \"South Africa\", \"South Sudan\", \"Spain\", \"Sri Lanka\", \"St. Kitts and Nevis\", \"St. Lucia\", \"St. Vincent and the Grenadines\", \"Sudan\", \"Suriname\", \"Sweden\", \"Switzerland\", \"Taiwan Province of China\", \"Tajikistan\", \"Tanzania\", \"Thailand\", \"Timor-Leste\", \"Togo\", \"Tonga\", \"Trinidad and Tobago\", \"Tunisia\", \"Turkey\", \"Turkmenistan\", \"Tuvalu\", \"Uganda\", \"Ukraine\", \"United Arab Emirates\", \"United Kingdom\", \"United States\", \"Uruguay\", \"Uzbekistan\", \"Vanuatu\", \"Venezuela\", \"Vietnam\", \"West Bank and Gaza\", \"Yemen\", \"Zambia\", \"Zimbabwe\"], \"name\": \"\", \"z\": [20.635, 13.245999999999999, 213.81, 145.71200000000002, 1.25, 563.614, 11.61, 2.7910000000000004, 1457.388, 442.699, 75.24, 11.112, 33.388000000000005, 172.887, 4.696000000000001, 78.736, 535.529, 1.6669999999999998, 13.288, 1.784, 33.236999999999995, 18.522000000000002, 16.259, 2456.055, 17.098, 56.902, 13.947000000000001, 2.7060000000000004, 1.86, 16.702, 34.999, 1805.751, 1.896, 14.003, 260.472, 10524.211000000001, 381.24, 1.15, 35.911, 17.918, 52.016999999999996, 48.882, 57.64, 23.162, 209.359, 352.994, 2.2159999999999997, 0.524, 67.264, 101.726, 305.567, 22.593000000000004, 21.765, 2.6039999999999996, 26.816, 4.426, 54.165, 4.857, 274.934, 2856.7009999999996, 18.209, 1.229, 17.627, 3890.095, 53.173, 235.669, 0.9109999999999999, 57.835, 8.79, 1.136, 4.128, 14.789000000000001, 19.755, 291.46, 140.765, 17.868, 2039.1270000000002, 891.051, 433.088, 234.65099999999998, 258.889, 310.048, 2162.567, 13.865, 4896.995, 36.9, 221.416, 61.54600000000001, 0.18, 1484.489, 7.398, 162.695, 7.4670000000000005, 13.265999999999998, 31.379, 48.13399999999999, 2.477, 3.09, 24.261999999999997, 48.611000000000004, 66.209, 54.903, 12.523, 6.055, 342.86800000000005, 3.69, 14.369000000000002, 11.629000000000001, 0.182, 6.615, 12.802999999999999, 1315.356, 0.319, 9.51, 12.227, 4.595, 110.081, 17.623, 63.153, 12.434000000000001, 0.105, 22.721999999999998, 892.398, 200.139, 11.88, 10.83, 568.499, 11.378, 498.41, 81.077, 243.94, 0.244, 49.92100000000001, 23.211, 40.277, 202.308, 297.48400000000004, 542.602, 229.96099999999998, 102.446, 206.225, 199.96099999999998, 2048.8360000000002, 8.272, 0.757, 1.6740000000000002, 0.349, 756.35, 19.802, 47.095, 1.3430000000000002, 5.007, 314.86400000000003, 101.351, 50.01, 1.338, 3.964, 350.901, 15.383, 1371.576, 79.312, 0.917, 1.755, 0.728, 60.726000000000006, 5.2410000000000005, 581.964, 734.73, 535.328, 9.242, 50.001999999999995, 407.37300000000005, 1.4469999999999998, 6.1739999999999995, 0.44, 27.616, 47.63399999999999, 938.512, 43.523999999999994, 0.037000000000000005, 33.122, 130.571, 403.13699999999994, 3067.117, 17527.275, 62.178000000000004, 76.661, 0.774, 203.822, 232.893, 13.99, 43.229, 27.145, 19.496], \"type\": \"choropleth\"}], \"name\": \"2014\"}, {\"data\": [{\"coloraxis\": \"coloraxis\", \"geo\": \"geo\", \"hoverlabel\": {\"namelength\": 0}, \"hovertemplate\": \"year=2015<br>Country=%{location}<br>GDP=%{z}\", \"locationmode\": \"country names\", \"locations\": [\"Afghanistan\", \"Albania\", \"Algeria\", \"Angola\", \"Antigua and Barbuda\", \"Argentina\", \"Armenia\", \"Aruba\", \"Australia\", \"Austria\", \"Azerbaijan\", \"The Bahamas\", \"Bahrain\", \"Bangladesh\", \"Barbados\", \"Belarus\", \"Belgium\", \"Belize\", \"Benin\", \"Bhutan\", \"Bolivia\", \"Bosnia and Herzegovina\", \"Botswana\", \"Brazil\", \"Brunei Darussalam\", \"Bulgaria\", \"Burkina Faso\", \"Burundi\", \"Cabo Verde\", \"Cambodia\", \"Cameroon\", \"Canada\", \"Central African Republic\", \"Chad\", \"Chile\", \"China\", \"Colombia\", \"Comoros\", \"Democratic Republic of the Congo\", \"Republic of Congo\", \"Costa Rica\", \"C\\u00f4te d'Ivoire\", \"Croatia\", \"Cyprus\", \"Czech Republic\", \"Denmark\", \"Djibouti\", \"Dominica\", \"Dominican Republic\", \"Ecuador\", \"Egypt\", \"El Salvador\", \"Equatorial Guinea\", \"Eritrea\", \"Estonia\", \"Eswatini\", \"Ethiopia\", \"Fiji\", \"Finland\", \"France\", \"Gabon\", \"The Gambia\", \"Georgia\", \"Germany\", \"Ghana\", \"Greece\", \"Grenada\", \"Guatemala\", \"Guinea\", \"Guinea-Bissau\", \"Guyana\", \"Haiti\", \"Honduras\", \"Hong Kong SAR\", \"Hungary\", \"Iceland\", \"India\", \"Indonesia\", \"Islamic Republic of Iran\", \"Iraq\", \"Ireland\", \"Israel\", \"Italy\", \"Jamaica\", \"Japan\", \"Jordan\", \"Kazakhstan\", \"Kenya\", \"Kiribati\", \"Korea\", \"Kosovo\", \"Kuwait\", \"Kyrgyz Republic\", \"Lao P.D.R.\", \"Latvia\", \"Lebanon\", \"Lesotho\", \"Liberia\", \"Libya\", \"Lithuania\", \"Luxembourg\", \"Macao SAR\", \"Madagascar\", \"Malawi\", \"Malaysia\", \"Maldives\", \"Mali\", \"Malta\", \"Marshall Islands\", \"Mauritania\", \"Mauritius\", \"Mexico\", \"Micronesia\", \"Moldova\", \"Mongolia\", \"Montenegro\", \"Morocco\", \"Mozambique\", \"Myanmar\", \"Namibia\", \"Nauru\", \"Nepal\", \"Netherlands\", \"New Zealand\", \"Nicaragua\", \"Niger\", \"Nigeria\", \"North Macedonia\", \"Norway\", \"Oman\", \"Pakistan\", \"Palau\", \"Panama\", \"Papua New Guinea\", \"Paraguay\", \"Peru\", \"Philippines\", \"Poland\", \"Portugal\", \"Puerto Rico\", \"Qatar\", \"Romania\", \"Russia\", \"Rwanda\", \"Samoa\", \"San Marino\", \"S\\u00e3o Tom\\u00e9 and Pr\\u00edncipe\", \"Saudi Arabia\", \"Senegal\", \"Serbia\", \"Seychelles\", \"Sierra Leone\", \"Singapore\", \"Slovak Republic\", \"Slovenia\", \"Solomon Islands\", \"Somalia\", \"South Africa\", \"South Sudan\", \"Spain\", \"Sri Lanka\", \"St. Kitts and Nevis\", \"St. Lucia\", \"St. Vincent and the Grenadines\", \"Sudan\", \"Suriname\", \"Sweden\", \"Switzerland\", \"Taiwan Province of China\", \"Tajikistan\", \"Tanzania\", \"Thailand\", \"Timor-Leste\", \"Togo\", \"Tonga\", \"Trinidad and Tobago\", \"Tunisia\", \"Turkey\", \"Turkmenistan\", \"Tuvalu\", \"Uganda\", \"Ukraine\", \"United Arab Emirates\", \"United Kingdom\", \"United States\", \"Uruguay\", \"Uzbekistan\", \"Vanuatu\", \"Venezuela\", \"Vietnam\", \"West Bank and Gaza\", \"Yemen\", \"Zambia\", \"Zimbabwe\"], \"name\": \"\", \"z\": [20.22, 11.389000000000001, 165.979, 116.194, 1.337, 642.464, 10.552999999999999, 2.963, 1234.823, 382.01, 50.843999999999994, 11.710999999999999, 31.051, 195.14700000000002, 4.715, 56.32899999999999, 462.38300000000004, 1.724, 11.389000000000001, 1.922, 33.241, 16.21, 14.445, 1800.046, 12.931, 50.647, 11.833, 3.1039999999999996, 1.597, 18.083, 30.932, 1556.5079999999998, 1.696, 10.952, 243.888, 11113.528, 293.492, 0.966, 37.915, 11.890999999999998, 56.442, 45.815, 49.526, 19.844, 188.033, 302.673, 2.445, 0.541, 71.25399999999999, 99.29, 332.075, 23.438000000000002, 13.185, 2.016, 23.06, 4.061, 63.081, 4.6819999999999995, 234.558, 2439.436, 14.385, 1.355, 14.953, 3357.926, 48.595, 195.416, 0.997, 62.18, 8.79, 1.153, 4.28, 14.856, 20.978, 309.38599999999997, 125.074, 17.517, 2103.5879999999997, 860.7410000000001, 385.023, 177.63400000000001, 292.03700000000003, 300.123, 1836.8239999999998, 14.154000000000002, 4444.931, 38.641999999999996, 184.388, 64.235, 0.171, 1466.039, 6.444, 114.60600000000001, 6.678, 14.363, 27.253, 49.93899999999999, 2.207, 3.088, 17.215999999999998, 41.44, 57.773999999999994, 45.06, 11.323, 6.402, 301.355, 4.098, 13.106, 11.093, 0.184, 6.182, 11.692, 1171.87, 0.316, 7.726, 11.75, 4.055, 101.179, 15.950999999999999, 62.655, 11.45, 0.087, 24.361, 765.65, 176.19299999999998, 12.757, 9.684, 492.43699999999995, 10.067, 385.80199999999996, 68.919, 270.17, 0.27899999999999997, 54.092, 21.723000000000003, 36.164, 191.31599999999997, 306.44599999999997, 477.48800000000006, 199.41400000000002, 103.376, 161.74, 177.731, 1356.704, 8.585, 0.7879999999999999, 1.42, 0.318, 654.27, 17.777, 39.656, 1.3769999999999998, 4.252, 307.999, 88.512, 43.111999999999995, 1.311, 4.0489999999999995, 317.578, 14.800999999999998, 1195.721, 80.557, 0.9229999999999999, 1.808, 0.755, 64.536, 4.787, 505.10400000000004, 702.2139999999999, 534.515, 7.857, 47.38399999999999, 401.142, 1.594, 5.641, 0.43700000000000006, 24.96, 43.172, 864.071, 35.8, 0.035, 27.445, 90.48899999999999, 358.135, 2933.433, 18238.3, 57.873999999999995, 81.34, 0.7440000000000001, 323.595, 236.84, 13.972000000000001, 42.445, 21.245, 19.963], \"type\": \"choropleth\"}], \"name\": \"2015\"}, {\"data\": [{\"coloraxis\": \"coloraxis\", \"geo\": \"geo\", \"hoverlabel\": {\"namelength\": 0}, \"hovertemplate\": \"year=2016<br>Country=%{location}<br>GDP=%{z}\", \"locationmode\": \"country names\", \"locations\": [\"Afghanistan\", \"Albania\", \"Algeria\", \"Angola\", \"Antigua and Barbuda\", \"Argentina\", \"Armenia\", \"Aruba\", \"Australia\", \"Austria\", \"Azerbaijan\", \"The Bahamas\", \"Bahrain\", \"Bangladesh\", \"Barbados\", \"Belarus\", \"Belgium\", \"Belize\", \"Benin\", \"Bhutan\", \"Bolivia\", \"Bosnia and Herzegovina\", \"Botswana\", \"Brazil\", \"Brunei Darussalam\", \"Bulgaria\", \"Burkina Faso\", \"Burundi\", \"Cabo Verde\", \"Cambodia\", \"Cameroon\", \"Canada\", \"Central African Republic\", \"Chad\", \"Chile\", \"China\", \"Colombia\", \"Comoros\", \"Democratic Republic of the Congo\", \"Republic of Congo\", \"Costa Rica\", \"C\\u00f4te d'Ivoire\", \"Croatia\", \"Cyprus\", \"Czech Republic\", \"Denmark\", \"Djibouti\", \"Dominica\", \"Dominican Republic\", \"Ecuador\", \"Egypt\", \"El Salvador\", \"Equatorial Guinea\", \"Eritrea\", \"Estonia\", \"Eswatini\", \"Ethiopia\", \"Fiji\", \"Finland\", \"France\", \"Gabon\", \"The Gambia\", \"Georgia\", \"Germany\", \"Ghana\", \"Greece\", \"Grenada\", \"Guatemala\", \"Guinea\", \"Guinea-Bissau\", \"Guyana\", \"Haiti\", \"Honduras\", \"Hong Kong SAR\", \"Hungary\", \"Iceland\", \"India\", \"Indonesia\", \"Islamic Republic of Iran\", \"Iraq\", \"Ireland\", \"Israel\", \"Italy\", \"Jamaica\", \"Japan\", \"Jordan\", \"Kazakhstan\", \"Kenya\", \"Kiribati\", \"Korea\", \"Kosovo\", \"Kuwait\", \"Kyrgyz Republic\", \"Lao P.D.R.\", \"Latvia\", \"Lebanon\", \"Lesotho\", \"Liberia\", \"Libya\", \"Lithuania\", \"Luxembourg\", \"Macao SAR\", \"Madagascar\", \"Malawi\", \"Malaysia\", \"Maldives\", \"Mali\", \"Malta\", \"Marshall Islands\", \"Mauritania\", \"Mauritius\", \"Mexico\", \"Micronesia\", \"Moldova\", \"Mongolia\", \"Montenegro\", \"Morocco\", \"Mozambique\", \"Myanmar\", \"Namibia\", \"Nauru\", \"Nepal\", \"Netherlands\", \"New Zealand\", \"Nicaragua\", \"Niger\", \"Nigeria\", \"North Macedonia\", \"Norway\", \"Oman\", \"Pakistan\", \"Palau\", \"Panama\", \"Papua New Guinea\", \"Paraguay\", \"Peru\", \"Philippines\", \"Poland\", \"Portugal\", \"Puerto Rico\", \"Qatar\", \"Romania\", \"Russia\", \"Rwanda\", \"Samoa\", \"San Marino\", \"S\\u00e3o Tom\\u00e9 and Pr\\u00edncipe\", \"Saudi Arabia\", \"Senegal\", \"Serbia\", \"Seychelles\", \"Sierra Leone\", \"Singapore\", \"Slovak Republic\", \"Slovenia\", \"Solomon Islands\", \"Somalia\", \"South Africa\", \"South Sudan\", \"Spain\", \"Sri Lanka\", \"St. Kitts and Nevis\", \"St. Lucia\", \"St. Vincent and the Grenadines\", \"Sudan\", \"Suriname\", \"Sweden\", \"Switzerland\", \"Taiwan Province of China\", \"Tajikistan\", \"Tanzania\", \"Thailand\", \"Timor-Leste\", \"Togo\", \"Tonga\", \"Trinidad and Tobago\", \"Tunisia\", \"Turkey\", \"Turkmenistan\", \"Tuvalu\", \"Uganda\", \"Ukraine\", \"United Arab Emirates\", \"United Kingdom\", \"United States\", \"Uruguay\", \"Uzbekistan\", \"Vanuatu\", \"Venezuela\", \"Vietnam\", \"West Bank and Gaza\", \"Yemen\", \"Zambia\", \"Zimbabwe\"], \"name\": \"\", \"z\": [17.994, 11.862, 160.034, 101.124, 1.4369999999999998, 556.774, 10.546, 2.984, 1266.268, 395.728, 37.83, 11.929, 32.235, 221.398, 4.83, 47.703, 475.931, 1.7730000000000001, 11.818, 2.025, 34.189, 16.91, 15.658, 1796.622, 11.399000000000001, 53.802, 12.819, 2.96, 1.663, 20.043, 32.635, 1527.996, 1.825, 10.202, 250.326, 11227.075, 282.72, 1.013, 36.64, 10.158999999999999, 58.847, 47.964, 51.601000000000006, 20.947, 196.27200000000002, 313.116, 2.6189999999999998, 0.575, 75.777, 99.93799999999999, 332.48400000000004, 24.191, 11.241, 2.213, 24.269000000000002, 3.815, 72.12, 4.93, 240.705, 2472.282, 14.02, 1.47, 15.140999999999998, 3468.8959999999997, 54.989, 192.81, 1.062, 66.03399999999999, 8.604, 1.245, 4.4830000000000005, 13.732000000000001, 21.714000000000002, 320.84, 128.471, 20.793000000000003, 2294.118, 932.066, 418.064, 167.71599999999998, 299.145, 318.617, 1876.5539999999999, 14.107999999999999, 5003.678, 39.949, 137.289, 69.19, 0.17800000000000002, 1499.362, 6.7170000000000005, 109.381, 6.813, 15.905, 28.064, 51.205, 2.219, 3.258, 18.563, 43.035, 60.716, 45.085, 11.849, 5.492000000000001, 301.255, 4.367, 14.022, 11.698, 0.201, 6.414, 12.232000000000001, 1078.493, 0.332, 8.072000000000001, 11.159, 4.376, 103.31200000000001, 11.937000000000001, 60.09, 10.719000000000001, 0.1, 24.524, 783.8439999999999, 185.96200000000002, 13.286, 10.35, 404.649, 10.686, 368.827, 65.48100000000001, 278.02299999999997, 0.297, 57.908, 20.759, 36.054, 194.95, 318.627, 472.256, 206.36900000000003, 104.337, 151.732, 188.13, 1280.6480000000001, 8.734, 0.799, 1.4680000000000002, 0.348, 644.936, 19.035, 40.693000000000005, 1.426, 3.855, 318.753, 89.691, 44.754, 1.381, 4.198, 296.27299999999997, 3.5010000000000003, 1232.573, 82.39, 0.971, 1.865, 0.774, 64.883, 3.1289999999999996, 515.655, 695.457, 543.081, 6.952999999999999, 49.773999999999994, 413.49699999999996, 1.651, 6.03, 0.42100000000000004, 22.394000000000002, 41.801, 869.28, 36.169000000000004, 0.04, 29.557, 93.31299999999999, 357.045, 2703.242, 18745.1, 57.236999999999995, 81.32300000000001, 0.775, 279.249, 252.149, 15.405, 30.934, 20.965, 20.054000000000002], \"type\": \"choropleth\"}], \"name\": \"2016\"}, {\"data\": [{\"coloraxis\": \"coloraxis\", \"geo\": \"geo\", \"hoverlabel\": {\"namelength\": 0}, \"hovertemplate\": \"year=2017<br>Country=%{location}<br>GDP=%{z}\", \"locationmode\": \"country names\", \"locations\": [\"Afghanistan\", \"Albania\", \"Algeria\", \"Angola\", \"Antigua and Barbuda\", \"Argentina\", \"Armenia\", \"Aruba\", \"Australia\", \"Austria\", \"Azerbaijan\", \"The Bahamas\", \"Bahrain\", \"Bangladesh\", \"Barbados\", \"Belarus\", \"Belgium\", \"Belize\", \"Benin\", \"Bhutan\", \"Bolivia\", \"Bosnia and Herzegovina\", \"Botswana\", \"Brazil\", \"Brunei Darussalam\", \"Bulgaria\", \"Burkina Faso\", \"Burundi\", \"Cabo Verde\", \"Cambodia\", \"Cameroon\", \"Canada\", \"Central African Republic\", \"Chad\", \"Chile\", \"China\", \"Colombia\", \"Comoros\", \"Democratic Republic of the Congo\", \"Republic of Congo\", \"Costa Rica\", \"C\\u00f4te d'Ivoire\", \"Croatia\", \"Cyprus\", \"Czech Republic\", \"Denmark\", \"Djibouti\", \"Dominica\", \"Dominican Republic\", \"Ecuador\", \"Egypt\", \"El Salvador\", \"Equatorial Guinea\", \"Eritrea\", \"Estonia\", \"Eswatini\", \"Ethiopia\", \"Fiji\", \"Finland\", \"France\", \"Gabon\", \"The Gambia\", \"Georgia\", \"Germany\", \"Ghana\", \"Greece\", \"Grenada\", \"Guatemala\", \"Guinea\", \"Guinea-Bissau\", \"Guyana\", \"Haiti\", \"Honduras\", \"Hong Kong SAR\", \"Hungary\", \"Iceland\", \"India\", \"Indonesia\", \"Islamic Republic of Iran\", \"Iraq\", \"Ireland\", \"Israel\", \"Italy\", \"Jamaica\", \"Japan\", \"Jordan\", \"Kazakhstan\", \"Kenya\", \"Kiribati\", \"Korea\", \"Kosovo\", \"Kuwait\", \"Kyrgyz Republic\", \"Lao P.D.R.\", \"Latvia\", \"Lebanon\", \"Lesotho\", \"Liberia\", \"Libya\", \"Lithuania\", \"Luxembourg\", \"Macao SAR\", \"Madagascar\", \"Malawi\", \"Malaysia\", \"Maldives\", \"Mali\", \"Malta\", \"Marshall Islands\", \"Mauritania\", \"Mauritius\", \"Mexico\", \"Micronesia\", \"Moldova\", \"Mongolia\", \"Montenegro\", \"Morocco\", \"Mozambique\", \"Myanmar\", \"Namibia\", \"Nauru\", \"Nepal\", \"Netherlands\", \"New Zealand\", \"Nicaragua\", \"Niger\", \"Nigeria\", \"North Macedonia\", \"Norway\", \"Oman\", \"Pakistan\", \"Palau\", \"Panama\", \"Papua New Guinea\", \"Paraguay\", \"Peru\", \"Philippines\", \"Poland\", \"Portugal\", \"Puerto Rico\", \"Qatar\", \"Romania\", \"Russia\", \"Rwanda\", \"Samoa\", \"San Marino\", \"S\\u00e3o Tom\\u00e9 and Pr\\u00edncipe\", \"Saudi Arabia\", \"Senegal\", \"Serbia\", \"Seychelles\", \"Sierra Leone\", \"Singapore\", \"Slovak Republic\", \"Slovenia\", \"Solomon Islands\", \"Somalia\", \"South Africa\", \"South Sudan\", \"Spain\", \"Sri Lanka\", \"St. Kitts and Nevis\", \"St. Lucia\", \"St. Vincent and the Grenadines\", \"Sudan\", \"Suriname\", \"Sweden\", \"Switzerland\", \"Taiwan Province of China\", \"Tajikistan\", \"Tanzania\", \"Thailand\", \"Timor-Leste\", \"Togo\", \"Tonga\", \"Trinidad and Tobago\", \"Tunisia\", \"Turkey\", \"Turkmenistan\", \"Tuvalu\", \"Uganda\", \"Ukraine\", \"United Arab Emirates\", \"United Kingdom\", \"United States\", \"Uruguay\", \"Uzbekistan\", \"Vanuatu\", \"Venezuela\", \"Vietnam\", \"West Bank and Gaza\", \"Yemen\", \"Zambia\", \"Zimbabwe\"], \"name\": \"\", \"z\": [18.91, 13.052999999999999, 170.207, 122.124, 1.4680000000000002, 643.861, 11.527000000000001, 3.092, 1385.194, 417.091, 41.375, 12.491, 35.474000000000004, 249.695, 4.978, 54.723, 502.52099999999996, 1.8330000000000002, 12.697000000000001, 2.365, 37.782, 18.081, 17.383, 2063.518, 12.128, 59.093, 14.165, 3.1719999999999997, 1.77, 22.189, 34.997, 1649.266, 2.072, 10.079, 276.9, 12265.317, 311.889, 1.077, 37.615, 11.11, 60.516999999999996, 51.588, 55.482, 22.721, 218.62900000000002, 332.121, 2.767, 0.522, 80.082, 104.296, 236.528, 24.979, 12.200999999999999, 1.9040000000000001, 26.941999999999997, 4.407, 76.84100000000001, 5.353, 255.558, 2594.235, 14.924000000000001, 1.4980000000000002, 16.242, 3681.303, 58.978, 200.055, 1.126, 71.583, 10.337, 1.469, 4.748, 14.214, 23.136999999999997, 341.24199999999996, 142.96200000000002, 24.728, 2651.474, 1015.488, 445.528, 192.343, 337.545, 352.668, 1961.105, 14.755, 4930.837, 41.467, 166.80599999999998, 78.896, 0.187, 1623.0739999999998, 7.242999999999999, 120.68700000000001, 7.702999999999999, 17.055999999999997, 30.448, 53.141000000000005, 2.356, 3.335, 30.211, 47.742, 64.15899999999999, 50.457, 13.175999999999998, 6.23, 319.10900000000004, 4.747, 15.36, 13.217, 0.212, 6.784, 13.259, 1158.912, 0.36700000000000005, 9.67, 11.425999999999998, 4.855, 109.68299999999999, 13.15, 61.266999999999996, 12.883, 0.11, 28.971999999999998, 833.575, 203.817, 13.786, 11.185, 375.745, 11.335999999999999, 398.394, 70.598, 304.603, 0.28800000000000003, 62.203, 22.743000000000002, 39.009, 214.06099999999998, 328.481, 526.643, 221.28, 103.446, 161.099, 211.696, 1575.14, 9.253, 0.8320000000000001, 1.528, 0.376, 688.586, 20.989, 44.178999999999995, 1.528, 3.713, 343.332, 95.461, 48.568999999999996, 1.4580000000000002, 4.5089999999999995, 349.43300000000005, 3.495, 1312.076, 87.42200000000001, 0.997, 1.999, 0.792, 47.836999999999996, 3.216, 541.019, 704.7719999999999, 590.7330000000001, 7.144, 53.227, 456.523, 1.599, 6.393, 0.46, 22.385, 39.626999999999995, 858.932, 37.926, 0.043, 31.384, 112.125, 385.605, 2664.705, 19542.975, 64.234, 58.147, 0.88, 143.841, 277.074, 16.128, 26.736, 25.874000000000002, 21.89], \"type\": \"choropleth\"}], \"name\": \"2017\"}, {\"data\": [{\"coloraxis\": \"coloraxis\", \"geo\": \"geo\", \"hoverlabel\": {\"namelength\": 0}, \"hovertemplate\": \"year=2018<br>Country=%{location}<br>GDP=%{z}\", \"locationmode\": \"country names\", \"locations\": [\"Afghanistan\", \"Albania\", \"Algeria\", \"Angola\", \"Antigua and Barbuda\", \"Argentina\", \"Armenia\", \"Aruba\", \"Australia\", \"Austria\", \"Azerbaijan\", \"The Bahamas\", \"Bahrain\", \"Bangladesh\", \"Barbados\", \"Belarus\", \"Belgium\", \"Belize\", \"Benin\", \"Bhutan\", \"Bolivia\", \"Bosnia and Herzegovina\", \"Botswana\", \"Brazil\", \"Brunei Darussalam\", \"Bulgaria\", \"Burkina Faso\", \"Burundi\", \"Cabo Verde\", \"Cambodia\", \"Cameroon\", \"Canada\", \"Central African Republic\", \"Chad\", \"Chile\", \"China\", \"Colombia\", \"Comoros\", \"Democratic Republic of the Congo\", \"Republic of Congo\", \"Costa Rica\", \"C\\u00f4te d'Ivoire\", \"Croatia\", \"Cyprus\", \"Czech Republic\", \"Denmark\", \"Djibouti\", \"Dominica\", \"Dominican Republic\", \"Ecuador\", \"Egypt\", \"El Salvador\", \"Equatorial Guinea\", \"Eritrea\", \"Estonia\", \"Eswatini\", \"Ethiopia\", \"Fiji\", \"Finland\", \"France\", \"Gabon\", \"The Gambia\", \"Georgia\", \"Germany\", \"Ghana\", \"Greece\", \"Grenada\", \"Guatemala\", \"Guinea\", \"Guinea-Bissau\", \"Guyana\", \"Haiti\", \"Honduras\", \"Hong Kong SAR\", \"Hungary\", \"Iceland\", \"India\", \"Indonesia\", \"Islamic Republic of Iran\", \"Iraq\", \"Ireland\", \"Israel\", \"Italy\", \"Jamaica\", \"Japan\", \"Jordan\", \"Kazakhstan\", \"Kenya\", \"Kiribati\", \"Korea\", \"Kosovo\", \"Kuwait\", \"Kyrgyz Republic\", \"Lao P.D.R.\", \"Latvia\", \"Lebanon\", \"Lesotho\", \"Liberia\", \"Libya\", \"Lithuania\", \"Luxembourg\", \"Macao SAR\", \"Madagascar\", \"Malawi\", \"Malaysia\", \"Maldives\", \"Mali\", \"Malta\", \"Marshall Islands\", \"Mauritania\", \"Mauritius\", \"Mexico\", \"Micronesia\", \"Moldova\", \"Mongolia\", \"Montenegro\", \"Morocco\", \"Mozambique\", \"Myanmar\", \"Namibia\", \"Nauru\", \"Nepal\", \"Netherlands\", \"New Zealand\", \"Nicaragua\", \"Niger\", \"Nigeria\", \"North Macedonia\", \"Norway\", \"Oman\", \"Pakistan\", \"Palau\", \"Panama\", \"Papua New Guinea\", \"Paraguay\", \"Peru\", \"Philippines\", \"Poland\", \"Portugal\", \"Puerto Rico\", \"Qatar\", \"Romania\", \"Russia\", \"Rwanda\", \"Samoa\", \"San Marino\", \"S\\u00e3o Tom\\u00e9 and Pr\\u00edncipe\", \"Saudi Arabia\", \"Senegal\", \"Serbia\", \"Seychelles\", \"Sierra Leone\", \"Singapore\", \"Slovak Republic\", \"Slovenia\", \"Solomon Islands\", \"Somalia\", \"South Africa\", \"South Sudan\", \"Spain\", \"Sri Lanka\", \"St. Kitts and Nevis\", \"St. Lucia\", \"St. Vincent and the Grenadines\", \"Sudan\", \"Suriname\", \"Sweden\", \"Switzerland\", \"Taiwan Province of China\", \"Tajikistan\", \"Tanzania\", \"Thailand\", \"Timor-Leste\", \"Togo\", \"Tonga\", \"Trinidad and Tobago\", \"Tunisia\", \"Turkey\", \"Turkmenistan\", \"Tuvalu\", \"Uganda\", \"Ukraine\", \"United Arab Emirates\", \"United Kingdom\", \"United States\", \"Uruguay\", \"Uzbekistan\", \"Vanuatu\", \"Venezuela\", \"Vietnam\", \"West Bank and Gaza\", \"Yemen\", \"Zambia\", \"Zimbabwe\"], \"name\": \"\", \"z\": [18.401, 15.147, 175.36700000000002, 105.902, 1.605, 517.244, 12.458, 3.202, 1421.3029999999999, 455.301, 47.113, 13.022, 37.654, 273.3, 5.087, 60.011, 543.98, 1.882, 14.257, 2.411, 40.580999999999996, 20.184, 18.664, 1916.934, 13.568, 66.294, 16.207, 3.037, 1.9669999999999999, 24.444000000000003, 38.711999999999996, 1721.8220000000001, 2.28, 11.036, 297.436, 13841.901000000002, 334.124, 1.179, 47.099, 13.402000000000001, 62.338, 58.011, 61.375, 25.322, 248.95, 356.88, 3.013, 0.53, 85.63, 107.56200000000001, 250.253, 26.116999999999997, 13.277999999999999, 2.006, 30.645, 4.666, 80.207, 5.581, 276.112, 2791.163, 16.875, 1.662, 17.599, 3965.565, 65.518, 212.34599999999998, 1.169, 73.12100000000001, 12.181, 1.506, 4.788, 15.965, 23.857, 361.69199999999995, 160.41899999999998, 26.224, 2701.112, 1042.711, 456.59, 216.946, 386.689, 370.45599999999996, 2093.089, 15.648, 5036.892, 42.993, 179.34, 87.801, 0.2, 1725.3729999999998, 7.947, 140.665, 8.271, 18.133, 34.431999999999995, 54.961000000000006, 2.32, 3.264, 41.431999999999995, 53.747, 70.952, 55.303000000000004, 13.974, 6.9110000000000005, 358.713, 5.292999999999999, 17.079, 14.872, 0.222, 7.047999999999999, 14.182, 1222.346, 0.402, 11.309000000000001, 13.138, 5.5089999999999995, 118.096, 14.71, 66.699, 13.672, 0.124, 33.111999999999995, 914.4580000000001, 209.827, 13.064, 12.85, 421.73699999999997, 12.694, 437.0, 79.789, 313.073, 0.285, 64.928, 24.11, 40.385, 225.141, 346.842, 587.433, 242.423, 100.98899999999999, 183.335, 241.456, 1653.006, 9.629, 0.8370000000000001, 1.656, 0.41600000000000004, 786.5219999999999, 23.127, 50.641000000000005, 1.5419999999999998, 4.085, 375.963, 105.75, 54.18600000000001, 1.5659999999999998, 4.721, 368.135, 4.659, 1422.799, 87.92200000000001, 1.011, 2.066, 0.8109999999999999, 35.891, 3.465, 555.455, 736.433, 609.198, 7.52, 56.699, 506.403, 1.56, 7.117000000000001, 0.486, 23.68, 40.139, 779.5989999999999, 40.765, 0.046, 34.095, 130.92700000000002, 422.215, 2860.982, 20611.875, 64.765, 50.378, 0.9279999999999999, 98.4, 304.01599999999996, 16.277, 23.486, 26.311999999999998, 21.093000000000004], \"type\": \"choropleth\"}], \"name\": \"2018\"}, {\"data\": [{\"coloraxis\": \"coloraxis\", \"geo\": \"geo\", \"hoverlabel\": {\"namelength\": 0}, \"hovertemplate\": \"year=2019<br>Country=%{location}<br>GDP=%{z}\", \"locationmode\": \"country names\", \"locations\": [\"Afghanistan\", \"Albania\", \"Algeria\", \"Angola\", \"Antigua and Barbuda\", \"Argentina\", \"Armenia\", \"Aruba\", \"Australia\", \"Austria\", \"Azerbaijan\", \"The Bahamas\", \"Bahrain\", \"Bangladesh\", \"Barbados\", \"Belarus\", \"Belgium\", \"Belize\", \"Benin\", \"Bhutan\", \"Bolivia\", \"Bosnia and Herzegovina\", \"Botswana\", \"Brazil\", \"Brunei Darussalam\", \"Bulgaria\", \"Burkina Faso\", \"Burundi\", \"Cabo Verde\", \"Cambodia\", \"Cameroon\", \"Canada\", \"Central African Republic\", \"Chad\", \"Chile\", \"China\", \"Colombia\", \"Comoros\", \"Democratic Republic of the Congo\", \"Republic of Congo\", \"Costa Rica\", \"C\\u00f4te d'Ivoire\", \"Croatia\", \"Cyprus\", \"Czech Republic\", \"Denmark\", \"Djibouti\", \"Dominica\", \"Dominican Republic\", \"Ecuador\", \"Egypt\", \"El Salvador\", \"Equatorial Guinea\", \"Eritrea\", \"Estonia\", \"Eswatini\", \"Ethiopia\", \"Fiji\", \"Finland\", \"France\", \"Gabon\", \"The Gambia\", \"Georgia\", \"Germany\", \"Ghana\", \"Greece\", \"Grenada\", \"Guatemala\", \"Guinea\", \"Guinea-Bissau\", \"Guyana\", \"Haiti\", \"Honduras\", \"Hong Kong SAR\", \"Hungary\", \"Iceland\", \"India\", \"Indonesia\", \"Islamic Republic of Iran\", \"Iraq\", \"Ireland\", \"Israel\", \"Italy\", \"Jamaica\", \"Japan\", \"Jordan\", \"Kazakhstan\", \"Kenya\", \"Kiribati\", \"Korea\", \"Kosovo\", \"Kuwait\", \"Kyrgyz Republic\", \"Lao P.D.R.\", \"Latvia\", \"Lebanon\", \"Lesotho\", \"Liberia\", \"Libya\", \"Lithuania\", \"Luxembourg\", \"Macao SAR\", \"Madagascar\", \"Malawi\", \"Malaysia\", \"Maldives\", \"Mali\", \"Malta\", \"Marshall Islands\", \"Mauritania\", \"Mauritius\", \"Mexico\", \"Micronesia\", \"Moldova\", \"Mongolia\", \"Montenegro\", \"Morocco\", \"Mozambique\", \"Myanmar\", \"Namibia\", \"Nauru\", \"Nepal\", \"Netherlands\", \"New Zealand\", \"Nicaragua\", \"Niger\", \"Nigeria\", \"North Macedonia\", \"Norway\", \"Oman\", \"Pakistan\", \"Palau\", \"Panama\", \"Papua New Guinea\", \"Paraguay\", \"Peru\", \"Philippines\", \"Poland\", \"Portugal\", \"Puerto Rico\", \"Qatar\", \"Romania\", \"Russia\", \"Rwanda\", \"Samoa\", \"San Marino\", \"S\\u00e3o Tom\\u00e9 and Pr\\u00edncipe\", \"Saudi Arabia\", \"Senegal\", \"Serbia\", \"Seychelles\", \"Sierra Leone\", \"Singapore\", \"Slovak Republic\", \"Slovenia\", \"Solomon Islands\", \"Somalia\", \"South Africa\", \"South Sudan\", \"Spain\", \"Sri Lanka\", \"St. Kitts and Nevis\", \"St. Lucia\", \"St. Vincent and the Grenadines\", \"Sudan\", \"Suriname\", \"Sweden\", \"Switzerland\", \"Taiwan Province of China\", \"Tajikistan\", \"Tanzania\", \"Thailand\", \"Timor-Leste\", \"Togo\", \"Tonga\", \"Trinidad and Tobago\", \"Tunisia\", \"Turkey\", \"Turkmenistan\", \"Tuvalu\", \"Uganda\", \"Ukraine\", \"United Arab Emirates\", \"United Kingdom\", \"United States\", \"Uruguay\", \"Uzbekistan\", \"Vanuatu\", \"Venezuela\", \"Vietnam\", \"West Bank and Gaza\", \"Yemen\", \"Zambia\", \"Zimbabwe\"], \"name\": \"\", \"z\": [18.875999999999998, 15.276, 171.07, 89.603, 1.662, 444.458, 13.673, 3.342, 1391.536, 445.125, 48.048, 13.579, 38.474000000000004, 302.39599999999996, 5.209, 64.414, 533.1569999999999, 1.92, 14.392000000000001, 2.488, 41.193000000000005, 20.203, 18.339000000000002, 1877.114, 13.47, 68.563, 15.745999999999999, 2.968, 1.982, 26.728, 38.863, 1741.576, 2.2769999999999997, 10.934000000000001, 279.27, 14340.6, 323.375, 1.19, 50.418, 12.542, 63.946000000000005, 58.538999999999994, 60.75899999999999, 24.953000000000003, 250.68599999999998, 350.10400000000004, 3.346, 0.579, 89.03200000000001, 108.10799999999999, 302.335, 27.023000000000003, 11.025, 1.982, 31.475, 4.471, 92.60799999999999, 5.497000000000001, 268.996, 2717.204, 16.875, 1.818, 17.477, 3861.55, 66.998, 205.34900000000002, 1.205, 76.694, 13.797, 1.44, 5.1739999999999995, 14.334000000000001, 24.921, 365.708, 163.459, 24.837, 2870.5040000000004, 1120.042, 581.252, 222.43400000000003, 398.379, 394.652, 2005.135, 15.808, 5148.781, 44.566, 181.667, 95.41, 0.198, 1646.739, 7.952999999999999, 134.624, 8.455, 18.807000000000002, 34.059, 52.571999999999996, 2.289, 3.0639999999999996, 39.832, 54.633, 71.113, 55.153999999999996, 14.519, 7.662999999999999, 364.684, 5.632000000000001, 17.308, 15.218, 0.239, 7.93, 14.048, 1268.868, 0.413, 11.956, 13.997, 5.542999999999999, 119.70100000000001, 15.195, 68.80199999999999, 12.540999999999999, 0.11900000000000001, 34.187, 907.1510000000001, 210.22400000000002, 12.535, 12.912, 448.12, 12.55, 405.51, 76.331, 276.11400000000003, 0.28, 66.788, 24.829, 38.145, 230.74599999999998, 376.795, 595.7719999999999, 239.537, 104.98899999999999, 175.838, 249.695, 1689.3020000000001, 10.123, 0.852, 1.6159999999999999, 0.42200000000000004, 792.967, 23.307, 51.475, 1.58, 4.119, 374.39, 105.09100000000001, 54.18, 1.579, 4.944, 351.35400000000004, 4.143, 1393.644, 83.978, 1.065, 2.122, 0.825, 33.564, 3.697, 531.283, 732.187, 612.168, 8.117, 60.81, 544.1519999999999, 2.0180000000000002, 7.221, 0.517, 23.208000000000002, 39.169000000000004, 760.94, 45.231, 0.047, 37.788000000000004, 153.895, 421.142, 2833.301, 21433.225, 62.211999999999996, 57.726000000000006, 0.924, 63.96, 329.537, 17.134, 22.568, 23.309, 19.273], \"type\": \"choropleth\"}], \"name\": \"2019\"}, {\"data\": [{\"coloraxis\": \"coloraxis\", \"geo\": \"geo\", \"hoverlabel\": {\"namelength\": 0}, \"hovertemplate\": \"year=2020<br>Country=%{location}<br>GDP=%{z}\", \"locationmode\": \"country names\", \"locations\": [\"Afghanistan\", \"Albania\", \"Algeria\", \"Angola\", \"Antigua and Barbuda\", \"Argentina\", \"Armenia\", \"Aruba\", \"Australia\", \"Austria\", \"Azerbaijan\", \"The Bahamas\", \"Bahrain\", \"Bangladesh\", \"Barbados\", \"Belarus\", \"Belgium\", \"Belize\", \"Benin\", \"Bhutan\", \"Bolivia\", \"Bosnia and Herzegovina\", \"Botswana\", \"Brazil\", \"Brunei Darussalam\", \"Bulgaria\", \"Burkina Faso\", \"Burundi\", \"Cabo Verde\", \"Cambodia\", \"Cameroon\", \"Canada\", \"Central African Republic\", \"Chad\", \"Chile\", \"China\", \"Colombia\", \"Comoros\", \"Democratic Republic of the Congo\", \"Republic of Congo\", \"Costa Rica\", \"C\\u00f4te d'Ivoire\", \"Croatia\", \"Cyprus\", \"Czech Republic\", \"Denmark\", \"Djibouti\", \"Dominica\", \"Dominican Republic\", \"Ecuador\", \"Egypt\", \"El Salvador\", \"Equatorial Guinea\", \"Eritrea\", \"Estonia\", \"Eswatini\", \"Ethiopia\", \"Fiji\", \"Finland\", \"France\", \"Gabon\", \"The Gambia\", \"Georgia\", \"Germany\", \"Ghana\", \"Greece\", \"Grenada\", \"Guatemala\", \"Guinea\", \"Guinea-Bissau\", \"Guyana\", \"Haiti\", \"Honduras\", \"Hong Kong SAR\", \"Hungary\", \"Iceland\", \"India\", \"Indonesia\", \"Islamic Republic of Iran\", \"Iraq\", \"Ireland\", \"Israel\", \"Italy\", \"Jamaica\", \"Japan\", \"Jordan\", \"Kazakhstan\", \"Kenya\", \"Kiribati\", \"Korea\", \"Kosovo\", \"Kuwait\", \"Kyrgyz Republic\", \"Lao P.D.R.\", \"Latvia\", \"Lebanon\", \"Lesotho\", \"Liberia\", \"Libya\", \"Lithuania\", \"Luxembourg\", \"Macao SAR\", \"Madagascar\", \"Malawi\", \"Malaysia\", \"Maldives\", \"Mali\", \"Malta\", \"Marshall Islands\", \"Mauritania\", \"Mauritius\", \"Mexico\", \"Micronesia\", \"Moldova\", \"Mongolia\", \"Montenegro\", \"Morocco\", \"Mozambique\", \"Myanmar\", \"Namibia\", \"Nauru\", \"Nepal\", \"Netherlands\", \"New Zealand\", \"Nicaragua\", \"Niger\", \"Nigeria\", \"North Macedonia\", \"Norway\", \"Oman\", \"Pakistan\", \"Palau\", \"Panama\", \"Papua New Guinea\", \"Paraguay\", \"Peru\", \"Philippines\", \"Poland\", \"Portugal\", \"Puerto Rico\", \"Qatar\", \"Romania\", \"Russia\", \"Rwanda\", \"Samoa\", \"San Marino\", \"S\\u00e3o Tom\\u00e9 and Pr\\u00edncipe\", \"Saudi Arabia\", \"Senegal\", \"Serbia\", \"Seychelles\", \"Sierra Leone\", \"Singapore\", \"Slovak Republic\", \"Slovenia\", \"Solomon Islands\", \"Somalia\", \"South Africa\", \"South Sudan\", \"Spain\", \"Sri Lanka\", \"St. Kitts and Nevis\", \"St. Lucia\", \"St. Vincent and the Grenadines\", \"Sudan\", \"Suriname\", \"Sweden\", \"Switzerland\", \"Taiwan Province of China\", \"Tajikistan\", \"Tanzania\", \"Thailand\", \"Timor-Leste\", \"Togo\", \"Tonga\", \"Trinidad and Tobago\", \"Tunisia\", \"Turkey\", \"Turkmenistan\", \"Tuvalu\", \"Uganda\", \"Ukraine\", \"United Arab Emirates\", \"United Kingdom\", \"United States\", \"Uruguay\", \"Uzbekistan\", \"Vanuatu\", \"Venezuela\", \"Vietnam\", \"West Bank and Gaza\", \"Yemen\", \"Zambia\", \"Zimbabwe\"], \"name\": \"\", \"z\": [19.132, 15.147, 144.29399999999998, 62.44, 1.39, 388.279, 12.339, 2.458, 1359.326, 428.62199999999996, 42.607, 11.25, 33.904, 329.12, 4.365, 60.201, 513.087, 1.651, 15.193, 2.503, 39.381, 19.389, 15.91, 1434.0839999999998, 12.015999999999998, 68.561, 16.541, 3.011, 1.7530000000000001, 25.953000000000003, 39.02, 1643.408, 2.366, 10.742, 252.75599999999997, 14722.837, 271.46299999999997, 1.222, 49.077, 10.232000000000001, 61.45, 61.402, 56.925, 23.967, 241.455, 352.24300000000005, 3.408, 0.517, 78.73100000000001, 96.665, 361.847, 24.609, 9.524, 2.086, 31.005, 3.949, 96.611, 4.316, 270.637, 2598.907, 15.642000000000001, 1.913, 15.732999999999999, 3803.014, 68.418, 189.25900000000001, 1.037, 77.07300000000001, 15.455, 1.4340000000000002, 5.766, 14.286, 23.691, 349.445, 154.562, 21.715, 2708.77, 1059.638, 635.724, 172.11900000000003, 418.716, 402.639, 1884.935, 13.948, 5048.688, 43.481, 164.792, 99.287, 0.2, 1630.871, 7.789, 107.936, 7.471, 19.078, 33.478, 19.125999999999998, 2.068, 3.033, 21.796999999999997, 55.688, 73.205, 24.333000000000002, 13.837, 8.488, 338.276, 3.755, 17.639, 14.559000000000001, 0.23399999999999999, 8.176, 11.395999999999999, 1076.163, 0.408, 11.5, 13.137, 4.79, 113.54799999999999, 14.385, 81.257, 10.564, 0.114, 34.465, 909.503, 209.329, 12.145999999999999, 13.698, 429.423, 12.288, 362.009, 63.192, 262.79900000000004, 0.254, 52.938, 23.575, 35.875, 203.77200000000002, 362.24300000000005, 594.18, 231.34799999999998, 95.851, 146.09, 247.21400000000003, 1473.5829999999999, 10.372, 0.804, 1.505, 0.418, 701.467, 24.448, 52.96, 1.131, 4.204, 339.981, 104.088, 52.838, 1.567, 4.92, 302.11400000000003, 4.074, 1278.208, 80.7, 0.852, 1.692, 0.787, 34.37, 2.41, 537.61, 747.427, 668.51, 7.997000000000001, 63.244, 501.88800000000003, 1.791, 7.495, 0.514, 21.53, 39.553000000000004, 719.5369999999999, 47.354, 0.048, 37.613, 151.543, 354.279, 2710.97, 20932.75, 55.711000000000006, 57.706, 0.8640000000000001, 47.255, 340.82099999999997, 15.519, 20.14, 18.529, 21.038], \"type\": \"choropleth\"}], \"name\": \"2020\"}, {\"data\": [{\"coloraxis\": \"coloraxis\", \"geo\": \"geo\", \"hoverlabel\": {\"namelength\": 0}, \"hovertemplate\": \"year=2021<br>Country=%{location}<br>GDP=%{z}\", \"locationmode\": \"country names\", \"locations\": [\"Afghanistan\", \"Albania\", \"Algeria\", \"Angola\", \"Antigua and Barbuda\", \"Argentina\", \"Armenia\", \"Aruba\", \"Australia\", \"Austria\", \"Azerbaijan\", \"The Bahamas\", \"Bahrain\", \"Bangladesh\", \"Barbados\", \"Belarus\", \"Belgium\", \"Belize\", \"Benin\", \"Bhutan\", \"Bolivia\", \"Bosnia and Herzegovina\", \"Botswana\", \"Brazil\", \"Brunei Darussalam\", \"Bulgaria\", \"Burkina Faso\", \"Burundi\", \"Cabo Verde\", \"Cambodia\", \"Cameroon\", \"Canada\", \"Central African Republic\", \"Chad\", \"Chile\", \"China\", \"Colombia\", \"Comoros\", \"Democratic Republic of the Congo\", \"Republic of Congo\", \"Costa Rica\", \"C\\u00f4te d'Ivoire\", \"Croatia\", \"Cyprus\", \"Czech Republic\", \"Denmark\", \"Djibouti\", \"Dominica\", \"Dominican Republic\", \"Ecuador\", \"Egypt\", \"El Salvador\", \"Equatorial Guinea\", \"Eritrea\", \"Estonia\", \"Eswatini\", \"Ethiopia\", \"Fiji\", \"Finland\", \"France\", \"Gabon\", \"The Gambia\", \"Georgia\", \"Germany\", \"Ghana\", \"Greece\", \"Grenada\", \"Guatemala\", \"Guinea\", \"Guinea-Bissau\", \"Guyana\", \"Haiti\", \"Honduras\", \"Hong Kong SAR\", \"Hungary\", \"Iceland\", \"India\", \"Indonesia\", \"Islamic Republic of Iran\", \"Iraq\", \"Ireland\", \"Israel\", \"Italy\", \"Jamaica\", \"Japan\", \"Jordan\", \"Kazakhstan\", \"Kenya\", \"Kiribati\", \"Korea\", \"Kosovo\", \"Kuwait\", \"Kyrgyz Republic\", \"Lao P.D.R.\", \"Latvia\", \"Lesotho\", \"Liberia\", \"Libya\", \"Lithuania\", \"Luxembourg\", \"Macao SAR\", \"Madagascar\", \"Malawi\", \"Malaysia\", \"Maldives\", \"Mali\", \"Malta\", \"Marshall Islands\", \"Mauritania\", \"Mauritius\", \"Mexico\", \"Micronesia\", \"Moldova\", \"Mongolia\", \"Montenegro\", \"Morocco\", \"Mozambique\", \"Myanmar\", \"Namibia\", \"Nauru\", \"Nepal\", \"Netherlands\", \"New Zealand\", \"Nicaragua\", \"Niger\", \"Nigeria\", \"North Macedonia\", \"Norway\", \"Oman\", \"Palau\", \"Panama\", \"Papua New Guinea\", \"Paraguay\", \"Peru\", \"Philippines\", \"Poland\", \"Portugal\", \"Puerto Rico\", \"Qatar\", \"Romania\", \"Russia\", \"Rwanda\", \"Samoa\", \"San Marino\", \"S\\u00e3o Tom\\u00e9 and Pr\\u00edncipe\", \"Saudi Arabia\", \"Senegal\", \"Serbia\", \"Seychelles\", \"Sierra Leone\", \"Singapore\", \"Slovak Republic\", \"Slovenia\", \"Solomon Islands\", \"Somalia\", \"South Africa\", \"South Sudan\", \"Spain\", \"Sri Lanka\", \"St. Kitts and Nevis\", \"St. Lucia\", \"St. Vincent and the Grenadines\", \"Sudan\", \"Suriname\", \"Sweden\", \"Switzerland\", \"Taiwan Province of China\", \"Tajikistan\", \"Tanzania\", \"Thailand\", \"Timor-Leste\", \"Togo\", \"Tonga\", \"Trinidad and Tobago\", \"Tunisia\", \"Turkey\", \"Turkmenistan\", \"Tuvalu\", \"Uganda\", \"Ukraine\", \"United Arab Emirates\", \"United Kingdom\", \"United States\", \"Uruguay\", \"Uzbekistan\", \"Vanuatu\", \"Venezuela\", \"Vietnam\", \"West Bank and Gaza\", \"Yemen\", \"Zambia\", \"Zimbabwe\"], \"name\": \"\", \"z\": [19.938, 17.137999999999998, 151.459, 66.493, 1.376, 418.15, 12.251, 2.582, 1617.543, 481.796, 49.913999999999994, 11.706, 37.503, 352.908, 4.628, 60.725, 578.996, 1.7, 17.327, 2.48, 43.11, 21.953000000000003, 18.726, 1491.7720000000002, 15.277999999999999, 77.782, 18.852999999999998, 3.2439999999999998, 2.003, 27.239, 44.893, 1883.487, 2.718, 12.530999999999999, 307.938, 16642.318, 295.61, 1.3090000000000002, 55.088, 12.022, 61.178000000000004, 70.991, 65.217, 26.479, 276.10900000000004, 392.57, 3.6630000000000003, 0.523, 83.917, 100.595, 394.284, 26.276999999999997, 11.725999999999999, 2.25, 35.187, 4.226, 93.96600000000001, 4.586, 300.48400000000004, 2938.2709999999997, 18.362000000000002, 2.0780000000000003, 16.163, 4319.286, 74.26, 209.857, 1.041, 81.402, 16.339000000000002, 1.6469999999999998, 7.255, 22.430999999999997, 26.160999999999998, 368.63300000000004, 176.543, 24.155, 3049.704, 1158.7830000000001, 682.8589999999999, 190.733, 476.663, 446.708, 2106.2870000000003, 14.6, 5378.1359999999995, 44.979, 187.83599999999998, 106.041, 0.231, 1806.707, 8.81, 126.93, 7.47, 20.44, 37.72, 2.458, 3.37, 24.267, 62.198, 84.07700000000001, 39.449, 14.745999999999999, 9.267999999999999, 387.093, 4.5360000000000005, 19.912, 16.476, 0.23399999999999999, 9.238999999999999, 12.212, 1192.48, 0.401, 11.998, 14.232999999999999, 5.651, 124.00299999999999, 13.957, 76.195, 11.380999999999998, 0.133, 36.084, 1012.5980000000001, 243.332, 12.283, 15.899000000000001, 514.049, 13.821, 444.519, 74.115, 0.22899999999999998, 59.376999999999995, 24.535999999999998, 37.836, 225.918, 402.63800000000003, 642.121, 257.39099999999996, 100.684, 166.03099999999998, 289.13, 1710.734, 10.633, 0.752, 1.6880000000000002, 0.485, 804.921, 27.927, 60.435, 0.948, 4.42, 374.394, 117.664, 59.132, 1.6440000000000001, 5.367000000000001, 329.529, 4.461, 1461.5520000000001, 84.53200000000001, 0.831, 1.787, 0.7979999999999999, 35.827, 2.465, 625.948, 824.7339999999999, 759.1039999999999, 7.825, 65.919, 538.735, 1.726, 8.627, 0.508, 22.160999999999998, 44.265, 794.53, 54.218, 0.057, 41.271, 164.593, 401.51300000000003, 3124.65, 22675.271, 55.458999999999996, 61.203, 0.912, 42.53, 354.86800000000005, 16.480999999999998, 25.095, 18.955, 26.085], \"type\": \"choropleth\"}], \"name\": \"2021\"}]);\n",
              "                        }).then(function(){\n",
              "                            \n",
              "var gd = document.getElementById('9716053c-b272-4a75-8765-eebaee842d4b');\n",
              "var x = new MutationObserver(function (mutations, observer) {{\n",
              "        var display = window.getComputedStyle(gd).display;\n",
              "        if (!display || display === 'none') {{\n",
              "            console.log([gd, 'removed!']);\n",
              "            Plotly.purge(gd);\n",
              "            observer.disconnect();\n",
              "        }}\n",
              "}});\n",
              "\n",
              "// Listen for the removal of the full notebook cells\n",
              "var notebookContainer = gd.closest('#notebook-container');\n",
              "if (notebookContainer) {{\n",
              "    x.observe(notebookContainer, {childList: true});\n",
              "}}\n",
              "\n",
              "// Listen for the clearing of the current output cell\n",
              "var outputEl = gd.closest('.output');\n",
              "if (outputEl) {{\n",
              "    x.observe(outputEl, {childList: true});\n",
              "}}\n",
              "\n",
              "                        })\n",
              "                };\n",
              "                \n",
              "            </script>\n",
              "        </div>\n",
              "</body>\n",
              "</html>"
            ]
          },
          "metadata": {}
        }
      ]
    },
    {
      "cell_type": "markdown",
      "metadata": {
        "id": "_FmCaKmV8VVa"
      },
      "source": [
        "Top 10 Countries with highest gdp"
      ]
    },
    {
      "cell_type": "code",
      "metadata": {
        "id": "c_6Lu_vnb2wd"
      },
      "source": [
        "# List of years\n",
        "x = df['year'].unique()"
      ],
      "execution_count": null,
      "outputs": []
    },
    {
      "cell_type": "code",
      "metadata": {
        "id": "5APl6AQVaG5M"
      },
      "source": [
        "# Creating empty dataframe\n",
        "result =pd.DataFrame()\n",
        "k =pd.DataFrame()"
      ],
      "execution_count": null,
      "outputs": []
    },
    {
      "cell_type": "code",
      "metadata": {
        "colab": {
          "base_uri": "https://localhost:8080/"
        },
        "id": "DhTE5idF2ryd",
        "outputId": "ce3c328a-9a28-4c61-bbc2-3c6abb70e9ce"
      },
      "source": [
        "for i in x: \n",
        "  print(i)\n",
        "  y = df[df['year']== i].sort_values(by = 'GDP', ascending = False).head(10)\n",
        "  result = pd.concat([k, y])\n",
        "  k = result"
      ],
      "execution_count": null,
      "outputs": [
        {
          "output_type": "stream",
          "name": "stdout",
          "text": [
            "2014\n",
            "2015\n",
            "2016\n",
            "2017\n",
            "2018\n",
            "2019\n",
            "2020\n",
            "2021\n"
          ]
        }
      ]
    },
    {
      "cell_type": "code",
      "metadata": {
        "colab": {
          "base_uri": "https://localhost:8080/"
        },
        "id": "afEP5KzzZ1oL",
        "outputId": "b2b87e0c-a3bb-41fa-a47a-8e49cb3ac59d"
      },
      "source": [
        "result.shape"
      ],
      "execution_count": null,
      "outputs": [
        {
          "output_type": "execute_result",
          "data": {
            "text/plain": [
              "(80, 6)"
            ]
          },
          "metadata": {},
          "execution_count": 18
        }
      ]
    },
    {
      "cell_type": "code",
      "metadata": {
        "colab": {
          "base_uri": "https://localhost:8080/"
        },
        "id": "yM2QDjYbaXMj",
        "outputId": "ba553dc5-8717-4746-f5bc-13ed6c2437cb"
      },
      "source": [
        "k.shape"
      ],
      "execution_count": null,
      "outputs": [
        {
          "output_type": "execute_result",
          "data": {
            "text/plain": [
              "(80, 6)"
            ]
          },
          "metadata": {},
          "execution_count": 19
        }
      ]
    },
    {
      "cell_type": "code",
      "metadata": {
        "colab": {
          "base_uri": "https://localhost:8080/",
          "height": 542
        },
        "id": "Fddf2r-ZWMux",
        "cellView": "form",
        "outputId": "ccd3f75a-19a0-4c84-88f8-b2ae7c71cf4d"
      },
      "source": [],
      "execution_count": null,
      "outputs": [
        {
          "output_type": "display_data",
          "data": {
            "text/html": [
              "<html>\n",
              "<head><meta charset=\"utf-8\" /></head>\n",
              "<body>\n",
              "    <div>\n",
              "            <script src=\"https://cdnjs.cloudflare.com/ajax/libs/mathjax/2.7.5/MathJax.js?config=TeX-AMS-MML_SVG\"></script><script type=\"text/javascript\">if (window.MathJax) {MathJax.Hub.Config({SVG: {font: \"STIX-Web\"}});}</script>\n",
              "                <script type=\"text/javascript\">window.PlotlyConfig = {MathJaxConfig: 'local'};</script>\n",
              "        <script src=\"https://cdn.plot.ly/plotly-latest.min.js\"></script>    \n",
              "            <div id=\"78bc8e93-ca53-429e-bb1d-ed825f56e458\" class=\"plotly-graph-div\" style=\"height:525px; width:100%;\"></div>\n",
              "            <script type=\"text/javascript\">\n",
              "                \n",
              "                    window.PLOTLYENV=window.PLOTLYENV || {};\n",
              "                    \n",
              "                if (document.getElementById(\"78bc8e93-ca53-429e-bb1d-ed825f56e458\")) {\n",
              "                    Plotly.newPlot(\n",
              "                        '78bc8e93-ca53-429e-bb1d-ed825f56e458',\n",
              "                        [{\"alignmentgroup\": \"True\", \"hoverlabel\": {\"namelength\": 0}, \"hovertemplate\": \"color=United States<br>x=%{x}<br>y=%{y}\", \"legendgroup\": \"color=United States\", \"marker\": {\"color\": \"#636efa\"}, \"name\": \"color=United States\", \"offsetgroup\": \"color=United States\", \"orientation\": \"v\", \"showlegend\": true, \"textposition\": \"auto\", \"type\": \"bar\", \"x\": [2014, 2015, 2016, 2017, 2018, 2019, 2020, 2021], \"xaxis\": \"x\", \"y\": [17527.275, 18238.3, 18745.1, 19542.975, 20611.875, 21433.225, 20932.75, 22675.271], \"yaxis\": \"y\"}, {\"alignmentgroup\": \"True\", \"hoverlabel\": {\"namelength\": 0}, \"hovertemplate\": \"color=China<br>x=%{x}<br>y=%{y}\", \"legendgroup\": \"color=China\", \"marker\": {\"color\": \"#EF553B\"}, \"name\": \"color=China\", \"offsetgroup\": \"color=China\", \"orientation\": \"v\", \"showlegend\": true, \"textposition\": \"auto\", \"type\": \"bar\", \"x\": [2014, 2015, 2016, 2017, 2018, 2019, 2020, 2021], \"xaxis\": \"x\", \"y\": [10524.211000000001, 11113.528, 11227.075, 12265.317, 13841.901000000002, 14340.6, 14722.837, 16642.318], \"yaxis\": \"y\"}, {\"alignmentgroup\": \"True\", \"hoverlabel\": {\"namelength\": 0}, \"hovertemplate\": \"color=Japan<br>x=%{x}<br>y=%{y}\", \"legendgroup\": \"color=Japan\", \"marker\": {\"color\": \"#00cc96\"}, \"name\": \"color=Japan\", \"offsetgroup\": \"color=Japan\", \"orientation\": \"v\", \"showlegend\": true, \"textposition\": \"auto\", \"type\": \"bar\", \"x\": [2014, 2015, 2016, 2017, 2018, 2019, 2020, 2021], \"xaxis\": \"x\", \"y\": [4896.995, 4444.931, 5003.678, 4930.837, 5036.892, 5148.781, 5048.688, 5378.1359999999995], \"yaxis\": \"y\"}, {\"alignmentgroup\": \"True\", \"hoverlabel\": {\"namelength\": 0}, \"hovertemplate\": \"color=Germany<br>x=%{x}<br>y=%{y}\", \"legendgroup\": \"color=Germany\", \"marker\": {\"color\": \"#ab63fa\"}, \"name\": \"color=Germany\", \"offsetgroup\": \"color=Germany\", \"orientation\": \"v\", \"showlegend\": true, \"textposition\": \"auto\", \"type\": \"bar\", \"x\": [2014, 2015, 2016, 2017, 2018, 2019, 2020, 2021], \"xaxis\": \"x\", \"y\": [3890.095, 3357.926, 3468.8959999999997, 3681.303, 3965.565, 3861.55, 3803.014, 4319.286], \"yaxis\": \"y\"}, {\"alignmentgroup\": \"True\", \"hoverlabel\": {\"namelength\": 0}, \"hovertemplate\": \"color=United Kingdom<br>x=%{x}<br>y=%{y}\", \"legendgroup\": \"color=United Kingdom\", \"marker\": {\"color\": \"#FFA15A\"}, \"name\": \"color=United Kingdom\", \"offsetgroup\": \"color=United Kingdom\", \"orientation\": \"v\", \"showlegend\": true, \"textposition\": \"auto\", \"type\": \"bar\", \"x\": [2014, 2015, 2016, 2017, 2018, 2019, 2020, 2021], \"xaxis\": \"x\", \"y\": [3067.117, 2933.433, 2703.242, 2664.705, 2860.982, 2833.301, 2710.97, 3124.65], \"yaxis\": \"y\"}, {\"alignmentgroup\": \"True\", \"hoverlabel\": {\"namelength\": 0}, \"hovertemplate\": \"color=France<br>x=%{x}<br>y=%{y}\", \"legendgroup\": \"color=France\", \"marker\": {\"color\": \"#19d3f3\"}, \"name\": \"color=France\", \"offsetgroup\": \"color=France\", \"orientation\": \"v\", \"showlegend\": true, \"textposition\": \"auto\", \"type\": \"bar\", \"x\": [2014, 2015, 2016, 2017, 2018, 2019, 2020, 2021], \"xaxis\": \"x\", \"y\": [2856.7009999999996, 2439.436, 2472.282, 2594.235, 2791.163, 2717.204, 2598.907, 2938.2709999999997], \"yaxis\": \"y\"}, {\"alignmentgroup\": \"True\", \"hoverlabel\": {\"namelength\": 0}, \"hovertemplate\": \"color=Brazil<br>x=%{x}<br>y=%{y}\", \"legendgroup\": \"color=Brazil\", \"marker\": {\"color\": \"#FF6692\"}, \"name\": \"color=Brazil\", \"offsetgroup\": \"color=Brazil\", \"orientation\": \"v\", \"showlegend\": true, \"textposition\": \"auto\", \"type\": \"bar\", \"x\": [2014, 2015, 2016, 2017, 2018, 2019], \"xaxis\": \"x\", \"y\": [2456.055, 1800.046, 1796.622, 2063.518, 1916.934, 1877.114], \"yaxis\": \"y\"}, {\"alignmentgroup\": \"True\", \"hoverlabel\": {\"namelength\": 0}, \"hovertemplate\": \"color=Italy<br>x=%{x}<br>y=%{y}\", \"legendgroup\": \"color=Italy\", \"marker\": {\"color\": \"#B6E880\"}, \"name\": \"color=Italy\", \"offsetgroup\": \"color=Italy\", \"orientation\": \"v\", \"showlegend\": true, \"textposition\": \"auto\", \"type\": \"bar\", \"x\": [2014, 2015, 2016, 2017, 2018, 2019, 2020, 2021], \"xaxis\": \"x\", \"y\": [2162.567, 1836.8239999999998, 1876.5539999999999, 1961.105, 2093.089, 2005.135, 1884.935, 2106.2870000000003], \"yaxis\": \"y\"}, {\"alignmentgroup\": \"True\", \"hoverlabel\": {\"namelength\": 0}, \"hovertemplate\": \"color=Russia<br>x=%{x}<br>y=%{y}\", \"legendgroup\": \"color=Russia\", \"marker\": {\"color\": \"#FF97FF\"}, \"name\": \"color=Russia\", \"offsetgroup\": \"color=Russia\", \"orientation\": \"v\", \"showlegend\": true, \"textposition\": \"auto\", \"type\": \"bar\", \"x\": [2014], \"xaxis\": \"x\", \"y\": [2048.8360000000002], \"yaxis\": \"y\"}, {\"alignmentgroup\": \"True\", \"hoverlabel\": {\"namelength\": 0}, \"hovertemplate\": \"color=India<br>x=%{x}<br>y=%{y}\", \"legendgroup\": \"color=India\", \"marker\": {\"color\": \"#FECB52\"}, \"name\": \"color=India\", \"offsetgroup\": \"color=India\", \"orientation\": \"v\", \"showlegend\": true, \"textposition\": \"auto\", \"type\": \"bar\", \"x\": [2014, 2015, 2016, 2017, 2018, 2019, 2020, 2021], \"xaxis\": \"x\", \"y\": [2039.1270000000002, 2103.5879999999997, 2294.118, 2651.474, 2701.112, 2870.5040000000004, 2708.77, 3049.704], \"yaxis\": \"y\"}, {\"alignmentgroup\": \"True\", \"hoverlabel\": {\"namelength\": 0}, \"hovertemplate\": \"color=Canada<br>x=%{x}<br>y=%{y}\", \"legendgroup\": \"color=Canada\", \"marker\": {\"color\": \"#636efa\"}, \"name\": \"color=Canada\", \"offsetgroup\": \"color=Canada\", \"orientation\": \"v\", \"showlegend\": true, \"textposition\": \"auto\", \"type\": \"bar\", \"x\": [2015, 2016, 2017, 2019, 2020, 2021], \"xaxis\": \"x\", \"y\": [1556.5079999999998, 1527.996, 1649.266, 1741.576, 1643.408, 1883.487], \"yaxis\": \"y\"}, {\"alignmentgroup\": \"True\", \"hoverlabel\": {\"namelength\": 0}, \"hovertemplate\": \"color=Korea<br>x=%{x}<br>y=%{y}\", \"legendgroup\": \"color=Korea\", \"marker\": {\"color\": \"#EF553B\"}, \"name\": \"color=Korea\", \"offsetgroup\": \"color=Korea\", \"orientation\": \"v\", \"showlegend\": true, \"textposition\": \"auto\", \"type\": \"bar\", \"x\": [2018, 2020, 2021], \"xaxis\": \"x\", \"y\": [1725.3729999999998, 1630.871, 1806.707], \"yaxis\": \"y\"}],\n",
              "                        {\"barmode\": \"stack\", \"legend\": {\"tracegroupgap\": 0}, \"margin\": {\"t\": 60}, \"template\": {\"data\": {\"bar\": [{\"error_x\": {\"color\": \"#f2f5fa\"}, \"error_y\": {\"color\": \"#f2f5fa\"}, \"marker\": {\"line\": {\"color\": \"rgb(17,17,17)\", \"width\": 0.5}}, \"type\": \"bar\"}], \"barpolar\": [{\"marker\": {\"line\": {\"color\": \"rgb(17,17,17)\", \"width\": 0.5}}, \"type\": \"barpolar\"}], \"carpet\": [{\"aaxis\": {\"endlinecolor\": \"#A2B1C6\", \"gridcolor\": \"#506784\", \"linecolor\": \"#506784\", \"minorgridcolor\": \"#506784\", \"startlinecolor\": \"#A2B1C6\"}, \"baxis\": {\"endlinecolor\": \"#A2B1C6\", \"gridcolor\": \"#506784\", \"linecolor\": \"#506784\", \"minorgridcolor\": \"#506784\", \"startlinecolor\": \"#A2B1C6\"}, \"type\": \"carpet\"}], \"choropleth\": [{\"colorbar\": {\"outlinewidth\": 0, \"ticks\": \"\"}, \"type\": \"choropleth\"}], \"contour\": [{\"colorbar\": {\"outlinewidth\": 0, \"ticks\": \"\"}, \"colorscale\": [[0.0, \"#0d0887\"], [0.1111111111111111, \"#46039f\"], [0.2222222222222222, \"#7201a8\"], [0.3333333333333333, \"#9c179e\"], [0.4444444444444444, \"#bd3786\"], [0.5555555555555556, \"#d8576b\"], [0.6666666666666666, \"#ed7953\"], [0.7777777777777778, \"#fb9f3a\"], [0.8888888888888888, \"#fdca26\"], [1.0, \"#f0f921\"]], \"type\": \"contour\"}], \"contourcarpet\": [{\"colorbar\": {\"outlinewidth\": 0, \"ticks\": \"\"}, \"type\": \"contourcarpet\"}], \"heatmap\": [{\"colorbar\": {\"outlinewidth\": 0, \"ticks\": \"\"}, \"colorscale\": [[0.0, \"#0d0887\"], [0.1111111111111111, \"#46039f\"], [0.2222222222222222, \"#7201a8\"], [0.3333333333333333, \"#9c179e\"], [0.4444444444444444, \"#bd3786\"], [0.5555555555555556, \"#d8576b\"], [0.6666666666666666, \"#ed7953\"], [0.7777777777777778, \"#fb9f3a\"], [0.8888888888888888, \"#fdca26\"], [1.0, \"#f0f921\"]], \"type\": \"heatmap\"}], \"heatmapgl\": [{\"colorbar\": {\"outlinewidth\": 0, \"ticks\": \"\"}, \"colorscale\": [[0.0, \"#0d0887\"], [0.1111111111111111, \"#46039f\"], [0.2222222222222222, \"#7201a8\"], [0.3333333333333333, \"#9c179e\"], [0.4444444444444444, \"#bd3786\"], [0.5555555555555556, \"#d8576b\"], [0.6666666666666666, \"#ed7953\"], [0.7777777777777778, \"#fb9f3a\"], [0.8888888888888888, \"#fdca26\"], [1.0, \"#f0f921\"]], \"type\": \"heatmapgl\"}], \"histogram\": [{\"marker\": {\"colorbar\": {\"outlinewidth\": 0, \"ticks\": \"\"}}, \"type\": \"histogram\"}], \"histogram2d\": [{\"colorbar\": {\"outlinewidth\": 0, \"ticks\": \"\"}, \"colorscale\": [[0.0, \"#0d0887\"], [0.1111111111111111, \"#46039f\"], [0.2222222222222222, \"#7201a8\"], [0.3333333333333333, \"#9c179e\"], [0.4444444444444444, \"#bd3786\"], [0.5555555555555556, \"#d8576b\"], [0.6666666666666666, \"#ed7953\"], [0.7777777777777778, \"#fb9f3a\"], [0.8888888888888888, \"#fdca26\"], [1.0, \"#f0f921\"]], \"type\": \"histogram2d\"}], \"histogram2dcontour\": [{\"colorbar\": {\"outlinewidth\": 0, \"ticks\": \"\"}, \"colorscale\": [[0.0, \"#0d0887\"], [0.1111111111111111, \"#46039f\"], [0.2222222222222222, \"#7201a8\"], [0.3333333333333333, \"#9c179e\"], [0.4444444444444444, \"#bd3786\"], [0.5555555555555556, \"#d8576b\"], [0.6666666666666666, \"#ed7953\"], [0.7777777777777778, \"#fb9f3a\"], [0.8888888888888888, \"#fdca26\"], [1.0, \"#f0f921\"]], \"type\": \"histogram2dcontour\"}], \"mesh3d\": [{\"colorbar\": {\"outlinewidth\": 0, \"ticks\": \"\"}, \"type\": \"mesh3d\"}], \"parcoords\": [{\"line\": {\"colorbar\": {\"outlinewidth\": 0, \"ticks\": \"\"}}, \"type\": \"parcoords\"}], \"pie\": [{\"automargin\": true, \"type\": \"pie\"}], \"scatter\": [{\"marker\": {\"line\": {\"color\": \"#283442\"}}, \"type\": \"scatter\"}], \"scatter3d\": [{\"line\": {\"colorbar\": {\"outlinewidth\": 0, \"ticks\": \"\"}}, \"marker\": {\"colorbar\": {\"outlinewidth\": 0, \"ticks\": \"\"}}, \"type\": \"scatter3d\"}], \"scattercarpet\": [{\"marker\": {\"colorbar\": {\"outlinewidth\": 0, \"ticks\": \"\"}}, \"type\": \"scattercarpet\"}], \"scattergeo\": [{\"marker\": {\"colorbar\": {\"outlinewidth\": 0, \"ticks\": \"\"}}, \"type\": \"scattergeo\"}], \"scattergl\": [{\"marker\": {\"line\": {\"color\": \"#283442\"}}, \"type\": \"scattergl\"}], \"scattermapbox\": [{\"marker\": {\"colorbar\": {\"outlinewidth\": 0, \"ticks\": \"\"}}, \"type\": \"scattermapbox\"}], \"scatterpolar\": [{\"marker\": {\"colorbar\": {\"outlinewidth\": 0, \"ticks\": \"\"}}, \"type\": \"scatterpolar\"}], \"scatterpolargl\": [{\"marker\": {\"colorbar\": {\"outlinewidth\": 0, \"ticks\": \"\"}}, \"type\": \"scatterpolargl\"}], \"scatterternary\": [{\"marker\": {\"colorbar\": {\"outlinewidth\": 0, \"ticks\": \"\"}}, \"type\": \"scatterternary\"}], \"surface\": [{\"colorbar\": {\"outlinewidth\": 0, \"ticks\": \"\"}, \"colorscale\": [[0.0, \"#0d0887\"], [0.1111111111111111, \"#46039f\"], [0.2222222222222222, \"#7201a8\"], [0.3333333333333333, \"#9c179e\"], [0.4444444444444444, \"#bd3786\"], [0.5555555555555556, \"#d8576b\"], [0.6666666666666666, \"#ed7953\"], [0.7777777777777778, \"#fb9f3a\"], [0.8888888888888888, \"#fdca26\"], [1.0, \"#f0f921\"]], \"type\": \"surface\"}], \"table\": [{\"cells\": {\"fill\": {\"color\": \"#506784\"}, \"line\": {\"color\": \"rgb(17,17,17)\"}}, \"header\": {\"fill\": {\"color\": \"#2a3f5f\"}, \"line\": {\"color\": \"rgb(17,17,17)\"}}, \"type\": \"table\"}]}, \"layout\": {\"annotationdefaults\": {\"arrowcolor\": \"#f2f5fa\", \"arrowhead\": 0, \"arrowwidth\": 1}, \"coloraxis\": {\"colorbar\": {\"outlinewidth\": 0, \"ticks\": \"\"}}, \"colorscale\": {\"diverging\": [[0, \"#8e0152\"], [0.1, \"#c51b7d\"], [0.2, \"#de77ae\"], [0.3, \"#f1b6da\"], [0.4, \"#fde0ef\"], [0.5, \"#f7f7f7\"], [0.6, \"#e6f5d0\"], [0.7, \"#b8e186\"], [0.8, \"#7fbc41\"], [0.9, \"#4d9221\"], [1, \"#276419\"]], \"sequential\": [[0.0, \"#0d0887\"], [0.1111111111111111, \"#46039f\"], [0.2222222222222222, \"#7201a8\"], [0.3333333333333333, \"#9c179e\"], [0.4444444444444444, \"#bd3786\"], [0.5555555555555556, \"#d8576b\"], [0.6666666666666666, \"#ed7953\"], [0.7777777777777778, \"#fb9f3a\"], [0.8888888888888888, \"#fdca26\"], [1.0, \"#f0f921\"]], \"sequentialminus\": [[0.0, \"#0d0887\"], [0.1111111111111111, \"#46039f\"], [0.2222222222222222, \"#7201a8\"], [0.3333333333333333, \"#9c179e\"], [0.4444444444444444, \"#bd3786\"], [0.5555555555555556, \"#d8576b\"], [0.6666666666666666, \"#ed7953\"], [0.7777777777777778, \"#fb9f3a\"], [0.8888888888888888, \"#fdca26\"], [1.0, \"#f0f921\"]]}, \"colorway\": [\"#636efa\", \"#EF553B\", \"#00cc96\", \"#ab63fa\", \"#FFA15A\", \"#19d3f3\", \"#FF6692\", \"#B6E880\", \"#FF97FF\", \"#FECB52\"], \"font\": {\"color\": \"#f2f5fa\"}, \"geo\": {\"bgcolor\": \"rgb(17,17,17)\", \"lakecolor\": \"rgb(17,17,17)\", \"landcolor\": \"rgb(17,17,17)\", \"showlakes\": true, \"showland\": true, \"subunitcolor\": \"#506784\"}, \"hoverlabel\": {\"align\": \"left\"}, \"hovermode\": \"closest\", \"mapbox\": {\"style\": \"dark\"}, \"paper_bgcolor\": \"rgb(17,17,17)\", \"plot_bgcolor\": \"rgb(17,17,17)\", \"polar\": {\"angularaxis\": {\"gridcolor\": \"#506784\", \"linecolor\": \"#506784\", \"ticks\": \"\"}, \"bgcolor\": \"rgb(17,17,17)\", \"radialaxis\": {\"gridcolor\": \"#506784\", \"linecolor\": \"#506784\", \"ticks\": \"\"}}, \"scene\": {\"xaxis\": {\"backgroundcolor\": \"rgb(17,17,17)\", \"gridcolor\": \"#506784\", \"gridwidth\": 2, \"linecolor\": \"#506784\", \"showbackground\": true, \"ticks\": \"\", \"zerolinecolor\": \"#C8D4E3\"}, \"yaxis\": {\"backgroundcolor\": \"rgb(17,17,17)\", \"gridcolor\": \"#506784\", \"gridwidth\": 2, \"linecolor\": \"#506784\", \"showbackground\": true, \"ticks\": \"\", \"zerolinecolor\": \"#C8D4E3\"}, \"zaxis\": {\"backgroundcolor\": \"rgb(17,17,17)\", \"gridcolor\": \"#506784\", \"gridwidth\": 2, \"linecolor\": \"#506784\", \"showbackground\": true, \"ticks\": \"\", \"zerolinecolor\": \"#C8D4E3\"}}, \"shapedefaults\": {\"line\": {\"color\": \"#f2f5fa\"}}, \"sliderdefaults\": {\"bgcolor\": \"#C8D4E3\", \"bordercolor\": \"rgb(17,17,17)\", \"borderwidth\": 1, \"tickwidth\": 0}, \"ternary\": {\"aaxis\": {\"gridcolor\": \"#506784\", \"linecolor\": \"#506784\", \"ticks\": \"\"}, \"baxis\": {\"gridcolor\": \"#506784\", \"linecolor\": \"#506784\", \"ticks\": \"\"}, \"bgcolor\": \"rgb(17,17,17)\", \"caxis\": {\"gridcolor\": \"#506784\", \"linecolor\": \"#506784\", \"ticks\": \"\"}}, \"title\": {\"x\": 0.05}, \"updatemenudefaults\": {\"bgcolor\": \"#506784\", \"borderwidth\": 0}, \"xaxis\": {\"automargin\": true, \"gridcolor\": \"#283442\", \"linecolor\": \"#506784\", \"ticks\": \"\", \"title\": {\"standoff\": 15}, \"zerolinecolor\": \"#283442\", \"zerolinewidth\": 2}, \"yaxis\": {\"automargin\": true, \"gridcolor\": \"#283442\", \"linecolor\": \"#506784\", \"ticks\": \"\", \"title\": {\"standoff\": 15}, \"zerolinecolor\": \"#283442\", \"zerolinewidth\": 2}}}, \"xaxis\": {\"anchor\": \"y\", \"domain\": [0.0, 1.0], \"title\": {\"text\": \"x\"}}, \"yaxis\": {\"anchor\": \"x\", \"domain\": [0.0, 1.0], \"title\": {\"text\": \"y\"}}},\n",
              "                        {\"responsive\": true}\n",
              "                    ).then(function(){\n",
              "                            \n",
              "var gd = document.getElementById('78bc8e93-ca53-429e-bb1d-ed825f56e458');\n",
              "var x = new MutationObserver(function (mutations, observer) {{\n",
              "        var display = window.getComputedStyle(gd).display;\n",
              "        if (!display || display === 'none') {{\n",
              "            console.log([gd, 'removed!']);\n",
              "            Plotly.purge(gd);\n",
              "            observer.disconnect();\n",
              "        }}\n",
              "}});\n",
              "\n",
              "// Listen for the removal of the full notebook cells\n",
              "var notebookContainer = gd.closest('#notebook-container');\n",
              "if (notebookContainer) {{\n",
              "    x.observe(notebookContainer, {childList: true});\n",
              "}}\n",
              "\n",
              "// Listen for the clearing of the current output cell\n",
              "var outputEl = gd.closest('.output');\n",
              "if (outputEl) {{\n",
              "    x.observe(outputEl, {childList: true});\n",
              "}}\n",
              "\n",
              "                        })\n",
              "                };\n",
              "                \n",
              "            </script>\n",
              "        </div>\n",
              "</body>\n",
              "</html>"
            ]
          },
          "metadata": {}
        }
      ]
    },
    {
      "cell_type": "code",
      "metadata": {
        "colab": {
          "base_uri": "https://localhost:8080/",
          "height": 542
        },
        "id": "lTEBO4TIPNuJ",
        "outputId": "862fc014-04f0-45f9-e33d-47db3ac43d4d"
      },
      "source": [
        "px.choropleth(result, locations = 'Country', locationmode = 'country names',  \n",
        "              color = 'GDP',\n",
        "              projection = 'equirectangular',\n",
        "              animation_frame = 'year')"
      ],
      "execution_count": null,
      "outputs": [
        {
          "output_type": "display_data",
          "data": {
            "text/html": [
              "<html>\n",
              "<head><meta charset=\"utf-8\" /></head>\n",
              "<body>\n",
              "    <div>\n",
              "            <script src=\"https://cdnjs.cloudflare.com/ajax/libs/mathjax/2.7.5/MathJax.js?config=TeX-AMS-MML_SVG\"></script><script type=\"text/javascript\">if (window.MathJax) {MathJax.Hub.Config({SVG: {font: \"STIX-Web\"}});}</script>\n",
              "                <script type=\"text/javascript\">window.PlotlyConfig = {MathJaxConfig: 'local'};</script>\n",
              "        <script src=\"https://cdn.plot.ly/plotly-latest.min.js\"></script>    \n",
              "            <div id=\"ba2e1162-5e95-4c02-adfd-7bc66ca6bee8\" class=\"plotly-graph-div\" style=\"height:525px; width:100%;\"></div>\n",
              "            <script type=\"text/javascript\">\n",
              "                \n",
              "                    window.PLOTLYENV=window.PLOTLYENV || {};\n",
              "                    \n",
              "                if (document.getElementById(\"ba2e1162-5e95-4c02-adfd-7bc66ca6bee8\")) {\n",
              "                    Plotly.newPlot(\n",
              "                        'ba2e1162-5e95-4c02-adfd-7bc66ca6bee8',\n",
              "                        [{\"coloraxis\": \"coloraxis\", \"geo\": \"geo\", \"hoverlabel\": {\"namelength\": 0}, \"hovertemplate\": \"year=2014<br>Country=%{location}<br>GDP=%{z}\", \"locationmode\": \"country names\", \"locations\": [\"United States\", \"China\", \"Japan\", \"Germany\", \"United Kingdom\", \"France\", \"Brazil\", \"Italy\", \"Russia\", \"India\"], \"name\": \"\", \"type\": \"choropleth\", \"z\": [17527.275, 10524.211000000001, 4896.995, 3890.095, 3067.117, 2856.7009999999996, 2456.055, 2162.567, 2048.8360000000002, 2039.1270000000002]}],\n",
              "                        {\"coloraxis\": {\"colorbar\": {\"title\": {\"text\": \"GDP\"}}, \"colorscale\": [[0.0, \"#0d0887\"], [0.1111111111111111, \"#46039f\"], [0.2222222222222222, \"#7201a8\"], [0.3333333333333333, \"#9c179e\"], [0.4444444444444444, \"#bd3786\"], [0.5555555555555556, \"#d8576b\"], [0.6666666666666666, \"#ed7953\"], [0.7777777777777778, \"#fb9f3a\"], [0.8888888888888888, \"#fdca26\"], [1.0, \"#f0f921\"]]}, \"geo\": {\"center\": {}, \"domain\": {\"x\": [0.0, 1.0], \"y\": [0.0, 1.0]}, \"projection\": {\"type\": \"equirectangular\"}}, \"legend\": {\"tracegroupgap\": 0}, \"margin\": {\"t\": 60}, \"sliders\": [{\"active\": 0, \"currentvalue\": {\"prefix\": \"year=\"}, \"len\": 0.9, \"pad\": {\"b\": 10, \"t\": 60}, \"steps\": [{\"args\": [[\"2014\"], {\"frame\": {\"duration\": 0, \"redraw\": true}, \"fromcurrent\": true, \"mode\": \"immediate\", \"transition\": {\"duration\": 0, \"easing\": \"linear\"}}], \"label\": \"2014\", \"method\": \"animate\"}, {\"args\": [[\"2015\"], {\"frame\": {\"duration\": 0, \"redraw\": true}, \"fromcurrent\": true, \"mode\": \"immediate\", \"transition\": {\"duration\": 0, \"easing\": \"linear\"}}], \"label\": \"2015\", \"method\": \"animate\"}, {\"args\": [[\"2016\"], {\"frame\": {\"duration\": 0, \"redraw\": true}, \"fromcurrent\": true, \"mode\": \"immediate\", \"transition\": {\"duration\": 0, \"easing\": \"linear\"}}], \"label\": \"2016\", \"method\": \"animate\"}, {\"args\": [[\"2017\"], {\"frame\": {\"duration\": 0, \"redraw\": true}, \"fromcurrent\": true, \"mode\": \"immediate\", \"transition\": {\"duration\": 0, \"easing\": \"linear\"}}], \"label\": \"2017\", \"method\": \"animate\"}, {\"args\": [[\"2018\"], {\"frame\": {\"duration\": 0, \"redraw\": true}, \"fromcurrent\": true, \"mode\": \"immediate\", \"transition\": {\"duration\": 0, \"easing\": \"linear\"}}], \"label\": \"2018\", \"method\": \"animate\"}, {\"args\": [[\"2019\"], {\"frame\": {\"duration\": 0, \"redraw\": true}, \"fromcurrent\": true, \"mode\": \"immediate\", \"transition\": {\"duration\": 0, \"easing\": \"linear\"}}], \"label\": \"2019\", \"method\": \"animate\"}, {\"args\": [[\"2020\"], {\"frame\": {\"duration\": 0, \"redraw\": true}, \"fromcurrent\": true, \"mode\": \"immediate\", \"transition\": {\"duration\": 0, \"easing\": \"linear\"}}], \"label\": \"2020\", \"method\": \"animate\"}, {\"args\": [[\"2021\"], {\"frame\": {\"duration\": 0, \"redraw\": true}, \"fromcurrent\": true, \"mode\": \"immediate\", \"transition\": {\"duration\": 0, \"easing\": \"linear\"}}], \"label\": \"2021\", \"method\": \"animate\"}], \"x\": 0.1, \"xanchor\": \"left\", \"y\": 0, \"yanchor\": \"top\"}], \"template\": {\"data\": {\"bar\": [{\"error_x\": {\"color\": \"#2a3f5f\"}, \"error_y\": {\"color\": \"#2a3f5f\"}, \"marker\": {\"line\": {\"color\": \"#E5ECF6\", \"width\": 0.5}}, \"type\": \"bar\"}], \"barpolar\": [{\"marker\": {\"line\": {\"color\": \"#E5ECF6\", \"width\": 0.5}}, \"type\": \"barpolar\"}], \"carpet\": [{\"aaxis\": {\"endlinecolor\": \"#2a3f5f\", \"gridcolor\": \"white\", \"linecolor\": \"white\", \"minorgridcolor\": \"white\", \"startlinecolor\": \"#2a3f5f\"}, \"baxis\": {\"endlinecolor\": \"#2a3f5f\", \"gridcolor\": \"white\", \"linecolor\": \"white\", \"minorgridcolor\": \"white\", \"startlinecolor\": \"#2a3f5f\"}, \"type\": \"carpet\"}], \"choropleth\": [{\"colorbar\": {\"outlinewidth\": 0, \"ticks\": \"\"}, \"type\": \"choropleth\"}], \"contour\": [{\"colorbar\": {\"outlinewidth\": 0, \"ticks\": \"\"}, \"colorscale\": [[0.0, \"#0d0887\"], [0.1111111111111111, \"#46039f\"], [0.2222222222222222, \"#7201a8\"], [0.3333333333333333, \"#9c179e\"], [0.4444444444444444, \"#bd3786\"], [0.5555555555555556, \"#d8576b\"], [0.6666666666666666, \"#ed7953\"], [0.7777777777777778, \"#fb9f3a\"], [0.8888888888888888, \"#fdca26\"], [1.0, \"#f0f921\"]], \"type\": \"contour\"}], \"contourcarpet\": [{\"colorbar\": {\"outlinewidth\": 0, \"ticks\": \"\"}, \"type\": \"contourcarpet\"}], \"heatmap\": [{\"colorbar\": {\"outlinewidth\": 0, \"ticks\": \"\"}, \"colorscale\": [[0.0, \"#0d0887\"], [0.1111111111111111, \"#46039f\"], [0.2222222222222222, \"#7201a8\"], [0.3333333333333333, \"#9c179e\"], [0.4444444444444444, \"#bd3786\"], [0.5555555555555556, \"#d8576b\"], [0.6666666666666666, \"#ed7953\"], [0.7777777777777778, \"#fb9f3a\"], [0.8888888888888888, \"#fdca26\"], [1.0, \"#f0f921\"]], \"type\": \"heatmap\"}], \"heatmapgl\": [{\"colorbar\": {\"outlinewidth\": 0, \"ticks\": \"\"}, \"colorscale\": [[0.0, \"#0d0887\"], [0.1111111111111111, \"#46039f\"], [0.2222222222222222, \"#7201a8\"], [0.3333333333333333, \"#9c179e\"], [0.4444444444444444, \"#bd3786\"], [0.5555555555555556, \"#d8576b\"], [0.6666666666666666, \"#ed7953\"], [0.7777777777777778, \"#fb9f3a\"], [0.8888888888888888, \"#fdca26\"], [1.0, \"#f0f921\"]], \"type\": \"heatmapgl\"}], \"histogram\": [{\"marker\": {\"colorbar\": {\"outlinewidth\": 0, \"ticks\": \"\"}}, \"type\": \"histogram\"}], \"histogram2d\": [{\"colorbar\": {\"outlinewidth\": 0, \"ticks\": \"\"}, \"colorscale\": [[0.0, \"#0d0887\"], [0.1111111111111111, \"#46039f\"], [0.2222222222222222, \"#7201a8\"], [0.3333333333333333, \"#9c179e\"], [0.4444444444444444, \"#bd3786\"], [0.5555555555555556, \"#d8576b\"], [0.6666666666666666, \"#ed7953\"], [0.7777777777777778, \"#fb9f3a\"], [0.8888888888888888, \"#fdca26\"], [1.0, \"#f0f921\"]], \"type\": \"histogram2d\"}], \"histogram2dcontour\": [{\"colorbar\": {\"outlinewidth\": 0, \"ticks\": \"\"}, \"colorscale\": [[0.0, \"#0d0887\"], [0.1111111111111111, \"#46039f\"], [0.2222222222222222, \"#7201a8\"], [0.3333333333333333, \"#9c179e\"], [0.4444444444444444, \"#bd3786\"], [0.5555555555555556, \"#d8576b\"], [0.6666666666666666, \"#ed7953\"], [0.7777777777777778, \"#fb9f3a\"], [0.8888888888888888, \"#fdca26\"], [1.0, \"#f0f921\"]], \"type\": \"histogram2dcontour\"}], \"mesh3d\": [{\"colorbar\": {\"outlinewidth\": 0, \"ticks\": \"\"}, \"type\": \"mesh3d\"}], \"parcoords\": [{\"line\": {\"colorbar\": {\"outlinewidth\": 0, \"ticks\": \"\"}}, \"type\": \"parcoords\"}], \"pie\": [{\"automargin\": true, \"type\": \"pie\"}], \"scatter\": [{\"marker\": {\"colorbar\": {\"outlinewidth\": 0, \"ticks\": \"\"}}, \"type\": \"scatter\"}], \"scatter3d\": [{\"line\": {\"colorbar\": {\"outlinewidth\": 0, \"ticks\": \"\"}}, \"marker\": {\"colorbar\": {\"outlinewidth\": 0, \"ticks\": \"\"}}, \"type\": \"scatter3d\"}], \"scattercarpet\": [{\"marker\": {\"colorbar\": {\"outlinewidth\": 0, \"ticks\": \"\"}}, \"type\": \"scattercarpet\"}], \"scattergeo\": [{\"marker\": {\"colorbar\": {\"outlinewidth\": 0, \"ticks\": \"\"}}, \"type\": \"scattergeo\"}], \"scattergl\": [{\"marker\": {\"colorbar\": {\"outlinewidth\": 0, \"ticks\": \"\"}}, \"type\": \"scattergl\"}], \"scattermapbox\": [{\"marker\": {\"colorbar\": {\"outlinewidth\": 0, \"ticks\": \"\"}}, \"type\": \"scattermapbox\"}], \"scatterpolar\": [{\"marker\": {\"colorbar\": {\"outlinewidth\": 0, \"ticks\": \"\"}}, \"type\": \"scatterpolar\"}], \"scatterpolargl\": [{\"marker\": {\"colorbar\": {\"outlinewidth\": 0, \"ticks\": \"\"}}, \"type\": \"scatterpolargl\"}], \"scatterternary\": [{\"marker\": {\"colorbar\": {\"outlinewidth\": 0, \"ticks\": \"\"}}, \"type\": \"scatterternary\"}], \"surface\": [{\"colorbar\": {\"outlinewidth\": 0, \"ticks\": \"\"}, \"colorscale\": [[0.0, \"#0d0887\"], [0.1111111111111111, \"#46039f\"], [0.2222222222222222, \"#7201a8\"], [0.3333333333333333, \"#9c179e\"], [0.4444444444444444, \"#bd3786\"], [0.5555555555555556, \"#d8576b\"], [0.6666666666666666, \"#ed7953\"], [0.7777777777777778, \"#fb9f3a\"], [0.8888888888888888, \"#fdca26\"], [1.0, \"#f0f921\"]], \"type\": \"surface\"}], \"table\": [{\"cells\": {\"fill\": {\"color\": \"#EBF0F8\"}, \"line\": {\"color\": \"white\"}}, \"header\": {\"fill\": {\"color\": \"#C8D4E3\"}, \"line\": {\"color\": \"white\"}}, \"type\": \"table\"}]}, \"layout\": {\"annotationdefaults\": {\"arrowcolor\": \"#2a3f5f\", \"arrowhead\": 0, \"arrowwidth\": 1}, \"coloraxis\": {\"colorbar\": {\"outlinewidth\": 0, \"ticks\": \"\"}}, \"colorscale\": {\"diverging\": [[0, \"#8e0152\"], [0.1, \"#c51b7d\"], [0.2, \"#de77ae\"], [0.3, \"#f1b6da\"], [0.4, \"#fde0ef\"], [0.5, \"#f7f7f7\"], [0.6, \"#e6f5d0\"], [0.7, \"#b8e186\"], [0.8, \"#7fbc41\"], [0.9, \"#4d9221\"], [1, \"#276419\"]], \"sequential\": [[0.0, \"#0d0887\"], [0.1111111111111111, \"#46039f\"], [0.2222222222222222, \"#7201a8\"], [0.3333333333333333, \"#9c179e\"], [0.4444444444444444, \"#bd3786\"], [0.5555555555555556, \"#d8576b\"], [0.6666666666666666, \"#ed7953\"], [0.7777777777777778, \"#fb9f3a\"], [0.8888888888888888, \"#fdca26\"], [1.0, \"#f0f921\"]], \"sequentialminus\": [[0.0, \"#0d0887\"], [0.1111111111111111, \"#46039f\"], [0.2222222222222222, \"#7201a8\"], [0.3333333333333333, \"#9c179e\"], [0.4444444444444444, \"#bd3786\"], [0.5555555555555556, \"#d8576b\"], [0.6666666666666666, \"#ed7953\"], [0.7777777777777778, \"#fb9f3a\"], [0.8888888888888888, \"#fdca26\"], [1.0, \"#f0f921\"]]}, \"colorway\": [\"#636efa\", \"#EF553B\", \"#00cc96\", \"#ab63fa\", \"#FFA15A\", \"#19d3f3\", \"#FF6692\", \"#B6E880\", \"#FF97FF\", \"#FECB52\"], \"font\": {\"color\": \"#2a3f5f\"}, \"geo\": {\"bgcolor\": \"white\", \"lakecolor\": \"white\", \"landcolor\": \"#E5ECF6\", \"showlakes\": true, \"showland\": true, \"subunitcolor\": \"white\"}, \"hoverlabel\": {\"align\": \"left\"}, \"hovermode\": \"closest\", \"mapbox\": {\"style\": \"light\"}, \"paper_bgcolor\": \"white\", \"plot_bgcolor\": \"#E5ECF6\", \"polar\": {\"angularaxis\": {\"gridcolor\": \"white\", \"linecolor\": \"white\", \"ticks\": \"\"}, \"bgcolor\": \"#E5ECF6\", \"radialaxis\": {\"gridcolor\": \"white\", \"linecolor\": \"white\", \"ticks\": \"\"}}, \"scene\": {\"xaxis\": {\"backgroundcolor\": \"#E5ECF6\", \"gridcolor\": \"white\", \"gridwidth\": 2, \"linecolor\": \"white\", \"showbackground\": true, \"ticks\": \"\", \"zerolinecolor\": \"white\"}, \"yaxis\": {\"backgroundcolor\": \"#E5ECF6\", \"gridcolor\": \"white\", \"gridwidth\": 2, \"linecolor\": \"white\", \"showbackground\": true, \"ticks\": \"\", \"zerolinecolor\": \"white\"}, \"zaxis\": {\"backgroundcolor\": \"#E5ECF6\", \"gridcolor\": \"white\", \"gridwidth\": 2, \"linecolor\": \"white\", \"showbackground\": true, \"ticks\": \"\", \"zerolinecolor\": \"white\"}}, \"shapedefaults\": {\"line\": {\"color\": \"#2a3f5f\"}}, \"ternary\": {\"aaxis\": {\"gridcolor\": \"white\", \"linecolor\": \"white\", \"ticks\": \"\"}, \"baxis\": {\"gridcolor\": \"white\", \"linecolor\": \"white\", \"ticks\": \"\"}, \"bgcolor\": \"#E5ECF6\", \"caxis\": {\"gridcolor\": \"white\", \"linecolor\": \"white\", \"ticks\": \"\"}}, \"title\": {\"x\": 0.05}, \"xaxis\": {\"automargin\": true, \"gridcolor\": \"white\", \"linecolor\": \"white\", \"ticks\": \"\", \"title\": {\"standoff\": 15}, \"zerolinecolor\": \"white\", \"zerolinewidth\": 2}, \"yaxis\": {\"automargin\": true, \"gridcolor\": \"white\", \"linecolor\": \"white\", \"ticks\": \"\", \"title\": {\"standoff\": 15}, \"zerolinecolor\": \"white\", \"zerolinewidth\": 2}}}, \"updatemenus\": [{\"buttons\": [{\"args\": [null, {\"frame\": {\"duration\": 500, \"redraw\": true}, \"fromcurrent\": true, \"mode\": \"immediate\", \"transition\": {\"duration\": 500, \"easing\": \"linear\"}}], \"label\": \"&#9654;\", \"method\": \"animate\"}, {\"args\": [[null], {\"frame\": {\"duration\": 0, \"redraw\": true}, \"fromcurrent\": true, \"mode\": \"immediate\", \"transition\": {\"duration\": 0, \"easing\": \"linear\"}}], \"label\": \"&#9724;\", \"method\": \"animate\"}], \"direction\": \"left\", \"pad\": {\"r\": 10, \"t\": 70}, \"showactive\": false, \"type\": \"buttons\", \"x\": 0.1, \"xanchor\": \"right\", \"y\": 0, \"yanchor\": \"top\"}]},\n",
              "                        {\"responsive\": true}\n",
              "                    ).then(function(){\n",
              "                            Plotly.addFrames('ba2e1162-5e95-4c02-adfd-7bc66ca6bee8', [{\"data\": [{\"coloraxis\": \"coloraxis\", \"geo\": \"geo\", \"hoverlabel\": {\"namelength\": 0}, \"hovertemplate\": \"year=2014<br>Country=%{location}<br>GDP=%{z}\", \"locationmode\": \"country names\", \"locations\": [\"United States\", \"China\", \"Japan\", \"Germany\", \"United Kingdom\", \"France\", \"Brazil\", \"Italy\", \"Russia\", \"India\"], \"name\": \"\", \"z\": [17527.275, 10524.211000000001, 4896.995, 3890.095, 3067.117, 2856.7009999999996, 2456.055, 2162.567, 2048.8360000000002, 2039.1270000000002], \"type\": \"choropleth\"}], \"name\": \"2014\"}, {\"data\": [{\"coloraxis\": \"coloraxis\", \"geo\": \"geo\", \"hoverlabel\": {\"namelength\": 0}, \"hovertemplate\": \"year=2015<br>Country=%{location}<br>GDP=%{z}\", \"locationmode\": \"country names\", \"locations\": [\"United States\", \"China\", \"Japan\", \"Germany\", \"United Kingdom\", \"France\", \"India\", \"Italy\", \"Brazil\", \"Canada\"], \"name\": \"\", \"z\": [18238.3, 11113.528, 4444.931, 3357.926, 2933.433, 2439.436, 2103.5879999999997, 1836.8239999999998, 1800.046, 1556.5079999999998], \"type\": \"choropleth\"}], \"name\": \"2015\"}, {\"data\": [{\"coloraxis\": \"coloraxis\", \"geo\": \"geo\", \"hoverlabel\": {\"namelength\": 0}, \"hovertemplate\": \"year=2016<br>Country=%{location}<br>GDP=%{z}\", \"locationmode\": \"country names\", \"locations\": [\"United States\", \"China\", \"Japan\", \"Germany\", \"United Kingdom\", \"France\", \"India\", \"Italy\", \"Brazil\", \"Canada\"], \"name\": \"\", \"z\": [18745.1, 11227.075, 5003.678, 3468.8959999999997, 2703.242, 2472.282, 2294.118, 1876.5539999999999, 1796.622, 1527.996], \"type\": \"choropleth\"}], \"name\": \"2016\"}, {\"data\": [{\"coloraxis\": \"coloraxis\", \"geo\": \"geo\", \"hoverlabel\": {\"namelength\": 0}, \"hovertemplate\": \"year=2017<br>Country=%{location}<br>GDP=%{z}\", \"locationmode\": \"country names\", \"locations\": [\"United States\", \"China\", \"Japan\", \"Germany\", \"United Kingdom\", \"India\", \"France\", \"Brazil\", \"Italy\", \"Canada\"], \"name\": \"\", \"z\": [19542.975, 12265.317, 4930.837, 3681.303, 2664.705, 2651.474, 2594.235, 2063.518, 1961.105, 1649.266], \"type\": \"choropleth\"}], \"name\": \"2017\"}, {\"data\": [{\"coloraxis\": \"coloraxis\", \"geo\": \"geo\", \"hoverlabel\": {\"namelength\": 0}, \"hovertemplate\": \"year=2018<br>Country=%{location}<br>GDP=%{z}\", \"locationmode\": \"country names\", \"locations\": [\"United States\", \"China\", \"Japan\", \"Germany\", \"United Kingdom\", \"France\", \"India\", \"Italy\", \"Brazil\", \"Korea\"], \"name\": \"\", \"z\": [20611.875, 13841.901000000002, 5036.892, 3965.565, 2860.982, 2791.163, 2701.112, 2093.089, 1916.934, 1725.3729999999998], \"type\": \"choropleth\"}], \"name\": \"2018\"}, {\"data\": [{\"coloraxis\": \"coloraxis\", \"geo\": \"geo\", \"hoverlabel\": {\"namelength\": 0}, \"hovertemplate\": \"year=2019<br>Country=%{location}<br>GDP=%{z}\", \"locationmode\": \"country names\", \"locations\": [\"United States\", \"China\", \"Japan\", \"Germany\", \"India\", \"United Kingdom\", \"France\", \"Italy\", \"Brazil\", \"Canada\"], \"name\": \"\", \"z\": [21433.225, 14340.6, 5148.781, 3861.55, 2870.5040000000004, 2833.301, 2717.204, 2005.135, 1877.114, 1741.576], \"type\": \"choropleth\"}], \"name\": \"2019\"}, {\"data\": [{\"coloraxis\": \"coloraxis\", \"geo\": \"geo\", \"hoverlabel\": {\"namelength\": 0}, \"hovertemplate\": \"year=2020<br>Country=%{location}<br>GDP=%{z}\", \"locationmode\": \"country names\", \"locations\": [\"United States\", \"China\", \"Japan\", \"Germany\", \"United Kingdom\", \"India\", \"France\", \"Italy\", \"Canada\", \"Korea\"], \"name\": \"\", \"z\": [20932.75, 14722.837, 5048.688, 3803.014, 2710.97, 2708.77, 2598.907, 1884.935, 1643.408, 1630.871], \"type\": \"choropleth\"}], \"name\": \"2020\"}, {\"data\": [{\"coloraxis\": \"coloraxis\", \"geo\": \"geo\", \"hoverlabel\": {\"namelength\": 0}, \"hovertemplate\": \"year=2021<br>Country=%{location}<br>GDP=%{z}\", \"locationmode\": \"country names\", \"locations\": [\"United States\", \"China\", \"Japan\", \"Germany\", \"United Kingdom\", \"India\", \"France\", \"Italy\", \"Canada\", \"Korea\"], \"name\": \"\", \"z\": [22675.271, 16642.318, 5378.1359999999995, 4319.286, 3124.65, 3049.704, 2938.2709999999997, 2106.2870000000003, 1883.487, 1806.707], \"type\": \"choropleth\"}], \"name\": \"2021\"}]);\n",
              "                        }).then(function(){\n",
              "                            \n",
              "var gd = document.getElementById('ba2e1162-5e95-4c02-adfd-7bc66ca6bee8');\n",
              "var x = new MutationObserver(function (mutations, observer) {{\n",
              "        var display = window.getComputedStyle(gd).display;\n",
              "        if (!display || display === 'none') {{\n",
              "            console.log([gd, 'removed!']);\n",
              "            Plotly.purge(gd);\n",
              "            observer.disconnect();\n",
              "        }}\n",
              "}});\n",
              "\n",
              "// Listen for the removal of the full notebook cells\n",
              "var notebookContainer = gd.closest('#notebook-container');\n",
              "if (notebookContainer) {{\n",
              "    x.observe(notebookContainer, {childList: true});\n",
              "}}\n",
              "\n",
              "// Listen for the clearing of the current output cell\n",
              "var outputEl = gd.closest('.output');\n",
              "if (outputEl) {{\n",
              "    x.observe(outputEl, {childList: true});\n",
              "}}\n",
              "\n",
              "                        })\n",
              "                };\n",
              "                \n",
              "            </script>\n",
              "        </div>\n",
              "</body>\n",
              "</html>"
            ]
          },
          "metadata": {}
        }
      ]
    },
    {
      "cell_type": "markdown",
      "metadata": {
        "id": "1YM1gJX0d8uQ"
      },
      "source": [
        "#Population From 1950 - 2100"
      ]
    },
    {
      "cell_type": "markdown",
      "metadata": {
        "id": "OuoQ0sqVtU-n"
      },
      "source": [
        "Downloading the csv file from GOOGLE DRIVE using opendatasets download function.\n",
        "Alternatively, you can mount the drive to jupyter and can access the google drive"
      ]
    },
    {
      "cell_type": "code",
      "metadata": {
        "id": "99ldiSdRXDFL",
        "colab": {
          "base_uri": "https://localhost:8080/"
        },
        "outputId": "5ccc9158-a2a1-4a7f-cbd0-b7f26660b203"
      },
      "source": [
        "od.download('https://drive.google.com/file/d/1EDj_fgVApd-xLRaM3vswCDBfTvNiery2/view?usp=sharing')"
      ],
      "execution_count": null,
      "outputs": [
        {
          "output_type": "stream",
          "name": "stdout",
          "text": [
            "Downloading from Google Drive (may take a while): https://drive.google.com/file/d/1EDj_fgVApd-xLRaM3vswCDBfTvNiery2/view?usp=sharing\n"
          ]
        },
        {
          "output_type": "stream",
          "name": "stderr",
          "text": [
            "9826it [00:00, 12082448.29it/s]"
          ]
        },
        {
          "output_type": "stream",
          "name": "stdout",
          "text": [
            "Downloaded to  ./codes-country-region.txt\n"
          ]
        },
        {
          "output_type": "stream",
          "name": "stderr",
          "text": [
            "\n"
          ]
        }
      ]
    },
    {
      "cell_type": "code",
      "metadata": {
        "colab": {
          "base_uri": "https://localhost:8080/"
        },
        "id": "N_5ogleyfi0E",
        "outputId": "00754116-9889-427a-bd10-caed7c0bb5b8"
      },
      "source": [
        "od.download('https://drive.google.com/file/d/1MCfnr8KbFBGqVcSinLDWtxJrV2j6FPSP/view?usp=sharing')\n",
        "od.download('https://drive.google.com/file/d/1qBg42ePFiJvgMc-YabQmQ-Xig0tmbCqK/view?usp=sharing')\n",
        "od.download('https://drive.google.com/file/d/1-WO6lGwuMXxsGj1QhhGJfy226A54TDwh/view?usp=sharing')"
      ],
      "execution_count": null,
      "outputs": [
        {
          "output_type": "stream",
          "name": "stdout",
          "text": [
            "Downloading from Google Drive (may take a while): https://drive.google.com/file/d/1MCfnr8KbFBGqVcSinLDWtxJrV2j6FPSP/view?usp=sharing\n"
          ]
        },
        {
          "output_type": "stream",
          "name": "stderr",
          "text": [
            "14351998it [00:00, 990206649.22it/s]\n"
          ]
        },
        {
          "output_type": "stream",
          "name": "stdout",
          "text": [
            "Downloaded to  ./population-1950-1999.csv\n",
            "Downloading from Google Drive (may take a while): https://drive.google.com/file/d/1qBg42ePFiJvgMc-YabQmQ-Xig0tmbCqK/view?usp=sharing\n"
          ]
        },
        {
          "output_type": "stream",
          "name": "stderr",
          "text": [
            "14582734it [00:00, 914813334.54it/s]\n"
          ]
        },
        {
          "output_type": "stream",
          "name": "stdout",
          "text": [
            "Downloaded to  ./population-2000-2049.csv\n",
            "Downloading from Google Drive (may take a while): https://drive.google.com/file/d/1-WO6lGwuMXxsGj1QhhGJfy226A54TDwh/view?usp=sharing\n"
          ]
        },
        {
          "output_type": "stream",
          "name": "stderr",
          "text": [
            "15025997it [00:00, 936889195.93it/s]"
          ]
        },
        {
          "output_type": "stream",
          "name": "stdout",
          "text": [
            "Downloaded to  ./population-2050-2100.csv\n"
          ]
        },
        {
          "output_type": "stream",
          "name": "stderr",
          "text": [
            "\n"
          ]
        }
      ]
    },
    {
      "cell_type": "markdown",
      "metadata": {
        "id": "fOseg1AktN0d"
      },
      "source": [
        "Now creating dataframes by reading the downloaded csv files for Data manipulation.\n",
        "- In this case we have used a parameter header to assign first row as 'header' or column names "
      ]
    },
    {
      "cell_type": "code",
      "metadata": {
        "colab": {
          "base_uri": "https://localhost:8080/"
        },
        "id": "Wa9w1yMcp-16",
        "outputId": "54aa525b-79f5-41fe-a411-74c24f5ba8e5"
      },
      "source": [
        "population1 = pd.read_csv('/content/population-1950-1999.csv', header = 1)\n",
        "population2 = pd.read_csv('/content/population-2000-2049.csv', header = 0)\n",
        "population3 = pd.read_csv('/content/population-2050-2100.csv', header = 0)\n"
      ],
      "execution_count": null,
      "outputs": [
        {
          "output_type": "stream",
          "name": "stderr",
          "text": [
            "/usr/local/lib/python3.7/dist-packages/IPython/core/interactiveshell.py:2718: DtypeWarning:\n",
            "\n",
            "Columns (8) have mixed types.Specify dtype option on import or set low_memory=False.\n",
            "\n"
          ]
        }
      ]
    },
    {
      "cell_type": "code",
      "metadata": {
        "colab": {
          "base_uri": "https://localhost:8080/",
          "height": 206
        },
        "id": "OfivA7KKzMjn",
        "outputId": "d77d0cec-16e7-4204-99e8-cd9de839f719"
      },
      "source": [
        "population3.head()"
      ],
      "execution_count": null,
      "outputs": [
        {
          "output_type": "execute_result",
          "data": {
            "text/html": [
              "<div>\n",
              "<style scoped>\n",
              "    .dataframe tbody tr th:only-of-type {\n",
              "        vertical-align: middle;\n",
              "    }\n",
              "\n",
              "    .dataframe tbody tr th {\n",
              "        vertical-align: top;\n",
              "    }\n",
              "\n",
              "    .dataframe thead th {\n",
              "        text-align: right;\n",
              "    }\n",
              "</style>\n",
              "<table border=\"1\" class=\"dataframe\">\n",
              "  <thead>\n",
              "    <tr style=\"text-align: right;\">\n",
              "      <th></th>\n",
              "      <th>LocID</th>\n",
              "      <th>Location</th>\n",
              "      <th>Time</th>\n",
              "      <th>AgeGrp</th>\n",
              "      <th>AgeGrpStart</th>\n",
              "      <th>AgeGrpSpan</th>\n",
              "      <th>PopMale</th>\n",
              "      <th>PopFemale</th>\n",
              "      <th>PopTotal</th>\n",
              "    </tr>\n",
              "  </thead>\n",
              "  <tbody>\n",
              "    <tr>\n",
              "      <th>0</th>\n",
              "      <td>4</td>\n",
              "      <td>Afghanistan</td>\n",
              "      <td>2050</td>\n",
              "      <td>0-4</td>\n",
              "      <td>0</td>\n",
              "      <td>5</td>\n",
              "      <td>2889.793</td>\n",
              "      <td>2745.931</td>\n",
              "      <td>5635.724</td>\n",
              "    </tr>\n",
              "    <tr>\n",
              "      <th>1</th>\n",
              "      <td>8</td>\n",
              "      <td>Albania</td>\n",
              "      <td>2050</td>\n",
              "      <td>0-4</td>\n",
              "      <td>0</td>\n",
              "      <td>5</td>\n",
              "      <td>48.923</td>\n",
              "      <td>45.691</td>\n",
              "      <td>94.614</td>\n",
              "    </tr>\n",
              "    <tr>\n",
              "      <th>2</th>\n",
              "      <td>12</td>\n",
              "      <td>Algeria</td>\n",
              "      <td>2050</td>\n",
              "      <td>0-4</td>\n",
              "      <td>0</td>\n",
              "      <td>5</td>\n",
              "      <td>2317.430</td>\n",
              "      <td>2212.779</td>\n",
              "      <td>4530.209</td>\n",
              "    </tr>\n",
              "    <tr>\n",
              "      <th>3</th>\n",
              "      <td>24</td>\n",
              "      <td>Angola</td>\n",
              "      <td>2050</td>\n",
              "      <td>0-4</td>\n",
              "      <td>0</td>\n",
              "      <td>5</td>\n",
              "      <td>5427.478</td>\n",
              "      <td>5337.744</td>\n",
              "      <td>10765.222</td>\n",
              "    </tr>\n",
              "    <tr>\n",
              "      <th>4</th>\n",
              "      <td>28</td>\n",
              "      <td>Antigua and Barbuda</td>\n",
              "      <td>2050</td>\n",
              "      <td>0-4</td>\n",
              "      <td>0</td>\n",
              "      <td>5</td>\n",
              "      <td>3.179</td>\n",
              "      <td>3.089</td>\n",
              "      <td>6.268</td>\n",
              "    </tr>\n",
              "  </tbody>\n",
              "</table>\n",
              "</div>"
            ],
            "text/plain": [
              "   LocID             Location  Time  ...   PopMale  PopFemale   PopTotal\n",
              "0      4          Afghanistan  2050  ...  2889.793   2745.931   5635.724\n",
              "1      8              Albania  2050  ...    48.923     45.691     94.614\n",
              "2     12              Algeria  2050  ...  2317.430   2212.779   4530.209\n",
              "3     24               Angola  2050  ...  5427.478   5337.744  10765.222\n",
              "4     28  Antigua and Barbuda  2050  ...     3.179      3.089      6.268\n",
              "\n",
              "[5 rows x 9 columns]"
            ]
          },
          "metadata": {},
          "execution_count": 25
        }
      ]
    },
    {
      "cell_type": "markdown",
      "metadata": {
        "id": "0CsXZVhuuOkk"
      },
      "source": [
        "Popluation1 Data Manipulation"
      ]
    },
    {
      "cell_type": "markdown",
      "metadata": {
        "id": "9Oq-tC_Suek1"
      },
      "source": [
        "Droping some Unnecessary columns"
      ]
    },
    {
      "cell_type": "code",
      "metadata": {
        "id": "MAawbho1rlJW"
      },
      "source": [
        "population1 = population1.drop(columns = ['AgeGrpStart', 'AgeGrpSpan', 'PopTotal'])\n",
        "# we are droping Total Population as we classify rows based on female and male population for the country"
      ],
      "execution_count": null,
      "outputs": []
    },
    {
      "cell_type": "code",
      "metadata": {
        "colab": {
          "base_uri": "https://localhost:8080/",
          "height": 206
        },
        "id": "ac-Dn7f-rsiR",
        "outputId": "a80e1fb2-0604-4164-dbb3-c23b1dd1690c"
      },
      "source": [
        "population1.head()"
      ],
      "execution_count": null,
      "outputs": [
        {
          "output_type": "execute_result",
          "data": {
            "text/html": [
              "<div>\n",
              "<style scoped>\n",
              "    .dataframe tbody tr th:only-of-type {\n",
              "        vertical-align: middle;\n",
              "    }\n",
              "\n",
              "    .dataframe tbody tr th {\n",
              "        vertical-align: top;\n",
              "    }\n",
              "\n",
              "    .dataframe thead th {\n",
              "        text-align: right;\n",
              "    }\n",
              "</style>\n",
              "<table border=\"1\" class=\"dataframe\">\n",
              "  <thead>\n",
              "    <tr style=\"text-align: right;\">\n",
              "      <th></th>\n",
              "      <th>LocID</th>\n",
              "      <th>Location</th>\n",
              "      <th>Time</th>\n",
              "      <th>AgeGrp</th>\n",
              "      <th>PopMale</th>\n",
              "      <th>PopFemale</th>\n",
              "    </tr>\n",
              "  </thead>\n",
              "  <tbody>\n",
              "    <tr>\n",
              "      <th>0</th>\n",
              "      <td>4</td>\n",
              "      <td>Afghanistan</td>\n",
              "      <td>1950</td>\n",
              "      <td>0-4</td>\n",
              "      <td>630.044</td>\n",
              "      <td>661.578</td>\n",
              "    </tr>\n",
              "    <tr>\n",
              "      <th>1</th>\n",
              "      <td>8</td>\n",
              "      <td>Albania</td>\n",
              "      <td>1950</td>\n",
              "      <td>0-4</td>\n",
              "      <td>93.940</td>\n",
              "      <td>86.840</td>\n",
              "    </tr>\n",
              "    <tr>\n",
              "      <th>2</th>\n",
              "      <td>12</td>\n",
              "      <td>Algeria</td>\n",
              "      <td>1950</td>\n",
              "      <td>0-4</td>\n",
              "      <td>715.107</td>\n",
              "      <td>688.027</td>\n",
              "    </tr>\n",
              "    <tr>\n",
              "      <th>3</th>\n",
              "      <td>24</td>\n",
              "      <td>Angola</td>\n",
              "      <td>1950</td>\n",
              "      <td>0-4</td>\n",
              "      <td>368.476</td>\n",
              "      <td>370.760</td>\n",
              "    </tr>\n",
              "    <tr>\n",
              "      <th>4</th>\n",
              "      <td>28</td>\n",
              "      <td>Antigua and Barbuda</td>\n",
              "      <td>1950</td>\n",
              "      <td>0-4</td>\n",
              "      <td>3.553</td>\n",
              "      <td>3.539</td>\n",
              "    </tr>\n",
              "  </tbody>\n",
              "</table>\n",
              "</div>"
            ],
            "text/plain": [
              "   LocID             Location  Time AgeGrp  PopMale  PopFemale\n",
              "0      4          Afghanistan  1950    0-4  630.044    661.578\n",
              "1      8              Albania  1950    0-4   93.940     86.840\n",
              "2     12              Algeria  1950    0-4  715.107    688.027\n",
              "3     24               Angola  1950    0-4  368.476    370.760\n",
              "4     28  Antigua and Barbuda  1950    0-4    3.553      3.539"
            ]
          },
          "metadata": {},
          "execution_count": 27
        }
      ]
    },
    {
      "cell_type": "markdown",
      "metadata": {
        "id": "a6u8vi3A349j"
      },
      "source": [
        "This is to unpivot columns Population Male and Population Female"
      ]
    },
    {
      "cell_type": "code",
      "metadata": {
        "id": "V-4XKLYnu50F"
      },
      "source": [
        "population1 = population1.melt(id_vars=['LocID','Location' ,'Time','AgeGrp'] , var_name='Gender', value_name='Population')"
      ],
      "execution_count": null,
      "outputs": []
    },
    {
      "cell_type": "code",
      "metadata": {
        "id": "bHgcIp6pwDAo"
      },
      "source": [
        "population1['Gender'] = population1['Gender'].str[3:]"
      ],
      "execution_count": null,
      "outputs": []
    },
    {
      "cell_type": "code",
      "metadata": {
        "colab": {
          "base_uri": "https://localhost:8080/",
          "height": 206
        },
        "id": "rhTKF8IOxu_Y",
        "outputId": "f5f6a940-8a85-41cf-9081-e17b6e9eef20"
      },
      "source": [
        "population2.head()"
      ],
      "execution_count": null,
      "outputs": [
        {
          "output_type": "execute_result",
          "data": {
            "text/html": [
              "<div>\n",
              "<style scoped>\n",
              "    .dataframe tbody tr th:only-of-type {\n",
              "        vertical-align: middle;\n",
              "    }\n",
              "\n",
              "    .dataframe tbody tr th {\n",
              "        vertical-align: top;\n",
              "    }\n",
              "\n",
              "    .dataframe thead th {\n",
              "        text-align: right;\n",
              "    }\n",
              "</style>\n",
              "<table border=\"1\" class=\"dataframe\">\n",
              "  <thead>\n",
              "    <tr style=\"text-align: right;\">\n",
              "      <th></th>\n",
              "      <th>LocID</th>\n",
              "      <th>Location</th>\n",
              "      <th>Time</th>\n",
              "      <th>AgeGrp</th>\n",
              "      <th>AgeGrpStart</th>\n",
              "      <th>AgeGrpSpan</th>\n",
              "      <th>PopMale</th>\n",
              "      <th>PopFemale</th>\n",
              "      <th>PopTotal</th>\n",
              "    </tr>\n",
              "  </thead>\n",
              "  <tbody>\n",
              "    <tr>\n",
              "      <th>0</th>\n",
              "      <td>4.0</td>\n",
              "      <td>Afghanistan</td>\n",
              "      <td>2000.0</td>\n",
              "      <td>0-4</td>\n",
              "      <td>0.0</td>\n",
              "      <td>5.0</td>\n",
              "      <td>2124.163</td>\n",
              "      <td>2042.084</td>\n",
              "      <td>4166.247</td>\n",
              "    </tr>\n",
              "    <tr>\n",
              "      <th>1</th>\n",
              "      <td>NaN</td>\n",
              "      <td>NaN</td>\n",
              "      <td>NaN</td>\n",
              "      <td>NaN</td>\n",
              "      <td>NaN</td>\n",
              "      <td>NaN</td>\n",
              "      <td>NaN</td>\n",
              "      <td>NaN</td>\n",
              "      <td>NA</td>\n",
              "    </tr>\n",
              "    <tr>\n",
              "      <th>2</th>\n",
              "      <td>NaN</td>\n",
              "      <td>NaN</td>\n",
              "      <td>NaN</td>\n",
              "      <td>NaN</td>\n",
              "      <td>NaN</td>\n",
              "      <td>NaN</td>\n",
              "      <td>NaN</td>\n",
              "      <td>NaN</td>\n",
              "      <td>NA</td>\n",
              "    </tr>\n",
              "    <tr>\n",
              "      <th>3</th>\n",
              "      <td>NaN</td>\n",
              "      <td>NaN</td>\n",
              "      <td>NaN</td>\n",
              "      <td>NaN</td>\n",
              "      <td>NaN</td>\n",
              "      <td>NaN</td>\n",
              "      <td>NaN</td>\n",
              "      <td>NaN</td>\n",
              "      <td>NA</td>\n",
              "    </tr>\n",
              "    <tr>\n",
              "      <th>4</th>\n",
              "      <td>NaN</td>\n",
              "      <td>NaN</td>\n",
              "      <td>NaN</td>\n",
              "      <td>NaN</td>\n",
              "      <td>NaN</td>\n",
              "      <td>NaN</td>\n",
              "      <td>NaN</td>\n",
              "      <td>NaN</td>\n",
              "      <td>NA</td>\n",
              "    </tr>\n",
              "  </tbody>\n",
              "</table>\n",
              "</div>"
            ],
            "text/plain": [
              "   LocID     Location    Time AgeGrp  ...  AgeGrpSpan   PopMale  PopFemale  PopTotal\n",
              "0    4.0  Afghanistan  2000.0    0-4  ...         5.0  2124.163   2042.084  4166.247\n",
              "1    NaN          NaN     NaN    NaN  ...         NaN       NaN        NaN       NA \n",
              "2    NaN          NaN     NaN    NaN  ...         NaN       NaN        NaN       NA \n",
              "3    NaN          NaN     NaN    NaN  ...         NaN       NaN        NaN       NA \n",
              "4    NaN          NaN     NaN    NaN  ...         NaN       NaN        NaN       NA \n",
              "\n",
              "[5 rows x 9 columns]"
            ]
          },
          "metadata": {},
          "execution_count": 30
        }
      ]
    },
    {
      "cell_type": "markdown",
      "metadata": {
        "id": "Sf_bkaF40QjQ"
      },
      "source": [
        "Cleaning Population2 data frame\n",
        "- Droping rows having NA values"
      ]
    },
    {
      "cell_type": "code",
      "metadata": {
        "id": "wSH7cM1KzE-z"
      },
      "source": [
        "population2 = population2.dropna() # this will drop all rows having NAN values \n",
        "# how = 'any' parameter can be used if any columns is having NAN"
      ],
      "execution_count": null,
      "outputs": []
    },
    {
      "cell_type": "code",
      "metadata": {
        "colab": {
          "base_uri": "https://localhost:8080/"
        },
        "id": "ADApK1QZ0mg6",
        "outputId": "88151a0a-e79d-40de-8352-0b768b99d687"
      },
      "source": [
        "population2.dtypes"
      ],
      "execution_count": null,
      "outputs": [
        {
          "output_type": "execute_result",
          "data": {
            "text/plain": [
              "LocID          float64\n",
              "Location        object\n",
              "Time           float64\n",
              "AgeGrp          object\n",
              "AgeGrpStart    float64\n",
              "AgeGrpSpan     float64\n",
              "PopMale        float64\n",
              "PopFemale      float64\n",
              "PopTotal        object\n",
              "dtype: object"
            ]
          },
          "metadata": {},
          "execution_count": 32
        }
      ]
    },
    {
      "cell_type": "code",
      "metadata": {
        "id": "2XPJouF81GB_"
      },
      "source": [
        "population2 = population2.drop(columns = ['AgeGrpStart', 'AgeGrpSpan', 'PopTotal'])"
      ],
      "execution_count": null,
      "outputs": []
    },
    {
      "cell_type": "code",
      "metadata": {
        "id": "2vnTWqHz1dm4"
      },
      "source": [
        "population2 = population2.melt(id_vars=['LocID','Location' ,'Time','AgeGrp'] , var_name='Gender', value_name='Population')"
      ],
      "execution_count": null,
      "outputs": []
    },
    {
      "cell_type": "code",
      "metadata": {
        "id": "Brk1B-7j1n6G"
      },
      "source": [
        "population2['Gender'] = population2['Gender'].str[3:]"
      ],
      "execution_count": null,
      "outputs": []
    },
    {
      "cell_type": "markdown",
      "metadata": {
        "id": "XLvzo4T42qAL"
      },
      "source": [
        "Population3 Data Cleaning."
      ]
    },
    {
      "cell_type": "code",
      "metadata": {
        "colab": {
          "base_uri": "https://localhost:8080/",
          "height": 206
        },
        "id": "slmD4izX229n",
        "outputId": "d9f44609-b64e-43af-91e2-6b22d790dfa3"
      },
      "source": [
        "population3.head()"
      ],
      "execution_count": null,
      "outputs": [
        {
          "output_type": "execute_result",
          "data": {
            "text/html": [
              "<div>\n",
              "<style scoped>\n",
              "    .dataframe tbody tr th:only-of-type {\n",
              "        vertical-align: middle;\n",
              "    }\n",
              "\n",
              "    .dataframe tbody tr th {\n",
              "        vertical-align: top;\n",
              "    }\n",
              "\n",
              "    .dataframe thead th {\n",
              "        text-align: right;\n",
              "    }\n",
              "</style>\n",
              "<table border=\"1\" class=\"dataframe\">\n",
              "  <thead>\n",
              "    <tr style=\"text-align: right;\">\n",
              "      <th></th>\n",
              "      <th>LocID</th>\n",
              "      <th>Location</th>\n",
              "      <th>Time</th>\n",
              "      <th>AgeGrp</th>\n",
              "      <th>AgeGrpStart</th>\n",
              "      <th>AgeGrpSpan</th>\n",
              "      <th>PopMale</th>\n",
              "      <th>PopFemale</th>\n",
              "      <th>PopTotal</th>\n",
              "    </tr>\n",
              "  </thead>\n",
              "  <tbody>\n",
              "    <tr>\n",
              "      <th>0</th>\n",
              "      <td>4</td>\n",
              "      <td>Afghanistan</td>\n",
              "      <td>2050</td>\n",
              "      <td>0-4</td>\n",
              "      <td>0</td>\n",
              "      <td>5</td>\n",
              "      <td>2889.793</td>\n",
              "      <td>2745.931</td>\n",
              "      <td>5635.724</td>\n",
              "    </tr>\n",
              "    <tr>\n",
              "      <th>1</th>\n",
              "      <td>8</td>\n",
              "      <td>Albania</td>\n",
              "      <td>2050</td>\n",
              "      <td>0-4</td>\n",
              "      <td>0</td>\n",
              "      <td>5</td>\n",
              "      <td>48.923</td>\n",
              "      <td>45.691</td>\n",
              "      <td>94.614</td>\n",
              "    </tr>\n",
              "    <tr>\n",
              "      <th>2</th>\n",
              "      <td>12</td>\n",
              "      <td>Algeria</td>\n",
              "      <td>2050</td>\n",
              "      <td>0-4</td>\n",
              "      <td>0</td>\n",
              "      <td>5</td>\n",
              "      <td>2317.430</td>\n",
              "      <td>2212.779</td>\n",
              "      <td>4530.209</td>\n",
              "    </tr>\n",
              "    <tr>\n",
              "      <th>3</th>\n",
              "      <td>24</td>\n",
              "      <td>Angola</td>\n",
              "      <td>2050</td>\n",
              "      <td>0-4</td>\n",
              "      <td>0</td>\n",
              "      <td>5</td>\n",
              "      <td>5427.478</td>\n",
              "      <td>5337.744</td>\n",
              "      <td>10765.222</td>\n",
              "    </tr>\n",
              "    <tr>\n",
              "      <th>4</th>\n",
              "      <td>28</td>\n",
              "      <td>Antigua and Barbuda</td>\n",
              "      <td>2050</td>\n",
              "      <td>0-4</td>\n",
              "      <td>0</td>\n",
              "      <td>5</td>\n",
              "      <td>3.179</td>\n",
              "      <td>3.089</td>\n",
              "      <td>6.268</td>\n",
              "    </tr>\n",
              "  </tbody>\n",
              "</table>\n",
              "</div>"
            ],
            "text/plain": [
              "   LocID             Location  Time  ...   PopMale  PopFemale   PopTotal\n",
              "0      4          Afghanistan  2050  ...  2889.793   2745.931   5635.724\n",
              "1      8              Albania  2050  ...    48.923     45.691     94.614\n",
              "2     12              Algeria  2050  ...  2317.430   2212.779   4530.209\n",
              "3     24               Angola  2050  ...  5427.478   5337.744  10765.222\n",
              "4     28  Antigua and Barbuda  2050  ...     3.179      3.089      6.268\n",
              "\n",
              "[5 rows x 9 columns]"
            ]
          },
          "metadata": {},
          "execution_count": 36
        }
      ]
    },
    {
      "cell_type": "code",
      "metadata": {
        "id": "n909L7Dk25nR"
      },
      "source": [
        "population3 = population3.drop(columns = ['AgeGrpStart', 'AgeGrpSpan', 'PopTotal'])"
      ],
      "execution_count": null,
      "outputs": []
    },
    {
      "cell_type": "code",
      "metadata": {
        "colab": {
          "base_uri": "https://localhost:8080/",
          "height": 423
        },
        "id": "5kyr8ouQ3Op6",
        "outputId": "3beaf7e6-e195-451b-bed8-ef542d620832"
      },
      "source": [
        "population3"
      ],
      "execution_count": null,
      "outputs": [
        {
          "output_type": "execute_result",
          "data": {
            "text/html": [
              "<div>\n",
              "<style scoped>\n",
              "    .dataframe tbody tr th:only-of-type {\n",
              "        vertical-align: middle;\n",
              "    }\n",
              "\n",
              "    .dataframe tbody tr th {\n",
              "        vertical-align: top;\n",
              "    }\n",
              "\n",
              "    .dataframe thead th {\n",
              "        text-align: right;\n",
              "    }\n",
              "</style>\n",
              "<table border=\"1\" class=\"dataframe\">\n",
              "  <thead>\n",
              "    <tr style=\"text-align: right;\">\n",
              "      <th></th>\n",
              "      <th>LocID</th>\n",
              "      <th>Location</th>\n",
              "      <th>Time</th>\n",
              "      <th>AgeGrp</th>\n",
              "      <th>PopMale</th>\n",
              "      <th>PopFemale</th>\n",
              "    </tr>\n",
              "  </thead>\n",
              "  <tbody>\n",
              "    <tr>\n",
              "      <th>0</th>\n",
              "      <td>4</td>\n",
              "      <td>Afghanistan</td>\n",
              "      <td>2050</td>\n",
              "      <td>0-4</td>\n",
              "      <td>2889.793</td>\n",
              "      <td>2745.931</td>\n",
              "    </tr>\n",
              "    <tr>\n",
              "      <th>1</th>\n",
              "      <td>8</td>\n",
              "      <td>Albania</td>\n",
              "      <td>2050</td>\n",
              "      <td>0-4</td>\n",
              "      <td>48.923</td>\n",
              "      <td>45.691</td>\n",
              "    </tr>\n",
              "    <tr>\n",
              "      <th>2</th>\n",
              "      <td>12</td>\n",
              "      <td>Algeria</td>\n",
              "      <td>2050</td>\n",
              "      <td>0-4</td>\n",
              "      <td>2317.430</td>\n",
              "      <td>2212.779</td>\n",
              "    </tr>\n",
              "    <tr>\n",
              "      <th>3</th>\n",
              "      <td>24</td>\n",
              "      <td>Angola</td>\n",
              "      <td>2050</td>\n",
              "      <td>0-4</td>\n",
              "      <td>5427.478</td>\n",
              "      <td>5337.744</td>\n",
              "    </tr>\n",
              "    <tr>\n",
              "      <th>4</th>\n",
              "      <td>28</td>\n",
              "      <td>Antigua and Barbuda</td>\n",
              "      <td>2050</td>\n",
              "      <td>0-4</td>\n",
              "      <td>3.179</td>\n",
              "      <td>3.089</td>\n",
              "    </tr>\n",
              "    <tr>\n",
              "      <th>...</th>\n",
              "      <td>...</td>\n",
              "      <td>...</td>\n",
              "      <td>...</td>\n",
              "      <td>...</td>\n",
              "      <td>...</td>\n",
              "      <td>...</td>\n",
              "    </tr>\n",
              "    <tr>\n",
              "      <th>213124</th>\n",
              "      <td>548</td>\n",
              "      <td>Vanuatu</td>\n",
              "      <td>2068</td>\n",
              "      <td>100+</td>\n",
              "      <td>0.001</td>\n",
              "      <td>0.003</td>\n",
              "    </tr>\n",
              "    <tr>\n",
              "      <th>213125</th>\n",
              "      <td>548</td>\n",
              "      <td>Vanuatu</td>\n",
              "      <td>2069</td>\n",
              "      <td>100+</td>\n",
              "      <td>0.001</td>\n",
              "      <td>0.003</td>\n",
              "    </tr>\n",
              "    <tr>\n",
              "      <th>213126</th>\n",
              "      <td>548</td>\n",
              "      <td>Vanuatu</td>\n",
              "      <td>2070</td>\n",
              "      <td>100+</td>\n",
              "      <td>0.001</td>\n",
              "      <td>0.003</td>\n",
              "    </tr>\n",
              "    <tr>\n",
              "      <th>213127</th>\n",
              "      <td>548</td>\n",
              "      <td>Vanuatu</td>\n",
              "      <td>2071</td>\n",
              "      <td>100+</td>\n",
              "      <td>0.001</td>\n",
              "      <td>0.003</td>\n",
              "    </tr>\n",
              "    <tr>\n",
              "      <th>213128</th>\n",
              "      <td>548</td>\n",
              "      <td>Vanuatu</td>\n",
              "      <td>2072</td>\n",
              "      <td>100+</td>\n",
              "      <td>0.001</td>\n",
              "      <td>0.004</td>\n",
              "    </tr>\n",
              "  </tbody>\n",
              "</table>\n",
              "<p>213129 rows × 6 columns</p>\n",
              "</div>"
            ],
            "text/plain": [
              "        LocID             Location  Time AgeGrp   PopMale  PopFemale\n",
              "0           4          Afghanistan  2050    0-4  2889.793   2745.931\n",
              "1           8              Albania  2050    0-4    48.923     45.691\n",
              "2          12              Algeria  2050    0-4  2317.430   2212.779\n",
              "3          24               Angola  2050    0-4  5427.478   5337.744\n",
              "4          28  Antigua and Barbuda  2050    0-4     3.179      3.089\n",
              "...       ...                  ...   ...    ...       ...        ...\n",
              "213124    548              Vanuatu  2068   100+     0.001      0.003\n",
              "213125    548              Vanuatu  2069   100+     0.001      0.003\n",
              "213126    548              Vanuatu  2070   100+     0.001      0.003\n",
              "213127    548              Vanuatu  2071   100+     0.001      0.003\n",
              "213128    548              Vanuatu  2072   100+     0.001      0.004\n",
              "\n",
              "[213129 rows x 6 columns]"
            ]
          },
          "metadata": {},
          "execution_count": 38
        }
      ]
    },
    {
      "cell_type": "code",
      "metadata": {
        "id": "zgPIrZ0X3Uup"
      },
      "source": [
        "population3 = population3.melt(id_vars=['LocID','Location' ,'Time','AgeGrp'] , var_name='Gender', value_name='Population')"
      ],
      "execution_count": null,
      "outputs": []
    },
    {
      "cell_type": "code",
      "metadata": {
        "id": "OPuOFMGy3cs7"
      },
      "source": [
        "population3['Gender'] = population3['Gender'].str[3:]"
      ],
      "execution_count": null,
      "outputs": []
    },
    {
      "cell_type": "code",
      "metadata": {
        "colab": {
          "base_uri": "https://localhost:8080/",
          "height": 423
        },
        "id": "lIrHT8Qv3iuP",
        "outputId": "30ea9d93-a48a-4b05-d10b-989dffac498f"
      },
      "source": [
        "population3"
      ],
      "execution_count": null,
      "outputs": [
        {
          "output_type": "execute_result",
          "data": {
            "text/html": [
              "<div>\n",
              "<style scoped>\n",
              "    .dataframe tbody tr th:only-of-type {\n",
              "        vertical-align: middle;\n",
              "    }\n",
              "\n",
              "    .dataframe tbody tr th {\n",
              "        vertical-align: top;\n",
              "    }\n",
              "\n",
              "    .dataframe thead th {\n",
              "        text-align: right;\n",
              "    }\n",
              "</style>\n",
              "<table border=\"1\" class=\"dataframe\">\n",
              "  <thead>\n",
              "    <tr style=\"text-align: right;\">\n",
              "      <th></th>\n",
              "      <th>LocID</th>\n",
              "      <th>Location</th>\n",
              "      <th>Time</th>\n",
              "      <th>AgeGrp</th>\n",
              "      <th>Gender</th>\n",
              "      <th>Population</th>\n",
              "    </tr>\n",
              "  </thead>\n",
              "  <tbody>\n",
              "    <tr>\n",
              "      <th>0</th>\n",
              "      <td>4</td>\n",
              "      <td>Afghanistan</td>\n",
              "      <td>2050</td>\n",
              "      <td>0-4</td>\n",
              "      <td>Male</td>\n",
              "      <td>2889.793</td>\n",
              "    </tr>\n",
              "    <tr>\n",
              "      <th>1</th>\n",
              "      <td>8</td>\n",
              "      <td>Albania</td>\n",
              "      <td>2050</td>\n",
              "      <td>0-4</td>\n",
              "      <td>Male</td>\n",
              "      <td>48.923</td>\n",
              "    </tr>\n",
              "    <tr>\n",
              "      <th>2</th>\n",
              "      <td>12</td>\n",
              "      <td>Algeria</td>\n",
              "      <td>2050</td>\n",
              "      <td>0-4</td>\n",
              "      <td>Male</td>\n",
              "      <td>2317.430</td>\n",
              "    </tr>\n",
              "    <tr>\n",
              "      <th>3</th>\n",
              "      <td>24</td>\n",
              "      <td>Angola</td>\n",
              "      <td>2050</td>\n",
              "      <td>0-4</td>\n",
              "      <td>Male</td>\n",
              "      <td>5427.478</td>\n",
              "    </tr>\n",
              "    <tr>\n",
              "      <th>4</th>\n",
              "      <td>28</td>\n",
              "      <td>Antigua and Barbuda</td>\n",
              "      <td>2050</td>\n",
              "      <td>0-4</td>\n",
              "      <td>Male</td>\n",
              "      <td>3.179</td>\n",
              "    </tr>\n",
              "    <tr>\n",
              "      <th>...</th>\n",
              "      <td>...</td>\n",
              "      <td>...</td>\n",
              "      <td>...</td>\n",
              "      <td>...</td>\n",
              "      <td>...</td>\n",
              "      <td>...</td>\n",
              "    </tr>\n",
              "    <tr>\n",
              "      <th>426253</th>\n",
              "      <td>548</td>\n",
              "      <td>Vanuatu</td>\n",
              "      <td>2068</td>\n",
              "      <td>100+</td>\n",
              "      <td>Female</td>\n",
              "      <td>0.003</td>\n",
              "    </tr>\n",
              "    <tr>\n",
              "      <th>426254</th>\n",
              "      <td>548</td>\n",
              "      <td>Vanuatu</td>\n",
              "      <td>2069</td>\n",
              "      <td>100+</td>\n",
              "      <td>Female</td>\n",
              "      <td>0.003</td>\n",
              "    </tr>\n",
              "    <tr>\n",
              "      <th>426255</th>\n",
              "      <td>548</td>\n",
              "      <td>Vanuatu</td>\n",
              "      <td>2070</td>\n",
              "      <td>100+</td>\n",
              "      <td>Female</td>\n",
              "      <td>0.003</td>\n",
              "    </tr>\n",
              "    <tr>\n",
              "      <th>426256</th>\n",
              "      <td>548</td>\n",
              "      <td>Vanuatu</td>\n",
              "      <td>2071</td>\n",
              "      <td>100+</td>\n",
              "      <td>Female</td>\n",
              "      <td>0.003</td>\n",
              "    </tr>\n",
              "    <tr>\n",
              "      <th>426257</th>\n",
              "      <td>548</td>\n",
              "      <td>Vanuatu</td>\n",
              "      <td>2072</td>\n",
              "      <td>100+</td>\n",
              "      <td>Female</td>\n",
              "      <td>0.004</td>\n",
              "    </tr>\n",
              "  </tbody>\n",
              "</table>\n",
              "<p>426258 rows × 6 columns</p>\n",
              "</div>"
            ],
            "text/plain": [
              "        LocID             Location  Time AgeGrp  Gender  Population\n",
              "0           4          Afghanistan  2050    0-4    Male    2889.793\n",
              "1           8              Albania  2050    0-4    Male      48.923\n",
              "2          12              Algeria  2050    0-4    Male    2317.430\n",
              "3          24               Angola  2050    0-4    Male    5427.478\n",
              "4          28  Antigua and Barbuda  2050    0-4    Male       3.179\n",
              "...       ...                  ...   ...    ...     ...         ...\n",
              "426253    548              Vanuatu  2068   100+  Female       0.003\n",
              "426254    548              Vanuatu  2069   100+  Female       0.003\n",
              "426255    548              Vanuatu  2070   100+  Female       0.003\n",
              "426256    548              Vanuatu  2071   100+  Female       0.003\n",
              "426257    548              Vanuatu  2072   100+  Female       0.004\n",
              "\n",
              "[426258 rows x 6 columns]"
            ]
          },
          "metadata": {},
          "execution_count": 41
        }
      ]
    },
    {
      "cell_type": "code",
      "metadata": {
        "colab": {
          "base_uri": "https://localhost:8080/"
        },
        "id": "UCp56ib15UrG",
        "outputId": "2749afb0-333b-488f-bd94-aefa1ba4b8bd"
      },
      "source": [
        "print(population1.columns)\n",
        "print(population2.columns)\n",
        "print(population3.columns)"
      ],
      "execution_count": null,
      "outputs": [
        {
          "output_type": "stream",
          "name": "stdout",
          "text": [
            "Index(['LocID', 'Location', 'Time', 'AgeGrp', 'Gender', 'Population'], dtype='object')\n",
            "Index(['LocID', 'Location', 'Time', 'AgeGrp', 'Gender', 'Population'], dtype='object')\n",
            "Index(['LocID', 'Location', 'Time', 'AgeGrp', 'Gender', 'Population'], dtype='object')\n"
          ]
        }
      ]
    },
    {
      "cell_type": "markdown",
      "metadata": {
        "id": "Th4xDEok4VVr"
      },
      "source": [
        "Now Appending these three dataframes into single Dataframe\n",
        " - population = population1 + population2 + population3"
      ]
    },
    {
      "cell_type": "code",
      "metadata": {
        "id": "aJ2bD6b13nK2"
      },
      "source": [
        "population = pd.concat([population1, population2, population3], axis = 0, ignore_index=True)"
      ],
      "execution_count": null,
      "outputs": []
    },
    {
      "cell_type": "code",
      "metadata": {
        "colab": {
          "base_uri": "https://localhost:8080/",
          "height": 423
        },
        "id": "6QDAhEz05C6D",
        "outputId": "a93a672d-a15c-4bda-8b43-1f10486e0674"
      },
      "source": [
        "population"
      ],
      "execution_count": null,
      "outputs": [
        {
          "output_type": "execute_result",
          "data": {
            "text/html": [
              "<div>\n",
              "<style scoped>\n",
              "    .dataframe tbody tr th:only-of-type {\n",
              "        vertical-align: middle;\n",
              "    }\n",
              "\n",
              "    .dataframe tbody tr th {\n",
              "        vertical-align: top;\n",
              "    }\n",
              "\n",
              "    .dataframe thead th {\n",
              "        text-align: right;\n",
              "    }\n",
              "</style>\n",
              "<table border=\"1\" class=\"dataframe\">\n",
              "  <thead>\n",
              "    <tr style=\"text-align: right;\">\n",
              "      <th></th>\n",
              "      <th>LocID</th>\n",
              "      <th>Location</th>\n",
              "      <th>Time</th>\n",
              "      <th>AgeGrp</th>\n",
              "      <th>Gender</th>\n",
              "      <th>Population</th>\n",
              "    </tr>\n",
              "  </thead>\n",
              "  <tbody>\n",
              "    <tr>\n",
              "      <th>0</th>\n",
              "      <td>4.0</td>\n",
              "      <td>Afghanistan</td>\n",
              "      <td>1950.0</td>\n",
              "      <td>0-4</td>\n",
              "      <td>Male</td>\n",
              "      <td>630.044</td>\n",
              "    </tr>\n",
              "    <tr>\n",
              "      <th>1</th>\n",
              "      <td>8.0</td>\n",
              "      <td>Albania</td>\n",
              "      <td>1950.0</td>\n",
              "      <td>0-4</td>\n",
              "      <td>Male</td>\n",
              "      <td>93.940</td>\n",
              "    </tr>\n",
              "    <tr>\n",
              "      <th>2</th>\n",
              "      <td>12.0</td>\n",
              "      <td>Algeria</td>\n",
              "      <td>1950.0</td>\n",
              "      <td>0-4</td>\n",
              "      <td>Male</td>\n",
              "      <td>715.107</td>\n",
              "    </tr>\n",
              "    <tr>\n",
              "      <th>3</th>\n",
              "      <td>24.0</td>\n",
              "      <td>Angola</td>\n",
              "      <td>1950.0</td>\n",
              "      <td>0-4</td>\n",
              "      <td>Male</td>\n",
              "      <td>368.476</td>\n",
              "    </tr>\n",
              "    <tr>\n",
              "      <th>4</th>\n",
              "      <td>28.0</td>\n",
              "      <td>Antigua and Barbuda</td>\n",
              "      <td>1950.0</td>\n",
              "      <td>0-4</td>\n",
              "      <td>Male</td>\n",
              "      <td>3.553</td>\n",
              "    </tr>\n",
              "    <tr>\n",
              "      <th>...</th>\n",
              "      <td>...</td>\n",
              "      <td>...</td>\n",
              "      <td>...</td>\n",
              "      <td>...</td>\n",
              "      <td>...</td>\n",
              "      <td>...</td>\n",
              "    </tr>\n",
              "    <tr>\n",
              "      <th>1262053</th>\n",
              "      <td>548.0</td>\n",
              "      <td>Vanuatu</td>\n",
              "      <td>2068.0</td>\n",
              "      <td>100+</td>\n",
              "      <td>Female</td>\n",
              "      <td>0.003</td>\n",
              "    </tr>\n",
              "    <tr>\n",
              "      <th>1262054</th>\n",
              "      <td>548.0</td>\n",
              "      <td>Vanuatu</td>\n",
              "      <td>2069.0</td>\n",
              "      <td>100+</td>\n",
              "      <td>Female</td>\n",
              "      <td>0.003</td>\n",
              "    </tr>\n",
              "    <tr>\n",
              "      <th>1262055</th>\n",
              "      <td>548.0</td>\n",
              "      <td>Vanuatu</td>\n",
              "      <td>2070.0</td>\n",
              "      <td>100+</td>\n",
              "      <td>Female</td>\n",
              "      <td>0.003</td>\n",
              "    </tr>\n",
              "    <tr>\n",
              "      <th>1262056</th>\n",
              "      <td>548.0</td>\n",
              "      <td>Vanuatu</td>\n",
              "      <td>2071.0</td>\n",
              "      <td>100+</td>\n",
              "      <td>Female</td>\n",
              "      <td>0.003</td>\n",
              "    </tr>\n",
              "    <tr>\n",
              "      <th>1262057</th>\n",
              "      <td>548.0</td>\n",
              "      <td>Vanuatu</td>\n",
              "      <td>2072.0</td>\n",
              "      <td>100+</td>\n",
              "      <td>Female</td>\n",
              "      <td>0.004</td>\n",
              "    </tr>\n",
              "  </tbody>\n",
              "</table>\n",
              "<p>1262058 rows × 6 columns</p>\n",
              "</div>"
            ],
            "text/plain": [
              "         LocID             Location    Time AgeGrp  Gender  Population\n",
              "0          4.0          Afghanistan  1950.0    0-4    Male     630.044\n",
              "1          8.0              Albania  1950.0    0-4    Male      93.940\n",
              "2         12.0              Algeria  1950.0    0-4    Male     715.107\n",
              "3         24.0               Angola  1950.0    0-4    Male     368.476\n",
              "4         28.0  Antigua and Barbuda  1950.0    0-4    Male       3.553\n",
              "...        ...                  ...     ...    ...     ...         ...\n",
              "1262053  548.0              Vanuatu  2068.0   100+  Female       0.003\n",
              "1262054  548.0              Vanuatu  2069.0   100+  Female       0.003\n",
              "1262055  548.0              Vanuatu  2070.0   100+  Female       0.003\n",
              "1262056  548.0              Vanuatu  2071.0   100+  Female       0.003\n",
              "1262057  548.0              Vanuatu  2072.0   100+  Female       0.004\n",
              "\n",
              "[1262058 rows x 6 columns]"
            ]
          },
          "metadata": {},
          "execution_count": 44
        }
      ]
    },
    {
      "cell_type": "markdown",
      "metadata": {
        "id": "o0YFCcZc_ydT"
      },
      "source": [
        "## Now we will create two Dimension Tables and One Fact Table and create star schema from population table\n",
        "![image.png](data:image/png;base64,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)"
      ]
    },
    {
      "cell_type": "markdown",
      "metadata": {
        "id": "pnNM0UBNAqrE"
      },
      "source": [
        "Region Table which contains all the region related information "
      ]
    },
    {
      "cell_type": "code",
      "metadata": {
        "id": "MPF8KCIb7H-z"
      },
      "source": [
        "Region = population[['LocID', 'Location']]"
      ],
      "execution_count": null,
      "outputs": []
    },
    {
      "cell_type": "code",
      "metadata": {
        "colab": {
          "base_uri": "https://localhost:8080/",
          "height": 423
        },
        "id": "rrlwPFkrBBKx",
        "outputId": "a54d953e-8e05-4b3a-f447-98ccd02fb1dd"
      },
      "source": [
        "Region"
      ],
      "execution_count": null,
      "outputs": [
        {
          "output_type": "execute_result",
          "data": {
            "text/html": [
              "<div>\n",
              "<style scoped>\n",
              "    .dataframe tbody tr th:only-of-type {\n",
              "        vertical-align: middle;\n",
              "    }\n",
              "\n",
              "    .dataframe tbody tr th {\n",
              "        vertical-align: top;\n",
              "    }\n",
              "\n",
              "    .dataframe thead th {\n",
              "        text-align: right;\n",
              "    }\n",
              "</style>\n",
              "<table border=\"1\" class=\"dataframe\">\n",
              "  <thead>\n",
              "    <tr style=\"text-align: right;\">\n",
              "      <th></th>\n",
              "      <th>LocID</th>\n",
              "      <th>Location</th>\n",
              "    </tr>\n",
              "  </thead>\n",
              "  <tbody>\n",
              "    <tr>\n",
              "      <th>0</th>\n",
              "      <td>4.0</td>\n",
              "      <td>Afghanistan</td>\n",
              "    </tr>\n",
              "    <tr>\n",
              "      <th>1</th>\n",
              "      <td>8.0</td>\n",
              "      <td>Albania</td>\n",
              "    </tr>\n",
              "    <tr>\n",
              "      <th>2</th>\n",
              "      <td>12.0</td>\n",
              "      <td>Algeria</td>\n",
              "    </tr>\n",
              "    <tr>\n",
              "      <th>3</th>\n",
              "      <td>24.0</td>\n",
              "      <td>Angola</td>\n",
              "    </tr>\n",
              "    <tr>\n",
              "      <th>4</th>\n",
              "      <td>28.0</td>\n",
              "      <td>Antigua and Barbuda</td>\n",
              "    </tr>\n",
              "    <tr>\n",
              "      <th>...</th>\n",
              "      <td>...</td>\n",
              "      <td>...</td>\n",
              "    </tr>\n",
              "    <tr>\n",
              "      <th>1262053</th>\n",
              "      <td>548.0</td>\n",
              "      <td>Vanuatu</td>\n",
              "    </tr>\n",
              "    <tr>\n",
              "      <th>1262054</th>\n",
              "      <td>548.0</td>\n",
              "      <td>Vanuatu</td>\n",
              "    </tr>\n",
              "    <tr>\n",
              "      <th>1262055</th>\n",
              "      <td>548.0</td>\n",
              "      <td>Vanuatu</td>\n",
              "    </tr>\n",
              "    <tr>\n",
              "      <th>1262056</th>\n",
              "      <td>548.0</td>\n",
              "      <td>Vanuatu</td>\n",
              "    </tr>\n",
              "    <tr>\n",
              "      <th>1262057</th>\n",
              "      <td>548.0</td>\n",
              "      <td>Vanuatu</td>\n",
              "    </tr>\n",
              "  </tbody>\n",
              "</table>\n",
              "<p>1262058 rows × 2 columns</p>\n",
              "</div>"
            ],
            "text/plain": [
              "         LocID             Location\n",
              "0          4.0          Afghanistan\n",
              "1          8.0              Albania\n",
              "2         12.0              Algeria\n",
              "3         24.0               Angola\n",
              "4         28.0  Antigua and Barbuda\n",
              "...        ...                  ...\n",
              "1262053  548.0              Vanuatu\n",
              "1262054  548.0              Vanuatu\n",
              "1262055  548.0              Vanuatu\n",
              "1262056  548.0              Vanuatu\n",
              "1262057  548.0              Vanuatu\n",
              "\n",
              "[1262058 rows x 2 columns]"
            ]
          },
          "metadata": {},
          "execution_count": 46
        }
      ]
    },
    {
      "cell_type": "code",
      "metadata": {
        "id": "XC8tv6AvBCZL"
      },
      "source": [
        "df = pd.read_fwf('/content/codes-country-region.txt',delimiter = '\\t')"
      ],
      "execution_count": null,
      "outputs": []
    },
    {
      "cell_type": "code",
      "metadata": {
        "colab": {
          "base_uri": "https://localhost:8080/",
          "height": 423
        },
        "id": "6GorNDW4BMgX",
        "outputId": "9bede704-26ac-4a23-a5cf-08a60f29cd86"
      },
      "source": [
        "z = df['a-2\\ta-3\\t#\\tName'].str.split('\\t', expand = True)\n",
        "z"
      ],
      "execution_count": null,
      "outputs": [
        {
          "output_type": "execute_result",
          "data": {
            "text/html": [
              "<div>\n",
              "<style scoped>\n",
              "    .dataframe tbody tr th:only-of-type {\n",
              "        vertical-align: middle;\n",
              "    }\n",
              "\n",
              "    .dataframe tbody tr th {\n",
              "        vertical-align: top;\n",
              "    }\n",
              "\n",
              "    .dataframe thead th {\n",
              "        text-align: right;\n",
              "    }\n",
              "</style>\n",
              "<table border=\"1\" class=\"dataframe\">\n",
              "  <thead>\n",
              "    <tr style=\"text-align: right;\">\n",
              "      <th></th>\n",
              "      <th>0</th>\n",
              "      <th>1</th>\n",
              "      <th>2</th>\n",
              "      <th>3</th>\n",
              "    </tr>\n",
              "  </thead>\n",
              "  <tbody>\n",
              "    <tr>\n",
              "      <th>0</th>\n",
              "      <td>AF</td>\n",
              "      <td>AFG</td>\n",
              "      <td>004</td>\n",
              "      <td>Afghanistan, Islamic Republic of</td>\n",
              "    </tr>\n",
              "    <tr>\n",
              "      <th>1</th>\n",
              "      <td>AL</td>\n",
              "      <td>ALB</td>\n",
              "      <td>008</td>\n",
              "      <td>Albania, Republic of</td>\n",
              "    </tr>\n",
              "    <tr>\n",
              "      <th>2</th>\n",
              "      <td>AQ</td>\n",
              "      <td>ATA</td>\n",
              "      <td>010</td>\n",
              "      <td>Antarctica (the territory South of 60 deg S)</td>\n",
              "    </tr>\n",
              "    <tr>\n",
              "      <th>3</th>\n",
              "      <td>DZ</td>\n",
              "      <td>DZA</td>\n",
              "      <td>012</td>\n",
              "      <td>Algeria, People's Democratic Republic of</td>\n",
              "    </tr>\n",
              "    <tr>\n",
              "      <th>4</th>\n",
              "      <td>AS</td>\n",
              "      <td>ASM</td>\n",
              "      <td>016</td>\n",
              "      <td>American Samoa</td>\n",
              "    </tr>\n",
              "    <tr>\n",
              "      <th>...</th>\n",
              "      <td>...</td>\n",
              "      <td>...</td>\n",
              "      <td>...</td>\n",
              "      <td>...</td>\n",
              "    </tr>\n",
              "    <tr>\n",
              "      <th>259</th>\n",
              "      <td>XE</td>\n",
              "      <td>null</td>\n",
              "      <td>null</td>\n",
              "      <td>Iraq-Saudi Arabia Neutral Zone</td>\n",
              "    </tr>\n",
              "    <tr>\n",
              "      <th>260</th>\n",
              "      <td>XD</td>\n",
              "      <td>null</td>\n",
              "      <td>null</td>\n",
              "      <td>United Nations Neutral Zone</td>\n",
              "    </tr>\n",
              "    <tr>\n",
              "      <th>261</th>\n",
              "      <td>XS</td>\n",
              "      <td>null</td>\n",
              "      <td>null</td>\n",
              "      <td>Spratly Islands</td>\n",
              "    </tr>\n",
              "    <tr>\n",
              "      <th>262</th>\n",
              "      <td>ZZ</td>\n",
              "      <td>None</td>\n",
              "      <td>None</td>\n",
              "      <td>None</td>\n",
              "    </tr>\n",
              "    <tr>\n",
              "      <th>263</th>\n",
              "      <td>XK</td>\n",
              "      <td>None</td>\n",
              "      <td>None</td>\n",
              "      <td>None</td>\n",
              "    </tr>\n",
              "  </tbody>\n",
              "</table>\n",
              "<p>264 rows × 4 columns</p>\n",
              "</div>"
            ],
            "text/plain": [
              "      0     1     2                                             3\n",
              "0    AF   AFG   004              Afghanistan, Islamic Republic of\n",
              "1    AL   ALB   008                          Albania, Republic of\n",
              "2    AQ   ATA   010  Antarctica (the territory South of 60 deg S)\n",
              "3    DZ   DZA   012      Algeria, People's Democratic Republic of\n",
              "4    AS   ASM   016                                American Samoa\n",
              "..   ..   ...   ...                                           ...\n",
              "259  XE  null  null                Iraq-Saudi Arabia Neutral Zone\n",
              "260  XD  null  null                   United Nations Neutral Zone\n",
              "261  XS  null  null                               Spratly Islands\n",
              "262  ZZ  None  None                                          None\n",
              "263  XK  None  None                                          None\n",
              "\n",
              "[264 rows x 4 columns]"
            ]
          },
          "metadata": {},
          "execution_count": 48
        }
      ]
    },
    {
      "cell_type": "code",
      "metadata": {
        "id": "R30SF2h0Dp5T"
      },
      "source": [
        "df['LocID'] = z[2]\n",
        "df['Country'] = z[3]"
      ],
      "execution_count": null,
      "outputs": []
    },
    {
      "cell_type": "code",
      "metadata": {
        "id": "fcHVcCqtDuCn"
      },
      "source": [
        "df = df.drop(columns= ['a-2\\ta-3\\t#\\tName'])"
      ],
      "execution_count": null,
      "outputs": []
    },
    {
      "cell_type": "code",
      "metadata": {
        "id": "jP_75znGIO8Y"
      },
      "source": [
        "df['CC'] = df['CC'].fillna('NA')"
      ],
      "execution_count": null,
      "outputs": []
    },
    {
      "cell_type": "code",
      "metadata": {
        "colab": {
          "base_uri": "https://localhost:8080/"
        },
        "id": "u69FnU9kEXyH",
        "outputId": "b50af65e-94cd-4c6a-aab7-30527e74bae6"
      },
      "source": [
        "continent  = df['CC'].unique()\n",
        "continent"
      ],
      "execution_count": null,
      "outputs": [
        {
          "output_type": "execute_result",
          "data": {
            "text/plain": [
              "array(['AS', 'EU', 'AN', 'AF', 'OC', 'NA', 'SA', 'ZZ'], dtype=object)"
            ]
          },
          "metadata": {},
          "execution_count": 52
        }
      ]
    },
    {
      "cell_type": "code",
      "metadata": {
        "id": "O57nmPQ1GXOW"
      },
      "source": [
        "continent = pd.DataFrame(continent, index= [0,1,2,3,4,5,6,7])"
      ],
      "execution_count": null,
      "outputs": []
    },
    {
      "cell_type": "code",
      "metadata": {
        "id": "1FR8xNG2Gdil"
      },
      "source": [
        "continent['CONTINENT'] = ['ASIA', 'EUROPE', 'ANTARTICA', 'AFRICA', 'OCEANIA', 'NORTH AMERICA', 'SOUTH AMERICA', 'ZZ']"
      ],
      "execution_count": null,
      "outputs": []
    },
    {
      "cell_type": "code",
      "metadata": {
        "colab": {
          "base_uri": "https://localhost:8080/",
          "height": 300
        },
        "id": "Ey-QWK1iGyD2",
        "outputId": "82e4ab90-6bf8-48c1-90a7-707334939514"
      },
      "source": [
        "continent"
      ],
      "execution_count": null,
      "outputs": [
        {
          "output_type": "execute_result",
          "data": {
            "text/html": [
              "<div>\n",
              "<style scoped>\n",
              "    .dataframe tbody tr th:only-of-type {\n",
              "        vertical-align: middle;\n",
              "    }\n",
              "\n",
              "    .dataframe tbody tr th {\n",
              "        vertical-align: top;\n",
              "    }\n",
              "\n",
              "    .dataframe thead th {\n",
              "        text-align: right;\n",
              "    }\n",
              "</style>\n",
              "<table border=\"1\" class=\"dataframe\">\n",
              "  <thead>\n",
              "    <tr style=\"text-align: right;\">\n",
              "      <th></th>\n",
              "      <th>0</th>\n",
              "      <th>CONTINENT</th>\n",
              "    </tr>\n",
              "  </thead>\n",
              "  <tbody>\n",
              "    <tr>\n",
              "      <th>0</th>\n",
              "      <td>AS</td>\n",
              "      <td>ASIA</td>\n",
              "    </tr>\n",
              "    <tr>\n",
              "      <th>1</th>\n",
              "      <td>EU</td>\n",
              "      <td>EUROPE</td>\n",
              "    </tr>\n",
              "    <tr>\n",
              "      <th>2</th>\n",
              "      <td>AN</td>\n",
              "      <td>ANTARTICA</td>\n",
              "    </tr>\n",
              "    <tr>\n",
              "      <th>3</th>\n",
              "      <td>AF</td>\n",
              "      <td>AFRICA</td>\n",
              "    </tr>\n",
              "    <tr>\n",
              "      <th>4</th>\n",
              "      <td>OC</td>\n",
              "      <td>OCEANIA</td>\n",
              "    </tr>\n",
              "    <tr>\n",
              "      <th>5</th>\n",
              "      <td>NA</td>\n",
              "      <td>NORTH AMERICA</td>\n",
              "    </tr>\n",
              "    <tr>\n",
              "      <th>6</th>\n",
              "      <td>SA</td>\n",
              "      <td>SOUTH AMERICA</td>\n",
              "    </tr>\n",
              "    <tr>\n",
              "      <th>7</th>\n",
              "      <td>ZZ</td>\n",
              "      <td>ZZ</td>\n",
              "    </tr>\n",
              "  </tbody>\n",
              "</table>\n",
              "</div>"
            ],
            "text/plain": [
              "    0      CONTINENT\n",
              "0  AS           ASIA\n",
              "1  EU         EUROPE\n",
              "2  AN      ANTARTICA\n",
              "3  AF         AFRICA\n",
              "4  OC        OCEANIA\n",
              "5  NA  NORTH AMERICA\n",
              "6  SA  SOUTH AMERICA\n",
              "7  ZZ             ZZ"
            ]
          },
          "metadata": {},
          "execution_count": 55
        }
      ]
    },
    {
      "cell_type": "code",
      "metadata": {
        "id": "bu9_V9mKPzSy"
      },
      "source": [
        "df = df.rename(columns = {'CC' : 'Continent-Code'})"
      ],
      "execution_count": null,
      "outputs": []
    },
    {
      "cell_type": "code",
      "metadata": {
        "id": "yc_oBG8Ka9dA"
      },
      "source": [
        "continent = continent.rename(columns = {0 : 'Continent-Code'})"
      ],
      "execution_count": null,
      "outputs": []
    },
    {
      "cell_type": "code",
      "metadata": {
        "colab": {
          "base_uri": "https://localhost:8080/",
          "height": 300
        },
        "id": "xnS74FmSb2aU",
        "outputId": "09a3e292-267f-491a-d817-959749e764bd"
      },
      "source": [
        "continent"
      ],
      "execution_count": null,
      "outputs": [
        {
          "output_type": "execute_result",
          "data": {
            "text/html": [
              "<div>\n",
              "<style scoped>\n",
              "    .dataframe tbody tr th:only-of-type {\n",
              "        vertical-align: middle;\n",
              "    }\n",
              "\n",
              "    .dataframe tbody tr th {\n",
              "        vertical-align: top;\n",
              "    }\n",
              "\n",
              "    .dataframe thead th {\n",
              "        text-align: right;\n",
              "    }\n",
              "</style>\n",
              "<table border=\"1\" class=\"dataframe\">\n",
              "  <thead>\n",
              "    <tr style=\"text-align: right;\">\n",
              "      <th></th>\n",
              "      <th>Continent-Code</th>\n",
              "      <th>CONTINENT</th>\n",
              "    </tr>\n",
              "  </thead>\n",
              "  <tbody>\n",
              "    <tr>\n",
              "      <th>0</th>\n",
              "      <td>AS</td>\n",
              "      <td>ASIA</td>\n",
              "    </tr>\n",
              "    <tr>\n",
              "      <th>1</th>\n",
              "      <td>EU</td>\n",
              "      <td>EUROPE</td>\n",
              "    </tr>\n",
              "    <tr>\n",
              "      <th>2</th>\n",
              "      <td>AN</td>\n",
              "      <td>ANTARTICA</td>\n",
              "    </tr>\n",
              "    <tr>\n",
              "      <th>3</th>\n",
              "      <td>AF</td>\n",
              "      <td>AFRICA</td>\n",
              "    </tr>\n",
              "    <tr>\n",
              "      <th>4</th>\n",
              "      <td>OC</td>\n",
              "      <td>OCEANIA</td>\n",
              "    </tr>\n",
              "    <tr>\n",
              "      <th>5</th>\n",
              "      <td>NA</td>\n",
              "      <td>NORTH AMERICA</td>\n",
              "    </tr>\n",
              "    <tr>\n",
              "      <th>6</th>\n",
              "      <td>SA</td>\n",
              "      <td>SOUTH AMERICA</td>\n",
              "    </tr>\n",
              "    <tr>\n",
              "      <th>7</th>\n",
              "      <td>ZZ</td>\n",
              "      <td>ZZ</td>\n",
              "    </tr>\n",
              "  </tbody>\n",
              "</table>\n",
              "</div>"
            ],
            "text/plain": [
              "  Continent-Code      CONTINENT\n",
              "0             AS           ASIA\n",
              "1             EU         EUROPE\n",
              "2             AN      ANTARTICA\n",
              "3             AF         AFRICA\n",
              "4             OC        OCEANIA\n",
              "5             NA  NORTH AMERICA\n",
              "6             SA  SOUTH AMERICA\n",
              "7             ZZ             ZZ"
            ]
          },
          "metadata": {},
          "execution_count": 58
        }
      ]
    },
    {
      "cell_type": "markdown",
      "metadata": {
        "id": "BGh3QTJBcPhN"
      },
      "source": [
        "Now we will join DF data frame and continent "
      ]
    },
    {
      "cell_type": "code",
      "metadata": {
        "id": "jJbGcjP-cMM5"
      },
      "source": [
        "result = pd.merge(df, continent, how = 'left', on ='Continent-Code' )"
      ],
      "execution_count": null,
      "outputs": []
    },
    {
      "cell_type": "code",
      "metadata": {
        "id": "tQDkFETic5oa"
      },
      "source": [
        "result.drop_duplicates(subset=['LocID'], inplace= True)"
      ],
      "execution_count": null,
      "outputs": []
    },
    {
      "cell_type": "code",
      "metadata": {
        "colab": {
          "base_uri": "https://localhost:8080/"
        },
        "id": "N7RTxXk_jvdG",
        "outputId": "40732080-50e7-4d3f-c6f5-3ad534c4c66b"
      },
      "source": [
        "Region.drop_duplicates(subset = ['LocID'], inplace = True)"
      ],
      "execution_count": null,
      "outputs": [
        {
          "output_type": "stream",
          "name": "stderr",
          "text": [
            "/usr/local/lib/python3.7/dist-packages/ipykernel_launcher.py:1: SettingWithCopyWarning:\n",
            "\n",
            "\n",
            "A value is trying to be set on a copy of a slice from a DataFrame\n",
            "\n",
            "See the caveats in the documentation: https://pandas.pydata.org/pandas-docs/stable/user_guide/indexing.html#returning-a-view-versus-a-copy\n",
            "\n"
          ]
        }
      ]
    },
    {
      "cell_type": "code",
      "metadata": {
        "colab": {
          "base_uri": "https://localhost:8080/"
        },
        "id": "1dugJVoZkcFh",
        "outputId": "d777650f-0511-4323-f1a7-87b94d7002c2"
      },
      "source": [
        "Region.shape"
      ],
      "execution_count": null,
      "outputs": [
        {
          "output_type": "execute_result",
          "data": {
            "text/plain": [
              "(199, 2)"
            ]
          },
          "metadata": {},
          "execution_count": 62
        }
      ]
    },
    {
      "cell_type": "code",
      "metadata": {
        "id": "LryTUNjRlhlj"
      },
      "source": [
        "result['LocID'] = pd.to_numeric(result['LocID'], errors = 'coerce')"
      ],
      "execution_count": null,
      "outputs": []
    },
    {
      "cell_type": "code",
      "metadata": {
        "id": "g6ym-py9kz59"
      },
      "source": [
        "dim_region = pd.merge(Region, result, on = 'LocID', how ='left')"
      ],
      "execution_count": null,
      "outputs": []
    },
    {
      "cell_type": "code",
      "metadata": {
        "id": "ik2mNTCLnUyh"
      },
      "source": [
        "dim_region = dim_region.drop(columns = ['Country','Continent-Code'])"
      ],
      "execution_count": null,
      "outputs": []
    },
    {
      "cell_type": "code",
      "metadata": {
        "colab": {
          "base_uri": "https://localhost:8080/",
          "height": 423
        },
        "id": "smgt9cTYnnS8",
        "outputId": "2db870ca-4e6a-40ee-e6a0-b7d3fab4bddf"
      },
      "source": [
        "dim_region"
      ],
      "execution_count": null,
      "outputs": [
        {
          "output_type": "execute_result",
          "data": {
            "text/html": [
              "<div>\n",
              "<style scoped>\n",
              "    .dataframe tbody tr th:only-of-type {\n",
              "        vertical-align: middle;\n",
              "    }\n",
              "\n",
              "    .dataframe tbody tr th {\n",
              "        vertical-align: top;\n",
              "    }\n",
              "\n",
              "    .dataframe thead th {\n",
              "        text-align: right;\n",
              "    }\n",
              "</style>\n",
              "<table border=\"1\" class=\"dataframe\">\n",
              "  <thead>\n",
              "    <tr style=\"text-align: right;\">\n",
              "      <th></th>\n",
              "      <th>LocID</th>\n",
              "      <th>Location</th>\n",
              "      <th>CONTINENT</th>\n",
              "    </tr>\n",
              "  </thead>\n",
              "  <tbody>\n",
              "    <tr>\n",
              "      <th>0</th>\n",
              "      <td>4.0</td>\n",
              "      <td>Afghanistan</td>\n",
              "      <td>ASIA</td>\n",
              "    </tr>\n",
              "    <tr>\n",
              "      <th>1</th>\n",
              "      <td>8.0</td>\n",
              "      <td>Albania</td>\n",
              "      <td>EUROPE</td>\n",
              "    </tr>\n",
              "    <tr>\n",
              "      <th>2</th>\n",
              "      <td>12.0</td>\n",
              "      <td>Algeria</td>\n",
              "      <td>AFRICA</td>\n",
              "    </tr>\n",
              "    <tr>\n",
              "      <th>3</th>\n",
              "      <td>24.0</td>\n",
              "      <td>Angola</td>\n",
              "      <td>AFRICA</td>\n",
              "    </tr>\n",
              "    <tr>\n",
              "      <th>4</th>\n",
              "      <td>28.0</td>\n",
              "      <td>Antigua and Barbuda</td>\n",
              "      <td>NORTH AMERICA</td>\n",
              "    </tr>\n",
              "    <tr>\n",
              "      <th>...</th>\n",
              "      <td>...</td>\n",
              "      <td>...</td>\n",
              "      <td>...</td>\n",
              "    </tr>\n",
              "    <tr>\n",
              "      <th>194</th>\n",
              "      <td>862.0</td>\n",
              "      <td>Venezuela (Bolivarian Republic of)</td>\n",
              "      <td>SOUTH AMERICA</td>\n",
              "    </tr>\n",
              "    <tr>\n",
              "      <th>195</th>\n",
              "      <td>704.0</td>\n",
              "      <td>Viet Nam</td>\n",
              "      <td>ASIA</td>\n",
              "    </tr>\n",
              "    <tr>\n",
              "      <th>196</th>\n",
              "      <td>887.0</td>\n",
              "      <td>Yemen</td>\n",
              "      <td>ASIA</td>\n",
              "    </tr>\n",
              "    <tr>\n",
              "      <th>197</th>\n",
              "      <td>894.0</td>\n",
              "      <td>Zambia</td>\n",
              "      <td>AFRICA</td>\n",
              "    </tr>\n",
              "    <tr>\n",
              "      <th>198</th>\n",
              "      <td>716.0</td>\n",
              "      <td>Zimbabwe</td>\n",
              "      <td>AFRICA</td>\n",
              "    </tr>\n",
              "  </tbody>\n",
              "</table>\n",
              "<p>199 rows × 3 columns</p>\n",
              "</div>"
            ],
            "text/plain": [
              "     LocID                            Location      CONTINENT\n",
              "0      4.0                         Afghanistan           ASIA\n",
              "1      8.0                             Albania         EUROPE\n",
              "2     12.0                             Algeria         AFRICA\n",
              "3     24.0                              Angola         AFRICA\n",
              "4     28.0                 Antigua and Barbuda  NORTH AMERICA\n",
              "..     ...                                 ...            ...\n",
              "194  862.0  Venezuela (Bolivarian Republic of)  SOUTH AMERICA\n",
              "195  704.0                            Viet Nam           ASIA\n",
              "196  887.0                               Yemen           ASIA\n",
              "197  894.0                              Zambia         AFRICA\n",
              "198  716.0                            Zimbabwe         AFRICA\n",
              "\n",
              "[199 rows x 3 columns]"
            ]
          },
          "metadata": {},
          "execution_count": 66
        }
      ]
    },
    {
      "cell_type": "markdown",
      "metadata": {
        "id": "Xt5hIhm4X0Wq"
      },
      "source": [
        "## Now we will create DIM-AGE table "
      ]
    },
    {
      "cell_type": "code",
      "metadata": {
        "colab": {
          "base_uri": "https://localhost:8080/",
          "height": 206
        },
        "id": "dR2TDIewX5BV",
        "outputId": "35607a8c-f682-4907-9e53-ede73ce10161"
      },
      "source": [
        "population.head()"
      ],
      "execution_count": null,
      "outputs": [
        {
          "output_type": "execute_result",
          "data": {
            "text/html": [
              "<div>\n",
              "<style scoped>\n",
              "    .dataframe tbody tr th:only-of-type {\n",
              "        vertical-align: middle;\n",
              "    }\n",
              "\n",
              "    .dataframe tbody tr th {\n",
              "        vertical-align: top;\n",
              "    }\n",
              "\n",
              "    .dataframe thead th {\n",
              "        text-align: right;\n",
              "    }\n",
              "</style>\n",
              "<table border=\"1\" class=\"dataframe\">\n",
              "  <thead>\n",
              "    <tr style=\"text-align: right;\">\n",
              "      <th></th>\n",
              "      <th>LocID</th>\n",
              "      <th>Location</th>\n",
              "      <th>Time</th>\n",
              "      <th>AgeGrp</th>\n",
              "      <th>Gender</th>\n",
              "      <th>Population</th>\n",
              "    </tr>\n",
              "  </thead>\n",
              "  <tbody>\n",
              "    <tr>\n",
              "      <th>0</th>\n",
              "      <td>4.0</td>\n",
              "      <td>Afghanistan</td>\n",
              "      <td>1950.0</td>\n",
              "      <td>0-4</td>\n",
              "      <td>Male</td>\n",
              "      <td>630.044</td>\n",
              "    </tr>\n",
              "    <tr>\n",
              "      <th>1</th>\n",
              "      <td>8.0</td>\n",
              "      <td>Albania</td>\n",
              "      <td>1950.0</td>\n",
              "      <td>0-4</td>\n",
              "      <td>Male</td>\n",
              "      <td>93.940</td>\n",
              "    </tr>\n",
              "    <tr>\n",
              "      <th>2</th>\n",
              "      <td>12.0</td>\n",
              "      <td>Algeria</td>\n",
              "      <td>1950.0</td>\n",
              "      <td>0-4</td>\n",
              "      <td>Male</td>\n",
              "      <td>715.107</td>\n",
              "    </tr>\n",
              "    <tr>\n",
              "      <th>3</th>\n",
              "      <td>24.0</td>\n",
              "      <td>Angola</td>\n",
              "      <td>1950.0</td>\n",
              "      <td>0-4</td>\n",
              "      <td>Male</td>\n",
              "      <td>368.476</td>\n",
              "    </tr>\n",
              "    <tr>\n",
              "      <th>4</th>\n",
              "      <td>28.0</td>\n",
              "      <td>Antigua and Barbuda</td>\n",
              "      <td>1950.0</td>\n",
              "      <td>0-4</td>\n",
              "      <td>Male</td>\n",
              "      <td>3.553</td>\n",
              "    </tr>\n",
              "  </tbody>\n",
              "</table>\n",
              "</div>"
            ],
            "text/plain": [
              "   LocID             Location    Time AgeGrp Gender  Population\n",
              "0    4.0          Afghanistan  1950.0    0-4   Male     630.044\n",
              "1    8.0              Albania  1950.0    0-4   Male      93.940\n",
              "2   12.0              Algeria  1950.0    0-4   Male     715.107\n",
              "3   24.0               Angola  1950.0    0-4   Male     368.476\n",
              "4   28.0  Antigua and Barbuda  1950.0    0-4   Male       3.553"
            ]
          },
          "metadata": {},
          "execution_count": 67
        }
      ]
    },
    {
      "cell_type": "markdown",
      "metadata": {
        "id": "VXFuIGmMgWPz"
      },
      "source": [
        "This is to replace some values into Age Group"
      ]
    },
    {
      "cell_type": "code",
      "metadata": {
        "colab": {
          "base_uri": "https://localhost:8080/"
        },
        "id": "wUt-6fJ8foLO",
        "outputId": "dd00ac19-a3d8-427c-e98e-775a63045eb9"
      },
      "source": [
        "population['AgeGrp'] = population['AgeGrp'].replace('9-May', '5-9')\n",
        "population['AgeGrp'] = population['AgeGrp'].replace('14-Oct', '10-14')\n",
        "population['AgeGrp'].unique()"
      ],
      "execution_count": null,
      "outputs": [
        {
          "output_type": "execute_result",
          "data": {
            "text/plain": [
              "array(['0-4', '5-9', '10-14', '15-19', '20-24', '25-29', '30-34', '35-39',\n",
              "       '40-44', '45-49', '50-54', '55-59', '60-64', '65-69', '70-74',\n",
              "       '75-79', '80-84', '85-89', '90-94', '95-99', '100+'], dtype=object)"
            ]
          },
          "metadata": {},
          "execution_count": 68
        }
      ]
    },
    {
      "cell_type": "code",
      "metadata": {
        "id": "e7Zv9-5wYH4U"
      },
      "source": [
        "dim_age = population[['AgeGrp']].drop_duplicates()"
      ],
      "execution_count": null,
      "outputs": []
    },
    {
      "cell_type": "code",
      "metadata": {
        "id": "XaKHIhFTgjow"
      },
      "source": [
        "dim_age = dim_age.reset_index(drop = True)"
      ],
      "execution_count": null,
      "outputs": []
    },
    {
      "cell_type": "code",
      "metadata": {
        "id": "kggf1H_KhxQT"
      },
      "source": [
        "dim_age['Age-Group-ID'] = dim_age.index"
      ],
      "execution_count": null,
      "outputs": []
    },
    {
      "cell_type": "code",
      "metadata": {
        "colab": {
          "base_uri": "https://localhost:8080/",
          "height": 707
        },
        "id": "nG_ws8x7dRmT",
        "outputId": "a74d30d9-558e-4aaa-9745-f5f1a96b67e1"
      },
      "source": [
        "dim_age"
      ],
      "execution_count": null,
      "outputs": [
        {
          "output_type": "execute_result",
          "data": {
            "text/html": [
              "<div>\n",
              "<style scoped>\n",
              "    .dataframe tbody tr th:only-of-type {\n",
              "        vertical-align: middle;\n",
              "    }\n",
              "\n",
              "    .dataframe tbody tr th {\n",
              "        vertical-align: top;\n",
              "    }\n",
              "\n",
              "    .dataframe thead th {\n",
              "        text-align: right;\n",
              "    }\n",
              "</style>\n",
              "<table border=\"1\" class=\"dataframe\">\n",
              "  <thead>\n",
              "    <tr style=\"text-align: right;\">\n",
              "      <th></th>\n",
              "      <th>AgeGrp</th>\n",
              "      <th>Age-Group-ID</th>\n",
              "    </tr>\n",
              "  </thead>\n",
              "  <tbody>\n",
              "    <tr>\n",
              "      <th>0</th>\n",
              "      <td>0-4</td>\n",
              "      <td>0</td>\n",
              "    </tr>\n",
              "    <tr>\n",
              "      <th>1</th>\n",
              "      <td>5-9</td>\n",
              "      <td>1</td>\n",
              "    </tr>\n",
              "    <tr>\n",
              "      <th>2</th>\n",
              "      <td>10-14</td>\n",
              "      <td>2</td>\n",
              "    </tr>\n",
              "    <tr>\n",
              "      <th>3</th>\n",
              "      <td>15-19</td>\n",
              "      <td>3</td>\n",
              "    </tr>\n",
              "    <tr>\n",
              "      <th>4</th>\n",
              "      <td>20-24</td>\n",
              "      <td>4</td>\n",
              "    </tr>\n",
              "    <tr>\n",
              "      <th>5</th>\n",
              "      <td>25-29</td>\n",
              "      <td>5</td>\n",
              "    </tr>\n",
              "    <tr>\n",
              "      <th>6</th>\n",
              "      <td>30-34</td>\n",
              "      <td>6</td>\n",
              "    </tr>\n",
              "    <tr>\n",
              "      <th>7</th>\n",
              "      <td>35-39</td>\n",
              "      <td>7</td>\n",
              "    </tr>\n",
              "    <tr>\n",
              "      <th>8</th>\n",
              "      <td>40-44</td>\n",
              "      <td>8</td>\n",
              "    </tr>\n",
              "    <tr>\n",
              "      <th>9</th>\n",
              "      <td>45-49</td>\n",
              "      <td>9</td>\n",
              "    </tr>\n",
              "    <tr>\n",
              "      <th>10</th>\n",
              "      <td>50-54</td>\n",
              "      <td>10</td>\n",
              "    </tr>\n",
              "    <tr>\n",
              "      <th>11</th>\n",
              "      <td>55-59</td>\n",
              "      <td>11</td>\n",
              "    </tr>\n",
              "    <tr>\n",
              "      <th>12</th>\n",
              "      <td>60-64</td>\n",
              "      <td>12</td>\n",
              "    </tr>\n",
              "    <tr>\n",
              "      <th>13</th>\n",
              "      <td>65-69</td>\n",
              "      <td>13</td>\n",
              "    </tr>\n",
              "    <tr>\n",
              "      <th>14</th>\n",
              "      <td>70-74</td>\n",
              "      <td>14</td>\n",
              "    </tr>\n",
              "    <tr>\n",
              "      <th>15</th>\n",
              "      <td>75-79</td>\n",
              "      <td>15</td>\n",
              "    </tr>\n",
              "    <tr>\n",
              "      <th>16</th>\n",
              "      <td>80-84</td>\n",
              "      <td>16</td>\n",
              "    </tr>\n",
              "    <tr>\n",
              "      <th>17</th>\n",
              "      <td>85-89</td>\n",
              "      <td>17</td>\n",
              "    </tr>\n",
              "    <tr>\n",
              "      <th>18</th>\n",
              "      <td>90-94</td>\n",
              "      <td>18</td>\n",
              "    </tr>\n",
              "    <tr>\n",
              "      <th>19</th>\n",
              "      <td>95-99</td>\n",
              "      <td>19</td>\n",
              "    </tr>\n",
              "    <tr>\n",
              "      <th>20</th>\n",
              "      <td>100+</td>\n",
              "      <td>20</td>\n",
              "    </tr>\n",
              "  </tbody>\n",
              "</table>\n",
              "</div>"
            ],
            "text/plain": [
              "   AgeGrp  Age-Group-ID\n",
              "0     0-4             0\n",
              "1     5-9             1\n",
              "2   10-14             2\n",
              "3   15-19             3\n",
              "4   20-24             4\n",
              "5   25-29             5\n",
              "6   30-34             6\n",
              "7   35-39             7\n",
              "8   40-44             8\n",
              "9   45-49             9\n",
              "10  50-54            10\n",
              "11  55-59            11\n",
              "12  60-64            12\n",
              "13  65-69            13\n",
              "14  70-74            14\n",
              "15  75-79            15\n",
              "16  80-84            16\n",
              "17  85-89            17\n",
              "18  90-94            18\n",
              "19  95-99            19\n",
              "20   100+            20"
            ]
          },
          "metadata": {},
          "execution_count": 72
        }
      ]
    },
    {
      "cell_type": "code",
      "metadata": {
        "colab": {
          "base_uri": "https://localhost:8080/"
        },
        "id": "rCVv-LKdjRTj",
        "outputId": "672be3ec-051b-49e3-9c0d-3a1c2d6e5e51"
      },
      "source": [
        "dim_age['AgeGrp'].str.split('-',expand = True)[1]"
      ],
      "execution_count": null,
      "outputs": [
        {
          "output_type": "execute_result",
          "data": {
            "text/plain": [
              "0        4\n",
              "1        9\n",
              "2       14\n",
              "3       19\n",
              "4       24\n",
              "5       29\n",
              "6       34\n",
              "7       39\n",
              "8       44\n",
              "9       49\n",
              "10      54\n",
              "11      59\n",
              "12      64\n",
              "13      69\n",
              "14      74\n",
              "15      79\n",
              "16      84\n",
              "17      89\n",
              "18      94\n",
              "19      99\n",
              "20    None\n",
              "Name: 1, dtype: object"
            ]
          },
          "metadata": {},
          "execution_count": 73
        }
      ]
    },
    {
      "cell_type": "code",
      "metadata": {
        "id": "h79mk7AKeIzg"
      },
      "source": [
        "dim_age['Age-Group-Max'] = dim_age['AgeGrp'].str.split('-',expand = True)[1].fillna(100)"
      ],
      "execution_count": null,
      "outputs": []
    },
    {
      "cell_type": "code",
      "metadata": {
        "id": "KaYVY67zkKB6"
      },
      "source": [
        "dim_age['Age-Group-Max'] = dim_age['Age-Group-Max'].astype(int)"
      ],
      "execution_count": null,
      "outputs": []
    },
    {
      "cell_type": "code",
      "metadata": {
        "colab": {
          "base_uri": "https://localhost:8080/",
          "height": 707
        },
        "id": "Ex46wfqXuOt2",
        "outputId": "c5fbcea3-7c05-40b0-f0a5-ef2a1432a921"
      },
      "source": [
        "conditions = [\n",
        "    (dim_age['Age-Group-Max'] <= 4),\n",
        "    (dim_age['Age-Group-Max'] <= 14),\n",
        "    (dim_age['Age-Group-Max'] <= 24),\n",
        "    (dim_age['Age-Group-Max'] <= 39),\n",
        "    (dim_age['Age-Group-Max'] <= 59),\n",
        "    (dim_age['Age-Group-Max'] > 59),\n",
        "]\n",
        "values = ['baby', 'child', 'teenager', 'youth', 'adult', 'senior']\n",
        "dim_age['Age-Group_category'] = np.select(conditions, values)\n",
        "dim_age"
      ],
      "execution_count": null,
      "outputs": [
        {
          "output_type": "execute_result",
          "data": {
            "text/html": [
              "<div>\n",
              "<style scoped>\n",
              "    .dataframe tbody tr th:only-of-type {\n",
              "        vertical-align: middle;\n",
              "    }\n",
              "\n",
              "    .dataframe tbody tr th {\n",
              "        vertical-align: top;\n",
              "    }\n",
              "\n",
              "    .dataframe thead th {\n",
              "        text-align: right;\n",
              "    }\n",
              "</style>\n",
              "<table border=\"1\" class=\"dataframe\">\n",
              "  <thead>\n",
              "    <tr style=\"text-align: right;\">\n",
              "      <th></th>\n",
              "      <th>AgeGrp</th>\n",
              "      <th>Age-Group-ID</th>\n",
              "      <th>Age-Group-Max</th>\n",
              "      <th>Age-Group_category</th>\n",
              "    </tr>\n",
              "  </thead>\n",
              "  <tbody>\n",
              "    <tr>\n",
              "      <th>0</th>\n",
              "      <td>0-4</td>\n",
              "      <td>0</td>\n",
              "      <td>4</td>\n",
              "      <td>baby</td>\n",
              "    </tr>\n",
              "    <tr>\n",
              "      <th>1</th>\n",
              "      <td>5-9</td>\n",
              "      <td>1</td>\n",
              "      <td>9</td>\n",
              "      <td>child</td>\n",
              "    </tr>\n",
              "    <tr>\n",
              "      <th>2</th>\n",
              "      <td>10-14</td>\n",
              "      <td>2</td>\n",
              "      <td>14</td>\n",
              "      <td>child</td>\n",
              "    </tr>\n",
              "    <tr>\n",
              "      <th>3</th>\n",
              "      <td>15-19</td>\n",
              "      <td>3</td>\n",
              "      <td>19</td>\n",
              "      <td>teenager</td>\n",
              "    </tr>\n",
              "    <tr>\n",
              "      <th>4</th>\n",
              "      <td>20-24</td>\n",
              "      <td>4</td>\n",
              "      <td>24</td>\n",
              "      <td>teenager</td>\n",
              "    </tr>\n",
              "    <tr>\n",
              "      <th>5</th>\n",
              "      <td>25-29</td>\n",
              "      <td>5</td>\n",
              "      <td>29</td>\n",
              "      <td>youth</td>\n",
              "    </tr>\n",
              "    <tr>\n",
              "      <th>6</th>\n",
              "      <td>30-34</td>\n",
              "      <td>6</td>\n",
              "      <td>34</td>\n",
              "      <td>youth</td>\n",
              "    </tr>\n",
              "    <tr>\n",
              "      <th>7</th>\n",
              "      <td>35-39</td>\n",
              "      <td>7</td>\n",
              "      <td>39</td>\n",
              "      <td>youth</td>\n",
              "    </tr>\n",
              "    <tr>\n",
              "      <th>8</th>\n",
              "      <td>40-44</td>\n",
              "      <td>8</td>\n",
              "      <td>44</td>\n",
              "      <td>adult</td>\n",
              "    </tr>\n",
              "    <tr>\n",
              "      <th>9</th>\n",
              "      <td>45-49</td>\n",
              "      <td>9</td>\n",
              "      <td>49</td>\n",
              "      <td>adult</td>\n",
              "    </tr>\n",
              "    <tr>\n",
              "      <th>10</th>\n",
              "      <td>50-54</td>\n",
              "      <td>10</td>\n",
              "      <td>54</td>\n",
              "      <td>adult</td>\n",
              "    </tr>\n",
              "    <tr>\n",
              "      <th>11</th>\n",
              "      <td>55-59</td>\n",
              "      <td>11</td>\n",
              "      <td>59</td>\n",
              "      <td>adult</td>\n",
              "    </tr>\n",
              "    <tr>\n",
              "      <th>12</th>\n",
              "      <td>60-64</td>\n",
              "      <td>12</td>\n",
              "      <td>64</td>\n",
              "      <td>senior</td>\n",
              "    </tr>\n",
              "    <tr>\n",
              "      <th>13</th>\n",
              "      <td>65-69</td>\n",
              "      <td>13</td>\n",
              "      <td>69</td>\n",
              "      <td>senior</td>\n",
              "    </tr>\n",
              "    <tr>\n",
              "      <th>14</th>\n",
              "      <td>70-74</td>\n",
              "      <td>14</td>\n",
              "      <td>74</td>\n",
              "      <td>senior</td>\n",
              "    </tr>\n",
              "    <tr>\n",
              "      <th>15</th>\n",
              "      <td>75-79</td>\n",
              "      <td>15</td>\n",
              "      <td>79</td>\n",
              "      <td>senior</td>\n",
              "    </tr>\n",
              "    <tr>\n",
              "      <th>16</th>\n",
              "      <td>80-84</td>\n",
              "      <td>16</td>\n",
              "      <td>84</td>\n",
              "      <td>senior</td>\n",
              "    </tr>\n",
              "    <tr>\n",
              "      <th>17</th>\n",
              "      <td>85-89</td>\n",
              "      <td>17</td>\n",
              "      <td>89</td>\n",
              "      <td>senior</td>\n",
              "    </tr>\n",
              "    <tr>\n",
              "      <th>18</th>\n",
              "      <td>90-94</td>\n",
              "      <td>18</td>\n",
              "      <td>94</td>\n",
              "      <td>senior</td>\n",
              "    </tr>\n",
              "    <tr>\n",
              "      <th>19</th>\n",
              "      <td>95-99</td>\n",
              "      <td>19</td>\n",
              "      <td>99</td>\n",
              "      <td>senior</td>\n",
              "    </tr>\n",
              "    <tr>\n",
              "      <th>20</th>\n",
              "      <td>100+</td>\n",
              "      <td>20</td>\n",
              "      <td>100</td>\n",
              "      <td>senior</td>\n",
              "    </tr>\n",
              "  </tbody>\n",
              "</table>\n",
              "</div>"
            ],
            "text/plain": [
              "   AgeGrp  Age-Group-ID  Age-Group-Max Age-Group_category\n",
              "0     0-4             0              4               baby\n",
              "1     5-9             1              9              child\n",
              "2   10-14             2             14              child\n",
              "3   15-19             3             19           teenager\n",
              "4   20-24             4             24           teenager\n",
              "5   25-29             5             29              youth\n",
              "6   30-34             6             34              youth\n",
              "7   35-39             7             39              youth\n",
              "8   40-44             8             44              adult\n",
              "9   45-49             9             49              adult\n",
              "10  50-54            10             54              adult\n",
              "11  55-59            11             59              adult\n",
              "12  60-64            12             64             senior\n",
              "13  65-69            13             69             senior\n",
              "14  70-74            14             74             senior\n",
              "15  75-79            15             79             senior\n",
              "16  80-84            16             84             senior\n",
              "17  85-89            17             89             senior\n",
              "18  90-94            18             94             senior\n",
              "19  95-99            19             99             senior\n",
              "20   100+            20            100             senior"
            ]
          },
          "metadata": {},
          "execution_count": 76
        }
      ]
    },
    {
      "cell_type": "markdown",
      "metadata": {
        "id": "Rv_dosTs2bBc"
      },
      "source": [
        "Now We will create a fact table "
      ]
    },
    {
      "cell_type": "code",
      "metadata": {
        "id": "UYh1yvqRl9zk"
      },
      "source": [],
      "execution_count": null,
      "outputs": []
    },
    {
      "cell_type": "code",
      "metadata": {
        "id": "rRIMHvjsmQzY"
      },
      "source": [
        "fact_population = population.copy()"
      ],
      "execution_count": null,
      "outputs": []
    },
    {
      "cell_type": "code",
      "metadata": {
        "id": "FTMV4sNO21Dy"
      },
      "source": [
        "fact_population = pd.merge(population, dim_age, how = 'left', on ='AgeGrp' )"
      ],
      "execution_count": null,
      "outputs": []
    },
    {
      "cell_type": "code",
      "metadata": {
        "id": "MT35W8DM22aS"
      },
      "source": [
        "fact_population = fact_population.drop(columns = ['Location', 'AgeGrp', 'Age-Group-Max', 'Age-Group_category'])"
      ],
      "execution_count": null,
      "outputs": []
    },
    {
      "cell_type": "markdown",
      "metadata": {
        "id": "W82MwOS24rzV"
      },
      "source": [
        "Now the Star schema is completed with three tables"
      ]
    },
    {
      "cell_type": "code",
      "metadata": {
        "colab": {
          "base_uri": "https://localhost:8080/"
        },
        "id": "QaVV8m0l3SdJ",
        "outputId": "7f644370-ea36-4085-cc79-6111ea934efe"
      },
      "source": [
        "print(fact_population.sample(5))\n",
        "print(dim_region.head())\n",
        "print(dim_age.head())"
      ],
      "execution_count": null,
      "outputs": [
        {
          "output_type": "stream",
          "name": "stdout",
          "text": [
            "         LocID    Time  Gender  Population  Age-Group-ID\n",
            "530229   400.0  2035.0    Male     265.153            11\n",
            "1149148  508.0  2056.0  Female    1917.163             9\n",
            "1007191  262.0  2095.0    Male      21.645            16\n",
            "1242816  231.0  2095.0  Female     399.005            19\n",
            "574176   231.0  2014.0    Male     268.960            15\n",
            "   LocID             Location      CONTINENT\n",
            "0    4.0          Afghanistan           ASIA\n",
            "1    8.0              Albania         EUROPE\n",
            "2   12.0              Algeria         AFRICA\n",
            "3   24.0               Angola         AFRICA\n",
            "4   28.0  Antigua and Barbuda  NORTH AMERICA\n",
            "  AgeGrp  Age-Group-ID  Age-Group-Max Age-Group_category\n",
            "0    0-4             0              4               baby\n",
            "1    5-9             1              9              child\n",
            "2  10-14             2             14              child\n",
            "3  15-19             3             19           teenager\n",
            "4  20-24             4             24           teenager\n"
          ]
        }
      ]
    },
    {
      "cell_type": "code",
      "metadata": {
        "id": "oqZUG0qC48tu"
      },
      "source": [
        "fact_population['Population'] = fact_population['Population']* 1000"
      ],
      "execution_count": null,
      "outputs": []
    },
    {
      "cell_type": "code",
      "metadata": {
        "colab": {
          "base_uri": "https://localhost:8080/",
          "height": 206
        },
        "id": "Srin91fW6WZ4",
        "outputId": "4dd38bac-d595-4fbc-a8c7-4dd4533e1b56"
      },
      "source": [
        "fact_population.head()"
      ],
      "execution_count": null,
      "outputs": [
        {
          "output_type": "execute_result",
          "data": {
            "text/html": [
              "<div>\n",
              "<style scoped>\n",
              "    .dataframe tbody tr th:only-of-type {\n",
              "        vertical-align: middle;\n",
              "    }\n",
              "\n",
              "    .dataframe tbody tr th {\n",
              "        vertical-align: top;\n",
              "    }\n",
              "\n",
              "    .dataframe thead th {\n",
              "        text-align: right;\n",
              "    }\n",
              "</style>\n",
              "<table border=\"1\" class=\"dataframe\">\n",
              "  <thead>\n",
              "    <tr style=\"text-align: right;\">\n",
              "      <th></th>\n",
              "      <th>LocID</th>\n",
              "      <th>Time</th>\n",
              "      <th>Gender</th>\n",
              "      <th>Population</th>\n",
              "      <th>Age-Group-ID</th>\n",
              "    </tr>\n",
              "  </thead>\n",
              "  <tbody>\n",
              "    <tr>\n",
              "      <th>0</th>\n",
              "      <td>4.0</td>\n",
              "      <td>1950.0</td>\n",
              "      <td>Male</td>\n",
              "      <td>630044.0</td>\n",
              "      <td>0</td>\n",
              "    </tr>\n",
              "    <tr>\n",
              "      <th>1</th>\n",
              "      <td>8.0</td>\n",
              "      <td>1950.0</td>\n",
              "      <td>Male</td>\n",
              "      <td>93940.0</td>\n",
              "      <td>0</td>\n",
              "    </tr>\n",
              "    <tr>\n",
              "      <th>2</th>\n",
              "      <td>12.0</td>\n",
              "      <td>1950.0</td>\n",
              "      <td>Male</td>\n",
              "      <td>715107.0</td>\n",
              "      <td>0</td>\n",
              "    </tr>\n",
              "    <tr>\n",
              "      <th>3</th>\n",
              "      <td>24.0</td>\n",
              "      <td>1950.0</td>\n",
              "      <td>Male</td>\n",
              "      <td>368476.0</td>\n",
              "      <td>0</td>\n",
              "    </tr>\n",
              "    <tr>\n",
              "      <th>4</th>\n",
              "      <td>28.0</td>\n",
              "      <td>1950.0</td>\n",
              "      <td>Male</td>\n",
              "      <td>3553.0</td>\n",
              "      <td>0</td>\n",
              "    </tr>\n",
              "  </tbody>\n",
              "</table>\n",
              "</div>"
            ],
            "text/plain": [
              "   LocID    Time Gender  Population  Age-Group-ID\n",
              "0    4.0  1950.0   Male    630044.0             0\n",
              "1    8.0  1950.0   Male     93940.0             0\n",
              "2   12.0  1950.0   Male    715107.0             0\n",
              "3   24.0  1950.0   Male    368476.0             0\n",
              "4   28.0  1950.0   Male      3553.0             0"
            ]
          },
          "metadata": {},
          "execution_count": 82
        }
      ]
    },
    {
      "cell_type": "code",
      "metadata": {
        "id": "QKVUf7hD6YYt"
      },
      "source": [],
      "execution_count": null,
      "outputs": []
    }
  ]
}